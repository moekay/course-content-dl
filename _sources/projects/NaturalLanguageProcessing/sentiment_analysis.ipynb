{
 "nbformat": 4,
 "nbformat_minor": 0,
 "metadata": {
  "colab": {
   "name": "sentiment_analysis.ipynb",
   "provenance": [],
   "collapsed_sections": [],
   "toc_visible": true,
   "machine_shape": "hm",
   "include_colab_link": true
  },
  "kernelspec": {
   "name": "python3",
   "display_name": "Python 3"
  },
  "language_info": {
   "name": "python"
  },
  "accelerator": "GPU"
 },
 "cells": [
  {
   "cell_type": "markdown",
   "metadata": {
    "id": "view-in-github",
    "colab_type": "text"
   },
   "source": [
    "<a href=\"https://colab.research.google.com/github/NeuromatchAcademy/course-content-dl/blob/main/projects/NaturalLanguageProcessing/sentiment_analysis.ipynb\" target=\"_blank\"><img alt=\"Open In Colab\" src=\"https://colab.research.google.com/assets/colab-badge.svg\"/></a>"
   ]
  },
  {
   "cell_type": "markdown",
   "metadata": {
    "id": "ca_6w0MZ2C76"
   },
   "source": [
    "# Twitter Sentiment Analysis\n",
    "\n",
    "**By Neuromatch Academy**\n",
    "\n",
    "__Content creators:__  Juan Manuel Rodriguez, Salomey Osei, Gonzalo Uribarri"
   ]
  },
  {
   "cell_type": "markdown",
   "metadata": {
    "id": "sKcIXMtu4IIj"
   },
   "source": [
    "**Our 2021 Sponsors, including Presenting Sponsor Facebook Reality Labs**\n",
    "\n",
    "<p align='center'><img src='https://github.com/NeuromatchAcademy/widgets/blob/master/sponsors.png?raw=True'/></p>"
   ]
  },
  {
   "cell_type": "markdown",
   "metadata": {
    "id": "lgv12ExEO-Re"
   },
   "source": [
    "---\n",
    "# Welcome to the NLP project template\n",
    "\n",
    "<img src=\"https://imgs.xkcd.com/comics/machine_learning.png\">"
   ]
  },
  {
   "cell_type": "markdown",
   "metadata": {
    "id": "qPDnA4tP4O8d"
   },
   "source": [
    "---\n",
    "# Step 1: Questions and goals\n",
    "\n",
    "* Can we infer emotion from a tweet text?\n",
    "* How words are distributed accross the dataset?\n",
    "* Are words related to one kind of emotion?"
   ]
  },
  {
   "cell_type": "markdown",
   "metadata": {
    "id": "Yz2milFF4Q9a"
   },
   "source": [
    "---\n",
    "# Step 2: Literature review\n",
    "\n",
    "[Original Dataset Paper](https://cs.stanford.edu/people/alecmgo/papers/TwitterDistantSupervision09.pdf)\n",
    "\n",
    "[Papers with code](https://paperswithcode.com/dataset/imdb-movie-reviews)"
   ]
  },
  {
   "cell_type": "markdown",
   "metadata": {
    "id": "j3MSPcueSiSN"
   },
   "source": [
    "---\n",
    "# Step 3: Load and explore the dataset"
   ]
  },
  {
   "cell_type": "markdown",
   "metadata": {},
   "source": [
    "##  Install dependencies\n"
   ]
  },
  {
   "cell_type": "code",
   "metadata": {
    "cellView": "form",
    "id": "vjyDH-sH6Rsa",
    "tags": [
     "hide-input"
    ]
   },
   "source": [
    "# @title Install dependencies\n",
    "!pip install pandas --quiet\n",
    "!pip install torchtext --quiet"
   ],
   "execution_count": null,
   "outputs": []
  },
  {
   "cell_type": "code",
   "metadata": {
    "id": "-fZ9-oUPZCnN"
   },
   "source": [
    "# We import some libraries to load the dataset\n",
    "import os\n",
    "import numpy as np\n",
    "import pandas as pd\n",
    "import matplotlib.pyplot as plt\n",
    "\n",
    "from collections import Counter\n",
    "from tqdm.notebook import tqdm\n",
    "\n",
    "import torch\n",
    "import torch.nn as nn\n",
    "import torch.optim as optim\n",
    "import torch.nn.functional as F\n",
    "from torch.utils.data import TensorDataset, DataLoader\n",
    "\n",
    "import torchtext\n",
    "from torchtext.data import get_tokenizer\n",
    "\n",
    "from sklearn.utils import shuffle\n",
    "from sklearn.metrics import classification_report\n",
    "from sklearn.linear_model import LogisticRegression\n",
    "from sklearn.model_selection import train_test_split\n",
    "from sklearn.feature_extraction.text import CountVectorizer"
   ],
   "execution_count": null,
   "outputs": []
  },
  {
   "cell_type": "markdown",
   "metadata": {
    "id": "yImD1N69kBcK"
   },
   "source": [
    "You can find the dataset we are going to use in [this website](http://help.sentiment140.com/for-students/)."
   ]
  },
  {
   "cell_type": "code",
   "metadata": {
    "id": "1KCH2amLNcZH"
   },
   "source": [
    "import requests, zipfile, io\n",
    "url = 'http://cs.stanford.edu/people/alecmgo/trainingandtestdata.zip'\n",
    "r = requests.get(url)\n",
    "z = zipfile.ZipFile(io.BytesIO(r.content))\n",
    "z.extractall()"
   ],
   "execution_count": null,
   "outputs": []
  },
  {
   "cell_type": "code",
   "metadata": {
    "id": "MKzdL9G-WEEx"
   },
   "source": [
    "# We load the dataset\n",
    "header_list = [\"polarity\", \"id\", \"date\", \"query\", \"user\", \"text\"]\n",
    "df = pd.read_csv('training.1600000.processed.noemoticon.csv',\n",
    "                 encoding = \"ISO-8859-1\", names=header_list)\n",
    "\n",
    "# Let's have a look at it\n",
    "df.head()"
   ],
   "execution_count": null,
   "outputs": []
  },
  {
   "cell_type": "markdown",
   "metadata": {
    "id": "JivOZOKwmQr5"
   },
   "source": [
    "For this project we will use only the text and the polarity of the tweet. Notice that polarity is 0 for negative tweets and 4 for positive tweet."
   ]
  },
  {
   "cell_type": "code",
   "metadata": {
    "id": "YYpI-sQdXRss"
   },
   "source": [
    "X = df.text.values\n",
    "\n",
    "# Changes values from [0,4] to [0,1]\n",
    "y = (df.polarity.values > 1).astype(int)\n",
    "\n",
    "\n",
    "# Split the data into train and test\n",
    "x_train_text, x_test_text, y_train, y_test = train_test_split(X, y, test_size=0.2, random_state=42,stratify=y)"
   ],
   "execution_count": null,
   "outputs": []
  },
  {
   "cell_type": "markdown",
   "metadata": {
    "id": "Le2EXidHSrsc"
   },
   "source": [
    "The first thing we have to do before working on the models is to familiarize ourselves with the dataset. This is called Exploratory Data Analisys (EDA)."
   ]
  },
  {
   "cell_type": "code",
   "metadata": {
    "id": "IGn5lU07SdWO"
   },
   "source": [
    "for s, l in zip(x_train_text[:5], y_train[:5]):\n",
    "  print('{}: {}'.format(l, s))"
   ],
   "execution_count": null,
   "outputs": []
  },
  {
   "cell_type": "markdown",
   "metadata": {
    "id": "w8gfFuv0X4Gi"
   },
   "source": [
    "An interesting thing to analyze is the Word Distribution. In order to count the occurrences of each word, we should tokenize the sentences first."
   ]
  },
  {
   "cell_type": "code",
   "metadata": {
    "id": "lUqkevQiX65k"
   },
   "source": [
    "tokenizer = get_tokenizer(\"basic_english\")\n",
    "\n",
    "print('Before Tokenize: ', x_train_text[1])\n",
    "print('After Tokenize: ', tokenizer(x_train_text[1]))"
   ],
   "execution_count": null,
   "outputs": []
  },
  {
   "cell_type": "code",
   "metadata": {
    "id": "lAYcpQGDZMq-"
   },
   "source": [
    "x_train_token = [tokenizer(s) for s in tqdm(x_train_text)]\n",
    "x_test_token = [tokenizer(s) for s in tqdm(x_test_text)]"
   ],
   "execution_count": null,
   "outputs": []
  },
  {
   "cell_type": "markdown",
   "metadata": {
    "id": "hM6eJm-2Zm94"
   },
   "source": [
    "We can count the words occurences and see how many different words are present in our dataset."
   ]
  },
  {
   "cell_type": "code",
   "metadata": {
    "id": "pPvS90JOZl18"
   },
   "source": [
    "words = Counter()\n",
    "for s in x_train_token:\n",
    "  for w in s:\n",
    "    words[w] += 1\n",
    "\n",
    "sorted_words = list(words.keys())\n",
    "sorted_words.sort(key=lambda w: words[w], reverse=True)\n",
    "print(f\"Number of different Tokens in our Dataset: {len(sorted_words)}\")\n",
    "print(sorted_words[:100])"
   ],
   "execution_count": null,
   "outputs": []
  },
  {
   "cell_type": "markdown",
   "metadata": {
    "id": "xN9R1VhPa2GW"
   },
   "source": [
    "Now we can plot their distribution."
   ]
  },
  {
   "cell_type": "code",
   "metadata": {
    "id": "zEyCGZNpa2Ue"
   },
   "source": [
    "count_occurences = sum(words.values())\n",
    "\n",
    "accumulated = 0\n",
    "counter = 0\n",
    "\n",
    "while accumulated < count_occurences * 0.8:\n",
    "  accumulated += words[sorted_words[counter]]\n",
    "  counter += 1\n",
    "\n",
    "print(f\"The {counter * 100 / len(words)}% most common words \"\n",
    "      f\"account for the {accumulated * 100 / count_occurences}% of the occurrences\")"
   ],
   "execution_count": null,
   "outputs": []
  },
  {
   "cell_type": "code",
   "metadata": {
    "id": "7jvhstsHcSNR"
   },
   "source": [
    "plt.bar(range(100), [words[w] for w in sorted_words[:100]])\n",
    "plt.show()"
   ],
   "execution_count": null,
   "outputs": []
  },
  {
   "cell_type": "markdown",
   "metadata": {
    "id": "elperfLLpE2y"
   },
   "source": [
    "It is very common to find this kind of distribution when analyzing corpus of text. This is referred to as the [zipf's law](https://en.wikipedia.org/wiki/Zipf%27s_law)."
   ]
  },
  {
   "cell_type": "markdown",
   "metadata": {
    "id": "Viv6pwuRc6Z9"
   },
   "source": [
    "Usually the number of words in the dictionary will be very large. \n",
    "\n",
    "Here are some thing we can do to reduce that number:\n",
    "\n",
    "* Remove puntuation.\n",
    "* Remove stop-words.\n",
    "* Steaming.\n",
    "* Remove very uncommon words (the words that appears in fewer than N occations).\n",
    "* Nothing: we can use a pretrain model that handles this kind of situations.\n",
    "\n",
    "\n",
    "We used one of the simplest tokenizers availables. This tokenizer does not take into account many quirks of the language. Moreover, diferent languages have different quirks, so there is no \"universal\" tokenizers. There are many libraries that have \"better\" tokenizers:\n",
    "\n",
    "* [Spacy](https://spacy.io/): it can be accessed using: `get_tokenizer(\"spacy\")`. Spacy supports a wide range of languages.\n",
    "* [Huggingface](https://huggingface.co/): it has many tokenizers for different laguages. [Doc](https://huggingface.co/transformers/main_classes/tokenizer.html)\n",
    "* [NLTK](https://www.nltk.org/): it provides several tokenizers. One of them can be accessed using: `get_tokenizer(\"toktok\")`\n"
   ]
  },
  {
   "cell_type": "markdown",
   "metadata": {
    "id": "V8SfEgmbqm4W"
   },
   "source": [
    "---\n",
    "# Step 4: choose toolkit\n",
    "\n",
    "Our goal is to train a model capable of estimating the sentiment of a tweet (positive or negative) by reading its content. To that end we will try 2 different approaches:\n",
    "\n",
    "* A logistic regression using sklearn. **NOTE**: it can probaly work better than an SVM model.\n",
    "* A simple Embedding + RNN."
   ]
  },
  {
   "cell_type": "markdown",
   "metadata": {
    "id": "GdOBVk-xK_3Q"
   },
   "source": [
    "## Logistic regression\n",
    "\n",
    "We will represent our senteces using binary vectorization. This means that our data would be represented as a matrix of instances by word with a one if the word is in the instance, and zero otherwise. Sklean vectorizers can also do things such as stop-word removal and puntuation removal, you can read more about in [the documentation](https://scikit-learn.org/stable/modules/generated/sklearn.feature_extraction.text.CountVectorizer.html)."
   ]
  },
  {
   "cell_type": "code",
   "metadata": {
    "id": "YJYRrunegErX"
   },
   "source": [
    "vectorizer = CountVectorizer(binary=True)\n",
    "x_train_cv = vectorizer.fit_transform(x_train_text)\n",
    "x_test_cv = vectorizer.transform(x_test_text)"
   ],
   "execution_count": null,
   "outputs": []
  },
  {
   "cell_type": "code",
   "metadata": {
    "id": "_P06FIRhtJeR"
   },
   "source": [
    "print('Before Vectorize: ', x_train_text[3])"
   ],
   "execution_count": null,
   "outputs": []
  },
  {
   "cell_type": "code",
   "metadata": {
    "id": "NUJgcg5KsrpB"
   },
   "source": [
    "# Notice that the matriz is sparse\n",
    "print('After Vectorize: ')\n",
    "print(x_train_cv[3])"
   ],
   "execution_count": null,
   "outputs": []
  },
  {
   "cell_type": "markdown",
   "metadata": {
    "id": "v1lKB1njtjy3"
   },
   "source": [
    "Now we can train our model. You can check the documentation of this logistic regressor [here](https://scikit-learn.org/stable/modules/generated/sklearn.linear_model.LogisticRegression.html?highlight=logistic#sklearn.linear_model.LogisticRegression)."
   ]
  },
  {
   "cell_type": "code",
   "metadata": {
    "id": "MhQ7IVB1jgd_"
   },
   "source": [
    "model = LogisticRegression(solver='saga')\n",
    "model.fit(x_train_cv, y_train)"
   ],
   "execution_count": null,
   "outputs": []
  },
  {
   "cell_type": "code",
   "metadata": {
    "id": "bmTacPGvjXTr"
   },
   "source": [
    "y_pred = model.predict(x_test_cv)\n",
    "\n",
    "print(classification_report(y_test, y_pred))"
   ],
   "execution_count": null,
   "outputs": []
  },
  {
   "cell_type": "markdown",
   "metadata": {
    "id": "GBV5rPdNkTDJ"
   },
   "source": [
    "## Explainable AI\n",
    "The best thing about logistic regresion is that it is simple, and we can get some explanations."
   ]
  },
  {
   "cell_type": "code",
   "metadata": {
    "id": "qoySEV9Rke-z"
   },
   "source": [
    "print(model.coef_.shape)\n",
    "print(len(vectorizer.vocabulary_))\n",
    "\n",
    "words_sk = list(vectorizer.vocabulary_.keys())\n",
    "words_sk.sort(key=lambda w: model.coef_[0, vectorizer.vocabulary_[w]])"
   ],
   "execution_count": null,
   "outputs": []
  },
  {
   "cell_type": "code",
   "metadata": {
    "id": "SdhlSydIlPX6"
   },
   "source": [
    "for w in words_sk[:20]:\n",
    "  print('{}: {}'.format(w, model.coef_[0, vectorizer.vocabulary_[w]]))"
   ],
   "execution_count": null,
   "outputs": []
  },
  {
   "cell_type": "code",
   "metadata": {
    "id": "5m6m5OSMlb5w"
   },
   "source": [
    "for w in reversed(words_sk[-20:]):\n",
    "  print('{}: {}'.format(w, model.coef_[0, vectorizer.vocabulary_[w]]))"
   ],
   "execution_count": null,
   "outputs": []
  },
  {
   "cell_type": "markdown",
   "metadata": {
    "id": "LnahRDPPlwLF"
   },
   "source": [
    "What does this mean?\n",
    "\n",
    "Remember the `model.coef_` is the $W$ in:\n",
    "\n",
    "$$h(x)=\\sigma(WX + b)$$\n",
    "\n",
    "where the label 1 is a positive tweet and the label 0 is a negative tweet."
   ]
  },
  {
   "cell_type": "markdown",
   "metadata": {
    "id": "zVZ2PBxbvKQe"
   },
   "source": [
    "## Recurrent Neural Network with Pytorch"
   ]
  },
  {
   "cell_type": "markdown",
   "metadata": {
    "id": "CrE1EVw0u5G4"
   },
   "source": [
    "In the previous section we use a Bag-Of-Words approach to represent each of the tweets. That meas that we only consider how many times each of the words appear in each of the tweets, we didnt take into account the order of the words. But we know that the word order is very important and carries relevant information.\n",
    "\n",
    "In this section we will solve the same task, but this time we will implement a Recurrent Neural Network (RNN) instead of using a simple Logistic Regression.Unlike feedforward neural networks, RNNs have cyclic connections making them powerful for modeling sequences.\n",
    "\n",
    "Let's start by importing the relevant libraries.\n"
   ]
  },
  {
   "cell_type": "code",
   "metadata": {
    "id": "b71EOPSW3ZGX"
   },
   "source": [
    "def set_device():\n",
    "  device = \"cuda\" if torch.cuda.is_available() else \"cpu\"\n",
    "  if device != \"cuda\":\n",
    "    print(\"WARNING: For this notebook to perform best, \"\n",
    "          \"if possible, in the menu under `Runtime` -> \"\n",
    "          \"`Change runtime type.`  select `GPU` \")\n",
    "  else:\n",
    "    print(\"GPU is enabled in this notebook.\")\n",
    "\n",
    "  return device"
   ],
   "execution_count": null,
   "outputs": []
  },
  {
   "cell_type": "code",
   "metadata": {
    "id": "uLj0CiArC1FW"
   },
   "source": [
    "# Set the device (check if gpu is available)\n",
    "device = set_device()"
   ],
   "execution_count": null,
   "outputs": []
  },
  {
   "cell_type": "markdown",
   "metadata": {
    "id": "o-PDXYBeHkP8"
   },
   "source": [
    "First we will create a Dictionary (`word_to_idx`). This dictionary will map each Token (usually words) to an index (an integer number). We want to limit our dictionary to a certain number of tokens (`num_words_dict`), so we will include in our ditionary those with more occurrences."
   ]
  },
  {
   "cell_type": "code",
   "metadata": {
    "id": "-xgoN6wBLD4D"
   },
   "source": [
    "# From previous section, we have a list with the most used tokens\n",
    "sorted_words[:10]"
   ],
   "execution_count": null,
   "outputs": []
  },
  {
   "cell_type": "markdown",
   "metadata": {
    "id": "rD3R_O86Li1C"
   },
   "source": [
    "Let's select only the most used."
   ]
  },
  {
   "cell_type": "code",
   "metadata": {
    "id": "WxIq7VaMLhhZ"
   },
   "source": [
    "num_words_dict = 30000\n",
    "# We reserve two numbers for special tokens.\n",
    "most_used_words = sorted_words[:num_words_dict-2]"
   ],
   "execution_count": null,
   "outputs": []
  },
  {
   "cell_type": "markdown",
   "metadata": {
    "id": "mapbxK97LoaZ"
   },
   "source": [
    "We will add two extra Tokens to the dictionary, one for words outside the dictionary (`'UNK'`) and one for padding the sequences (`'PAD'`)."
   ]
  },
  {
   "cell_type": "code",
   "metadata": {
    "id": "4LLZ8_x-8R7A"
   },
   "source": [
    "# dictionary to go from words to idx \n",
    "word_to_idx = {}\n",
    "# dictionary to go from idx to words (just in case) \n",
    "idx_to_word = {}\n",
    "\n",
    "\n",
    "# We include the special tokens first\n",
    "PAD_token = 0   \n",
    "UNK_token = 1\n",
    "\n",
    "word_to_idx['PAD'] = PAD_token\n",
    "word_to_idx['UNK'] = UNK_token\n",
    "\n",
    "idx_to_word[PAD_token] = 'PAD'\n",
    "idx_to_word[UNK_token] = 'UNK'\n",
    "\n",
    "# We popullate our dictionaries with the most used words\n",
    "for num,word in enumerate(most_used_words):\n",
    "  word_to_idx[word] = num + 2\n",
    "  idx_to_word[num+2] = word"
   ],
   "execution_count": null,
   "outputs": []
  },
  {
   "cell_type": "markdown",
   "metadata": {
    "id": "Q5-RsXa5N4Pa"
   },
   "source": [
    "Our goal now is to transform each tweet from a sequence of tokens to a sequence of indexes. These sequences of indexes will be the input to our pytorch model."
   ]
  },
  {
   "cell_type": "code",
   "metadata": {
    "id": "gsouHCSMIcxl"
   },
   "source": [
    "# A function to convert list of tokens to list of indexes\n",
    "def tokens_to_idx(sentences_tokens,word_to_idx):\n",
    "  sentences_idx = []\n",
    "  for sent in sentences_tokens:\n",
    "    sent_idx = []\n",
    "    for word in sent:\n",
    "      if word in word_to_idx:\n",
    "        sent_idx.append(word_to_idx[word])\n",
    "      else:\n",
    "        sent_idx.append(word_to_idx['UNK'])\n",
    "    sentences_idx.append(sent_idx)\n",
    "  return sentences_idx"
   ],
   "execution_count": null,
   "outputs": []
  },
  {
   "cell_type": "code",
   "metadata": {
    "id": "ALUM0qVEIR9H"
   },
   "source": [
    "x_train_idx = tokens_to_idx(x_train_token,word_to_idx)\n",
    "x_test_idx = tokens_to_idx(x_test_token,word_to_idx)"
   ],
   "execution_count": null,
   "outputs": []
  },
  {
   "cell_type": "code",
   "metadata": {
    "id": "pV8M-vpbzTJH"
   },
   "source": [
    "some_number = 1\n",
    "print('Before converting: ', x_train_token[some_number])\n",
    "print('After converting: ', x_train_idx[some_number])"
   ],
   "execution_count": null,
   "outputs": []
  },
  {
   "cell_type": "markdown",
   "metadata": {
    "id": "Jb7NkBaPRA1K"
   },
   "source": [
    "We need all the sequences to have the same length. To select an adequate sequence length, let's explore some statistics about the length of the tweets:"
   ]
  },
  {
   "cell_type": "code",
   "metadata": {
    "id": "oIivM0w7KaBZ"
   },
   "source": [
    "tweet_lens = np.asarray([len(sentence) for sentence in x_train_idx])\n",
    "print('Max tweet word length: ',tweet_lens.max())\n",
    "print('Mean tweet word length: ',np.median(tweet_lens))\n",
    "print('99% percent under: ',np.quantile(tweet_lens,0.99))"
   ],
   "execution_count": null,
   "outputs": []
  },
  {
   "cell_type": "markdown",
   "metadata": {
    "id": "sGxGrc4LV9s1"
   },
   "source": [
    "We cut the sequences which are larger than our chosen maximum length (`max_lenght`) and fill with zeros the ones that are shorter."
   ]
  },
  {
   "cell_type": "code",
   "metadata": {
    "id": "n4lowj5J3bbU"
   },
   "source": [
    " # We choose the max length\n",
    " max_length = 40\n",
    "\n",
    "# A function to make all the sequence have the same lenght\n",
    "# Note that the output is a Numpy matrix\n",
    " def padding(sentences, seq_len):\n",
    "  features = np.zeros((len(sentences), seq_len),dtype=int)\n",
    "  for ii, tweet in enumerate(sentences):\n",
    "    len_tweet = len(tweet) \n",
    "    if len_tweet != 0:\n",
    "      if len_tweet <= seq_len:\n",
    "        # If its shorter, we fill with zeros (the padding Token index)\n",
    "        features[ii, -len(tweet):] = np.array(tweet)[:seq_len]\n",
    "      if len_tweet > seq_len:\n",
    "        # If its larger, we take the last 'seq_len' indexes\n",
    "        features[ii, :] = np.array(tweet)[-seq_len:]\n",
    "  return features"
   ],
   "execution_count": null,
   "outputs": []
  },
  {
   "cell_type": "code",
   "metadata": {
    "id": "uznqXIbxL2EL"
   },
   "source": [
    "# We convert our list of tokens into a numpy matrix\n",
    "# where all instances have the same lenght\n",
    "x_train_pad = padding(x_train_idx,max_length)\n",
    "x_test_pad = padding(x_test_idx,max_length)\n",
    "\n",
    "# We convert our target list a numpy matrix\n",
    "y_train_np = np.asarray(y_train)\n",
    "y_test_np = np.asarray(y_test)"
   ],
   "execution_count": null,
   "outputs": []
  },
  {
   "cell_type": "code",
   "metadata": {
    "id": "hRaqwJFxz5P_"
   },
   "source": [
    "some_number = 2\n",
    "print('Before padding: ', x_train_idx[some_number])\n",
    "print('After padding: ', x_train_pad[some_number])"
   ],
   "execution_count": null,
   "outputs": []
  },
  {
   "cell_type": "markdown",
   "metadata": {
    "id": "TdkZhAGEWUEZ"
   },
   "source": [
    "Now, let's convert the data to pytorch format.\n"
   ]
  },
  {
   "cell_type": "code",
   "metadata": {
    "id": "FrUVSRWKwCwG"
   },
   "source": [
    "# create Tensor datasets\n",
    "train_data = TensorDataset(torch.from_numpy(x_train_pad), torch.from_numpy(y_train_np))\n",
    "valid_data = TensorDataset(torch.from_numpy(x_test_pad), torch.from_numpy(y_test_np))\n",
    "\n",
    "# Batch size (this is an important hyperparameter)\n",
    "batch_size = 100\n",
    "\n",
    "# dataloaders\n",
    "# make sure to SHUFFLE your data\n",
    "train_loader = DataLoader(train_data, shuffle=True, batch_size=batch_size,drop_last = True)\n",
    "valid_loader = DataLoader(valid_data, shuffle=True, batch_size=batch_size,drop_last = True)"
   ],
   "execution_count": null,
   "outputs": []
  },
  {
   "cell_type": "markdown",
   "metadata": {
    "id": "yzGq6Q6GXxgD"
   },
   "source": [
    "Each batch of data in our traning proccess will have the folllowing format:"
   ]
  },
  {
   "cell_type": "code",
   "metadata": {
    "id": "oOlFUtt-3mL1"
   },
   "source": [
    "# Obtain one batch of training data\n",
    "dataiter = iter(train_loader)\n",
    "sample_x, sample_y = dataiter.next()\n",
    "\n",
    "print('Sample input size: ', sample_x.size()) # batch_size, seq_length\n",
    "print('Sample input: \\n', sample_x)\n",
    "print('Sample input: \\n', sample_y)"
   ],
   "execution_count": null,
   "outputs": []
  },
  {
   "cell_type": "markdown",
   "metadata": {
    "id": "OlgELk0iZJRa"
   },
   "source": [
    "Now, we will define the `SentimentRNN` class. Most of the model's class will be familiar to you, but there are two important layers we would like you to pay attention to:\n",
    "\n",
    "*   Embedding Layer\n",
    "> This layer is like a linear layer, but it makes it posible to use a sequence of inedexes as inputs (instead of a sequence of one-hot-encoded vectors). During training, the Embedding layer learns a linear transformation from the space of words (a vector space of dimension `num_words_dict`) into the a new, smaller, vector space of dimension `embedding_dim`. We suggest you to read this [thread](https://discuss.pytorch.org/t/how-does-nn-embedding-work/88518/3) and the [pytorch documentation](https://pytorch.org/docs/stable/generated/torch.nn.Embedding.html) if you want to learn more about this particular kind of layers.\n",
    "\n",
    "\n",
    "*   LSTM layer\n",
    "> This is one of the most used class of Recurrent Neural Networks. In Pytorch we can add several stacked layers in just one line of code. In our case, the number of layers added are decided with the parameter `no_layers`. If you want to learn more about LSTMs we strongly recommend you this [Colahs thread](https://colah.github.io/posts/2015-08-Understanding-LSTMs/) about them.\n",
    "\n",
    "\n",
    "\n",
    "\n",
    "\n"
   ]
  },
  {
   "cell_type": "code",
   "metadata": {
    "id": "k1T6TCkNv3vh"
   },
   "source": [
    "class SentimentRNN(nn.Module):\n",
    "  def __init__(self,no_layers,vocab_size,hidden_dim,embedding_dim,drop_prob=0.1):\n",
    "    super(SentimentRNN,self).__init__()\n",
    "\n",
    "    self.output_dim = output_dim\n",
    "    self.hidden_dim = hidden_dim\n",
    "    self.no_layers = no_layers\n",
    "    self.vocab_size = vocab_size\n",
    "    self.drop_prob = drop_prob\n",
    "\n",
    "    # Embedding Layer\n",
    "    self.embedding = nn.Embedding(vocab_size, embedding_dim)\n",
    "\n",
    "    # LSTM Layers\n",
    "    self.lstm = nn.LSTM(input_size=embedding_dim,hidden_size=self.hidden_dim,\n",
    "                        num_layers=no_layers, batch_first=True, \n",
    "                        dropout=self.drop_prob)\n",
    "\n",
    "    # Dropout layer\n",
    "    self.dropout = nn.Dropout(drop_prob)\n",
    "\n",
    "    # Linear and Sigmoid layer\n",
    "    self.fc = nn.Linear(self.hidden_dim, output_dim)\n",
    "    self.sig = nn.Sigmoid()\n",
    "      \n",
    "  def forward(self,x,hidden):\n",
    "    batch_size = x.size(0)\n",
    "\n",
    "    # Embedding out\n",
    "    embeds = self.embedding(x)\n",
    "    #Shape: [batch_size x max_length x embedding_dim]\n",
    "\n",
    "    # LSTM out\n",
    "    lstm_out, hidden = self.lstm(embeds, hidden)\n",
    "    # Shape: [batch_size x max_length x hidden_dim]\n",
    "\n",
    "    # Select the activation of the last Hidden Layer\n",
    "    lstm_out = lstm_out[:,-1,:].contiguous()\n",
    "    # Shape: [batch_size x hidden_dim]\n",
    "\n",
    "    ## You can instead average the activations across all the times\n",
    "    # lstm_out = torch.mean(lstm_out, 1).contiguous()\n",
    "\n",
    "    # Dropout and Fully connected layer\n",
    "    out = self.dropout(lstm_out)\n",
    "    out = self.fc(out)\n",
    "\n",
    "    # Sigmoid function\n",
    "    sig_out = self.sig(out)\n",
    "\n",
    "    # return last sigmoid output and hidden state\n",
    "    return sig_out, hidden\n",
    "\n",
    "  def init_hidden(self, batch_size):\n",
    "    ''' Initializes hidden state '''\n",
    "    # Create two new tensors with sizes n_layers x batch_size x hidden_dim,\n",
    "    # initialized to zero, for hidden state and cell state of LSTM\n",
    "    h0 = torch.zeros((self.no_layers,batch_size,self.hidden_dim)).to(device)\n",
    "    c0 = torch.zeros((self.no_layers,batch_size,self.hidden_dim)).to(device)\n",
    "    hidden = (h0,c0)\n",
    "    return hidden"
   ],
   "execution_count": null,
   "outputs": []
  },
  {
   "cell_type": "markdown",
   "metadata": {
    "id": "TMGvzusI9GWV"
   },
   "source": [
    "We choose the parameters of the model."
   ]
  },
  {
   "cell_type": "code",
   "metadata": {
    "id": "APJOW6nAwE8X"
   },
   "source": [
    "# Parameters of our network\n",
    "\n",
    "# Size of our vocabulary\n",
    "vocab_size = num_words_dict\n",
    "\n",
    "# Embedding dimension\n",
    "embedding_dim = 32\n",
    "\n",
    "# Number of stacked LSTM layers\n",
    "no_layers = 2\n",
    "\n",
    "# Dimension of the hidden layer in LSTMs\n",
    "hidden_dim = 64\n",
    "\n",
    "# Dropout parameter for regularization\n",
    "output_dim = 1\n",
    "\n",
    "# Dropout parameter for regularization\n",
    "drop_prob = 0.25"
   ],
   "execution_count": null,
   "outputs": []
  },
  {
   "cell_type": "code",
   "metadata": {
    "id": "MkU8qmQp9Jz1"
   },
   "source": [
    "# Let's define our model\n",
    "model = SentimentRNN(no_layers, vocab_size, hidden_dim,\n",
    "                     embedding_dim, drop_prob=drop_prob)\n",
    "# Moving to gpu\n",
    "model.to(device)\n",
    "print(model)"
   ],
   "execution_count": null,
   "outputs": []
  },
  {
   "cell_type": "code",
   "metadata": {
    "id": "sf5i_e66Wr2t"
   },
   "source": [
    "# How many trainable parameters does our model have?\n",
    "model_parameters = filter(lambda p: p.requires_grad, model.parameters())\n",
    "params = sum([np.prod(p.size()) for p in model_parameters])\n",
    "print('Total Number of parameters: ',params)"
   ],
   "execution_count": null,
   "outputs": []
  },
  {
   "cell_type": "markdown",
   "metadata": {
    "id": "jHfxPwek96Lv"
   },
   "source": [
    "We choose the losses and the optimizer for the training procces."
   ]
  },
  {
   "cell_type": "code",
   "metadata": {
    "id": "v7rMO7JvNRSK"
   },
   "source": [
    "# loss and optimization functions\n",
    "lr = 0.001\n",
    "\n",
    "# Binary crossentropy is a good loss function for a binary classification problem\n",
    "criterion = nn.BCELoss()\n",
    "\n",
    "# We choose an Adam optimizer\n",
    "optimizer = torch.optim.Adam(model.parameters(), lr=lr)\n",
    "\n",
    "# function to predict accuracy\n",
    "def acc(pred,label):\n",
    "  pred = torch.round(pred.squeeze())\n",
    "  return torch.sum(pred == label.squeeze()).item()"
   ],
   "execution_count": null,
   "outputs": []
  },
  {
   "cell_type": "markdown",
   "metadata": {
    "id": "cCdCbl29-JvW"
   },
   "source": [
    "We are ready to train our model."
   ]
  },
  {
   "cell_type": "code",
   "metadata": {
    "id": "OZy0nWO6NevR"
   },
   "source": [
    "# Number of training Epochs\n",
    "epochs = 5\n",
    "\n",
    "# Maximum absolute value accepted for the gradeint\n",
    "clip = 5\n",
    "\n",
    "# Initial Loss value (assumed big)\n",
    "valid_loss_min = np.Inf\n",
    "\n",
    "# Lists to follow the evolution of the loss and accuracy\n",
    "epoch_tr_loss,epoch_vl_loss = [],[]\n",
    "epoch_tr_acc,epoch_vl_acc = [],[]\n",
    "\n",
    "# Train for a number of Epochs\n",
    "for epoch in range(epochs):\n",
    "  train_losses = []\n",
    "  train_acc = 0.0\n",
    "  model.train()\n",
    "  \n",
    "  for inputs, labels in train_loader:\n",
    "\n",
    "    # Initialize hidden state \n",
    "    h = model.init_hidden(batch_size)\n",
    "    # Creating new variables for the hidden state\n",
    "    h = tuple([each.data.to(device) for each in h])\n",
    "\n",
    "    # Move batch inputs and labels to gpu\n",
    "    inputs, labels = inputs.to(device), labels.to(device)   \n",
    "\n",
    "    # Set gradient to zero\n",
    "    model.zero_grad()\n",
    "\n",
    "    # Compute model output\n",
    "    output,h = model(inputs,h)\n",
    "\n",
    "    # Calculate the loss and perform backprop\n",
    "    loss = criterion(output.squeeze(), labels.float())\n",
    "    loss.backward()\n",
    "    train_losses.append(loss.item())\n",
    "\n",
    "    # calculating accuracy\n",
    "    accuracy = acc(output,labels)\n",
    "    train_acc += accuracy\n",
    "\n",
    "    #`clip_grad_norm` helps prevent the exploding gradient problem in RNNs / LSTMs.\n",
    "    nn.utils.clip_grad_norm_(model.parameters(), clip)\n",
    "    optimizer.step()\n",
    "\n",
    "  \n",
    "  # Evaluate on the validation set for this epoch \n",
    "  val_losses = []\n",
    "  val_acc = 0.0\n",
    "  model.eval()\n",
    "  for inputs, labels in valid_loader:\n",
    "\n",
    "    # Initialize hidden state \n",
    "    val_h = model.init_hidden(batch_size)\n",
    "    val_h = tuple([each.data.to(device) for each in val_h])\n",
    "\n",
    "    # Move batch inputs and labels to gpu\n",
    "    inputs, labels = inputs.to(device), labels.to(device)\n",
    "\n",
    "    # Compute model output\n",
    "    output, val_h = model(inputs, val_h)\n",
    "\n",
    "    # Compute Loss\n",
    "    val_loss = criterion(output.squeeze(), labels.float())\n",
    "\n",
    "    val_losses.append(val_loss.item())\n",
    "\n",
    "    accuracy = acc(output,labels)\n",
    "    val_acc += accuracy\n",
    "          \n",
    "  epoch_train_loss = np.mean(train_losses)\n",
    "  epoch_val_loss = np.mean(val_losses)\n",
    "  epoch_train_acc = train_acc/len(train_loader.dataset)\n",
    "  epoch_val_acc = val_acc/len(valid_loader.dataset)\n",
    "  epoch_tr_loss.append(epoch_train_loss)\n",
    "  epoch_vl_loss.append(epoch_val_loss)\n",
    "  epoch_tr_acc.append(epoch_train_acc)\n",
    "  epoch_vl_acc.append(epoch_val_acc)\n",
    "  print(f'Epoch {epoch+1}') \n",
    "  print(f'train_loss : {epoch_train_loss} val_loss : {epoch_val_loss}')\n",
    "  print(f'train_accuracy : {epoch_train_acc*100} val_accuracy : {epoch_val_acc*100}')\n",
    "  if epoch_val_loss <= valid_loss_min:\n",
    "    print('Validation loss decreased ({:.6f} --> {:.6f}).  Saving model ...'.format(valid_loss_min,epoch_val_loss))\n",
    "    # torch.save(model.state_dict(), '../working/state_dict.pt')\n",
    "    valid_loss_min = epoch_val_loss\n",
    "  print(25*'==')"
   ],
   "execution_count": null,
   "outputs": []
  },
  {
   "cell_type": "code",
   "metadata": {
    "id": "tPYmvG7pNkBM"
   },
   "source": [
    "fig = plt.figure(figsize = (20, 6))\n",
    "plt.subplot(1, 2, 1)\n",
    "plt.plot(epoch_tr_acc, label='Train Acc')\n",
    "plt.plot(epoch_vl_acc, label='Validation Acc')\n",
    "plt.title(\"Accuracy\")\n",
    "plt.legend()\n",
    "plt.grid()\n",
    "\n",
    "plt.subplot(1, 2, 2)\n",
    "plt.plot(epoch_tr_loss, label='Train loss')\n",
    "plt.plot(epoch_vl_loss, label='Validation loss')\n",
    "plt.title(\"Loss\")\n",
    "plt.legend()\n",
    "plt.grid()\n",
    "\n",
    "plt.show()"
   ],
   "execution_count": null,
   "outputs": []
  },
  {
   "cell_type": "markdown",
   "metadata": {
    "id": "1ZulB6qUIFGO"
   },
   "source": [
    "---\n",
    "# What's Next?\n",
    "\n",
    "You can use this project template as a starting point to think about your own project. There are a lot of ways to continue, here we share with you some ideas you migth find useful:\n",
    "\n",
    "*   **Work on the Preproccesing.** We used a very rudimentary way to tokenize tweets. But there are better ways to preprocess the data. Can you think of a suitable way to preprocess the data for this particular task? How does the performance of the model change when the data is processed correctly?\n",
    "*   **Work on the Model.** The RNN model proposed in this notebook is not optimized at all. You can work on finding a better architecture or better hyperparamenters. May be using bidirectonal LSTMs or increasing the number of stacked layers can improve the performance, feel free to try different approaches.\n",
    "*   **Work on the Embedding.** Our model learnt an embedding during the training on this Twitter corpus for a particular task. You can explore the representation of different words in this learned embedding. Also, you can try using different word embeddings. You can train them on this corpus or you can use an embedding trained on another corpus of data. How does the change of the embedding affect the model performance?\n",
    "*   **Try sentiment analysis on another dataset.** There are lots of available dataset to work with, we can help you find one that is interesting to you. Do you belive that a sentiment analysis model trained on some corpus (Twitter dataset) will perform well on another type of data (for example, youtube comments)?\n",
    "\n"
   ]
  }
 ]
}