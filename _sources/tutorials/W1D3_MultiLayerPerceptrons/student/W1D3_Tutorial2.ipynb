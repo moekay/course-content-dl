{
 "cells": [
  {
   "cell_type": "markdown",
   "metadata": {
    "colab_type": "text",
    "execution": {},
    "id": "view-in-github"
   },
   "source": [
    "<a href=\"https://colab.research.google.com/github/NeuromatchAcademy/course-content-dl/blob/main/tutorials/W1D3_MultiLayerPerceptrons/student/W1D3_Tutorial2.ipynb\" target=\"_blank\"><img alt=\"Open In Colab\" src=\"https://colab.research.google.com/assets/colab-badge.svg\"/></a>"
   ]
  },
  {
   "cell_type": "markdown",
   "metadata": {
    "execution": {}
   },
   "source": [
    "# Tutorial 2: Deep MLPs\n",
    "\n",
    "**Week 1, Day 3: Multi Layer Perceptrons**\n",
    "\n",
    "**By Neuromatch Academy**\n",
    "\n",
    "__Content creators:__ Arash Ash, Surya Ganguli\n",
    "\n",
    "__Content reviewers:__ Saeed Salehi, Felix Bartsch, Yu-Fang Yang, Melvin Selim Atay, Kelson Shilling-Scrivo\n",
    "\n",
    "__Content editors:__ Gagana B, Kelson Shilling-Scrivo, Spiros Chavlis\n",
    "\n",
    "__Production editors:__ Anoop Kulkarni, Kelson Shilling-Scrivo, Spiros Chavlis"
   ]
  },
  {
   "cell_type": "markdown",
   "metadata": {
    "execution": {}
   },
   "source": [
    "**Our 2021 Sponsors, including Presenting Sponsor Facebook Reality Labs**\n",
    "\n",
    "<p align='center'><img src='https://github.com/NeuromatchAcademy/widgets/blob/master/sponsors.png?raw=True'/></p>"
   ]
  },
  {
   "cell_type": "markdown",
   "metadata": {
    "execution": {}
   },
   "source": [
    "---\n",
    "# Tutorial Objectives\n",
    "In this tutorial, we will dive deeper into MLPs and see more of their mathematical and practical aspects. Today we are going to see why MLPs:\n",
    "\n",
    "* can be deep or wide\n",
    "* dependant on transfer functions\n",
    "* sensitive to initialization"
   ]
  },
  {
   "cell_type": "markdown",
   "metadata": {},
   "source": [
    "##  Tutorial slides\n"
   ]
  },
  {
   "cell_type": "markdown",
   "metadata": {},
   "source": [
    " These are the slides for the videos in all tutorials today\n"
   ]
  },
  {
   "cell_type": "code",
   "execution_count": null,
   "metadata": {
    "cellView": "form",
    "execution": {},
    "tags": [
     "remove-input"
    ]
   },
   "outputs": [],
   "source": [
    "# @title Tutorial slides\n",
    "\n",
    "# @markdown These are the slides for the videos in all tutorials today\n",
    "from IPython.display import IFrame\n",
    "IFrame(src=f\"https://mfr.ca-1.osf.io/render?url=https://osf.io/ed65b/?direct%26mode=render%26action=download%26mode=render\", width=854, height=480)"
   ]
  },
  {
   "cell_type": "markdown",
   "metadata": {
    "execution": {}
   },
   "source": [
    "---\n",
    "# Setup\n",
    "\n",
    "This is a GPU free notebook!"
   ]
  },
  {
   "cell_type": "markdown",
   "metadata": {},
   "source": [
    "##  Install dependencies\n"
   ]
  },
  {
   "cell_type": "code",
   "execution_count": null,
   "metadata": {
    "cellView": "form",
    "execution": {},
    "tags": [
     "hide-input"
    ]
   },
   "outputs": [],
   "source": [
    "# @title Install dependencies\n",
    "!pip install git+https://github.com/NeuromatchAcademy/evaltools --quiet\n",
    "from evaltools.airtable import AirtableForm\n",
    "\n",
    "atform = AirtableForm('appn7VdPRseSoMXEG','W1D3_T2','https://portal.neuromatchacademy.org/api/redirect/to/49e16345-65a5-4616-ba63-568ca06cab78')\n"
   ]
  },
  {
   "cell_type": "code",
   "execution_count": null,
   "metadata": {
    "execution": {}
   },
   "outputs": [],
   "source": [
    "# Imports\n",
    "import pathlib\n",
    "\n",
    "import torch\n",
    "import numpy as np\n",
    "import matplotlib.pyplot as plt\n",
    "\n",
    "import torch.nn as nn\n",
    "import torch.optim as optim\n",
    "\n",
    "from torchvision.utils import make_grid\n",
    "import torchvision.transforms as transforms\n",
    "from torchvision.datasets import ImageFolder\n",
    "from torch.utils.data import DataLoader, TensorDataset\n",
    "\n",
    "from tqdm.auto import tqdm\n",
    "from IPython.display import display"
   ]
  },
  {
   "cell_type": "markdown",
   "metadata": {},
   "source": [
    "##  Figure Settings\n"
   ]
  },
  {
   "cell_type": "code",
   "execution_count": null,
   "metadata": {
    "cellView": "form",
    "execution": {},
    "tags": [
     "hide-input"
    ]
   },
   "outputs": [],
   "source": [
    "# @title Figure Settings\n",
    "import ipywidgets as widgets       # interactive display\n",
    "%config InlineBackend.figure_format = 'retina'\n",
    "plt.style.use(\"https://raw.githubusercontent.com/NeuromatchAcademy/content-creation/main/nma.mplstyle\")\n",
    "my_layout = widgets.Layout()"
   ]
  },
  {
   "cell_type": "markdown",
   "metadata": {},
   "source": [
    "##  Helper functions (MLP Tutorial 1 Codes)\n"
   ]
  },
  {
   "cell_type": "code",
   "execution_count": null,
   "metadata": {
    "cellView": "form",
    "execution": {},
    "tags": [
     "hide-input"
    ]
   },
   "outputs": [],
   "source": [
    "# @title Helper functions (MLP Tutorial 1 Codes)\n",
    "\n",
    "# @markdown `Net(nn.Module)`\n",
    "\n",
    "class Net(nn.Module):\n",
    "  def __init__(self, actv, input_feature_num, hidden_unit_nums, output_feature_num):\n",
    "    super(Net, self).__init__()\n",
    "    self.input_feature_num = input_feature_num # save the input size for reshapinng later\n",
    "    self.mlp = nn.Sequential() # Initialize layers of MLP\n",
    "\n",
    "    in_num = input_feature_num # initialize the temporary input feature to each layer\n",
    "    for i in range(len(hidden_unit_nums)): # Loop over layers and create each one\n",
    "      out_num = hidden_unit_nums[i] # assign the current layer hidden unit from list\n",
    "      layer = nn.Linear(in_num, out_num) # use nn.Linear to define the layer\n",
    "      in_num = out_num # assign next layer input using current layer output\n",
    "      self.mlp.add_module(f\"Linear_{i}\", layer) # append layer to the model with a name\n",
    "\n",
    "      actv_layer = eval(f\"nn.{actv}\") # Assign activation function (eval allows us to instantiate object from string)\n",
    "      self.mlp.add_module(f\"Activation_{i}\", actv_layer) # append activation to the model with a name\n",
    "\n",
    "    out_layer = nn.Linear(in_num, output_feature_num) # Create final layer\n",
    "    self.mlp.add_module('Output_Linear', out_layer) # append the final layer\n",
    "\n",
    "  def forward(self, x):\n",
    "    # reshape inputs to (batch_size, input_feature_num)\n",
    "    # just in case the input vector is not 2D, like an image!\n",
    "    x = x.view(-1, self.input_feature_num)\n",
    "\n",
    "    logits = self.mlp(x) # forward pass of MLP\n",
    "    return logits\n",
    "\n",
    "\n",
    "# @markdown `train_test_classification(net, criterion, optimizer, train_loader, test_loader, num_epochs=1, verbose=True, training_plot=False)`\n",
    "def train_test_classification(net, criterion, optimizer, train_loader,\n",
    "                              test_loader, num_epochs=1, verbose=True,\n",
    "                              training_plot=False, device='cpu'):\n",
    "\n",
    "  net.to(device)\n",
    "  net.train()\n",
    "  training_losses = []\n",
    "  for epoch in tqdm(range(num_epochs)):  # loop over the dataset multiple times\n",
    "    running_loss = 0.0\n",
    "    for i, data in enumerate(train_loader, 0):\n",
    "      # get the inputs; data is a list of [inputs, labels]\n",
    "      inputs, labels = data\n",
    "      inputs = inputs.to(device).float()\n",
    "      labels = labels.to(device).long()\n",
    "\n",
    "      # zero the parameter gradients\n",
    "      optimizer.zero_grad()\n",
    "\n",
    "      # forward + backward + optimize\n",
    "      outputs = net(inputs)\n",
    "\n",
    "      loss = criterion(outputs, labels)\n",
    "      loss.backward()\n",
    "      optimizer.step()\n",
    "\n",
    "      # print statistics\n",
    "      if verbose:\n",
    "        training_losses += [loss.item()]\n",
    "\n",
    "  net.eval()\n",
    "  def test(data_loader):\n",
    "    correct = 0\n",
    "    total = 0\n",
    "    for data in data_loader:\n",
    "      inputs, labels = data\n",
    "      inputs = inputs.to(device).float()\n",
    "      labels = labels.to(device).long()\n",
    "\n",
    "      outputs = net(inputs)\n",
    "      _, predicted = torch.max(outputs, 1)\n",
    "      total += labels.size(0)\n",
    "      correct += (predicted == labels).sum().item()\n",
    "\n",
    "    acc = 100 * correct / total\n",
    "    return total, acc\n",
    "\n",
    "  train_total, train_acc = test(train_loader)\n",
    "  test_total, test_acc = test(test_loader)\n",
    "\n",
    "  if verbose:\n",
    "    print(f'\\nAccuracy on the {train_total} training samples: {train_acc:0.2f}')\n",
    "    print(f'Accuracy on the {test_total} testing samples: {test_acc:0.2f}\\n')\n",
    "\n",
    "  if training_plot:\n",
    "    plt.plot(training_losses)\n",
    "    plt.xlabel('Batch')\n",
    "    plt.ylabel('Training loss')\n",
    "    plt.show()\n",
    "\n",
    "  return train_acc, test_acc\n",
    "\n",
    "\n",
    "# @markdown `shuffle_and_split_data(X, y, seed)`\n",
    "def shuffle_and_split_data(X, y, seed):\n",
    "  # set seed for reproducibility\n",
    "  torch.manual_seed(seed)\n",
    "  # Number of samples\n",
    "  N = X.shape[0]\n",
    "  # Shuffle data\n",
    "  shuffled_indices = torch.randperm(N)   # get indices to shuffle data, could use torch.randperm\n",
    "  X = X[shuffled_indices]\n",
    "  y = y[shuffled_indices]\n",
    "\n",
    "  # Split data into train/test\n",
    "  test_size = int(0.2 * N)    # assign test datset size using 20% of samples\n",
    "  X_test = X[:test_size]\n",
    "  y_test = y[:test_size]\n",
    "  X_train = X[test_size:]\n",
    "  y_train = y[test_size:]\n",
    "\n",
    "  return X_test, y_test, X_train, y_train"
   ]
  },
  {
   "cell_type": "markdown",
   "metadata": {},
   "source": [
    "##  Plotting functions\n"
   ]
  },
  {
   "cell_type": "code",
   "execution_count": null,
   "metadata": {
    "cellView": "form",
    "execution": {},
    "tags": [
     "hide-input"
    ]
   },
   "outputs": [],
   "source": [
    "# @title Plotting functions\n",
    "def imshow(img):\n",
    "  img = img / 2 + 0.5     # unnormalize\n",
    "  npimg = img.numpy()\n",
    "  plt.imshow(np.transpose(npimg, (1, 2, 0)))\n",
    "  plt.axis(False)\n",
    "  plt.show()\n",
    "\n",
    "\n",
    "def sample_grid(M=500, x_max=2.0):\n",
    "  ii, jj = torch.meshgrid(torch.linspace(-x_max, x_max,M),\n",
    "                          torch.linspace(-x_max, x_max, M))\n",
    "  X_all = torch.cat([ii.unsqueeze(-1),\n",
    "                     jj.unsqueeze(-1)],\n",
    "                     dim=-1).view(-1, 2)\n",
    "  return X_all\n",
    "\n",
    "\n",
    "def plot_decision_map(X_all, y_pred, X_test, y_test,\n",
    "                      M=500, x_max=2.0, eps=1e-3):\n",
    "  decision_map = torch.argmax(y_pred, dim=1)\n",
    "\n",
    "  for i in range(len(X_test)):\n",
    "    indeces = (X_all[:, 0] - X_test[i, 0])**2 + (X_all[:, 1] - X_test[i, 1])**2 < eps    # [TO-DO]\n",
    "    decision_map[indeces] = (K + y_test[i]).long()\n",
    "\n",
    "  decision_map = decision_map.view(M, M).cpu()\n",
    "  plt.imshow(decision_map, extent=[-x_max, x_max, -x_max, x_max], cmap='jet')\n",
    "  plt.plot()"
   ]
  },
  {
   "cell_type": "markdown",
   "metadata": {},
   "source": [
    "##  Set random seed\n"
   ]
  },
  {
   "cell_type": "markdown",
   "metadata": {},
   "source": [
    " Executing `set_seed(seed=seed)` you are setting the seed\n"
   ]
  },
  {
   "cell_type": "code",
   "execution_count": null,
   "metadata": {
    "cellView": "form",
    "execution": {},
    "tags": [
     "hide-input"
    ]
   },
   "outputs": [],
   "source": [
    "# @title Set random seed\n",
    "\n",
    "# @markdown Executing `set_seed(seed=seed)` you are setting the seed\n",
    "\n",
    "# for DL its critical to set the random seed so that students can have a\n",
    "# baseline to compare their results to expected results.\n",
    "# Read more here: https://pytorch.org/docs/stable/notes/randomness.html\n",
    "\n",
    "# Call `set_seed` function in the exercises to ensure reproducibility.\n",
    "import random\n",
    "import torch\n",
    "\n",
    "def set_seed(seed=None, seed_torch=True):\n",
    "  if seed is None:\n",
    "    seed = np.random.choice(2 ** 32)\n",
    "  random.seed(seed)\n",
    "  np.random.seed(seed)\n",
    "  if seed_torch:\n",
    "    torch.manual_seed(seed)\n",
    "    torch.cuda.manual_seed_all(seed)\n",
    "    torch.cuda.manual_seed(seed)\n",
    "    torch.backends.cudnn.benchmark = False\n",
    "    torch.backends.cudnn.deterministic = True\n",
    "\n",
    "  print(f'Random seed {seed} has been set.')\n",
    "\n",
    "\n",
    "# In case that `DataLoader` is used\n",
    "def seed_worker(worker_id):\n",
    "  worker_seed = torch.initial_seed() % 2**32\n",
    "  np.random.seed(worker_seed)\n",
    "  random.seed(worker_seed)"
   ]
  },
  {
   "cell_type": "markdown",
   "metadata": {},
   "source": [
    "##  Set device (GPU or CPU). Execute `set_device()`\n"
   ]
  },
  {
   "cell_type": "code",
   "execution_count": null,
   "metadata": {
    "cellView": "form",
    "execution": {},
    "tags": [
     "hide-input"
    ]
   },
   "outputs": [],
   "source": [
    "# @title Set device (GPU or CPU). Execute `set_device()`\n",
    "# especially if torch modules used.\n",
    "\n",
    "# inform the user if the notebook uses GPU or CPU.\n",
    "\n",
    "def set_device():\n",
    "  device = \"cuda\" if torch.cuda.is_available() else \"cpu\"\n",
    "  if device != \"cuda\":\n",
    "    print(\"GPU is not enabled in this notebook. \\n\"\n",
    "          \"If you want to enable it, in the menu under `Runtime` -> \\n\"\n",
    "          \"`Hardware accelerator.` and select `GPU` from the dropdown menu\")\n",
    "  else:\n",
    "    print(\"GPU is enabled in this notebook. \\n\"\n",
    "          \"If you want to disable it, in the menu under `Runtime` -> \\n\"\n",
    "          \"`Hardware accelerator.` and select `None` from the dropdown menu\")\n",
    "\n",
    "  return device"
   ]
  },
  {
   "cell_type": "code",
   "execution_count": null,
   "metadata": {
    "execution": {}
   },
   "outputs": [],
   "source": [
    "SEED = 2021\n",
    "set_seed(seed=SEED)\n",
    "DEVICE = set_device()"
   ]
  },
  {
   "cell_type": "markdown",
   "metadata": {},
   "source": [
    "##  Download of the Animal Faces dataset\n"
   ]
  },
  {
   "cell_type": "markdown",
   "metadata": {},
   "source": [
    " Animal faces consists of 16,130 32x32 images belonging to 3 classes\n"
   ]
  },
  {
   "cell_type": "code",
   "execution_count": null,
   "metadata": {
    "cellView": "form",
    "execution": {},
    "tags": [
     "hide-input"
    ]
   },
   "outputs": [],
   "source": [
    "# @title Download of the Animal Faces dataset\n",
    "# @markdown Animal faces consists of 16,130 32x32 images belonging to 3 classes\n",
    "import requests, os\n",
    "from zipfile import ZipFile\n",
    "\n",
    "print(\"Start downloading and unzipping `AnimalFaces` dataset...\")\n",
    "name = 'AnimalFaces32x32'\n",
    "fname = f\"{name}.zip\"\n",
    "url = f\"https://osf.io/kgfvj/download\"\n",
    "r = requests.get(url, allow_redirects=True)\n",
    "with open(fname, 'wb') as fh:\n",
    "  fh.write(r.content)\n",
    "\n",
    "with ZipFile(fname, 'r') as zfile:\n",
    "  zfile.extractall(f\"./{name}\")\n",
    "\n",
    "if os.path.exists(fname):\n",
    "  os.remove(fname)\n",
    "else:\n",
    "  print(f\"The file {fname} does not exist\")\n",
    "\n",
    "os.chdir(name)\n",
    "print(\"Download completed.\")"
   ]
  },
  {
   "cell_type": "markdown",
   "metadata": {},
   "source": [
    "##  Data Loader\n"
   ]
  },
  {
   "cell_type": "markdown",
   "metadata": {},
   "source": [
    " Execute this cell!\n"
   ]
  },
  {
   "cell_type": "code",
   "execution_count": null,
   "metadata": {
    "cellView": "form",
    "execution": {},
    "tags": [
     "hide-input"
    ]
   },
   "outputs": [],
   "source": [
    "# @title Data Loader\n",
    "# @markdown Execute this cell!\n",
    "K = 4\n",
    "sigma = 0.4\n",
    "N = 1000\n",
    "t = torch.linspace(0, 1, N)\n",
    "X = torch.zeros(K*N, 2)\n",
    "y = torch.zeros(K*N)\n",
    "for k in range(K):\n",
    "  X[k*N:(k+1)*N, 0] = t*(torch.sin(2*np.pi/K*(2*t+k)) + sigma**2*torch.randn(N))   # [TO-DO]\n",
    "  X[k*N:(k+1)*N, 1] = t*(torch.cos(2*np.pi/K*(2*t+k)) + sigma**2*torch.randn(N))   # [TO-DO]\n",
    "  y[k*N:(k+1)*N] = k\n",
    "\n",
    "\n",
    "X_test, y_test, X_train, y_train = shuffle_and_split_data(X, y, seed=SEED)\n",
    "\n",
    "# DataLoader with random seed\n",
    "batch_size = 128\n",
    "g_seed = torch.Generator()\n",
    "g_seed.manual_seed(SEED)\n",
    "\n",
    "test_data = TensorDataset(X_test, y_test)\n",
    "test_loader = DataLoader(test_data, batch_size=batch_size,\n",
    "                         shuffle=False, num_workers=0,\n",
    "                         worker_init_fn=seed_worker,\n",
    "                         generator=g_seed,\n",
    "                         )\n",
    "\n",
    "train_data = TensorDataset(X_train, y_train)\n",
    "train_loader = DataLoader(train_data,\n",
    "                          batch_size=batch_size,\n",
    "                          drop_last=True,\n",
    "                          shuffle=True,\n",
    "                          worker_init_fn=seed_worker,\n",
    "                          generator=g_seed,\n",
    "                          )"
   ]
  },
  {
   "cell_type": "markdown",
   "metadata": {
    "execution": {}
   },
   "source": [
    "---\n",
    "# Section 1: Wider vs deeper networks\n",
    "\n",
    "*Time estimate: ~45 mins*"
   ]
  },
  {
   "cell_type": "markdown",
   "metadata": {},
   "source": [
    "##  Video 1: Deep Expressivity\n"
   ]
  },
  {
   "cell_type": "code",
   "execution_count": null,
   "metadata": {
    "cellView": "form",
    "execution": {},
    "tags": [
     "remove-input"
    ]
   },
   "outputs": [],
   "source": [
    "# @title Video 1: Deep Expressivity\n",
    "from ipywidgets import widgets\n",
    "\n",
    "out2 = widgets.Output()\n",
    "with out2:\n",
    "  from IPython.display import IFrame\n",
    "  class BiliVideo(IFrame):\n",
    "    def __init__(self, id, page=1, width=400, height=300, **kwargs):\n",
    "      self.id=id\n",
    "      src = \"https://player.bilibili.com/player.html?bvid={0}&page={1}\".format(id, page)\n",
    "      super(BiliVideo, self).__init__(src, width, height, **kwargs)\n",
    "\n",
    "  video = BiliVideo(id=f\"BV19f4y157vG\", width=730, height=410, fs=1)\n",
    "  print(\"Video available at https://www.bilibili.com/video/{0}\".format(video.id))\n",
    "  display(video)\n",
    "\n",
    "out1 = widgets.Output()\n",
    "with out1:\n",
    "  from IPython.display import YouTubeVideo\n",
    "  video = YouTubeVideo(id=f\"g8JuGrNk9ag\", width=730, height=410, fs=1, rel=0)\n",
    "  print(\"Video available at https://youtube.com/watch?v=\" + video.id)\n",
    "  display(video)\n",
    "\n",
    "out = widgets.Tab([out1, out2])\n",
    "out.set_title(0, 'Youtube')\n",
    "out.set_title(1, 'Bilibili')\n",
    "\n",
    "# add event to airtable\n",
    "atform.add_event('Video 1: Deep Expressivity')\n",
    "\n",
    "display(out)"
   ]
  },
  {
   "cell_type": "markdown",
   "metadata": {
    "execution": {}
   },
   "source": [
    "## Coding Exercise 1: Wide vs. Deep while keeping number of parameters same\n",
    "Let's find the optimal number of hidden layers under a fixed number of parameters constraint!\n",
    "\n",
    "But first, we need a model parameter counter. You could iterate over the model layers by calling `.parameters()` and then use `.numel()` to count the layer parameters. Also, you can use [`requires_grad`](https://pytorch.org/docs/stable/notes/autograd.html) attribute to make sure it's a trainable parameter. E.g.,\n",
    "\n",
    "```python\n",
    "x = torch.ones(10, 5, requires_grad=True)\n",
    "```\n",
    "\n",
    "After defining the counter function, we will step by step increase the depth and then iterate over the possible number of hidden units (assuming same for all hidden layers); then using our parameter counter choose the number of hidden units that results in overall close to `max_par_count` parameters."
   ]
  },
  {
   "cell_type": "code",
   "execution_count": null,
   "metadata": {
    "execution": {}
   },
   "outputs": [],
   "source": [
    "def run_depth_optimizer(max_par_count, max_hidden_layer, device):\n",
    "  ####################################################################\n",
    "  # Fill in all missing code below (...),\n",
    "  # then remove or comment the line below to test your function\n",
    "  raise NotImplementedError(\"Define the depth optimizer function\")\n",
    "  ###################################################################\n",
    "\n",
    "  def count_parameters(model):\n",
    "    par_count = 0\n",
    "    for p in model.parameters():\n",
    "      if p.requires_grad:\n",
    "        par_count += ...\n",
    "    return par_count\n",
    "\n",
    "  # number of hidden layers to try\n",
    "  hidden_layers = ...\n",
    "\n",
    "  # test test score list\n",
    "  test_scores = []\n",
    "\n",
    "  for hidden_layer in hidden_layers:\n",
    "    # Initialize the hidden units in each hidden layer to be 1\n",
    "    hidden_units = np.ones(hidden_layer, dtype=np.int)\n",
    "\n",
    "    # Define the the with hidden units equal to 1\n",
    "    wide_net = Net('ReLU()', X_train.shape[1], hidden_units, K).to(device)\n",
    "    par_count = count_parameters(wide_net)\n",
    "\n",
    "    # increment hidden_units and repeat until the par_count reaches the desired count\n",
    "    while par_count < max_par_count:\n",
    "      hidden_units += 1\n",
    "      wide_net = Net('ReLU()', X_train.shape[1], hidden_units, K).to(device)\n",
    "      par_count = ...\n",
    "\n",
    "    # Train it\n",
    "    criterion = nn.CrossEntropyLoss()\n",
    "    optimizer = optim.Adam(wide_net.parameters(), lr=1e-3)\n",
    "    _, test_acc = train_test_classification(wide_net, criterion, optimizer,\n",
    "                                            train_loader, test_loader,\n",
    "                                            num_epochs=100, device=device)\n",
    "    test_scores += [test_acc]\n",
    "\n",
    "  return hidden_layers, test_scores\n",
    "\n",
    "# add event to airtable\n",
    "atform.add_event('Coding Exercise 1: Wide vs. Deep ')\n",
    "\n",
    "\n",
    "set_seed(seed=SEED)\n",
    "max_par_count = 100\n",
    "max_hidden_layer = 5\n",
    "## Uncomment below to test your function\n",
    "# hidden_layers, test_scores = run_depth_optimizer(max_par_count, max_hidden_layer, DEVICE)\n",
    "# plt.xlabel('# of hidden layers')\n",
    "# plt.ylabel('Test accuracy')\n",
    "# plt.plot(hidden_layers, test_scores)\n",
    "# plt.show()"
   ]
  },
  {
   "cell_type": "markdown",
   "metadata": {
    "colab_type": "text",
    "execution": {}
   },
   "source": [
    "[*Click for solution*](https://github.com/NeuromatchAcademy/course-content-dl/tree/main//tutorials/W1D3_MultiLayerPerceptrons/solutions/W1D3_Tutorial2_Solution_7d616b5c.py)\n",
    "\n",
    "*Example output:*\n",
    "\n",
    "<img alt='Solution hint' align='left' width=1120.0 height=832.0 src=https://raw.githubusercontent.com/NeuromatchAcademy/course-content-dl/main/tutorials/W1D3_MultiLayerPerceptrons/static/W1D3_Tutorial2_Solution_7d616b5c_11.png>\n",
    "\n"
   ]
  },
  {
   "cell_type": "markdown",
   "metadata": {
    "execution": {}
   },
   "source": [
    "## Think! 1: Why the tradeoff?\n",
    "Here we see that there is a particular number of hidden layers that is optimum. Why do you think increasing hidden layers after a certain point hurt in this scenario?"
   ]
  },
  {
   "cell_type": "markdown",
   "metadata": {},
   "source": [
    "###  Student Response\n"
   ]
  },
  {
   "cell_type": "code",
   "execution_count": null,
   "metadata": {
    "cellView": "form",
    "execution": {},
    "tags": [
     "hide-input"
    ]
   },
   "outputs": [],
   "source": [
    "# @title Student Response\n",
    "from ipywidgets import widgets\n",
    "\n",
    "\n",
    "text=widgets.Textarea(\n",
    "   value='Type answer here and Push submit',\n",
    "   placeholder='Type something',\n",
    "   description='',\n",
    "   disabled=False\n",
    ")\n",
    "\n",
    "button = widgets.Button(description=\"Submit!\")\n",
    "\n",
    "display(text,button)\n",
    "\n",
    "def on_button_clicked(b):\n",
    "   atform.add_answer('q1' , text.value)\n",
    "   print(\"Submission successful!\")\n",
    "\n",
    "\n",
    "button.on_click(on_button_clicked)"
   ]
  },
  {
   "cell_type": "markdown",
   "metadata": {
    "colab_type": "text",
    "execution": {}
   },
   "source": [
    "[*Click for solution*](https://github.com/NeuromatchAcademy/course-content-dl/tree/main//tutorials/W1D3_MultiLayerPerceptrons/solutions/W1D3_Tutorial2_Solution_4c626e50.py)\n",
    "\n"
   ]
  },
  {
   "cell_type": "markdown",
   "metadata": {
    "execution": {}
   },
   "source": [
    "## Section 1.1: Where Wide Fails\n",
    "Let's use the same Spiral dataset generated before with two features. And then add more polynomial features (which makes the first layer wider). And finally, train a single Linear layer. We could use the same MLP network with no hidden layers (though it would not be called an MLP anymore!).\n",
    "\n",
    "Note that we will add polynomial terms upto $P=50$ which means that for every $x_1^n x_2^m$ term, $n+m\\leq P$. Now it's fun math excercise to prove why the total number of polynomial features upto $P$ becomes,\n",
    "\n",
    "\\begin{equation}\n",
    "\\text{# of terms} = \\frac{(P+1)(P+2)}{2}\n",
    "\\end{equation}\n",
    "\n",
    "Also, we don't need the polynomial term with degree zero (which is the constatnt term) since `nn.Linear` layers have bias terms. Therefore we will have one fewer polynomial feature."
   ]
  },
  {
   "cell_type": "code",
   "execution_count": null,
   "metadata": {
    "execution": {}
   },
   "outputs": [],
   "source": [
    "def run_poly_clasification(poly_degree, device='cpu', seed=0):\n",
    "\n",
    "  def make_poly_features(poly_degree, X):\n",
    "    # Define the number of polynomial features except the bias term\n",
    "    num_features = (poly_degree + 1)*(poly_degree + 2) // 2 - 1\n",
    "    poly_X = torch.zeros((X.shape[0], num_features))\n",
    "    count = 0\n",
    "    for i in range(poly_degree+1):\n",
    "      for j in range(poly_degree+1):\n",
    "         # no need to add zero degree since model has biases\n",
    "        if j + i > 0:\n",
    "          if j + i <= poly_degree:\n",
    "            # Define the polynomial term\n",
    "            poly_X[:, count] = X[:, 0]**i * X [:, 1]**j\n",
    "            count += 1\n",
    "    return poly_X, num_features\n",
    "\n",
    "  poly_X_test, num_features = make_poly_features(poly_degree, X_test)\n",
    "  poly_X_train, _ = make_poly_features(poly_degree, X_train)\n",
    "\n",
    "  batch_size = 128\n",
    "\n",
    "  g_seed = torch.Generator()\n",
    "  g_seed.manual_seed(seed)\n",
    "  poly_test_data = TensorDataset(poly_X_test, y_test)\n",
    "  poly_test_loader = DataLoader(poly_test_data,\n",
    "                                batch_size=batch_size,\n",
    "                                shuffle=False,\n",
    "                                num_workers=1,\n",
    "                                worker_init_fn=seed_worker,\n",
    "                                generator=g_seed)\n",
    "\n",
    "  poly_train_data = TensorDataset(poly_X_train, y_train)\n",
    "  poly_train_loader = DataLoader(poly_train_data,\n",
    "                                 batch_size=batch_size,\n",
    "                                 shuffle=True,\n",
    "                                 num_workers=1,\n",
    "                                 worker_init_fn=seed_worker,\n",
    "                                 generator=g_seed)\n",
    "\n",
    "  # define a linear model using MLP class\n",
    "  poly_net = Net('ReLU()', num_features, [], K).to(device)\n",
    "\n",
    "  # Train it!\n",
    "  criterion = nn.CrossEntropyLoss()\n",
    "  optimizer = optim.Adam(poly_net.parameters(), lr=1e-3)\n",
    "  _, _ = train_test_classification(poly_net, criterion, optimizer,\n",
    "                                   poly_train_loader, poly_test_loader,\n",
    "                                   num_epochs=100, device=DEVICE)\n",
    "  # Test it\n",
    "  X_all = sample_grid().to(device)\n",
    "  poly_X_all, _ = make_poly_features(poly_degree, X_all)\n",
    "  y_pred = poly_net(poly_X_all.to(device))\n",
    "\n",
    "  # Plot it\n",
    "  plot_decision_map(X_all.cpu(), y_pred.cpu(), X_test.cpu(), y_test.cpu())\n",
    "  plt.show()\n",
    "\n",
    "  return num_features\n",
    "\n",
    "\n",
    "set_seed(seed=SEED)\n",
    "max_poly_degree = 50\n",
    "num_features = run_poly_clasification(max_poly_degree, DEVICE, SEED)\n",
    "print(f'Number of features: {num_features}')"
   ]
  },
  {
   "cell_type": "markdown",
   "metadata": {
    "execution": {}
   },
   "source": [
    "### Think! 1.1: Does it generalize well?\n",
    "Do you think this model is performing well outside its training distribution? Why?"
   ]
  },
  {
   "cell_type": "markdown",
   "metadata": {},
   "source": [
    "####  Student Response\n"
   ]
  },
  {
   "cell_type": "code",
   "execution_count": null,
   "metadata": {
    "cellView": "form",
    "execution": {},
    "tags": [
     "hide-input"
    ]
   },
   "outputs": [],
   "source": [
    "# @title Student Response\n",
    "from ipywidgets import widgets\n",
    "\n",
    "\n",
    "text=widgets.Textarea(\n",
    "   value='Type answer here and Push submit',\n",
    "   placeholder='Type something',\n",
    "   description='',\n",
    "   disabled=False\n",
    ")\n",
    "\n",
    "button = widgets.Button(description=\"Submit!\")\n",
    "\n",
    "display(text,button)\n",
    "\n",
    "def on_button_clicked(b):\n",
    "   atform.add_answer('q2', text.value)\n",
    "   print(\"Submission successful!\")\n",
    "\n",
    "\n",
    "button.on_click(on_button_clicked)"
   ]
  },
  {
   "cell_type": "markdown",
   "metadata": {
    "colab_type": "text",
    "execution": {}
   },
   "source": [
    "[*Click for solution*](https://github.com/NeuromatchAcademy/course-content-dl/tree/main//tutorials/W1D3_MultiLayerPerceptrons/solutions/W1D3_Tutorial2_Solution_13c53198.py)\n",
    "\n"
   ]
  },
  {
   "cell_type": "markdown",
   "metadata": {
    "execution": {}
   },
   "source": [
    "---\n",
    "# Section 2: Deeper MLPs\n",
    "\n",
    "*Time estimate: ~55 mins*"
   ]
  },
  {
   "cell_type": "markdown",
   "metadata": {},
   "source": [
    "##  Video 2: Case study\n"
   ]
  },
  {
   "cell_type": "code",
   "execution_count": null,
   "metadata": {
    "cellView": "form",
    "execution": {},
    "tags": [
     "remove-input"
    ]
   },
   "outputs": [],
   "source": [
    "# @title Video 2: Case study\n",
    "from ipywidgets import widgets\n",
    "\n",
    "out2 = widgets.Output()\n",
    "with out2:\n",
    "  from IPython.display import IFrame\n",
    "  class BiliVideo(IFrame):\n",
    "    def __init__(self, id, page=1, width=400, height=300, **kwargs):\n",
    "      self.id=id\n",
    "      src = \"https://player.bilibili.com/player.html?bvid={0}&page={1}\".format(id, page)\n",
    "      super(BiliVideo, self).__init__(src, width, height, **kwargs)\n",
    "\n",
    "  video = BiliVideo(id=f\"BV1FL411n7SH\", width=730, height=410, fs=1)\n",
    "  print(\"Video available at https://www.bilibili.com/video/{0}\".format(video.id))\n",
    "  display(video)\n",
    "\n",
    "out1 = widgets.Output()\n",
    "with out1:\n",
    "  from IPython.display import YouTubeVideo\n",
    "  video = YouTubeVideo(id=f\"3g_OJ6dYE8E\", width=730, height=410, fs=1, rel=0)\n",
    "  print(\"Video available at https://youtube.com/watch?v=\" + video.id)\n",
    "  display(video)\n",
    "\n",
    "out = widgets.Tab([out1, out2])\n",
    "out.set_title(0, 'Youtube')\n",
    "out.set_title(1, 'Bilibili')\n",
    "\n",
    "# add event to airtable\n",
    "atform.add_event('Video 2: Case study')\n",
    "\n",
    "display(out)"
   ]
  },
  {
   "cell_type": "markdown",
   "metadata": {
    "execution": {}
   },
   "source": [
    "## Coding Exercise 2: Dataloader on a real-world dataset\n",
    "Let's build our first real-world dataset loader with Data Preprocessing and Augmentation! And we will use the Torchvision transforms to do it.\n",
    "\n",
    "We'd like to have a simple data augmentation with the following steps:\n",
    "* Random rotation with 10 degrees (`.RandomRotation`)\n",
    "* Random horizontal flipping (`.RandomHorizontalFlip`)\n",
    "\n",
    "and we'd like a preprocessing that:\n",
    "* makes Pytorch tensors in the range [0, 1] (`.ToTensor`)\n",
    "* normalizes the input in the range [-1, 1] (.`Normalize`)\n",
    "\n",
    "<br>\n",
    "\n",
    "**Hint:** For more info on transform, see the [official documentation](https://pytorch.org/vision/stable/transforms.html)."
   ]
  },
  {
   "cell_type": "code",
   "execution_count": null,
   "metadata": {
    "execution": {}
   },
   "outputs": [],
   "source": [
    "def get_data_loaders(batch_size, seed):\n",
    "  ####################################################################\n",
    "  # Fill in all missing code below (...),\n",
    "  # then remove or comment the line below to test your function\n",
    "  raise NotImplementedError(\"Define the get data loaders function\")\n",
    "  ###################################################################\n",
    "\n",
    "  # define the transform done only during training\n",
    "  augmentation_transforms = ...\n",
    "\n",
    "  # define the transform done in training and testing (after augmentation)\n",
    "  preprocessing_transforms = ...\n",
    "\n",
    "  # compose them together\n",
    "  train_transform = transforms.Compose(augmentation_transforms + preprocessing_transforms)\n",
    "  test_transform = transforms.Compose(preprocessing_transforms)\n",
    "\n",
    "  # using pathlib to be compatible with all OS's\n",
    "  data_path = pathlib.Path('.')/'afhq'\n",
    "\n",
    "  # define the dataset objects (they can load one by one)\n",
    "  img_train_dataset = ImageFolder(data_path/'train', transform=train_transform)\n",
    "  img_test_dataset = ImageFolder(data_path/'val', transform=test_transform)\n",
    "\n",
    "  g_seed = torch.Generator()\n",
    "  g_seed.manual_seed(seed)\n",
    "  # define the dataloader objects (they can load batch by batch)\n",
    "  img_train_loader = DataLoader(img_train_dataset,\n",
    "                                batch_size=batch_size,\n",
    "                                shuffle=True,\n",
    "                                worker_init_fn=seed_worker,\n",
    "                                generator=g_seed)\n",
    "  # num_workers can be set to higher if running on Colab Pro TPUs to speed up,\n",
    "  # with more than one worker, it will do multithreading to queue batches\n",
    "  img_test_loader = DataLoader(img_test_dataset,\n",
    "                               batch_size=batch_size,\n",
    "                               shuffle=False,\n",
    "                               num_workers=1,\n",
    "                               worker_init_fn=seed_worker,\n",
    "                               generator=g_seed)\n",
    "\n",
    "  return img_train_loader, img_test_loader\n",
    "\n",
    "# add event to airtable\n",
    "atform.add_event('Coding Exercise 2: Dataloader on a real-world dataset')\n",
    "\n",
    "\n",
    "batch_size = 64\n",
    "set_seed(seed=SEED)\n",
    "## Uncomment below to test your function\n",
    "# img_train_loader, img_test_loader = get_data_loaders(batch_size, SEED)\n",
    "## get some random training images\n",
    "# dataiter = iter(img_train_loader)\n",
    "# images, labels = dataiter.next()\n",
    "## show images\n",
    "# imshow(make_grid(images, nrow=8))"
   ]
  },
  {
   "cell_type": "markdown",
   "metadata": {
    "colab_type": "text",
    "execution": {}
   },
   "source": [
    "[*Click for solution*](https://github.com/NeuromatchAcademy/course-content-dl/tree/main//tutorials/W1D3_MultiLayerPerceptrons/solutions/W1D3_Tutorial2_Solution_9605a4e9.py)\n",
    "\n",
    "*Example output:*\n",
    "\n",
    "<img alt='Solution hint' align='left' width=827.0 height=827.0 src=https://raw.githubusercontent.com/NeuromatchAcademy/course-content-dl/main/tutorials/W1D3_MultiLayerPerceptrons/static/W1D3_Tutorial2_Solution_9605a4e9_1.png>\n",
    "\n"
   ]
  },
  {
   "cell_type": "code",
   "execution_count": null,
   "metadata": {
    "execution": {}
   },
   "outputs": [],
   "source": [
    "# Train it\n",
    "set_seed(seed=SEED)\n",
    "net = Net('ReLU()', 3*32*32, [64, 64, 64], 3).to(DEVICE)\n",
    "criterion = nn.CrossEntropyLoss()\n",
    "optimizer = optim.Adam(net.parameters(), lr=3e-4)\n",
    "_, _ = train_test_classification(net, criterion, optimizer,\n",
    "                                img_train_loader, img_test_loader,\n",
    "                                num_epochs=30, device=DEVICE)"
   ]
  },
  {
   "cell_type": "code",
   "execution_count": null,
   "metadata": {
    "execution": {}
   },
   "outputs": [],
   "source": [
    "# visualize the feature map\n",
    "fc1_weights = net.mlp[0].weight.view(64, 3, 32, 32).detach().cpu()\n",
    "fc1_weights /= torch.max(torch.abs(fc1_weights))\n",
    "imshow(make_grid(fc1_weights, nrow=8))"
   ]
  },
  {
   "cell_type": "markdown",
   "metadata": {
    "execution": {}
   },
   "source": [
    "## Think! 2: why first layer features are high level?\n",
    "Even though it's three layers deep, we see distinct animal faces in the first layer feature map. Do you think this MLP has a hierarchical feature representation? why?"
   ]
  },
  {
   "cell_type": "markdown",
   "metadata": {},
   "source": [
    "###  Student Response\n"
   ]
  },
  {
   "cell_type": "code",
   "execution_count": null,
   "metadata": {
    "cellView": "form",
    "execution": {},
    "tags": [
     "hide-input"
    ]
   },
   "outputs": [],
   "source": [
    "# @title Student Response\n",
    "from ipywidgets import widgets\n",
    "\n",
    "\n",
    "text=widgets.Textarea(\n",
    "   value='Type answer here and Push submit',\n",
    "   placeholder='Type something',\n",
    "   description='',\n",
    "   disabled=False\n",
    ")\n",
    "\n",
    "button = widgets.Button(description=\"Submit!\")\n",
    "\n",
    "display(text,button)\n",
    "\n",
    "def on_button_clicked(b):\n",
    "   atform.add_answer(q3, text.value)\n",
    "   print(\"Submission successful!\")\n",
    "\n",
    "\n",
    "button.on_click(on_button_clicked)"
   ]
  },
  {
   "cell_type": "markdown",
   "metadata": {
    "colab_type": "text",
    "execution": {}
   },
   "source": [
    "[*Click for solution*](https://github.com/NeuromatchAcademy/course-content-dl/tree/main//tutorials/W1D3_MultiLayerPerceptrons/solutions/W1D3_Tutorial2_Solution_eb2e554f.py)\n",
    "\n"
   ]
  },
  {
   "cell_type": "markdown",
   "metadata": {
    "execution": {}
   },
   "source": [
    "---\n",
    "# Section 3: Ethical aspects\n",
    "\n",
    "*Time estimate: ~20 mins*"
   ]
  },
  {
   "cell_type": "markdown",
   "metadata": {},
   "source": [
    "##  Video 3: Ethics: Hype in AI\n"
   ]
  },
  {
   "cell_type": "code",
   "execution_count": null,
   "metadata": {
    "cellView": "form",
    "execution": {},
    "tags": [
     "remove-input"
    ]
   },
   "outputs": [],
   "source": [
    "# @title Video 3: Ethics: Hype in AI\n",
    "from ipywidgets import widgets\n",
    "\n",
    "out2 = widgets.Output()\n",
    "with out2:\n",
    "  from IPython.display import IFrame\n",
    "  class BiliVideo(IFrame):\n",
    "    def __init__(self, id, page=1, width=400, height=300, **kwargs):\n",
    "      self.id=id\n",
    "      src = \"https://player.bilibili.com/player.html?bvid={0}&page={1}\".format(id, page)\n",
    "      super(BiliVideo, self).__init__(src, width, height, **kwargs)\n",
    "\n",
    "  video = BiliVideo(id=f\"BV1CP4y1s712\", width=730, height=410, fs=1)\n",
    "  print(\"Video available at https://www.bilibili.com/video/{0}\".format(video.id))\n",
    "  display(video)\n",
    "\n",
    "out1 = widgets.Output()\n",
    "with out1:\n",
    "  from IPython.display import YouTubeVideo\n",
    "  video = YouTubeVideo(id=f\"ou35QzsKsdc\", width=730, height=410, fs=1, rel=0)\n",
    "  print(\"Video available at https://youtube.com/watch?v=\" + video.id)\n",
    "  display(video)\n",
    "\n",
    "out = widgets.Tab([out1, out2])\n",
    "out.set_title(0, 'Youtube')\n",
    "out.set_title(1, 'Bilibili')\n",
    "\n",
    "# add event to airtable\n",
    "atform.add_event('Video 3: Ethics: Hype in AI')\n",
    "\n",
    "display(out)"
   ]
  },
  {
   "cell_type": "markdown",
   "metadata": {
    "execution": {}
   },
   "source": [
    "---\n",
    "# Summary"
   ]
  },
  {
   "cell_type": "markdown",
   "metadata": {
    "execution": {}
   },
   "source": [
    "In the second tutorial of this day, we have dived deeper into MLPs and seen more of their mathematical and practical aspects. More specifically, we have learned about different architectures, i.e., deep, wide, and how they are dependent on the transfer function used. Also, we have learned about the importance of initialization, and we mathematically analyzed two methods for smart initialization."
   ]
  },
  {
   "cell_type": "markdown",
   "metadata": {},
   "source": [
    "##  Video 4: Outro\n"
   ]
  },
  {
   "cell_type": "code",
   "execution_count": null,
   "metadata": {
    "cellView": "form",
    "execution": {},
    "tags": [
     "remove-input"
    ]
   },
   "outputs": [],
   "source": [
    "# @title Video 4: Outro\n",
    "from ipywidgets import widgets\n",
    "\n",
    "out2 = widgets.Output()\n",
    "with out2:\n",
    "  from IPython.display import IFrame\n",
    "  class BiliVideo(IFrame):\n",
    "    def __init__(self, id, page=1, width=400, height=300, **kwargs):\n",
    "      self.id=id\n",
    "      src = \"https://player.bilibili.com/player.html?bvid={0}&page={1}\".format(id, page)\n",
    "      super(BiliVideo, self).__init__(src, width, height, **kwargs)\n",
    "\n",
    "  video = BiliVideo(id=f\"BV1Kb4y1r76G\", width=730, height=410, fs=1)\n",
    "  print(\"Video available at https://www.bilibili.com/video/{0}\".format(video.id))\n",
    "  display(video)\n",
    "\n",
    "out1 = widgets.Output()\n",
    "with out1:\n",
    "  from IPython.display import YouTubeVideo\n",
    "  video = YouTubeVideo(id=f\"2sEPw4sSfSw\", width=730, height=410, fs=1, rel=0)\n",
    "  print(\"Video available at https://youtube.com/watch?v=\" + video.id)\n",
    "  display(video)\n",
    "\n",
    "out = widgets.Tab([out1, out2])\n",
    "out.set_title(0, 'Youtube')\n",
    "out.set_title(1, 'Bilibili')\n",
    "\n",
    "# add event to airtable\n",
    "atform.add_event('Video 4: Outro')\n",
    "\n",
    "display(out)"
   ]
  },
  {
   "cell_type": "markdown",
   "metadata": {},
   "source": [
    "##  Airtable Submission Link\n"
   ]
  },
  {
   "cell_type": "code",
   "execution_count": null,
   "metadata": {
    "cellView": "form",
    "execution": {},
    "tags": [
     "hide-input"
    ]
   },
   "outputs": [],
   "source": [
    "# @title Airtable Submission Link\n",
    "from IPython import display as IPydisplay\n",
    "IPydisplay.HTML(\n",
    "   f\"\"\"\n",
    " <div>\n",
    "   <a href= \"{atform.url()}\" target=\"_blank\">\n",
    "   <img src=\"https://github.com/NeuromatchAcademy/course-content-dl/blob/main/tutorials/static/SurveyButton.png?raw=1\"\n",
    " alt=\"button link end of day Survey\" style=\"width:410px\"></a>\n",
    "   </div>\"\"\" )"
   ]
  },
  {
   "cell_type": "markdown",
   "metadata": {
    "execution": {}
   },
   "source": [
    "---\n",
    "# Bonus: The need for good initialization\n",
    "\n",
    "In this section, we derive principles for initializing deep networks. We will see that if the weights are too large, then the forward propagation of signals will be chaotic, and the backpropagation of error gradients will explode. On the other hand, if the weights are too small, the forward propagation of signals will be ordered, and the backpropagation of error gradients will vanish. The key idea behind initialization is to choose the weights to be just right, i.e., at the edge between order and chaos. In this section, we derive this edge and show how to compute the correct initial variance of the weights. \n",
    "\n",
    "Many of the typical initialization schemes in existing deep learning frameworks implicitly employ this principle of initialization at the edge of chaos. So this section can be safely skipped on a first pass and **is a bonus section**."
   ]
  },
  {
   "cell_type": "markdown",
   "metadata": {},
   "source": [
    "##  Video 5: Need for Good Initialization\n"
   ]
  },
  {
   "cell_type": "code",
   "execution_count": null,
   "metadata": {
    "cellView": "form",
    "execution": {},
    "tags": [
     "remove-input"
    ]
   },
   "outputs": [],
   "source": [
    "# @title Video 5: Need for Good Initialization\n",
    "from ipywidgets import widgets\n",
    "\n",
    "out2 = widgets.Output()\n",
    "with out2:\n",
    "  from IPython.display import IFrame\n",
    "  class BiliVideo(IFrame):\n",
    "    def __init__(self, id, page=1, width=400, height=300, **kwargs):\n",
    "      self.id=id\n",
    "      src = \"https://player.bilibili.com/player.html?bvid={0}&page={1}\".format(id, page)\n",
    "      super(BiliVideo, self).__init__(src, width, height, **kwargs)\n",
    "\n",
    "  video = BiliVideo(id=f\"BV1Qq4y1H7Px\", width=730, height=410, fs=1)\n",
    "  print(\"Video available at https://www.bilibili.com/video/{0}\".format(video.id))\n",
    "  display(video)\n",
    "\n",
    "out1 = widgets.Output()\n",
    "with out1:\n",
    "  from IPython.display import YouTubeVideo\n",
    "  video = YouTubeVideo(id=f\"W0V2kwHSuUI\", width=730, height=410, fs=1, rel=0)\n",
    "  print(\"Video available at https://youtube.com/watch?v=\" + video.id)\n",
    "  display(video)\n",
    "\n",
    "out = widgets.Tab([out1, out2])\n",
    "out.set_title(0, 'Youtube')\n",
    "out.set_title(1, 'Bilibili')\n",
    "\n",
    "# add event to airtable\n",
    "atform.add_event('Video 5: Need for Good Initialization')\n",
    "\n",
    "display(out)"
   ]
  },
  {
   "cell_type": "markdown",
   "metadata": {
    "execution": {}
   },
   "source": [
    "## Xavier initialization\n",
    "Let us look at the scale distribution of an output (e.g., a hidden variable)  $o_i$  for some fully-connected layer without nonlinearities. With  $n_{in}$  inputs  ($x_j$)  and their associated weights  $w_{ij}$  for this layer. Then an output is given by,\n",
    "\n",
    "\\begin{equation}\n",
    "o_{i} = \\sum_{j=1}^{n_\\mathrm{in}} w_{ij} x_j\n",
    "\\end{equation}\n",
    "\n",
    "The weights  $w_{ij}$  are all drawn independently from the same distribution. Furthermore, let us assume that this distribution has zero mean and variance  $\\sigma^2$ . Note that this does not mean that the distribution has to be Gaussian, just that the mean and variance need to exist. For now, let us assume that the inputs to the layer  $x_j$ also have zero mean and variance  $\\gamma^2$  and that they are independent of $w_{ij}$ and independent of each other. In this case, we can compute the mean and variance of $o_i$ as follows:\n",
    "\n",
    "\\begin{split}\n",
    "\\begin{aligned}\n",
    "    E[o_i] &= \\sum_{j=1}^{n_\\mathrm{in}} E[w_{ij} x_j] \\\\ \\\\ \n",
    "    &= \\sum_{j=1}^{n_\\mathrm{in}} E[w_{ij}] E[x_j] = 0, \\\\ \\\\ \\\\\n",
    "    \\mathrm{Var}[o_i] &= E[o_i^2] - (E[o_i])^2 \\\\ \\\\\n",
    "    &= \\sum_{j=1}^{n_\\mathrm{in}} E[w^2_{ij} x^2_j] - 0 \\\\ \\\\\n",
    "    &= \\sum_{j=1}^{n_\\mathrm{in}} E[w^2_{ij}] E[x^2_j] \\\\ \\\\\n",
    "    &= n_\\mathrm{in} \\sigma^2 \\gamma^2\n",
    "\\end{aligned}\n",
    "\\end{split}\n",
    "\n",
    "One way to keep the variance fixed is to set $n_{in}\\sigma^2=1$ . Now consider backpropagation. There we face a similar problem, albeit with gradients being propagated from the layers closer to the output. Using the same reasoning as for forward propagation, we see that the gradients’ variance can blow up unless $n_{out}\\sigma^2=1$ , where  $n_{out}$ is the number of outputs of this layer. This leaves us in a dilemma: we cannot possibly satisfy both conditions simultaneously. Instead, we simply try to satisfy:\n",
    "\n",
    "\\begin{aligned}\n",
    "\\frac{1}{2} (n_\\mathrm{in} + n_\\mathrm{out}) \\sigma^2 = 1 \\text{ or equivalently }\n",
    "\\sigma = \\sqrt{\\frac{2}{n_\\mathrm{in} + n_\\mathrm{out}}}\n",
    "\\end{aligned}\n",
    "\n",
    "This is the reasoning underlying the now-standard and practically beneficial Xavier initialization, named after the first author of its creators [Glorot & Bengio, 2010]. Typically, the Xavier initialization samples weights from a Gaussian distribution with zero mean and variance  $\\sigma^2=\\frac{2}{(n_{in}+n_{out})}$,\n",
    "\n",
    "\\begin{equation}\n",
    "w_{ij} \\sim \\mathcal{N} \\left (\\mu=0, \\sigma=\\sqrt{\\frac{2}{(n_{in}+n_{out})}} \\right)\n",
    "\\end{equation}\n",
    "\n",
    "We can also adapt Xavier’s intuition to choose the variance when sampling weights from a uniform distribution. Note that the uniform distribution $U(−a,a)$ has variance $\\frac{a^2}{3}$. Plugging this into our condition on $\\sigma^2$ yields the suggestion to initialize according to\n",
    "\n",
    "\\begin{equation}\n",
    "w_{ij} \\sim  \\mathcal{U} \\left(-\\sqrt{\\frac{6}{n_\\mathrm{in} + n_\\mathrm{out}}}, \\sqrt{\\frac{6}{n_\\mathrm{in} + n_\\mathrm{out}}}\\right)\n",
    "\\end{equation}\n",
    "\n",
    "This explanation is mainly taken from [here](https://d2l.ai/chapter_multilayer-perceptrons/numerical-stability-and-init.html).\n"
   ]
  },
  {
   "cell_type": "markdown",
   "metadata": {
    "execution": {}
   },
   "source": [
    "If you want to see more about initializations and their differences see [here](https://www.deeplearning.ai/ai-notes/initialization/)."
   ]
  },
  {
   "cell_type": "markdown",
   "metadata": {
    "execution": {}
   },
   "source": [
    "## Initialization with transfer function\n",
    "Let's derive the optimal gain for LeakyReLU following similar steps.\n",
    "\n",
    "LeakyReLU is described mathematically:\n",
    "\n",
    "\\begin{equation}\n",
    "f(x)=\\left\\{\n",
    "  \\begin{array}{ll}\n",
    "    \\alpha \\cdot x & \\text { for } x<0 \\\\\n",
    "    x & \\text { for } x \\geq 0\n",
    "  \\end{array}\\right.\n",
    "\\end{equation}\n",
    "\n",
    "where $\\alpha$ controls the angle of the negative slope.\n",
    "\n",
    "Considering a single layer with this activation function gives,\n",
    "\n",
    "\\begin{align}\n",
    "o_{i} &= \\sum_{j=1}^{n_\\mathrm{in}} w_{ij} x_j\\\\\n",
    "z_{i} &= f\\left( o_{i} \\right)\n",
    "\\end{align}\n",
    "\n",
    "where $z_i$ denotes the activation of node $i$.\n",
    "\n",
    "The expectation of the output is still zero, i.e., $\\mathbb{E}[f(o_i)=0]$, but the variance changes, and assuming that the probability $P(x < 0) = 0.5$, we have that:\n",
    "\n",
    "\n",
    "\\begin{align}\n",
    "\\mathrm{Var}[f(o_i)] &= \\mathbb{E}[f(o_i)^2] - \\left( \\mathbb{E}[f(o_i)] \\right)^{2} \\\\ \\\\\n",
    "&= \\frac{\\mathrm{Var}[o_i] + \\alpha^2 \\mathrm{Var}[o_i]}{2} \\\\ \\\\\n",
    "&= \\frac{1+\\alpha^2}{2}n_\\mathrm{in} \\sigma^2 \\gamma^2\n",
    "\\end{align}\n",
    "\n",
    "where $\\gamma$ is the variance of the distribution of the inputs $x_j$ and $\\sigma$ is the variance of the distribution of weights $w_{ij}$, as before.\n",
    "\n",
    "Therefore, following the rest of derivation as before,\n",
    "\n",
    "<br>\n",
    "\n",
    "\\begin{equation}\n",
    "\\sigma = gain\\sqrt{\\frac{2}{n_\\mathrm{in} + n_\\mathrm{out}}}, \\, \\text{where} \\,\\, gain = \\sqrt{\\frac{2}{1+\\alpha^2}}\n",
    "\\end{equation}\n",
    "\n",
    "As we can see from the derived formula of $\\sigma$, the transfer function we choose is related with the variance of the distribution of the weights. As the negative slope of the LeakyReLU $\\alpha$ becomes larger, the $gain$ becomes smaller and thus, the distribution of the weights is narrower. On the other hand, as $\\alpha$ becomes smaller and smaller, the distribution of the weights is wider. Recall that, we initialize our weights, for example, by sampling from a normal distribution with zero mean and variance $\\sigma^2$, "
   ]
  },
  {
   "cell_type": "markdown",
   "metadata": {
    "execution": {}
   },
   "source": [
    "## Best gain for Xavier Initialization with Leaky ReLU\n",
    "You're probably running out of time, so let me explain what's happening here. We derived a theoretical gain for initialization. But the question is whether it holds in practice? Here we have a setup to confirm our finding. We will try a range of gains and see the empirical optimum and whether it matches our theoretical value!\n",
    "\n",
    "If you have time left, you can change the distribution to sample the initial weights from a uniform distribution. Comment out line 11 and uncomment line 12."
   ]
  },
  {
   "cell_type": "code",
   "execution_count": null,
   "metadata": {
    "execution": {}
   },
   "outputs": [],
   "source": [
    "N = 10  # number of trials\n",
    "gains = np.linspace(1/N, 3.0, N)\n",
    "test_accs = []\n",
    "train_accs = []\n",
    "mode = 'uniform'\n",
    "for gain in gains:\n",
    "  print(f'\\ngain: {gain}')\n",
    "\n",
    "  def init_weights(m, mode='normal'):\n",
    "    if type(m) == nn.Linear:\n",
    "      torch.nn.init.xavier_normal_(m.weight, gain)\n",
    "      # torch.nn.init.xavier_uniform_(m.weight, gain)\n",
    "\n",
    "  negative_slope = 0.1\n",
    "  actv = f'LeakyReLU({negative_slope})'\n",
    "  set_seed(seed=SEED)\n",
    "  net = Net(actv, 3*32*32, [128, 64, 32], 3).to(DEVICE)\n",
    "  net.apply(init_weights)\n",
    "  criterion = nn.CrossEntropyLoss()\n",
    "\n",
    "  optimizer = optim.SGD(net.parameters(), lr=1e-2)\n",
    "  train_acc, test_acc = train_test_classification(net, criterion, optimizer,\n",
    "                                                  img_train_loader,\n",
    "                                                  img_test_loader,\n",
    "                                                  num_epochs=1,\n",
    "                                                  verbose=True,\n",
    "                                                  device=DEVICE)\n",
    "  test_accs += [test_acc]\n",
    "  train_accs += [train_acc]\n",
    "\n",
    "best_gain = gains[np.argmax(train_accs)]\n",
    "plt.plot(gains, test_accs, label='Test accuracy')\n",
    "plt.plot(gains, train_accs, label='Train accuracy')\n",
    "plt.scatter(best_gain, max(train_accs),\n",
    "            label=f'best gain={best_gain:.1f}',\n",
    "            c='k', marker ='x')\n",
    "# calculate and plot the theoretical gain\n",
    "theoretical_gain = np.sqrt(2.0 / (1 + negative_slope ** 2))\n",
    "plt.scatter(theoretical_gain, max(train_accs),\n",
    "            label=f'theoretical gain={theoretical_gain:.2f}',\n",
    "            c='g', marker ='x')\n",
    "plt.legend()\n",
    "plt.plot()"
   ]
  }
 ],
 "metadata": {
  "colab": {
   "collapsed_sections": [],
   "include_colab_link": true,
   "name": "W1D3_Tutorial2",
   "provenance": [],
   "toc_visible": true
  },
  "kernel": {
   "display_name": "Python 3",
   "language": "python",
   "name": "python3"
  },
  "kernelspec": {
   "display_name": "Python 3",
   "name": "python3"
  },
  "language_info": {
   "codemirror_mode": {
    "name": "ipython",
    "version": 3
   },
   "file_extension": ".py",
   "mimetype": "text/x-python",
   "name": "python",
   "nbconvert_exporter": "python",
   "pygments_lexer": "ipython3",
   "version": "3.7.11"
  }
 },
 "nbformat": 4,
 "nbformat_minor": 0
}