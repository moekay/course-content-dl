{
 "cells": [
  {
   "cell_type": "markdown",
   "metadata": {
    "colab_type": "text",
    "execution": {},
    "id": "view-in-github"
   },
   "source": [
    "<a href=\"https://colab.research.google.com/github/NeuromatchAcademy/course-content-dl/blob/main/tutorials/W2D2_ModernConvnets/student/W2D2_Tutorial1.ipynb\" target=\"_blank\"><img alt=\"Open In Colab\" src=\"https://colab.research.google.com/assets/colab-badge.svg\"/></a>"
   ]
  },
  {
   "cell_type": "markdown",
   "metadata": {
    "execution": {}
   },
   "source": [
    "# Tutorial 1: Learn how to use modern convnets\n",
    "**Week 2, Day 2: Modern Convnets**\n",
    "\n",
    "**By Neuromatch Academy**\n",
    "\n",
    "__Content creators:__ Laura Pede, Richard Vogg, Marissa Weis, Timo Lüddecke, Alexander Ecker (based on an initial version by Ben Heil)\n",
    "\n",
    "__Content reviewers:__ Arush Tagade, Polina Turishcheva, Yu-Fang Yang, Bettina Hein, Melvin Selim Atay\n",
    "\n",
    "__Content editors:__ Roberto Guidotti, Spiros Chavlis\n",
    "\n",
    "__Production editors:__ Anoop Kulkarni, Roberto Guidotti, Cary Murray, Spiros Chavlis"
   ]
  },
  {
   "cell_type": "markdown",
   "metadata": {
    "execution": {}
   },
   "source": [
    "**Our 2021 Sponsors, including Presenting Sponsor Facebook Reality Labs**\n",
    "\n",
    "<p align='center'><img src='https://github.com/NeuromatchAcademy/widgets/blob/master/sponsors.png?raw=True'/></p>"
   ]
  },
  {
   "cell_type": "markdown",
   "metadata": {
    "execution": {}
   },
   "source": [
    "---\n",
    "# Tutorial Objectives\n",
    "\n",
    "In this tutorial we are going to learn more about Convnets. More specifically, we will:\n",
    "\n",
    "1. Learn about modern CNNs and Transfer Learning.\n",
    "2. Understand how architectures incorporate ideas we have about the world.\n",
    "3. Understand the operating principles underlying the basic building blocks of modern CNNs.\n",
    "4. Understand the concept of transfer learning and learn to recognize opportunities for applying it.\n",
    "5. Understand the speed vs. accuracy trade-off."
   ]
  },
  {
   "cell_type": "markdown",
   "metadata": {},
   "source": [
    "##  Tutorial slides\n"
   ]
  },
  {
   "cell_type": "markdown",
   "metadata": {},
   "source": [
    " These are the slides for the videos in all tutorials today\n"
   ]
  },
  {
   "cell_type": "code",
   "execution_count": null,
   "metadata": {
    "cellView": "form",
    "execution": {},
    "tags": [
     "remove-input"
    ]
   },
   "outputs": [],
   "source": [
    "# @title Tutorial slides\n",
    "\n",
    "# @markdown These are the slides for the videos in all tutorials today\n",
    "from IPython.display import IFrame\n",
    "IFrame(src=f\"https://mfr.ca-1.osf.io/render?url=https://osf.io/tzfsn/?direct%26mode=render%26action=download%26mode=render\", width=854, height=480)"
   ]
  },
  {
   "cell_type": "markdown",
   "metadata": {
    "execution": {}
   },
   "source": [
    "---\n",
    "# Setup"
   ]
  },
  {
   "cell_type": "markdown",
   "metadata": {},
   "source": [
    "##  Install dependencies\n"
   ]
  },
  {
   "cell_type": "code",
   "execution_count": null,
   "metadata": {
    "cellView": "form",
    "execution": {},
    "tags": [
     "hide-input"
    ]
   },
   "outputs": [],
   "source": [
    "# @title Install dependencies\n",
    "from IPython.display import clear_output\n",
    "!pip install pillow --quiet\n",
    "clear_output()"
   ]
  },
  {
   "cell_type": "code",
   "execution_count": null,
   "metadata": {
    "execution": {}
   },
   "outputs": [],
   "source": [
    "# Import libraries\n",
    "import os\n",
    "import time\n",
    "import torch\n",
    "import tqdm\n",
    "import urllib\n",
    "import IPython\n",
    "import requests\n",
    "import torchvision\n",
    "\n",
    "import numpy as np\n",
    "import matplotlib.pyplot as plt\n",
    "\n",
    "import torch.nn as nn\n",
    "import torch.nn.functional as F\n",
    "\n",
    "from torchvision.datasets import ImageFolder\n",
    "from torchvision.models import AlexNet\n",
    "from torchvision.utils import make_grid\n",
    "from torchvision import transforms\n",
    "\n",
    "from PIL import Image\n",
    "from io import BytesIO"
   ]
  },
  {
   "cell_type": "markdown",
   "metadata": {},
   "source": [
    "##  Figure settings\n"
   ]
  },
  {
   "cell_type": "code",
   "execution_count": null,
   "metadata": {
    "cellView": "form",
    "execution": {},
    "tags": [
     "hide-input"
    ]
   },
   "outputs": [],
   "source": [
    "# @title Figure settings\n",
    "import ipywidgets as widgets       # interactive display\n",
    "%config InlineBackend.figure_format = 'retina'\n",
    "plt.style.use(\"https://raw.githubusercontent.com/NeuromatchAcademy/content-creation/main/nma.mplstyle\")"
   ]
  },
  {
   "cell_type": "markdown",
   "metadata": {},
   "source": [
    "##  Set random seed\n"
   ]
  },
  {
   "cell_type": "markdown",
   "metadata": {},
   "source": [
    " Executing `set_seed(seed=seed)` you are setting the seed\n"
   ]
  },
  {
   "cell_type": "code",
   "execution_count": null,
   "metadata": {
    "cellView": "form",
    "execution": {},
    "tags": [
     "hide-input"
    ]
   },
   "outputs": [],
   "source": [
    "# @title Set random seed\n",
    "\n",
    "# @markdown Executing `set_seed(seed=seed)` you are setting the seed\n",
    "\n",
    "# for DL its critical to set the random seed so that students can have a\n",
    "# baseline to compare their results to expected results.\n",
    "# Read more here: https://pytorch.org/docs/stable/notes/randomness.html\n",
    "\n",
    "# Call `set_seed` function in the exercises to ensure reproducibility.\n",
    "import random\n",
    "import torch\n",
    "\n",
    "def set_seed(seed=None, seed_torch=True):\n",
    "  if seed is None:\n",
    "    seed = np.random.choice(2 ** 32)\n",
    "  random.seed(seed)\n",
    "  np.random.seed(seed)\n",
    "  if seed_torch:\n",
    "    torch.manual_seed(seed)\n",
    "    torch.cuda.manual_seed_all(seed)\n",
    "    torch.cuda.manual_seed(seed)\n",
    "    torch.backends.cudnn.benchmark = False\n",
    "    torch.backends.cudnn.deterministic = True\n",
    "\n",
    "  print(f'Random seed {seed} has been set.')\n",
    "\n",
    "\n",
    "# In case that `DataLoader` is used\n",
    "def seed_worker(worker_id):\n",
    "  worker_seed = torch.initial_seed() % 2**32\n",
    "  np.random.seed(worker_seed)\n",
    "  random.seed(worker_seed)"
   ]
  },
  {
   "cell_type": "markdown",
   "metadata": {},
   "source": [
    "##  Set device (GPU or CPU). Execute `set_device()`\n"
   ]
  },
  {
   "cell_type": "code",
   "execution_count": null,
   "metadata": {
    "cellView": "form",
    "execution": {},
    "tags": [
     "hide-input"
    ]
   },
   "outputs": [],
   "source": [
    "# @title Set device (GPU or CPU). Execute `set_device()`\n",
    "# especially if torch modules used.\n",
    "\n",
    "# inform the user if the notebook uses GPU or CPU.\n",
    "\n",
    "def set_device():\n",
    "  device = \"cuda\" if torch.cuda.is_available() else \"cpu\"\n",
    "  if device != \"cuda\":\n",
    "    print(\"WARNING: For this notebook to perform best, \"\n",
    "        \"if possible, in the menu under `Runtime` -> \"\n",
    "        \"`Change runtime type.`  select `GPU` \")\n",
    "  else:\n",
    "    print(\"GPU is enabled in this notebook.\")\n",
    "\n",
    "  return device"
   ]
  },
  {
   "cell_type": "code",
   "execution_count": null,
   "metadata": {
    "execution": {}
   },
   "outputs": [],
   "source": [
    "SEED = 2021\n",
    "set_seed(seed=SEED)\n",
    "DEVICE = set_device()"
   ]
  },
  {
   "cell_type": "markdown",
   "metadata": {
    "execution": {}
   },
   "source": [
    "---\n",
    "# Section 1: Modern CNNs and Transfer Learning"
   ]
  },
  {
   "cell_type": "markdown",
   "metadata": {},
   "source": [
    "##  Video 1: Modern CNNs and Transfer Learning\n"
   ]
  },
  {
   "cell_type": "code",
   "execution_count": null,
   "metadata": {
    "cellView": "form",
    "execution": {},
    "tags": [
     "remove-input"
    ]
   },
   "outputs": [],
   "source": [
    "# @title Video 1: Modern CNNs and Transfer Learning\n",
    "from ipywidgets import widgets\n",
    "\n",
    "out2 = widgets.Output()\n",
    "with out2:\n",
    "  from IPython.display import IFrame\n",
    "  class BiliVideo(IFrame):\n",
    "    def __init__(self, id, page=1, width=400, height=300, **kwargs):\n",
    "      self.id=id\n",
    "      src = \"https://player.bilibili.com/player.html?bvid={0}&page={1}\".format(id, page)\n",
    "      super(BiliVideo, self).__init__(src, width, height, **kwargs)\n",
    "\n",
    "  video = BiliVideo(id=f\"BV1Wf4y157wE\", width=730, height=410, fs=1)\n",
    "  print(\"Video available at https://www.bilibili.com/video/{0}\".format(video.id))\n",
    "  display(video)\n",
    "\n",
    "out1 = widgets.Output()\n",
    "with out1:\n",
    "  from IPython.display import YouTubeVideo\n",
    "  video = YouTubeVideo(id=f\"mfOd2EKzscM\", width=730, height=410, fs=1, rel=0)\n",
    "  print(\"Video available at https://youtube.com/watch?v=\" + video.id)\n",
    "  display(video)\n",
    "\n",
    "out = widgets.Tab([out1, out2])\n",
    "out.set_title(0, 'Youtube')\n",
    "out.set_title(1, 'Bilibili')\n",
    "\n",
    "display(out)"
   ]
  },
  {
   "cell_type": "markdown",
   "metadata": {
    "execution": {}
   },
   "source": [
    "Images are high dimensional. That is to say that `image_length` * `image_width` * `image_channels` is a big number, and multiplying that big number by a normal sized fully-connected layer leads to a ton of parameters to learn. Yesterday, we learned about convolutional neural networks, one way of working around high dimensionality in images and other domains. \n",
    "\n",
    "The widget below (i.e., *Interactive Demo 1*) calculates the parameters required for a single convolutional or fully connected layer that operates on an image of a certain height and width.\n",
    "\n",
    "Recall that, the number of parameters of a convolutional layer $l$ are calculated as:\n",
    "\n",
    "\\begin{equation}\n",
    "\\text{num_of_params}_l = \\left[ \\left( H \\times W \\times K_{l-1} \\right) + 1 \\right] \\times K_l\n",
    "\\end{equation}\n",
    "\n",
    "where $H$ denotes the shape of the height of the filter, $W$ the shape of the width of the filter, and $K_l$ denotes the number of the filters in the $l$-th layer. The added $1$ is because of the bias term for each filter.\n",
    "\n",
    "\n",
    "While a fully connected layer contains:\n",
    "\n",
    "\\begin{equation}\n",
    "\\text{num_of_params}_l = \\left[ \\left( N_{l-1} \\times N_l \\right) + 1 \\times N_l \\right]\n",
    "\\end{equation}\n",
    "\n",
    "where $N_l$ denotes the number of nodes in the $l$-th layer.\n",
    "\n",
    "\n",
    "Adjust the sliders to gain an intuition for how different model and data characteristics affect the number of parameters your model need to fit.\n",
    "\n",
    "Note: these classes are designed to show parameter scaling in the first layer of a network, to be actually useful they would need more layers, an activation function, etc."
   ]
  },
  {
   "cell_type": "code",
   "execution_count": null,
   "metadata": {
    "execution": {}
   },
   "outputs": [],
   "source": [
    "class FullyConnectedNet(nn.Module):\n",
    "  def __init__(self):\n",
    "    super(FullyConnectedNet, self).__init__()\n",
    "\n",
    "    image_width = 128\n",
    "    image_channels = 3\n",
    "    self.input_size = image_channels * image_width ** 2\n",
    "\n",
    "    self.fc1 = nn.Linear(self.input_size, 256)\n",
    "\n",
    "  def forward(self, x):\n",
    "    x = x.view(-1, self.input_size)\n",
    "    return self.fc1(x)"
   ]
  },
  {
   "cell_type": "code",
   "execution_count": null,
   "metadata": {
    "execution": {}
   },
   "outputs": [],
   "source": [
    "class ConvNet(nn.Module):\n",
    "  def __init__(self):\n",
    "    super(ConvNet, self).__init__()\n",
    "\n",
    "    self.conv1 = nn.Conv2d(in_channels=3,\n",
    "                            out_channels=256,\n",
    "                            kernel_size=(3, 3),\n",
    "                            padding=1)\n",
    "\n",
    "  def forward(self, x):\n",
    "    return self.conv1(x)"
   ]
  },
  {
   "cell_type": "markdown",
   "metadata": {
    "execution": {}
   },
   "source": [
    "## Coding Exercise 1: Calculate number of parameters in FCNN vs ConvNet "
   ]
  },
  {
   "cell_type": "markdown",
   "metadata": {
    "execution": {}
   },
   "source": [
    "Write a function that calculates the number of parameters of a given network. Apply the function to the above defined fully-connected network and convolutional network and compare the parameter counts.\n",
    "\n",
    "**Hint:** `torch.numel`"
   ]
  },
  {
   "cell_type": "code",
   "execution_count": null,
   "metadata": {
    "execution": {}
   },
   "outputs": [],
   "source": [
    "def get_parameter_count(network):\n",
    "  \"\"\"\n",
    "  Calculate the number of parameters used by the fully connected network.\n",
    "  Hint: Casting the result of network.parameters() to a list may make it\n",
    "        easier to work with\n",
    "\n",
    "  Args:\n",
    "      network: Network to calculate the parameters of\n",
    "\n",
    "  Returns:\n",
    "      param_count: The number of parameters in the network\n",
    "  \"\"\"\n",
    "\n",
    "  ####################################################################\n",
    "  # Fill in all missing code below (...),\n",
    "  # then remove or comment the line below to test your function\n",
    "  raise NotImplementedError(\"Convolution math\")\n",
    "  ####################################################################\n",
    "  # Get the network's parameters\n",
    "  parameters = ...\n",
    "\n",
    "  param_count = 0\n",
    "  # Loop over all layers\n",
    "  for layer in parameters:\n",
    "    param_count += ...\n",
    "\n",
    "  return param_count\n",
    "\n",
    "\n",
    "# Initialize networks\n",
    "fccnet = FullyConnectedNet()\n",
    "convnet = ConvNet()\n",
    "# Apply above defined function to both networks\n",
    "## Uncomment to test your fuimction\n",
    "# print('FCCN parameter count: ' + str(get_parameter_count(fccnet)))\n",
    "# print('ConvNet parameter count: ' + str(get_parameter_count(convnet)))"
   ]
  },
  {
   "cell_type": "markdown",
   "metadata": {
    "colab_type": "text",
    "execution": {}
   },
   "source": [
    "[*Click for solution*](https://github.com/NeuromatchAcademy/course-content-dl/tree/main//tutorials/W2D2_ModernConvnets/solutions/W2D2_Tutorial1_Solution_3e7adf9b.py)\n",
    "\n"
   ]
  },
  {
   "cell_type": "markdown",
   "metadata": {
    "execution": {}
   },
   "source": [
    "```\n",
    "FCCN parameter count: 12583168\n",
    "ConvNet parameter count: 7168\n",
    "```"
   ]
  },
  {
   "cell_type": "markdown",
   "metadata": {
    "execution": {}
   },
   "source": [
    "## Interactive Demo 1: Check your results\n",
    "The widget below calculates the number of parameters in a FCNN and CNN with the same architecture as our models above. Our models had an input image that was 128x128, and used 256 filters (or 256 nodes in the FCNN case). Check that the calculations you made above are correct.\n",
    "\n",
    "Note how few parameters the convolutional networks take, especially as you increase the input image size."
   ]
  },
  {
   "cell_type": "markdown",
   "metadata": {},
   "source": [
    "###  Parameter Calculator\n"
   ]
  },
  {
   "cell_type": "markdown",
   "metadata": {},
   "source": [
    " ##### Run this cell to enable the widget!\n"
   ]
  },
  {
   "cell_type": "code",
   "execution_count": null,
   "metadata": {
    "cellView": "form",
    "execution": {},
    "tags": [
     "hide-input"
    ]
   },
   "outputs": [],
   "source": [
    "# @title Parameter Calculator\n",
    "# @markdown ##### Run this cell to enable the widget!\n",
    "\n",
    "def calculate_parameters(filter_count, image_width, fcnn_nodes):\n",
    "  # Convnet math: Implement how parameters scale as a function of image size between convnets and FCNN\n",
    "\n",
    "  filter_width = 3\n",
    "  image_channels = 3\n",
    "\n",
    "  # Assuming a square, RGB image\n",
    "  image_area = image_width ** 2\n",
    "  image_volume = image_area * image_channels\n",
    "\n",
    "  # If we're using padding=same, the output of a convnet will be the same shape as the original\n",
    "  # image, but with more features\n",
    "  fcnn_parameters = image_volume * fcnn_nodes\n",
    "  cnn_parameters = image_channels * filter_count * filter_width ** 2\n",
    "\n",
    "  # Add bias\n",
    "  fcnn_parameters += fcnn_nodes\n",
    "  cnn_parameters += filter_count\n",
    "\n",
    "  print('CNN parameters: {}'.format(cnn_parameters))\n",
    "  print('Fully Connected parameters: {}'.format(fcnn_parameters))\n",
    "\n",
    "  return None\n",
    "\n",
    "_ = widgets.interact(calculate_parameters,\n",
    "                     filter_count=(16, 512, 16),\n",
    "                     image_width=(16, 512, 16),\n",
    "                     fcnn_nodes=(16, 512, 16))"
   ]
  },
  {
   "cell_type": "markdown",
   "metadata": {
    "execution": {}
   },
   "source": [
    "--- \n",
    "# Section 2: The History of Convnets"
   ]
  },
  {
   "cell_type": "markdown",
   "metadata": {
    "execution": {}
   },
   "source": [
    "Convolutional neural networks have been around for a long time. [The first CNN model](https://www.rctn.org/bruno/public/papers/Fukushima1980.pdf) was published in 1980, and was based on ideas in neuroscience that [predated it by decades](https://www.ncbi.nlm.nih.gov/pmc/articles/PMC1359523/). Why is it then that [AlexNet](https://proceedings.neurips.cc/paper/2012/hash/c399862d3b9d6b76c8436e924a68c45b-Abstract.html), a CNN model published in 2012, is generally considered to mark the start of the deep learning revolution?\n",
    "\n",
    "Watch the video below to get a better idea of the role that hardware and the internet have played in progressing deep learning."
   ]
  },
  {
   "cell_type": "markdown",
   "metadata": {},
   "source": [
    "##  Video 2: History of convnets\n"
   ]
  },
  {
   "cell_type": "code",
   "execution_count": null,
   "metadata": {
    "cellView": "form",
    "execution": {},
    "tags": [
     "remove-input"
    ]
   },
   "outputs": [],
   "source": [
    "# @title Video 2: History of convnets\n",
    "from ipywidgets import widgets\n",
    "\n",
    "out2 = widgets.Output()\n",
    "with out2:\n",
    "  from IPython.display import IFrame\n",
    "  class BiliVideo(IFrame):\n",
    "    def __init__(self, id, page=1, width=400, height=300, **kwargs):\n",
    "      self.id=id\n",
    "      src = \"https://player.bilibili.com/player.html?bvid={0}&page={1}\".format(id, page)\n",
    "      super(BiliVideo, self).__init__(src, width, height, **kwargs)\n",
    "\n",
    "  video = BiliVideo(id=f\"BV1364y167Qy\", width=730, height=410, fs=1)\n",
    "  print(\"Video available at https://www.bilibili.com/video/{0}\".format(video.id))\n",
    "  display(video)\n",
    "\n",
    "out1 = widgets.Output()\n",
    "with out1:\n",
    "  from IPython.display import YouTubeVideo\n",
    "  video = YouTubeVideo(id=f\"xtoLjKSPrUQ\", width=730, height=410, fs=1, rel=0)\n",
    "  print(\"Video available at https://youtube.com/watch?v=\" + video.id)\n",
    "  display(video)\n",
    "\n",
    "out = widgets.Tab([out1, out2])\n",
    "out.set_title(0, 'Youtube')\n",
    "out.set_title(1, 'Bilibili')\n",
    "\n",
    "display(out)"
   ]
  },
  {
   "cell_type": "markdown",
   "metadata": {
    "execution": {}
   },
   "source": [
    "## Exercise 2: Challenges of improving CNNs\n",
    "As we shall see today, the story of deep learning and CNNs has been one of scaling networks: making them bigger and deeper.\n",
    "\n",
    "Based on what you know so far from previous days, what challenges might researchers have faced when trying to scale up CNNs and applying them to different visual recognition tasks? Do you already have some ideas how these challenges might have been addressed?\n",
    "\n",
    "Discuss this with your group for ~10 minutes.\n",
    "\n",
    "(Hint: labeled data, compute and memory are all finite)"
   ]
  },
  {
   "cell_type": "markdown",
   "metadata": {
    "colab_type": "text",
    "execution": {},
    "jupyter": {
     "outputs_hidden": false
    }
   },
   "source": [
    "[*Click for solution*](https://github.com/NeuromatchAcademy/course-content-dl/tree/main//tutorials/W2D2_ModernConvnets/solutions/W2D2_Tutorial1_Solution_bb75be4a.py)\n",
    "\n"
   ]
  },
  {
   "cell_type": "markdown",
   "metadata": {
    "execution": {}
   },
   "source": [
    "---\n",
    "# Section 3: Big and Deep Convnets"
   ]
  },
  {
   "cell_type": "markdown",
   "metadata": {},
   "source": [
    "##  Video 3: AlexNet & VGG\n"
   ]
  },
  {
   "cell_type": "code",
   "execution_count": null,
   "metadata": {
    "cellView": "form",
    "execution": {},
    "tags": [
     "remove-input"
    ]
   },
   "outputs": [],
   "source": [
    "# @title Video 3: AlexNet & VGG\n",
    "from ipywidgets import widgets\n",
    "\n",
    "out2 = widgets.Output()\n",
    "with out2:\n",
    "  from IPython.display import IFrame\n",
    "  class BiliVideo(IFrame):\n",
    "    def __init__(self, id, page=1, width=400, height=300, **kwargs):\n",
    "      self.id=id\n",
    "      src = \"https://player.bilibili.com/player.html?bvid={0}&page={1}\".format(id, page)\n",
    "      super(BiliVideo, self).__init__(src, width, height, **kwargs)\n",
    "\n",
    "  video = BiliVideo(id=f\"BV12U4y1n7q5\", width=730, height=410, fs=1)\n",
    "  print(\"Video available at https://www.bilibili.com/video/{0}\".format(video.id))\n",
    "  display(video)\n",
    "\n",
    "out1 = widgets.Output()\n",
    "with out1:\n",
    "  from IPython.display import YouTubeVideo\n",
    "  video = YouTubeVideo(id=f\"ZB87qC7yPiE\", width=730, height=410, fs=1, rel=0)\n",
    "  print(\"Video available at https://youtube.com/watch?v=\" + video.id)\n",
    "  display(video)\n",
    "\n",
    "out = widgets.Tab([out1, out2])\n",
    "out.set_title(0, 'Youtube')\n",
    "out.set_title(1, 'Bilibili')\n",
    "\n",
    "display(out)"
   ]
  },
  {
   "cell_type": "markdown",
   "metadata": {
    "execution": {}
   },
   "source": [
    "## Section 3.1: Introduction to AlexNet\n",
    "\n",
    "AlexNet arguably marked the start of the current age of deep learning.\n",
    "It incorporates a number of the defining characteristics of successful DL today: deep networks, GPU-powered paralellization, and building blocks encoding task-specific priors.\n",
    "In this section you'll have the opportunity to play with AlexNet and see the world through its eyes."
   ]
  },
  {
   "cell_type": "markdown",
   "metadata": {},
   "source": [
    "###  Import Alexnet\n"
   ]
  },
  {
   "cell_type": "markdown",
   "metadata": {},
   "source": [
    " ##### This cell gives you the `alexnet` model as well as the `input_image` and `input_batch` variables used below\n"
   ]
  },
  {
   "cell_type": "code",
   "execution_count": null,
   "metadata": {
    "cellView": "form",
    "execution": {},
    "tags": [
     "hide-input"
    ]
   },
   "outputs": [],
   "source": [
    "# @title Import Alexnet\n",
    "# @markdown ##### This cell gives you the `alexnet` model as well as the `input_image` and `input_batch` variables used below\n",
    "\n",
    "alexnet = AlexNet()\n",
    "\n",
    "state_dict = torch.hub.load_state_dict_from_url(\"https://s3.amazonaws.com/pytorch/models/alexnet-owt-4df8aa71.pth\")\n",
    "alexnet.load_state_dict(state_dict=state_dict)\n",
    "\n",
    "url, filename = (\"https://github.com/pytorch/hub/raw/master/images/dog.jpg\", \"dog.jpg\")\n",
    "try: urllib.URLopener().retrieve(url, filename)\n",
    "except: urllib.request.urlretrieve(url, filename)\n",
    "\n",
    "input_image = Image.open(filename)\n",
    "preprocess = transforms.Compose([\n",
    "                                 transforms.Resize(256),\n",
    "                                 transforms.CenterCrop(224),\n",
    "                                 transforms.ToTensor(),\n",
    "                                 transforms.Normalize(mean=[0.485, 0.456, 0.406],\n",
    "                                                      std=[0.229, 0.224, 0.225]),\n",
    "                                 ])\n",
    "input_tensor = preprocess(input_image)\n",
    "input_batch = input_tensor.unsqueeze(0)  # create a mini-batch as expected by the model\n",
    "\n",
    "# move the input and model to GPU for speed if available\n",
    "if torch.cuda.is_available():\n",
    "  input_batch = input_batch.to(DEVICE)\n",
    "  alexnet.to(DEVICE)"
   ]
  },
  {
   "cell_type": "markdown",
   "metadata": {
    "execution": {}
   },
   "source": [
    "## Section 3.2: What does AlexNet learn?\n",
    "This code visualizes the top-layer filters learned by AlexNet.\n",
    "What do these filters remind you of?"
   ]
  },
  {
   "cell_type": "code",
   "execution_count": null,
   "metadata": {
    "execution": {}
   },
   "outputs": [],
   "source": [
    "with torch.no_grad():\n",
    "  params = list(alexnet.parameters())\n",
    "  fig, axs = plt.subplots(8, 8, figsize=(8, 8))\n",
    "  filters = []\n",
    "  for filter_index in range(params[0].shape[0]):\n",
    "    row_index = filter_index // 8\n",
    "    col_index = filter_index % 8\n",
    "\n",
    "    filter = params[0][filter_index,:,:,:]\n",
    "    filter_image = filter.permute(1, 2, 0).cpu()\n",
    "    scale = np.abs(filter_image).max()\n",
    "    scaled_image = filter_image / (2 * scale) + 0.5\n",
    "    filters.append(scaled_image.cpu())\n",
    "    axs[row_index, col_index].imshow(scaled_image.cpu())\n",
    "    axs[row_index, col_index].axis('off')\n",
    "  plt.show()"
   ]
  },
  {
   "cell_type": "markdown",
   "metadata": {
    "execution": {}
   },
   "source": [
    "### Exercise 3.2.1: Filter Similarity\n",
    "\n",
    "What do these filters remind you of?"
   ]
  },
  {
   "cell_type": "markdown",
   "metadata": {
    "colab_type": "text",
    "execution": {}
   },
   "source": [
    "[*Click for solution*](https://github.com/NeuromatchAcademy/course-content-dl/tree/main//tutorials/W2D2_ModernConvnets/solutions/W2D2_Tutorial1_Solution_bf663593.py)\n",
    "\n"
   ]
  },
  {
   "cell_type": "markdown",
   "metadata": {
    "execution": {}
   },
   "source": [
    "### Interactive Demo 3.2: What does AlexNet see?\n",
    "One way of visualizing CNNs is to look at the output of individual filters for a given image. Below is a widget that lets you examine the outputs of various filters used in AlexNet."
   ]
  },
  {
   "cell_type": "markdown",
   "metadata": {},
   "source": [
    "####  Image Widget Code\n"
   ]
  },
  {
   "cell_type": "markdown",
   "metadata": {},
   "source": [
    " ##### Run this cell to enable the widget\n"
   ]
  },
  {
   "cell_type": "code",
   "execution_count": null,
   "metadata": {
    "cellView": "form",
    "execution": {},
    "tags": [
     "hide-input"
    ]
   },
   "outputs": [],
   "source": [
    "# @title Image Widget Code\n",
    "# @markdown ##### Run this cell to enable the widget\n",
    "\n",
    "def alexnet_intermediate_output(net, image):\n",
    "    return F.relu(net.features[0](image))\n",
    "\n",
    "\n",
    "def browse_images(input_batch, input_image):\n",
    "  intermediate_output = alexnet_intermediate_output(alexnet, input_batch)\n",
    "  n = intermediate_output.shape[1]\n",
    "\n",
    "  def view_image(i):\n",
    "    with torch.no_grad():\n",
    "      channel = intermediate_output[0, i,:].squeeze()\n",
    "      fig, ax = plt.subplots(1, 3, figsize=(18,6))\n",
    "      ax[0].imshow(input_image)\n",
    "      ax[1].imshow(filters[i])\n",
    "      ax[1].set_xlim([-22, 33])\n",
    "      ax[2].imshow(channel.cpu())\n",
    "      ax[0].set_title('Input image')\n",
    "      ax[1].set_title('Filter {}'.format(i))\n",
    "      ax[2].set_title('Filter {} on input image'.format(i))\n",
    "      [axi.set_axis_off() for axi in ax.ravel()]\n",
    "\n",
    "  widgets.interact(view_image, i=(0, n-1))\n",
    "\n",
    "\n",
    "browse_images(input_batch, input_image)"
   ]
  },
  {
   "cell_type": "markdown",
   "metadata": {
    "execution": {}
   },
   "source": [
    "### Exercise 3.2.2 Filter Purpose\n",
    "What do these filters appear to be doing? Note that different filters play different roles so there are several good answers."
   ]
  },
  {
   "cell_type": "markdown",
   "metadata": {
    "colab_type": "text",
    "execution": {}
   },
   "source": [
    "[*Click for solution*](https://github.com/NeuromatchAcademy/course-content-dl/tree/main//tutorials/W2D2_ModernConvnets/solutions/W2D2_Tutorial1_Solution_229d7ef2.py)\n",
    "\n"
   ]
  },
  {
   "cell_type": "markdown",
   "metadata": {
    "execution": {}
   },
   "source": [
    "## Further Reading\n",
    "If the question \"what are neural network filters looking for\" is at all interesting to you, or if you like geometric art, you'll enjoy [this post](https://distill.pub/2017/feature-visualization/) creating images that maximize output of various CNN neurons. There is also a good article showing what the space of images looks like as models train [here](https://distill.pub/2020/grand-tour/)."
   ]
  },
  {
   "cell_type": "markdown",
   "metadata": {
    "execution": {}
   },
   "source": [
    "---\n",
    "# Section 4: Convnets After AlexNet"
   ]
  },
  {
   "cell_type": "markdown",
   "metadata": {},
   "source": [
    "##  Video 4: Residual Networks (ResNets)\n"
   ]
  },
  {
   "cell_type": "code",
   "execution_count": null,
   "metadata": {
    "cellView": "form",
    "execution": {},
    "tags": [
     "remove-input"
    ]
   },
   "outputs": [],
   "source": [
    "# @title Video 4: Residual Networks (ResNets)\n",
    "from ipywidgets import widgets\n",
    "\n",
    "out2 = widgets.Output()\n",
    "with out2:\n",
    "  from IPython.display import IFrame\n",
    "  class BiliVideo(IFrame):\n",
    "    def __init__(self, id, page=1, width=400, height=300, **kwargs):\n",
    "      self.id=id\n",
    "      src = \"https://player.bilibili.com/player.html?bvid={0}&page={1}\".format(id, page)\n",
    "      super(BiliVideo, self).__init__(src, width, height, **kwargs)\n",
    "\n",
    "  video = BiliVideo(id=f\"BV1bf4y1j7od\", width=730, height=410, fs=1)\n",
    "  print(\"Video available at https://www.bilibili.com/video/{0}\".format(video.id))\n",
    "  display(video)\n",
    "\n",
    "out1 = widgets.Output()\n",
    "with out1:\n",
    "  from IPython.display import YouTubeVideo\n",
    "  video = YouTubeVideo(id=f\"EJSZnJyy4PI\", width=730, height=410, fs=1, rel=0)\n",
    "  print(\"Video available at https://youtube.com/watch?v=\" + video.id)\n",
    "  display(video)\n",
    "\n",
    "out = widgets.Tab([out1, out2])\n",
    "out.set_title(0, 'Youtube')\n",
    "out.set_title(1, 'Bilibili')\n",
    "\n",
    "display(out)"
   ]
  },
  {
   "cell_type": "markdown",
   "metadata": {
    "execution": {}
   },
   "source": [
    "In this section we'll be working with a state of the art CNN model called [ResNet](https://arxiv.org/abs/1512.03385). ResNet has two particularly interesting features. First, it uses skip connections to avoid the vanishing gradient problem. Second, each block (collection of layers) in a ResNet can be treated as learning a residual function.\n",
    "\n",
    "Mathematically, a neural network can be thought of as a series of operations that maps an input (like an image of a dog) to an output (like the label \"dog\"). In math-speak a mapping from an input to an output is called a function. Neural networks are a flexible way of expressing that function. \n",
    "\n",
    "If you were to subtract out the true function mapping images to class labels from the function learned by a network, you'd be left with the residual error or \"residual function\". ResNets try to learn the original function, then the residual function, then the residual of the residual, and so on, using their residual blocks and adding them to the output of the preceeding layers.\n",
    "\n",
    "In this section we'll run several images through a pre-trained ResNet and see what happens."
   ]
  },
  {
   "cell_type": "markdown",
   "metadata": {},
   "source": [
    "##  Download imagenette\n"
   ]
  },
  {
   "cell_type": "code",
   "execution_count": null,
   "metadata": {
    "cellView": "form",
    "execution": {},
    "tags": [
     "hide-input"
    ]
   },
   "outputs": [],
   "source": [
    "# @title Download imagenette\n",
    "!rm -rf imagenette*\n",
    "!wget https://s3.amazonaws.com/fast-ai-imageclas/imagenette2-320.tgz\n",
    "!tar -xf imagenette2-320.tgz\n",
    "!rm -r imagenette2-320.tgz"
   ]
  },
  {
   "cell_type": "markdown",
   "metadata": {},
   "source": [
    "##  Set Up Textual ImageNet labels\n"
   ]
  },
  {
   "cell_type": "code",
   "execution_count": null,
   "metadata": {
    "cellView": "form",
    "execution": {},
    "tags": [
     "hide-input"
    ]
   },
   "outputs": [],
   "source": [
    "# @title Set Up Textual ImageNet labels\n",
    "dict_map={0: 'tench, Tinca tinca',\n",
    " 1: 'goldfish, Carassius auratus',\n",
    " 2: 'great white shark, white shark, man-eater, man-eating shark, Carcharodon carcharias',\n",
    " 3: 'tiger shark, Galeocerdo cuvieri',\n",
    " 4: 'hammerhead, hammerhead shark',\n",
    " 5: 'electric ray, crampfish, numbfish, torpedo',\n",
    " 6: 'stingray',\n",
    " 7: 'cock',\n",
    " 8: 'hen',\n",
    " 9: 'ostrich, Struthio camelus',\n",
    " 10: 'brambling, Fringilla montifringilla',\n",
    " 11: 'goldfinch, Carduelis carduelis',\n",
    " 12: 'house finch, linnet, Carpodacus mexicanus',\n",
    " 13: 'junco, snowbird',\n",
    " 14: 'indigo bunting, indigo finch, indigo bird, Passerina cyanea',\n",
    " 15: 'robin, American robin, Turdus migratorius',\n",
    " 16: 'bulbul',\n",
    " 17: 'jay',\n",
    " 18: 'magpie',\n",
    " 19: 'chickadee',\n",
    " 20: 'water ouzel, dipper',\n",
    " 21: 'kite',\n",
    " 22: 'bald eagle, American eagle, Haliaeetus leucocephalus',\n",
    " 23: 'vulture',\n",
    " 24: 'great grey owl, great gray owl, Strix nebulosa',\n",
    " 25: 'European fire salamander, Salamandra salamandra',\n",
    " 26: 'common newt, Triturus vulgaris',\n",
    " 27: 'eft',\n",
    " 28: 'spotted salamander, Ambystoma maculatum',\n",
    " 29: 'axolotl, mud puppy, Ambystoma mexicanum',\n",
    " 30: 'bullfrog, Rana catesbeiana',\n",
    " 31: 'tree frog, tree-frog',\n",
    " 32: 'tailed frog, bell toad, ribbed toad, tailed toad, Ascaphus trui',\n",
    " 33: 'loggerhead, loggerhead turtle, Caretta caretta',\n",
    " 34: 'leatherback turtle, leatherback, leathery turtle, Dermochelys coriacea',\n",
    " 35: 'mud turtle',\n",
    " 36: 'terrapin',\n",
    " 37: 'box turtle, box tortoise',\n",
    " 38: 'banded gecko',\n",
    " 39: 'common iguana, iguana, Iguana iguana',\n",
    " 40: 'American chameleon, anole, Anolis carolinensis',\n",
    " 41: 'whiptail, whiptail lizard',\n",
    " 42: 'agama',\n",
    " 43: 'frilled lizard, Chlamydosaurus kingi',\n",
    " 44: 'alligator lizard',\n",
    " 45: 'Gila monster, Heloderma suspectum',\n",
    " 46: 'green lizard, Lacerta viridis',\n",
    " 47: 'African chameleon, Chamaeleo chamaeleon',\n",
    " 48: 'Komodo dragon, Komodo lizard, dragon lizard, giant lizard, Varanus komodoensis',\n",
    " 49: 'African crocodile, Nile crocodile, Crocodylus niloticus',\n",
    " 50: 'American alligator, Alligator mississipiensis',\n",
    " 51: 'triceratops',\n",
    " 52: 'thunder snake, worm snake, Carphophis amoenus',\n",
    " 53: 'ringneck snake, ring-necked snake, ring snake',\n",
    " 54: 'hognose snake, puff adder, sand viper',\n",
    " 55: 'green snake, grass snake',\n",
    " 56: 'king snake, kingsnake',\n",
    " 57: 'garter snake, grass snake',\n",
    " 58: 'water snake',\n",
    " 59: 'vine snake',\n",
    " 60: 'night snake, Hypsiglena torquata',\n",
    " 61: 'boa constrictor, Constrictor constrictor',\n",
    " 62: 'rock python, rock snake, Python sebae',\n",
    " 63: 'Indian cobra, Naja naja',\n",
    " 64: 'green mamba',\n",
    " 65: 'sea snake',\n",
    " 66: 'horned viper, cerastes, sand viper, horned asp, Cerastes cornutus',\n",
    " 67: 'diamondback, diamondback rattlesnake, Crotalus adamanteus',\n",
    " 68: 'sidewinder, horned rattlesnake, Crotalus cerastes',\n",
    " 69: 'trilobite',\n",
    " 70: 'harvestman, daddy longlegs, Phalangium opilio',\n",
    " 71: 'scorpion',\n",
    " 72: 'black and gold garden spider, Argiope aurantia',\n",
    " 73: 'barn spider, Araneus cavaticus',\n",
    " 74: 'garden spider, Aranea diademata',\n",
    " 75: 'black widow, Latrodectus mactans',\n",
    " 76: 'tarantula',\n",
    " 77: 'wolf spider, hunting spider',\n",
    " 78: 'tick',\n",
    " 79: 'centipede',\n",
    " 80: 'black grouse',\n",
    " 81: 'ptarmigan',\n",
    " 82: 'ruffed grouse, partridge, Bonasa umbellus',\n",
    " 83: 'prairie chicken, prairie grouse, prairie fowl',\n",
    " 84: 'peacock',\n",
    " 85: 'quail',\n",
    " 86: 'partridge',\n",
    " 87: 'African grey, African gray, Psittacus erithacus',\n",
    " 88: 'macaw',\n",
    " 89: 'sulphur-crested cockatoo, Kakatoe galerita, Cacatua galerita',\n",
    " 90: 'lorikeet',\n",
    " 91: 'coucal',\n",
    " 92: 'bee eater',\n",
    " 93: 'hornbill',\n",
    " 94: 'hummingbird',\n",
    " 95: 'jacamar',\n",
    " 96: 'toucan',\n",
    " 97: 'drake',\n",
    " 98: 'red-breasted merganser, Mergus serrator',\n",
    " 99: 'goose',\n",
    " 100: 'black swan, Cygnus atratus',\n",
    " 101: 'tusker',\n",
    " 102: 'echidna, spiny anteater, anteater',\n",
    " 103: 'platypus, duckbill, duckbilled platypus, duck-billed platypus, Ornithorhynchus anatinus',\n",
    " 104: 'wallaby, brush kangaroo',\n",
    " 105: 'koala, koala bear, kangaroo bear, native bear, Phascolarctos cinereus',\n",
    " 106: 'wombat',\n",
    " 107: 'jellyfish',\n",
    " 108: 'sea anemone, anemone',\n",
    " 109: 'brain coral',\n",
    " 110: 'flatworm, platyhelminth',\n",
    " 111: 'nematode, nematode worm, roundworm',\n",
    " 112: 'conch',\n",
    " 113: 'snail',\n",
    " 114: 'slug',\n",
    " 115: 'sea slug, nudibranch',\n",
    " 116: 'chiton, coat-of-mail shell, sea cradle, polyplacophore',\n",
    " 117: 'chambered nautilus, pearly nautilus, nautilus',\n",
    " 118: 'Dungeness crab, Cancer magister',\n",
    " 119: 'rock crab, Cancer irroratus',\n",
    " 120: 'fiddler crab',\n",
    " 121: 'king crab, Alaska crab, Alaskan king crab, Alaska king crab, Paralithodes camtschatica',\n",
    " 122: 'American lobster, Northern lobster, Maine lobster, Homarus americanus',\n",
    " 123: 'spiny lobster, langouste, rock lobster, crawfish, crayfish, sea crawfish',\n",
    " 124: 'crayfish, crawfish, crawdad, crawdaddy',\n",
    " 125: 'hermit crab',\n",
    " 126: 'isopod',\n",
    " 127: 'white stork, Ciconia ciconia',\n",
    " 128: 'black stork, Ciconia nigra',\n",
    " 129: 'spoonbill',\n",
    " 130: 'flamingo',\n",
    " 131: 'little blue heron, Egretta caerulea',\n",
    " 132: 'American egret, great white heron, Egretta albus',\n",
    " 133: 'bittern',\n",
    " 134: 'crane',\n",
    " 135: 'limpkin, Aramus pictus',\n",
    " 136: 'European gallinule, Porphyrio porphyrio',\n",
    " 137: 'American coot, marsh hen, mud hen, water hen, Fulica americana',\n",
    " 138: 'bustard',\n",
    " 139: 'ruddy turnstone, Arenaria interpres',\n",
    " 140: 'red-backed sandpiper, dunlin, Erolia alpina',\n",
    " 141: 'redshank, Tringa totanus',\n",
    " 142: 'dowitcher',\n",
    " 143: 'oystercatcher, oyster catcher',\n",
    " 144: 'pelican',\n",
    " 145: 'king penguin, Aptenodytes patagonica',\n",
    " 146: 'albatross, mollymawk',\n",
    " 147: 'grey whale, gray whale, devilfish, Eschrichtius gibbosus, Eschrichtius robustus',\n",
    " 148: 'killer whale, killer, orca, grampus, sea wolf, Orcinus orca',\n",
    " 149: 'dugong, Dugong dugon',\n",
    " 150: 'sea lion',\n",
    " 151: 'Chihuahua',\n",
    " 152: 'Japanese spaniel',\n",
    " 153: 'Maltese dog, Maltese terrier, Maltese',\n",
    " 154: 'Pekinese, Pekingese, Peke',\n",
    " 155: 'Shih-Tzu',\n",
    " 156: 'Blenheim spaniel',\n",
    " 157: 'papillon',\n",
    " 158: 'toy terrier',\n",
    " 159: 'Rhodesian ridgeback',\n",
    " 160: 'Afghan hound, Afghan',\n",
    " 161: 'basset, basset hound',\n",
    " 162: 'beagle',\n",
    " 163: 'bloodhound, sleuthhound',\n",
    " 164: 'bluetick',\n",
    " 165: 'black-and-tan coonhound',\n",
    " 166: 'Walker hound, Walker foxhound',\n",
    " 167: 'English foxhound',\n",
    " 168: 'redbone',\n",
    " 169: 'borzoi, Russian wolfhound',\n",
    " 170: 'Irish wolfhound',\n",
    " 171: 'Italian greyhound',\n",
    " 172: 'whippet',\n",
    " 173: 'Ibizan hound, Ibizan Podenco',\n",
    " 174: 'Norwegian elkhound, elkhound',\n",
    " 175: 'otterhound, otter hound',\n",
    " 176: 'Saluki, gazelle hound',\n",
    " 177: 'Scottish deerhound, deerhound',\n",
    " 178: 'Weimaraner',\n",
    " 179: 'Staffordshire bullterrier, Staffordshire bull terrier',\n",
    " 180: 'American Staffordshire terrier, Staffordshire terrier, American pit bull terrier, pit bull terrier',\n",
    " 181: 'Bedlington terrier',\n",
    " 182: 'Border terrier',\n",
    " 183: 'Kerry blue terrier',\n",
    " 184: 'Irish terrier',\n",
    " 185: 'Norfolk terrier',\n",
    " 186: 'Norwich terrier',\n",
    " 187: 'Yorkshire terrier',\n",
    " 188: 'wire-haired fox terrier',\n",
    " 189: 'Lakeland terrier',\n",
    " 190: 'Sealyham terrier, Sealyham',\n",
    " 191: 'Airedale, Airedale terrier',\n",
    " 192: 'cairn, cairn terrier',\n",
    " 193: 'Australian terrier',\n",
    " 194: 'Dandie Dinmont, Dandie Dinmont terrier',\n",
    " 195: 'Boston bull, Boston terrier',\n",
    " 196: 'miniature schnauzer',\n",
    " 197: 'giant schnauzer',\n",
    " 198: 'standard schnauzer',\n",
    " 199: 'Scotch terrier, Scottish terrier, Scottie',\n",
    " 200: 'Tibetan terrier, chrysanthemum dog',\n",
    " 201: 'silky terrier, Sydney silky',\n",
    " 202: 'soft-coated wheaten terrier',\n",
    " 203: 'West Highland white terrier',\n",
    " 204: 'Lhasa, Lhasa apso',\n",
    " 205: 'flat-coated retriever',\n",
    " 206: 'curly-coated retriever',\n",
    " 207: 'golden retriever',\n",
    " 208: 'Labrador retriever',\n",
    " 209: 'Chesapeake Bay retriever',\n",
    " 210: 'German short-haired pointer',\n",
    " 211: 'vizsla, Hungarian pointer',\n",
    " 212: 'English setter',\n",
    " 213: 'Irish setter, red setter',\n",
    " 214: 'Gordon setter',\n",
    " 215: 'Brittany spaniel',\n",
    " 216: 'clumber, clumber spaniel',\n",
    " 217: 'English springer, English springer spaniel',\n",
    " 218: 'Welsh springer spaniel',\n",
    " 219: 'cocker spaniel, English cocker spaniel, cocker',\n",
    " 220: 'Sussex spaniel',\n",
    " 221: 'Irish water spaniel',\n",
    " 222: 'kuvasz',\n",
    " 223: 'schipperke',\n",
    " 224: 'groenendael',\n",
    " 225: 'malinois',\n",
    " 226: 'briard',\n",
    " 227: 'kelpie',\n",
    " 228: 'komondor',\n",
    " 229: 'Old English sheepdog, bobtail',\n",
    " 230: 'Shetland sheepdog, Shetland sheep dog, Shetland',\n",
    " 231: 'collie',\n",
    " 232: 'Border collie',\n",
    " 233: 'Bouvier des Flandres, Bouviers des Flandres',\n",
    " 234: 'Rottweiler',\n",
    " 235: 'German shepherd, German shepherd dog, German police dog, alsatian',\n",
    " 236: 'Doberman, Doberman pinscher',\n",
    " 237: 'miniature pinscher',\n",
    " 238: 'Greater Swiss Mountain dog',\n",
    " 239: 'Bernese mountain dog',\n",
    " 240: 'Appenzeller',\n",
    " 241: 'EntleBucher',\n",
    " 242: 'boxer',\n",
    " 243: 'bull mastiff',\n",
    " 244: 'Tibetan mastiff',\n",
    " 245: 'French bulldog',\n",
    " 246: 'Great Dane',\n",
    " 247: 'Saint Bernard, St Bernard',\n",
    " 248: 'Eskimo dog, husky',\n",
    " 249: 'malamute, malemute, Alaskan malamute',\n",
    " 250: 'Siberian husky',\n",
    " 251: 'dalmatian, coach dog, carriage dog',\n",
    " 252: 'affenpinscher, monkey pinscher, monkey dog',\n",
    " 253: 'basenji',\n",
    " 254: 'pug, pug-dog',\n",
    " 255: 'Leonberg',\n",
    " 256: 'Newfoundland, Newfoundland dog',\n",
    " 257: 'Great Pyrenees',\n",
    " 258: 'Samoyed, Samoyede',\n",
    " 259: 'Pomeranian',\n",
    " 260: 'chow, chow chow',\n",
    " 261: 'keeshond',\n",
    " 262: 'Brabancon griffon',\n",
    " 263: 'Pembroke, Pembroke Welsh corgi',\n",
    " 264: 'Cardigan, Cardigan Welsh corgi',\n",
    " 265: 'toy poodle',\n",
    " 266: 'miniature poodle',\n",
    " 267: 'standard poodle',\n",
    " 268: 'Mexican hairless',\n",
    " 269: 'timber wolf, grey wolf, gray wolf, Canis lupus',\n",
    " 270: 'white wolf, Arctic wolf, Canis lupus tundrarum',\n",
    " 271: 'red wolf, maned wolf, Canis rufus, Canis niger',\n",
    " 272: 'coyote, prairie wolf, brush wolf, Canis latrans',\n",
    " 273: 'dingo, warrigal, warragal, Canis dingo',\n",
    " 274: 'dhole, Cuon alpinus',\n",
    " 275: 'African hunting dog, hyena dog, Cape hunting dog, Lycaon pictus',\n",
    " 276: 'hyena, hyaena',\n",
    " 277: 'red fox, Vulpes vulpes',\n",
    " 278: 'kit fox, Vulpes macrotis',\n",
    " 279: 'Arctic fox, white fox, Alopex lagopus',\n",
    " 280: 'grey fox, gray fox, Urocyon cinereoargenteus',\n",
    " 281: 'tabby, tabby cat',\n",
    " 282: 'tiger cat',\n",
    " 283: 'Persian cat',\n",
    " 284: 'Siamese cat, Siamese',\n",
    " 285: 'Egyptian cat',\n",
    " 286: 'cougar, puma, catamount, mountain lion, painter, panther, Felis concolor',\n",
    " 287: 'lynx, catamount',\n",
    " 288: 'leopard, Panthera pardus',\n",
    " 289: 'snow leopard, ounce, Panthera uncia',\n",
    " 290: 'jaguar, panther, Panthera onca, Felis onca',\n",
    " 291: 'lion, king of beasts, Panthera leo',\n",
    " 292: 'tiger, Panthera tigris',\n",
    " 293: 'cheetah, chetah, Acinonyx jubatus',\n",
    " 294: 'brown bear, bruin, Ursus arctos',\n",
    " 295: 'American black bear, black bear, Ursus americanus, Euarctos americanus',\n",
    " 296: 'ice bear, polar bear, Ursus Maritimus, Thalarctos maritimus',\n",
    " 297: 'sloth bear, Melursus ursinus, Ursus ursinus',\n",
    " 298: 'mongoose',\n",
    " 299: 'meerkat, mierkat',\n",
    " 300: 'tiger beetle',\n",
    " 301: 'ladybug, ladybeetle, lady beetle, ladybird, ladybird beetle',\n",
    " 302: 'ground beetle, carabid beetle',\n",
    " 303: 'long-horned beetle, longicorn, longicorn beetle',\n",
    " 304: 'leaf beetle, chrysomelid',\n",
    " 305: 'dung beetle',\n",
    " 306: 'rhinoceros beetle',\n",
    " 307: 'weevil',\n",
    " 308: 'fly',\n",
    " 309: 'bee',\n",
    " 310: 'ant, emmet, pismire',\n",
    " 311: 'grasshopper, hopper',\n",
    " 312: 'cricket',\n",
    " 313: 'walking stick, walkingstick, stick insect',\n",
    " 314: 'cockroach, roach',\n",
    " 315: 'mantis, mantid',\n",
    " 316: 'cicada, cicala',\n",
    " 317: 'leafhopper',\n",
    " 318: 'lacewing, lacewing fly',\n",
    " 319: \"dragonfly, darning needle, devil's darning needle, sewing needle, snake feeder, snake doctor, mosquito hawk, skeeter hawk\",\n",
    " 320: 'damselfly',\n",
    " 321: 'admiral',\n",
    " 322: 'ringlet, ringlet butterfly',\n",
    " 323: 'monarch, monarch butterfly, milkweed butterfly, Danaus plexippus',\n",
    " 324: 'cabbage butterfly',\n",
    " 325: 'sulphur butterfly, sulfur butterfly',\n",
    " 326: 'lycaenid, lycaenid butterfly',\n",
    " 327: 'starfish, sea star',\n",
    " 328: 'sea urchin',\n",
    " 329: 'sea cucumber, holothurian',\n",
    " 330: 'wood rabbit, cottontail, cottontail rabbit',\n",
    " 331: 'hare',\n",
    " 332: 'Angora, Angora rabbit',\n",
    " 333: 'hamster',\n",
    " 334: 'porcupine, hedgehog',\n",
    " 335: 'fox squirrel, eastern fox squirrel, Sciurus niger',\n",
    " 336: 'marmot',\n",
    " 337: 'beaver',\n",
    " 338: 'guinea pig, Cavia cobaya',\n",
    " 339: 'sorrel',\n",
    " 340: 'zebra',\n",
    " 341: 'hog, pig, grunter, squealer, Sus scrofa',\n",
    " 342: 'wild boar, boar, Sus scrofa',\n",
    " 343: 'warthog',\n",
    " 344: 'hippopotamus, hippo, river horse, Hippopotamus amphibius',\n",
    " 345: 'ox',\n",
    " 346: 'water buffalo, water ox, Asiatic buffalo, Bubalus bubalis',\n",
    " 347: 'bison',\n",
    " 348: 'ram, tup',\n",
    " 349: 'bighorn, bighorn sheep, cimarron, Rocky Mountain bighorn, Rocky Mountain sheep, Ovis canadensis',\n",
    " 350: 'ibex, Capra ibex',\n",
    " 351: 'hartebeest',\n",
    " 352: 'impala, Aepyceros melampus',\n",
    " 353: 'gazelle',\n",
    " 354: 'Arabian camel, dromedary, Camelus dromedarius',\n",
    " 355: 'llama',\n",
    " 356: 'weasel',\n",
    " 357: 'mink',\n",
    " 358: 'polecat, fitch, foulmart, foumart, Mustela putorius',\n",
    " 359: 'black-footed ferret, ferret, Mustela nigripes',\n",
    " 360: 'otter',\n",
    " 361: 'skunk, polecat, wood pussy',\n",
    " 362: 'badger',\n",
    " 363: 'armadillo',\n",
    " 364: 'three-toed sloth, ai, Bradypus tridactylus',\n",
    " 365: 'orangutan, orang, orangutang, Pongo pygmaeus',\n",
    " 366: 'gorilla, Gorilla gorilla',\n",
    " 367: 'chimpanzee, chimp, Pan troglodytes',\n",
    " 368: 'gibbon, Hylobates lar',\n",
    " 369: 'siamang, Hylobates syndactylus, Symphalangus syndactylus',\n",
    " 370: 'guenon, guenon monkey',\n",
    " 371: 'patas, hussar monkey, Erythrocebus patas',\n",
    " 372: 'baboon',\n",
    " 373: 'macaque',\n",
    " 374: 'langur',\n",
    " 375: 'colobus, colobus monkey',\n",
    " 376: 'proboscis monkey, Nasalis larvatus',\n",
    " 377: 'marmoset',\n",
    " 378: 'capuchin, ringtail, Cebus capucinus',\n",
    " 379: 'howler monkey, howler',\n",
    " 380: 'titi, titi monkey',\n",
    " 381: 'spider monkey, Ateles geoffroyi',\n",
    " 382: 'squirrel monkey, Saimiri sciureus',\n",
    " 383: 'Madagascar cat, ring-tailed lemur, Lemur catta',\n",
    " 384: 'indri, indris, Indri indri, Indri brevicaudatus',\n",
    " 385: 'Indian elephant, Elephas maximus',\n",
    " 386: 'African elephant, Loxodonta africana',\n",
    " 387: 'lesser panda, red panda, panda, bear cat, cat bear, Ailurus fulgens',\n",
    " 388: 'giant panda, panda, panda bear, coon bear, Ailuropoda melanoleuca',\n",
    " 389: 'barracouta, snoek',\n",
    " 390: 'eel',\n",
    " 391: 'coho, cohoe, coho salmon, blue jack, silver salmon, Oncorhynchus kisutch',\n",
    " 392: 'rock beauty, Holocanthus tricolor',\n",
    " 393: 'anemone fish',\n",
    " 394: 'sturgeon',\n",
    " 395: 'gar, garfish, garpike, billfish, Lepisosteus osseus',\n",
    " 396: 'lionfish',\n",
    " 397: 'puffer, pufferfish, blowfish, globefish',\n",
    " 398: 'abacus',\n",
    " 399: 'abaya',\n",
    " 400: \"academic gown, academic robe, judge's robe\",\n",
    " 401: 'accordion, piano accordion, squeeze box',\n",
    " 402: 'acoustic guitar',\n",
    " 403: 'aircraft carrier, carrier, flattop, attack aircraft carrier',\n",
    " 404: 'airliner',\n",
    " 405: 'airship, dirigible',\n",
    " 406: 'altar',\n",
    " 407: 'ambulance',\n",
    " 408: 'amphibian, amphibious vehicle',\n",
    " 409: 'analog clock',\n",
    " 410: 'apiary, bee house',\n",
    " 411: 'apron',\n",
    " 412: 'ashcan, trash can, garbage can, wastebin, ash bin, ash-bin, ashbin, dustbin, trash barrel, trash bin',\n",
    " 413: 'assault rifle, assault gun',\n",
    " 414: 'backpack, back pack, knapsack, packsack, rucksack, haversack',\n",
    " 415: 'bakery, bakeshop, bakehouse',\n",
    " 416: 'balance beam, beam',\n",
    " 417: 'balloon',\n",
    " 418: 'ballpoint, ballpoint pen, ballpen, Biro',\n",
    " 419: 'Band Aid',\n",
    " 420: 'banjo',\n",
    " 421: 'bannister, banister, balustrade, balusters, handrail',\n",
    " 422: 'barbell',\n",
    " 423: 'barber chair',\n",
    " 424: 'barbershop',\n",
    " 425: 'barn',\n",
    " 426: 'barometer',\n",
    " 427: 'barrel, cask',\n",
    " 428: 'barrow, garden cart, lawn cart, wheelbarrow',\n",
    " 429: 'baseball',\n",
    " 430: 'basketball',\n",
    " 431: 'bassinet',\n",
    " 432: 'bassoon',\n",
    " 433: 'bathing cap, swimming cap',\n",
    " 434: 'bath towel',\n",
    " 435: 'bathtub, bathing tub, bath, tub',\n",
    " 436: 'beach wagon, station wagon, wagon, estate car, beach waggon, station waggon, waggon',\n",
    " 437: 'beacon, lighthouse, beacon light, pharos',\n",
    " 438: 'beaker',\n",
    " 439: 'bearskin, busby, shako',\n",
    " 440: 'beer bottle',\n",
    " 441: 'beer glass',\n",
    " 442: 'bell cote, bell cot',\n",
    " 443: 'bib',\n",
    " 444: 'bicycle-built-for-two, tandem bicycle, tandem',\n",
    " 445: 'bikini, two-piece',\n",
    " 446: 'binder, ring-binder',\n",
    " 447: 'binoculars, field glasses, opera glasses',\n",
    " 448: 'birdhouse',\n",
    " 449: 'boathouse',\n",
    " 450: 'bobsled, bobsleigh, bob',\n",
    " 451: 'bolo tie, bolo, bola tie, bola',\n",
    " 452: 'bonnet, poke bonnet',\n",
    " 453: 'bookcase',\n",
    " 454: 'bookshop, bookstore, bookstall',\n",
    " 455: 'bottlecap',\n",
    " 456: 'bow',\n",
    " 457: 'bow tie, bow-tie, bowtie',\n",
    " 458: 'brass, memorial tablet, plaque',\n",
    " 459: 'brassiere, bra, bandeau',\n",
    " 460: 'breakwater, groin, groyne, mole, bulwark, seawall, jetty',\n",
    " 461: 'breastplate, aegis, egis',\n",
    " 462: 'broom',\n",
    " 463: 'bucket, pail',\n",
    " 464: 'buckle',\n",
    " 465: 'bulletproof vest',\n",
    " 466: 'bullet train, bullet',\n",
    " 467: 'butcher shop, meat market',\n",
    " 468: 'cab, hack, taxi, taxicab',\n",
    " 469: 'caldron, cauldron',\n",
    " 470: 'candle, taper, wax light',\n",
    " 471: 'cannon',\n",
    " 472: 'canoe',\n",
    " 473: 'can opener, tin opener',\n",
    " 474: 'cardigan',\n",
    " 475: 'car mirror',\n",
    " 476: 'carousel, carrousel, merry-go-round, roundabout, whirligig',\n",
    " 477: \"carpenter's kit, tool kit\",\n",
    " 478: 'carton',\n",
    " 479: 'car wheel',\n",
    " 480: 'cash machine, cash dispenser, automated teller machine, automatic teller machine, automated teller, automatic teller, ATM',\n",
    " 481: 'cassette',\n",
    " 482: 'cassette player',\n",
    " 483: 'castle',\n",
    " 484: 'catamaran',\n",
    " 485: 'CD player',\n",
    " 486: 'cello, violoncello',\n",
    " 487: 'cellular telephone, cellular phone, cellphone, cell, mobile phone',\n",
    " 488: 'chain',\n",
    " 489: 'chainlink fence',\n",
    " 490: 'chain mail, ring mail, mail, chain armor, chain armour, ring armor, ring armour',\n",
    " 491: 'chain saw, chainsaw',\n",
    " 492: 'chest',\n",
    " 493: 'chiffonier, commode',\n",
    " 494: 'chime, bell, gong',\n",
    " 495: 'china cabinet, china closet',\n",
    " 496: 'Christmas stocking',\n",
    " 497: 'church, church building',\n",
    " 498: 'cinema, movie theater, movie theatre, movie house, picture palace',\n",
    " 499: 'cleaver, meat cleaver, chopper',\n",
    " 500: 'cliff dwelling',\n",
    " 501: 'cloak',\n",
    " 502: 'clog, geta, patten, sabot',\n",
    " 503: 'cocktail shaker',\n",
    " 504: 'coffee mug',\n",
    " 505: 'coffeepot',\n",
    " 506: 'coil, spiral, volute, whorl, helix',\n",
    " 507: 'combination lock',\n",
    " 508: 'computer keyboard, keypad',\n",
    " 509: 'confectionery, confectionary, candy store',\n",
    " 510: 'container ship, containership, container vessel',\n",
    " 511: 'convertible',\n",
    " 512: 'corkscrew, bottle screw',\n",
    " 513: 'cornet, horn, trumpet, trump',\n",
    " 514: 'cowboy boot',\n",
    " 515: 'cowboy hat, ten-gallon hat',\n",
    " 516: 'cradle',\n",
    " 517: 'crane',\n",
    " 518: 'crash helmet',\n",
    " 519: 'crate',\n",
    " 520: 'crib, cot',\n",
    " 521: 'Crock Pot',\n",
    " 522: 'croquet ball',\n",
    " 523: 'crutch',\n",
    " 524: 'cuirass',\n",
    " 525: 'dam, dike, dyke',\n",
    " 526: 'desk',\n",
    " 527: 'desktop computer',\n",
    " 528: 'dial telephone, dial phone',\n",
    " 529: 'diaper, nappy, napkin',\n",
    " 530: 'digital clock',\n",
    " 531: 'digital watch',\n",
    " 532: 'dining table, board',\n",
    " 533: 'dishrag, dishcloth',\n",
    " 534: 'dishwasher, dish washer, dishwashing machine',\n",
    " 535: 'disk brake, disc brake',\n",
    " 536: 'dock, dockage, docking facility',\n",
    " 537: 'dogsled, dog sled, dog sleigh',\n",
    " 538: 'dome',\n",
    " 539: 'doormat, welcome mat',\n",
    " 540: 'drilling platform, offshore rig',\n",
    " 541: 'drum, membranophone, tympan',\n",
    " 542: 'drumstick',\n",
    " 543: 'dumbbell',\n",
    " 544: 'Dutch oven',\n",
    " 545: 'electric fan, blower',\n",
    " 546: 'electric guitar',\n",
    " 547: 'electric locomotive',\n",
    " 548: 'entertainment center',\n",
    " 549: 'envelope',\n",
    " 550: 'espresso maker',\n",
    " 551: 'face powder',\n",
    " 552: 'feather boa, boa',\n",
    " 553: 'file, file cabinet, filing cabinet',\n",
    " 554: 'fireboat',\n",
    " 555: 'fire engine, fire truck',\n",
    " 556: 'fire screen, fireguard',\n",
    " 557: 'flagpole, flagstaff',\n",
    " 558: 'flute, transverse flute',\n",
    " 559: 'folding chair',\n",
    " 560: 'football helmet',\n",
    " 561: 'forklift',\n",
    " 562: 'fountain',\n",
    " 563: 'fountain pen',\n",
    " 564: 'four-poster',\n",
    " 565: 'freight car',\n",
    " 566: 'French horn, horn',\n",
    " 567: 'frying pan, frypan, skillet',\n",
    " 568: 'fur coat',\n",
    " 569: 'garbage truck, dustcart',\n",
    " 570: 'gasmask, respirator, gas helmet',\n",
    " 571: 'gas pump, gasoline pump, petrol pump, island dispenser',\n",
    " 572: 'goblet',\n",
    " 573: 'go-kart',\n",
    " 574: 'golf ball',\n",
    " 575: 'golfcart, golf cart',\n",
    " 576: 'gondola',\n",
    " 577: 'gong, tam-tam',\n",
    " 578: 'gown',\n",
    " 579: 'grand piano, grand',\n",
    " 580: 'greenhouse, nursery, glasshouse',\n",
    " 581: 'grille, radiator grille',\n",
    " 582: 'grocery store, grocery, food market, market',\n",
    " 583: 'guillotine',\n",
    " 584: 'hair slide',\n",
    " 585: 'hair spray',\n",
    " 586: 'half track',\n",
    " 587: 'hammer',\n",
    " 588: 'hamper',\n",
    " 589: 'hand blower, blow dryer, blow drier, hair dryer, hair drier',\n",
    " 590: 'hand-held computer, hand-held microcomputer',\n",
    " 591: 'handkerchief, hankie, hanky, hankey',\n",
    " 592: 'hard disc, hard disk, fixed disk',\n",
    " 593: 'harmonica, mouth organ, harp, mouth harp',\n",
    " 594: 'harp',\n",
    " 595: 'harvester, reaper',\n",
    " 596: 'hatchet',\n",
    " 597: 'holster',\n",
    " 598: 'home theater, home theatre',\n",
    " 599: 'honeycomb',\n",
    " 600: 'hook, claw',\n",
    " 601: 'hoopskirt, crinoline',\n",
    " 602: 'horizontal bar, high bar',\n",
    " 603: 'horse cart, horse-cart',\n",
    " 604: 'hourglass',\n",
    " 605: 'iPod',\n",
    " 606: 'iron, smoothing iron',\n",
    " 607: \"jack-o'-lantern\",\n",
    " 608: 'jean, blue jean, denim',\n",
    " 609: 'jeep, landrover',\n",
    " 610: 'jersey, T-shirt, tee shirt',\n",
    " 611: 'jigsaw puzzle',\n",
    " 612: 'jinrikisha, ricksha, rickshaw',\n",
    " 613: 'joystick',\n",
    " 614: 'kimono',\n",
    " 615: 'knee pad',\n",
    " 616: 'knot',\n",
    " 617: 'lab coat, laboratory coat',\n",
    " 618: 'ladle',\n",
    " 619: 'lampshade, lamp shade',\n",
    " 620: 'laptop, laptop computer',\n",
    " 621: 'lawn mower, mower',\n",
    " 622: 'lens cap, lens cover',\n",
    " 623: 'letter opener, paper knife, paperknife',\n",
    " 624: 'library',\n",
    " 625: 'lifeboat',\n",
    " 626: 'lighter, light, igniter, ignitor',\n",
    " 627: 'limousine, limo',\n",
    " 628: 'liner, ocean liner',\n",
    " 629: 'lipstick, lip rouge',\n",
    " 630: 'Loafer',\n",
    " 631: 'lotion',\n",
    " 632: 'loudspeaker, speaker, speaker unit, loudspeaker system, speaker system',\n",
    " 633: \"loupe, jeweler's loupe\",\n",
    " 634: 'lumbermill, sawmill',\n",
    " 635: 'magnetic compass',\n",
    " 636: 'mailbag, postbag',\n",
    " 637: 'mailbox, letter box',\n",
    " 638: 'maillot',\n",
    " 639: 'maillot, tank suit',\n",
    " 640: 'manhole cover',\n",
    " 641: 'maraca',\n",
    " 642: 'marimba, xylophone',\n",
    " 643: 'mask',\n",
    " 644: 'matchstick',\n",
    " 645: 'maypole',\n",
    " 646: 'maze, labyrinth',\n",
    " 647: 'measuring cup',\n",
    " 648: 'medicine chest, medicine cabinet',\n",
    " 649: 'megalith, megalithic structure',\n",
    " 650: 'microphone, mike',\n",
    " 651: 'microwave, microwave oven',\n",
    " 652: 'military uniform',\n",
    " 653: 'milk can',\n",
    " 654: 'minibus',\n",
    " 655: 'miniskirt, mini',\n",
    " 656: 'minivan',\n",
    " 657: 'missile',\n",
    " 658: 'mitten',\n",
    " 659: 'mixing bowl',\n",
    " 660: 'mobile home, manufactured home',\n",
    " 661: 'Model T',\n",
    " 662: 'modem',\n",
    " 663: 'monastery',\n",
    " 664: 'monitor',\n",
    " 665: 'moped',\n",
    " 666: 'mortar',\n",
    " 667: 'mortarboard',\n",
    " 668: 'mosque',\n",
    " 669: 'mosquito net',\n",
    " 670: 'motor scooter, scooter',\n",
    " 671: 'mountain bike, all-terrain bike, off-roader',\n",
    " 672: 'mountain tent',\n",
    " 673: 'mouse, computer mouse',\n",
    " 674: 'mousetrap',\n",
    " 675: 'moving van',\n",
    " 676: 'muzzle',\n",
    " 677: 'nail',\n",
    " 678: 'neck brace',\n",
    " 679: 'necklace',\n",
    " 680: 'nipple',\n",
    " 681: 'notebook, notebook computer',\n",
    " 682: 'obelisk',\n",
    " 683: 'oboe, hautboy, hautbois',\n",
    " 684: 'ocarina, sweet potato',\n",
    " 685: 'odometer, hodometer, mileometer, milometer',\n",
    " 686: 'oil filter',\n",
    " 687: 'organ, pipe organ',\n",
    " 688: 'oscilloscope, scope, cathode-ray oscilloscope, CRO',\n",
    " 689: 'overskirt',\n",
    " 690: 'oxcart',\n",
    " 691: 'oxygen mask',\n",
    " 692: 'packet',\n",
    " 693: 'paddle, boat paddle',\n",
    " 694: 'paddlewheel, paddle wheel',\n",
    " 695: 'padlock',\n",
    " 696: 'paintbrush',\n",
    " 697: \"pajama, pyjama, pj's, jammies\",\n",
    " 698: 'palace',\n",
    " 699: 'panpipe, pandean pipe, syrinx',\n",
    " 700: 'paper towel',\n",
    " 701: 'parachute, chute',\n",
    " 702: 'parallel bars, bars',\n",
    " 703: 'park bench',\n",
    " 704: 'parking meter',\n",
    " 705: 'passenger car, coach, carriage',\n",
    " 706: 'patio, terrace',\n",
    " 707: 'pay-phone, pay-station',\n",
    " 708: 'pedestal, plinth, footstall',\n",
    " 709: 'pencil box, pencil case',\n",
    " 710: 'pencil sharpener',\n",
    " 711: 'perfume, essence',\n",
    " 712: 'Petri dish',\n",
    " 713: 'photocopier',\n",
    " 714: 'pick, plectrum, plectron',\n",
    " 715: 'pickelhaube',\n",
    " 716: 'picket fence, paling',\n",
    " 717: 'pickup, pickup truck',\n",
    " 718: 'pier',\n",
    " 719: 'piggy bank, penny bank',\n",
    " 720: 'pill bottle',\n",
    " 721: 'pillow',\n",
    " 722: 'ping-pong ball',\n",
    " 723: 'pinwheel',\n",
    " 724: 'pirate, pirate ship',\n",
    " 725: 'pitcher, ewer',\n",
    " 726: \"plane, carpenter's plane, woodworking plane\",\n",
    " 727: 'planetarium',\n",
    " 728: 'plastic bag',\n",
    " 729: 'plate rack',\n",
    " 730: 'plow, plough',\n",
    " 731: \"plunger, plumber's helper\",\n",
    " 732: 'Polaroid camera, Polaroid Land camera',\n",
    " 733: 'pole',\n",
    " 734: 'police van, police wagon, paddy wagon, patrol wagon, wagon, black Maria',\n",
    " 735: 'poncho',\n",
    " 736: 'pool table, billiard table, snooker table',\n",
    " 737: 'pop bottle, soda bottle',\n",
    " 738: 'pot, flowerpot',\n",
    " 739: \"potter's wheel\",\n",
    " 740: 'power drill',\n",
    " 741: 'prayer rug, prayer mat',\n",
    " 742: 'printer',\n",
    " 743: 'prison, prison house',\n",
    " 744: 'projectile, missile',\n",
    " 745: 'projector',\n",
    " 746: 'puck, hockey puck',\n",
    " 747: 'punching bag, punch bag, punching ball, punchball',\n",
    " 748: 'purse',\n",
    " 749: 'quill, quill pen',\n",
    " 750: 'quilt, comforter, comfort, puff',\n",
    " 751: 'racer, race car, racing car',\n",
    " 752: 'racket, racquet',\n",
    " 753: 'radiator',\n",
    " 754: 'radio, wireless',\n",
    " 755: 'radio telescope, radio reflector',\n",
    " 756: 'rain barrel',\n",
    " 757: 'recreational vehicle, RV, R.V.',\n",
    " 758: 'reel',\n",
    " 759: 'reflex camera',\n",
    " 760: 'refrigerator, icebox',\n",
    " 761: 'remote control, remote',\n",
    " 762: 'restaurant, eating house, eating place, eatery',\n",
    " 763: 'revolver, six-gun, six-shooter',\n",
    " 764: 'rifle',\n",
    " 765: 'rocking chair, rocker',\n",
    " 766: 'rotisserie',\n",
    " 767: 'rubber eraser, rubber, pencil eraser',\n",
    " 768: 'rugby ball',\n",
    " 769: 'rule, ruler',\n",
    " 770: 'running shoe',\n",
    " 771: 'safe',\n",
    " 772: 'safety pin',\n",
    " 773: 'saltshaker, salt shaker',\n",
    " 774: 'sandal',\n",
    " 775: 'sarong',\n",
    " 776: 'sax, saxophone',\n",
    " 777: 'scabbard',\n",
    " 778: 'scale, weighing machine',\n",
    " 779: 'school bus',\n",
    " 780: 'schooner',\n",
    " 781: 'scoreboard',\n",
    " 782: 'screen, CRT screen',\n",
    " 783: 'screw',\n",
    " 784: 'screwdriver',\n",
    " 785: 'seat belt, seatbelt',\n",
    " 786: 'sewing machine',\n",
    " 787: 'shield, buckler',\n",
    " 788: 'shoe shop, shoe-shop, shoe store',\n",
    " 789: 'shoji',\n",
    " 790: 'shopping basket',\n",
    " 791: 'shopping cart',\n",
    " 792: 'shovel',\n",
    " 793: 'shower cap',\n",
    " 794: 'shower curtain',\n",
    " 795: 'ski',\n",
    " 796: 'ski mask',\n",
    " 797: 'sleeping bag',\n",
    " 798: 'slide rule, slipstick',\n",
    " 799: 'sliding door',\n",
    " 800: 'slot, one-armed bandit',\n",
    " 801: 'snorkel',\n",
    " 802: 'snowmobile',\n",
    " 803: 'snowplow, snowplough',\n",
    " 804: 'soap dispenser',\n",
    " 805: 'soccer ball',\n",
    " 806: 'sock',\n",
    " 807: 'solar dish, solar collector, solar furnace',\n",
    " 808: 'sombrero',\n",
    " 809: 'soup bowl',\n",
    " 810: 'space bar',\n",
    " 811: 'space heater',\n",
    " 812: 'space shuttle',\n",
    " 813: 'spatula',\n",
    " 814: 'speedboat',\n",
    " 815: \"spider web, spider's web\",\n",
    " 816: 'spindle',\n",
    " 817: 'sports car, sport car',\n",
    " 818: 'spotlight, spot',\n",
    " 819: 'stage',\n",
    " 820: 'steam locomotive',\n",
    " 821: 'steel arch bridge',\n",
    " 822: 'steel drum',\n",
    " 823: 'stethoscope',\n",
    " 824: 'stole',\n",
    " 825: 'stone wall',\n",
    " 826: 'stopwatch, stop watch',\n",
    " 827: 'stove',\n",
    " 828: 'strainer',\n",
    " 829: 'streetcar, tram, tramcar, trolley, trolley car',\n",
    " 830: 'stretcher',\n",
    " 831: 'studio couch, day bed',\n",
    " 832: 'stupa, tope',\n",
    " 833: 'submarine, pigboat, sub, U-boat',\n",
    " 834: 'suit, suit of clothes',\n",
    " 835: 'sundial',\n",
    " 836: 'sunglass',\n",
    " 837: 'sunglasses, dark glasses, shades',\n",
    " 838: 'sunscreen, sunblock, sun blocker',\n",
    " 839: 'suspension bridge',\n",
    " 840: 'swab, swob, mop',\n",
    " 841: 'sweatshirt',\n",
    " 842: 'swimming trunks, bathing trunks',\n",
    " 843: 'swing',\n",
    " 844: 'switch, electric switch, electrical switch',\n",
    " 845: 'syringe',\n",
    " 846: 'table lamp',\n",
    " 847: 'tank, army tank, armored combat vehicle, armoured combat vehicle',\n",
    " 848: 'tape player',\n",
    " 849: 'teapot',\n",
    " 850: 'teddy, teddy bear',\n",
    " 851: 'television, television system',\n",
    " 852: 'tennis ball',\n",
    " 853: 'thatch, thatched roof',\n",
    " 854: 'theater curtain, theatre curtain',\n",
    " 855: 'thimble',\n",
    " 856: 'thresher, thrasher, threshing machine',\n",
    " 857: 'throne',\n",
    " 858: 'tile roof',\n",
    " 859: 'toaster',\n",
    " 860: 'tobacco shop, tobacconist shop, tobacconist',\n",
    " 861: 'toilet seat',\n",
    " 862: 'torch',\n",
    " 863: 'totem pole',\n",
    " 864: 'tow truck, tow car, wrecker',\n",
    " 865: 'toyshop',\n",
    " 866: 'tractor',\n",
    " 867: 'trailer truck, tractor trailer, trucking rig, rig, articulated lorry, semi',\n",
    " 868: 'tray',\n",
    " 869: 'trench coat',\n",
    " 870: 'tricycle, trike, velocipede',\n",
    " 871: 'trimaran',\n",
    " 872: 'tripod',\n",
    " 873: 'triumphal arch',\n",
    " 874: 'trolleybus, trolley coach, trackless trolley',\n",
    " 875: 'trombone',\n",
    " 876: 'tub, vat',\n",
    " 877: 'turnstile',\n",
    " 878: 'typewriter keyboard',\n",
    " 879: 'umbrella',\n",
    " 880: 'unicycle, monocycle',\n",
    " 881: 'upright, upright piano',\n",
    " 882: 'vacuum, vacuum cleaner',\n",
    " 883: 'vase',\n",
    " 884: 'vault',\n",
    " 885: 'velvet',\n",
    " 886: 'vending machine',\n",
    " 887: 'vestment',\n",
    " 888: 'viaduct',\n",
    " 889: 'violin, fiddle',\n",
    " 890: 'volleyball',\n",
    " 891: 'waffle iron',\n",
    " 892: 'wall clock',\n",
    " 893: 'wallet, billfold, notecase, pocketbook',\n",
    " 894: 'wardrobe, closet, press',\n",
    " 895: 'warplane, military plane',\n",
    " 896: 'washbasin, handbasin, washbowl, lavabo, wash-hand basin',\n",
    " 897: 'washer, automatic washer, washing machine',\n",
    " 898: 'water bottle',\n",
    " 899: 'water jug',\n",
    " 900: 'water tower',\n",
    " 901: 'whiskey jug',\n",
    " 902: 'whistle',\n",
    " 903: 'wig',\n",
    " 904: 'window screen',\n",
    " 905: 'window shade',\n",
    " 906: 'Windsor tie',\n",
    " 907: 'wine bottle',\n",
    " 908: 'wing',\n",
    " 909: 'wok',\n",
    " 910: 'wooden spoon',\n",
    " 911: 'wool, woolen, woollen',\n",
    " 912: 'worm fence, snake fence, snake-rail fence, Virginia fence',\n",
    " 913: 'wreck',\n",
    " 914: 'yawl',\n",
    " 915: 'yurt',\n",
    " 916: 'web site, website, internet site, site',\n",
    " 917: 'comic book',\n",
    " 918: 'crossword puzzle, crossword',\n",
    " 919: 'street sign',\n",
    " 920: 'traffic light, traffic signal, stoplight',\n",
    " 921: 'book jacket, dust cover, dust jacket, dust wrapper',\n",
    " 922: 'menu',\n",
    " 923: 'plate',\n",
    " 924: 'guacamole',\n",
    " 925: 'consomme',\n",
    " 926: 'hot pot, hotpot',\n",
    " 927: 'trifle',\n",
    " 928: 'ice cream, icecream',\n",
    " 929: 'ice lolly, lolly, lollipop, popsicle',\n",
    " 930: 'French loaf',\n",
    " 931: 'bagel, beigel',\n",
    " 932: 'pretzel',\n",
    " 933: 'cheeseburger',\n",
    " 934: 'hotdog, hot dog, red hot',\n",
    " 935: 'mashed potato',\n",
    " 936: 'head cabbage',\n",
    " 937: 'broccoli',\n",
    " 938: 'cauliflower',\n",
    " 939: 'zucchini, courgette',\n",
    " 940: 'spaghetti squash',\n",
    " 941: 'acorn squash',\n",
    " 942: 'butternut squash',\n",
    " 943: 'cucumber, cuke',\n",
    " 944: 'artichoke, globe artichoke',\n",
    " 945: 'bell pepper',\n",
    " 946: 'cardoon',\n",
    " 947: 'mushroom',\n",
    " 948: 'Granny Smith',\n",
    " 949: 'strawberry',\n",
    " 950: 'orange',\n",
    " 951: 'lemon',\n",
    " 952: 'fig',\n",
    " 953: 'pineapple, ananas',\n",
    " 954: 'banana',\n",
    " 955: 'jackfruit, jak, jack',\n",
    " 956: 'custard apple',\n",
    " 957: 'pomegranate',\n",
    " 958: 'hay',\n",
    " 959: 'carbonara',\n",
    " 960: 'chocolate sauce, chocolate syrup',\n",
    " 961: 'dough',\n",
    " 962: 'meat loaf, meatloaf',\n",
    " 963: 'pizza, pizza pie',\n",
    " 964: 'potpie',\n",
    " 965: 'burrito',\n",
    " 966: 'red wine',\n",
    " 967: 'espresso',\n",
    " 968: 'cup',\n",
    " 969: 'eggnog',\n",
    " 970: 'alp',\n",
    " 971: 'bubble',\n",
    " 972: 'cliff, drop, drop-off',\n",
    " 973: 'coral reef',\n",
    " 974: 'geyser',\n",
    " 975: 'lakeside, lakeshore',\n",
    " 976: 'promontory, headland, head, foreland',\n",
    " 977: 'sandbar, sand bar',\n",
    " 978: 'seashore, coast, seacoast, sea-coast',\n",
    " 979: 'valley, vale',\n",
    " 980: 'volcano',\n",
    " 981: 'ballplayer, baseball player',\n",
    " 982: 'groom, bridegroom',\n",
    " 983: 'scuba diver',\n",
    " 984: 'rapeseed',\n",
    " 985: 'daisy',\n",
    " 986: \"yellow lady's slipper, yellow lady-slipper, Cypripedium calceolus, Cypripedium parviflorum\",\n",
    " 987: 'corn',\n",
    " 988: 'acorn',\n",
    " 989: 'hip, rose hip, rosehip',\n",
    " 990: 'buckeye, horse chestnut, conker',\n",
    " 991: 'coral fungus',\n",
    " 992: 'agaric',\n",
    " 993: 'gyromitra',\n",
    " 994: 'stinkhorn, carrion fungus',\n",
    " 995: 'earthstar',\n",
    " 996: 'hen-of-the-woods, hen of the woods, Polyporus frondosus, Grifola frondosa',\n",
    " 997: 'bolete',\n",
    " 998: 'ear, spike, capitulum',\n",
    " 999: 'toilet tissue, toilet paper, bathroom tissue'}"
   ]
  },
  {
   "cell_type": "markdown",
   "metadata": {},
   "source": [
    "##  Map Imagenette Labels to Imagenet Labels\n"
   ]
  },
  {
   "cell_type": "code",
   "execution_count": null,
   "metadata": {
    "cellView": "form",
    "execution": {},
    "tags": [
     "hide-input"
    ]
   },
   "outputs": [],
   "source": [
    "# @title Map Imagenette Labels to Imagenet Labels\n",
    "dir_to_imagenet_index = {\n",
    "    'n03888257': 1,\n",
    "    'n03425413': 571,\n",
    "    'n03394916': 566,\n",
    "    'n03000684': 491,\n",
    "    'n02102040': 217,\n",
    "    'n03445777': 574,\n",
    "    'n03417042': 569,\n",
    "    'n03028079': 497,\n",
    "    'n02979186': 482,\n",
    "    'n01440764': 701\n",
    "    }\n",
    "\n",
    "dir_index_to_imagenet_label = {}\n",
    "ordered_dirs = sorted(list(dir_to_imagenet_index.keys()))\n",
    "\n",
    "for dir_index, dir_name in enumerate(ordered_dirs):\n",
    "  dir_index_to_imagenet_label[dir_index] = dir_to_imagenet_index[dir_name]"
   ]
  },
  {
   "cell_type": "markdown",
   "metadata": {},
   "source": [
    "##  Prepare Imagenette Data\n"
   ]
  },
  {
   "cell_type": "code",
   "execution_count": null,
   "metadata": {
    "cellView": "form",
    "execution": {},
    "tags": [
     "hide-input"
    ]
   },
   "outputs": [],
   "source": [
    "# @title Prepare Imagenette Data\n",
    "val_transform = transforms.Compose((transforms.Resize((256, 256)),\n",
    "                                    transforms.ToTensor()))\n",
    "\n",
    "imagenette_val = ImageFolder('imagenette2-320/val', transform=val_transform)\n",
    "\n",
    "train_transform = transforms.Compose((transforms.Resize((256, 256)),\n",
    "                                      transforms.ToTensor()))\n",
    "\n",
    "imagenette_train = ImageFolder('imagenette2-320/train',\n",
    "                               transform=train_transform)\n",
    "random.seed(SEED)\n",
    "random_indices = random.sample(range(len(imagenette_train)), 400)\n",
    "imagenette_train_subset = torch.utils.data.Subset(imagenette_train,\n",
    "                                                  random_indices)\n",
    "\n",
    "\n",
    "\n",
    "\n",
    "# Subset to only one tenth of the data for faster runtime\n",
    "random_indices = random.sample(range(len(imagenette_val)), int(len(imagenette_val) * .1))\n",
    "imagenette_val = torch.utils.data.Subset(imagenette_val, random_indices)"
   ]
  },
  {
   "cell_type": "code",
   "execution_count": null,
   "metadata": {
    "execution": {}
   },
   "outputs": [],
   "source": [
    "# To preserve reproducibility\n",
    "g_seed = torch.Generator()\n",
    "g_seed.manual_seed(SEED)\n",
    "\n",
    "imagenette_train_loader = torch.utils.data.DataLoader(imagenette_train_subset,\n",
    "                                                      batch_size=16,\n",
    "                                                      shuffle=True,\n",
    "                                                      num_workers=2,\n",
    "                                                      worker_init_fn=seed_worker,\n",
    "                                                      generator=g_seed\n",
    "                                                      )\n",
    "\n",
    "imagenette_val_loader = torch.utils.data.DataLoader(imagenette_val,\n",
    "                                                    batch_size=16,\n",
    "                                                    shuffle=False,\n",
    "                                                    num_workers=2,\n",
    "                                                    worker_init_fn=seed_worker,\n",
    "                                                    generator=g_seed)\n",
    "\n",
    "dataiter = iter(imagenette_val_loader)\n",
    "images, labels = dataiter.next()\n",
    "\n",
    "# show images\n",
    "plt.figure(figsize=(8, 8))\n",
    "plt.imshow(make_grid(images, nrow=4).permute(1, 2, 0))\n",
    "plt.axis('off')\n",
    "plt.show()"
   ]
  },
  {
   "cell_type": "markdown",
   "metadata": {},
   "source": [
    "##  eval_imagenette function\n"
   ]
  },
  {
   "cell_type": "code",
   "execution_count": null,
   "metadata": {
    "cellView": "form",
    "execution": {},
    "tags": [
     "hide-input"
    ]
   },
   "outputs": [],
   "source": [
    "# @title eval_imagenette function\n",
    "def eval_imagenette(resnet, data_loader, dataset_length):\n",
    "  resnet.eval()\n",
    "  with torch.no_grad():\n",
    "    loss_sum = 0\n",
    "    total_1_correct = 0\n",
    "    total_5_correct = 0\n",
    "    total = dataset_length\n",
    "    for batch in tqdm.notebook.tqdm(data_loader):\n",
    "      images, labels = batch\n",
    "\n",
    "      # Map the imagenette labels onto the network's output\n",
    "      for i, label in enumerate(labels):\n",
    "          labels[i] = dir_index_to_imagenet_label[label.item()]\n",
    "\n",
    "      images = images.to(DEVICE)\n",
    "      labels = labels.to(DEVICE)\n",
    "      output = resnet(images)\n",
    "\n",
    "      # Calculate top-5 accuracy\n",
    "      # Implementation from https://github.com/bearpaw/pytorch-classification/blob/cc9106d598ff1fe375cc030873ceacfea0499d77/utils/eval.py\n",
    "      batch_size = labels.size(0)\n",
    "\n",
    "      _, predictions = output.topk(5, 1, True, True)\n",
    "      predictions = predictions.t()\n",
    "\n",
    "      top_k_correct = predictions.eq(labels.view(1, -1).expand_as(predictions))\n",
    "      top_k_correct = top_k_correct.sum()\n",
    "\n",
    "      predictions = torch.argmax(output, dim=1)\n",
    "      top_1_correct = torch.sum(predictions == labels)\n",
    "      total_1_correct += top_1_correct\n",
    "      total_5_correct += top_k_correct\n",
    "\n",
    "    top_1_acc = total_1_correct / total\n",
    "    top_5_acc = total_5_correct / total\n",
    "\n",
    "    return top_1_acc, top_5_acc"
   ]
  },
  {
   "cell_type": "markdown",
   "metadata": {},
   "source": [
    "##  Imagenette Train Loop\n"
   ]
  },
  {
   "cell_type": "code",
   "execution_count": null,
   "metadata": {
    "cellView": "form",
    "execution": {},
    "tags": [
     "hide-input"
    ]
   },
   "outputs": [],
   "source": [
    "# @title Imagenette Train Loop\n",
    "\n",
    "def imagenette_train_loop(model, optimizer, train_loader, loss_fn):\n",
    "  for epoch in tqdm.notebook.tqdm(range(5)):\n",
    "    # Set model to use the imagenette classifier head\n",
    "    model.train()\n",
    "    # Train on a batch of images\n",
    "    for imagenette_batch in train_loader:\n",
    "      images, labels = imagenette_batch\n",
    "\n",
    "      # Convert labels from imagenette indices to imagenet labels\n",
    "      for i, label in enumerate(labels):\n",
    "        labels[i] = dir_index_to_imagenet_label[label.item()]\n",
    "\n",
    "      images = images.to(DEVICE)\n",
    "      labels = labels.to(DEVICE)\n",
    "      output = model(images)\n",
    "      optimizer.zero_grad()\n",
    "      loss = loss_fn(output, labels)\n",
    "      loss.backward()\n",
    "      optimizer.step()\n",
    "\n",
    "  return model"
   ]
  },
  {
   "cell_type": "markdown",
   "metadata": {
    "execution": {}
   },
   "source": [
    "This cell creates a ResNet model pretrained on [ImageNet](http://www.image-net.org/), a 1000 class image prediction dataset. The model is then trained to make predictions on [Imagenette](https://github.com/fastai/imagenette), a small subset of ImageNet classes that is useful for demonstrations and prototyping."
   ]
  },
  {
   "cell_type": "code",
   "execution_count": null,
   "metadata": {
    "execution": {}
   },
   "outputs": [],
   "source": [
    "# Original network\n",
    "top_1_accuracies = []\n",
    "top_5_accuracies = []\n",
    "\n",
    "# Instantiate a pretrained resnet model\n",
    "set_seed(seed=SEED)\n",
    "resnet = torchvision.models.resnet18(pretrained=True).to(DEVICE)\n",
    "resnet_opt = torch.optim.Adam(resnet.parameters(), lr=1e-4)\n",
    "loss_fn = nn.CrossEntropyLoss()\n",
    "\n",
    "imagenette_train_loop(resnet,\n",
    "                      resnet_opt,\n",
    "                      imagenette_train_loader,\n",
    "                      loss_fn)\n",
    "\n",
    "top_1_acc, top_5_acc = eval_imagenette(resnet,\n",
    "                                       imagenette_val_loader,\n",
    "                                       len(imagenette_val))\n",
    "top_1_accuracies.append(top_1_acc.item())\n",
    "top_5_accuracies.append(top_5_acc.item())"
   ]
  },
  {
   "cell_type": "markdown",
   "metadata": {
    "execution": {}
   },
   "source": [
    "## Coding Exercise 4.1: Use the ResNet model\n",
    "\n",
    "Complete the function below that runs a batch of images through the trained ResNet and returns the Top 5 class predictions and their probabilities. Note that the ResNet model returns unnormalized logits$^\\dagger$. To obtain probabilities, you need to normalize the logits using softmax.\n",
    "\n",
    "<br>\n",
    "\n",
    "$^\\dagger$ $ \\text{logit}(p) = \\sigma^{-1}(p) = \\text{log} \\left( \\frac{p}{1-p} \\right), \\, \\text{for} \\, p \\in (0,1)$, where $\\sigma(\\cdot)$ is the sigmoid function, i.e., $\\sigma(z) = 1/(1+e^{-z})$. For more information see [here](http://machinelearningmechanic.com/deep_learning/2019/09/04/cross-entropy-loss-derivative.html)."
   ]
  },
  {
   "cell_type": "code",
   "execution_count": null,
   "metadata": {
    "execution": {}
   },
   "outputs": [],
   "source": [
    "def predict_top5(images, device):\n",
    "  \"\"\"\n",
    "  Args:\n",
    "    images: torch Tensor with dimensionality B x C x H x W\n",
    "      (batch size x number of channels x height x width)\n",
    "    device: STRING\n",
    "      `cuda` if GPU is available, else `cpu`.\n",
    "  Output:\n",
    "      top5_probs: torch Tensor (B, 5) with top 5 class probabilities\n",
    "      top5_names: list of top 5 class names (B, 5)\n",
    "  \"\"\"\n",
    "  ####################################################################\n",
    "  # Fill in all missing code below (...),\n",
    "  # then remove or comment the line below to test your function\n",
    "  raise NotImplementedError(\"Predict top 5\")\n",
    "  ####################################################################\n",
    "\n",
    "  B = images.size(0)\n",
    "  with torch.no_grad():\n",
    "    # Run images through model\n",
    "    images = ...\n",
    "    output = ...\n",
    "    # The model output is unnormalized. To get probabilities, run a softmax on it.\n",
    "    probs = ...\n",
    "    # Fetch output from GPU and convert to numpy array\n",
    "    probs = ...\n",
    "\n",
    "  # Get top 5 predictions\n",
    "  _, top5_idcs = output.topk(5, 1, True, True)\n",
    "  top5_idcs = top5_idcs.t().cpu().numpy()\n",
    "  top5_probs = probs[torch.arange(B), top5_idcs]\n",
    "\n",
    "  # Convert indices to class names\n",
    "  top5_names = []\n",
    "  for b in range(B):\n",
    "    temp = [dict_map[key].split(',')[0] for key in top5_idcs[:,b]]\n",
    "    top5_names.append(temp)\n",
    "\n",
    "  return top5_names, top5_probs\n",
    "\n",
    "\n",
    "set_seed(seed=2021)\n",
    "# get batch of images\n",
    "dataiter = iter(imagenette_val_loader)\n",
    "images, labels = dataiter.next()\n",
    "\n",
    "## Uncomment to test your function\n",
    "## retrieve top 5 predictions\n",
    "# top5_names, top5_probs = predict_top5(images, DEVICE)\n",
    "# print(top5_names[1])"
   ]
  },
  {
   "cell_type": "markdown",
   "metadata": {
    "colab_type": "text",
    "execution": {}
   },
   "source": [
    "[*Click for solution*](https://github.com/NeuromatchAcademy/course-content-dl/tree/main//tutorials/W2D2_ModernConvnets/solutions/W2D2_Tutorial1_Solution_726d18d3.py)\n",
    "\n"
   ]
  },
  {
   "cell_type": "markdown",
   "metadata": {
    "execution": {}
   },
   "source": [
    "```\n",
    "Random seed 2021 has been set.\n",
    "['gas pump', 'chain saw', 'French horn', 'rifle', 'forklift']\n",
    "```"
   ]
  },
  {
   "cell_type": "code",
   "execution_count": null,
   "metadata": {
    "execution": {}
   },
   "outputs": [],
   "source": [
    "# visualize probabilities of top 5 predictions\n",
    "fig, ax = plt.subplots(5, 2, figsize=(10, 20))\n",
    "\n",
    "for i in range(5):\n",
    "  ax[i, 0].imshow(np.moveaxis(images[i].numpy(), 0, -1))\n",
    "  ax[i, 0].axis('off')\n",
    "\n",
    "  ax[i, 1].bar(np.arange(5), top5_probs[:, i])\n",
    "  ax[i, 1].set_xticks(np.arange(5))\n",
    "  ax[i, 1].set_xticklabels(top5_names[i], rotation=30)\n",
    "\n",
    "fig.tight_layout()\n",
    "plt.show()"
   ]
  },
  {
   "cell_type": "markdown",
   "metadata": {
    "execution": {}
   },
   "source": [
    "## Out-of-distribution examples"
   ]
  },
  {
   "cell_type": "markdown",
   "metadata": {
    "execution": {}
   },
   "source": [
    "The code below runs two out-of-distribution examples through the trained ResNet. Look at the predictions and discuss, why the model might fail to make accurate predictions on these images. "
   ]
  },
  {
   "cell_type": "code",
   "execution_count": null,
   "metadata": {
    "execution": {}
   },
   "outputs": [],
   "source": [
    "response = requests.get('https://designlooter.com/images/bonsai-svg-5.png')\n",
    "image = Image.open(BytesIO(response.content)).resize((256, 256))\n",
    "data = torch.from_numpy(np.asarray(image)[:, :, :3]) / 255.\n",
    "\n",
    "response = requests.get('https://upload.wikimedia.org/wikipedia/en/a/a6/Pokémon_Pikachu_art.png')\n",
    "image = Image.open(BytesIO(response.content)).resize((256, 256))\n",
    "data2 = torch.from_numpy(np.asarray(image)[:, :, :3]) / 255.\n",
    "\n",
    "images = torch.stack([data, data2]).permute(0, 3, 1, 2)"
   ]
  },
  {
   "cell_type": "code",
   "execution_count": null,
   "metadata": {
    "execution": {}
   },
   "outputs": [],
   "source": [
    "# retrieve top 5 predictions\n",
    "top5_names, top5_probs  = predict_top5(images, DEVICE)"
   ]
  },
  {
   "cell_type": "code",
   "execution_count": null,
   "metadata": {
    "execution": {}
   },
   "outputs": [],
   "source": [
    "# visualize probabilities of top 5 predictions\n",
    "fig, ax = plt.subplots(2, 2, figsize=(10, 10))\n",
    "\n",
    "for i in range(2):\n",
    "  ax[i, 0].imshow(np.moveaxis(images[i].numpy(), 0, -1))\n",
    "  ax[i, 0].axis('off')\n",
    "\n",
    "  ax[i, 1].bar(np.arange(5), top5_probs[:, i])\n",
    "  ax[i, 1].set_xticks(np.arange(5))\n",
    "  ax[i, 1].set_xticklabels(top5_names[i], rotation=30)\n",
    "\n",
    "fig.tight_layout()\n",
    "plt.show()"
   ]
  },
  {
   "cell_type": "markdown",
   "metadata": {
    "execution": {}
   },
   "source": [
    "---\n",
    "# Section 5: Inception + ResNeXt"
   ]
  },
  {
   "cell_type": "markdown",
   "metadata": {},
   "source": [
    "##  Video 5: Improving efficiency: Inceptrion and ResNeXt\n"
   ]
  },
  {
   "cell_type": "code",
   "execution_count": null,
   "metadata": {
    "cellView": "form",
    "execution": {},
    "tags": [
     "remove-input"
    ]
   },
   "outputs": [],
   "source": [
    "# @title Video 5: Improving efficiency: Inceptrion and ResNeXt\n",
    "from ipywidgets import widgets\n",
    "\n",
    "out2 = widgets.Output()\n",
    "with out2:\n",
    "  from IPython.display import IFrame\n",
    "  class BiliVideo(IFrame):\n",
    "    def __init__(self, id, page=1, width=400, height=300, **kwargs):\n",
    "      self.id=id\n",
    "      src = \"https://player.bilibili.com/player.html?bvid={0}&page={1}\".format(id, page)\n",
    "      super(BiliVideo, self).__init__(src, width, height, **kwargs)\n",
    "\n",
    "  video = BiliVideo(id=f\"BV1Zq4y1W7Px\", width=730, height=410, fs=1)\n",
    "  print(\"Video available at https://www.bilibili.com/video/{0}\".format(video.id))\n",
    "  display(video)\n",
    "\n",
    "out1 = widgets.Output()\n",
    "with out1:\n",
    "  from IPython.display import YouTubeVideo\n",
    "  video = YouTubeVideo(id=f\"TDHn7X1wNQ4\", width=730, height=410, fs=1, rel=0)\n",
    "  print(\"Video available at https://youtube.com/watch?v=\" + video.id)\n",
    "  display(video)\n",
    "\n",
    "out = widgets.Tab([out1, out2])\n",
    "out.set_title(0, 'Youtube')\n",
    "out.set_title(1, 'Bilibili')\n",
    "\n",
    "display(out)"
   ]
  },
  {
   "cell_type": "markdown",
   "metadata": {
    "execution": {}
   },
   "source": [
    "[ResNet vs ResNeXt](https://arxiv.org/abs/1611.05431)\n",
    "\n",
    "<img height=300 src=https://paperswithcode.com/media/methods/Screen_Shot_2020-06-06_at_4.32.52_PM_iXtkYE5.png>\n"
   ]
  },
  {
   "cell_type": "markdown",
   "metadata": {
    "execution": {}
   },
   "source": [
    "## Interactive Demo 5: ResNet vs. ResNeXt\n",
    "\n",
    "The widgets below calculate the number of parameters in a ResNet (top) and the parameters in a ResNeXt (bottom). We assume that the number of input and output channels (or feature maps) is the same (labeled \"Channels in+out\" in the widget). We refer to the number of channels after the first and the second layer of one block of either ResNet or ResNeXt as \"bottleneck channels\".\n",
    "\n",
    "The sliders are currently in the position that is displayed in the figure above. The goal of the following tasks is to investigate the difference in expressiveness and numbers of parameters in ResNet and ResNeXt."
   ]
  },
  {
   "cell_type": "markdown",
   "metadata": {},
   "source": [
    "###  Parameter Calculator\n"
   ]
  },
  {
   "cell_type": "markdown",
   "metadata": {},
   "source": [
    " ##### Run this cell to enable the widget\n"
   ]
  },
  {
   "cell_type": "code",
   "execution_count": null,
   "metadata": {
    "cellView": "form",
    "execution": {},
    "tags": [
     "hide-input"
    ]
   },
   "outputs": [],
   "source": [
    "# @title Parameter Calculator\n",
    "# @markdown ##### Run this cell to enable the widget\n",
    "from IPython.display import display as dis\n",
    "\n",
    "def calculate_parameters_resnet(d_in, resnet_channels):\n",
    "    # ResNet math: Implement how parameters scale\n",
    "    d_out = d_in\n",
    "    resnet_parameters = d_in*resnet_channels + 3*3*resnet_channels*resnet_channels + resnet_channels*d_out\n",
    "\n",
    "    print('ResNet parameters: {}'.format(resnet_parameters))\n",
    "    return None\n",
    "\n",
    "\n",
    "def calculate_parameters_resnext(d_in, resnext_channels, num_paths):\n",
    "    # ResNet math: Implement how parameters scale\n",
    "    d_out = d_in\n",
    "    d = resnext_channels\n",
    "\n",
    "    resnext_parameters = (d_in*d + 3*3*d*d + d*d_out)*num_paths\n",
    "\n",
    "    print('ResNeXt parameters: {}'.format(resnext_parameters))\n",
    "    return None\n",
    "\n",
    "\n",
    "labels = ['ResNet', 'ResNeXt']\n",
    "descriptions_resnet = ['Channels in+out', 'Bottleneck channels']\n",
    "descriptions_resnext = ['Channels in+out', 'Bottleneck channels',\n",
    "                        'Number of paths (cardinality)']\n",
    "lbox_resnet = widgets.VBox([widgets.Label(description) for description in descriptions_resnet])\n",
    "lbox_resnext = widgets.VBox([widgets.Label(description) for description in descriptions_resnext])\n",
    "\n",
    "d_in = widgets.FloatLogSlider(\n",
    "    value=256,\n",
    "    base=2,\n",
    "    min=1, # max exponent of base\n",
    "    max=10, # min exponent of base\n",
    "    step=1, # exponent step\n",
    ")\n",
    "resnet_channels = widgets.FloatLogSlider(\n",
    "    value=64,\n",
    "    base=2,\n",
    "    min=5, # max exponent of base\n",
    "    max=10, # min exponent of base\n",
    "    step=1, # exponent step\n",
    ")\n",
    "resnext_channels = widgets.FloatLogSlider(\n",
    "    value=4,\n",
    "    base=2,\n",
    "    min=1, # max exponent of base\n",
    "    max=10, # min exponent of base\n",
    "    step=1, # exponent step\n",
    ")\n",
    "num_paths = widgets.FloatLogSlider(\n",
    "    value=32,\n",
    "    base=2,\n",
    "    min=0, # max exponent of base\n",
    "    max=7, # min exponent of base\n",
    "    step=1, # exponent step\n",
    ")\n",
    "\n",
    "rbox_resnet = widgets.VBox([d_in, resnet_channels])\n",
    "rbox_resnext = widgets.VBox([d_in, resnext_channels, num_paths])\n",
    "ui_resnet = widgets.HBox([lbox_resnet, rbox_resnet])\n",
    "ui_resnet_labeled = widgets.VBox(\n",
    "    [widgets.HTML(value=\"<b>\" + labels[0] + \"</b>\"), ui_resnet],\n",
    "    layout=widgets.Layout(border='1px solid black'))\n",
    "ui_resnext = widgets.HBox([lbox_resnext, rbox_resnext])\n",
    "ui_resnext_labeled = widgets.VBox(\n",
    "    [widgets.HTML(value=\"<b>\" + labels[1] + \"</b>\"), ui_resnext],\n",
    "    layout=widgets.Layout(border='1px solid black'))\n",
    "ui = widgets.VBox([ui_resnet_labeled, ui_resnext_labeled])\n",
    "\n",
    "out_resnet = widgets.interactive_output(calculate_parameters_resnet,\n",
    "                     {'d_in':d_in,\n",
    "                     'resnet_channels':resnet_channels})\n",
    "\n",
    "out_resnext = widgets.interactive_output(calculate_parameters_resnext,\n",
    "                     {'d_in':d_in,\n",
    "                     'resnext_channels':resnext_channels,\n",
    "                     'num_paths':num_paths})\n",
    "\n",
    "d1 = dis(ui, out_resnet, out_resnext)"
   ]
  },
  {
   "cell_type": "markdown",
   "metadata": {
    "execution": {}
   },
   "source": [
    "## Exercise 5: ResNet vs. ResNeXt\n",
    "\n",
    "In the figure above, both networks – ResNet and ResNeXt – have a similar number of parameters. \n",
    "\n",
    "1. How many channels are there in the bottleneck of the two networks, respectively?\n",
    "1. How are these channels connected to each other from the first to the second layer in the blocks of the two networks, respectively? \n",
    "1. What does it mean for the expressiveness of the two models relative to each other?"
   ]
  },
  {
   "cell_type": "markdown",
   "metadata": {
    "colab_type": "text",
    "execution": {}
   },
   "source": [
    "[*Click for solution*](https://github.com/NeuromatchAcademy/course-content-dl/tree/main//tutorials/W2D2_ModernConvnets/solutions/W2D2_Tutorial1_Solution_8cc92376.py)\n",
    "\n"
   ]
  },
  {
   "cell_type": "markdown",
   "metadata": {
    "execution": {}
   },
   "source": [
    "Now we want to look at the number of parameters.\n",
    "* How does the difference in number of parameters change if we fix the number of channels in the bottleneck of both ResNet and ResNeXt to be 64, but vary the number of paths in ResNeXt? (8 paths with 8 channels each would be one such example)\n",
    "* Which number of paths results in the biggest parameter savings?\n"
   ]
  },
  {
   "cell_type": "markdown",
   "metadata": {
    "colab_type": "text",
    "execution": {}
   },
   "source": [
    "[*Click for solution*](https://github.com/NeuromatchAcademy/course-content-dl/tree/main//tutorials/W2D2_ModernConvnets/solutions/W2D2_Tutorial1_Solution_4554ddef.py)\n",
    "\n"
   ]
  },
  {
   "cell_type": "markdown",
   "metadata": {
    "execution": {},
    "nteract": {
     "transient": {
      "deleting": false
     }
    }
   },
   "source": [
    "---\n",
    "# Section 6: Depthwise separable convolutions"
   ]
  },
  {
   "cell_type": "markdown",
   "metadata": {},
   "source": [
    "##  Video 6: Improving efficiency: MobileNet\n"
   ]
  },
  {
   "cell_type": "code",
   "execution_count": null,
   "metadata": {
    "cellView": "form",
    "execution": {},
    "jupyter": {
     "outputs_hidden": false,
     "source_hidden": false
    },
    "nteract": {
     "transient": {
      "deleting": false
     }
    },
    "tags": [
     "remove-input"
    ]
   },
   "outputs": [],
   "source": [
    "# @title Video 6: Improving efficiency: MobileNet\n",
    "from ipywidgets import widgets\n",
    "\n",
    "out2 = widgets.Output()\n",
    "with out2:\n",
    "  from IPython.display import IFrame\n",
    "  class BiliVideo(IFrame):\n",
    "    def __init__(self, id, page=1, width=400, height=300, **kwargs):\n",
    "      self.id=id\n",
    "      src = \"https://player.bilibili.com/player.html?bvid={0}&page={1}\".format(id, page)\n",
    "      super(BiliVideo, self).__init__(src, width, height, **kwargs)\n",
    "\n",
    "  video = BiliVideo(id=f\"BV1D44y127fS\", width=730, height=410, fs=1)\n",
    "  print(\"Video available at https://www.bilibili.com/video/{0}\".format(video.id))\n",
    "  display(video)\n",
    "\n",
    "out1 = widgets.Output()\n",
    "with out1:\n",
    "  from IPython.display import YouTubeVideo\n",
    "  video = YouTubeVideo(id=f\"kdbGpn1JfmU\", width=730, height=410, fs=1, rel=0)\n",
    "  print(\"Video available at https://youtube.com/watch?v=\" + video.id)\n",
    "  display(video)\n",
    "\n",
    "out = widgets.Tab([out1, out2])\n",
    "out.set_title(0, 'Youtube')\n",
    "out.set_title(1, 'Bilibili')\n",
    "\n",
    "display(out)"
   ]
  },
  {
   "cell_type": "markdown",
   "metadata": {
    "execution": {}
   },
   "source": [
    "## Section 6.1: Depthwise separable convolutions\n",
    "\n",
    "Another way to reduce the computational cost of large models is the use of depthwise separable convolutions ([introduced here](https://www.di.ens.fr/data/publications/papers/phd_sifre.pdf)). Depthwise separable convolutions are the key component making [MobileNets](https://arxiv.org/abs/1704.04861) efficient."
   ]
  },
  {
   "cell_type": "markdown",
   "metadata": {
    "execution": {}
   },
   "source": [
    "![image.png](data:image/png;base64,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)"
   ]
  },
  {
   "cell_type": "markdown",
   "metadata": {
    "execution": {}
   },
   "source": [
    "### Coding Exercise 6.1: Calculation of parameters\n",
    "\n",
    "Fill in the calculation of the parameters of regular convolution and depthwise separable convolution in the function below.\n",
    "Above you can see the example given in the video for you to check if your calculation is correct."
   ]
  },
  {
   "cell_type": "code",
   "execution_count": null,
   "metadata": {
    "execution": {}
   },
   "outputs": [],
   "source": [
    "def convolution_math(in_channels, filter_size, out_channels):\n",
    "  \"\"\"\n",
    "  Convolution math: Implement how parameters scale as a function of feature maps\n",
    "  and filter size in convolution vs depthwise separable convolution.\n",
    "\n",
    "  Args:\n",
    "    in_channels : number of input channels\n",
    "    filter_size : size of the filter\n",
    "    out_channels : number of output channels\n",
    "  \"\"\"\n",
    "  ####################################################################\n",
    "  # Fill in all missing code below (...),\n",
    "  # then remove or comment the line below to test your function\n",
    "  raise NotImplementedError(\"Convolution math\")\n",
    "  ####################################################################\n",
    "  # calculate the number of parameters for regular convolution\n",
    "  conv_parameters = ...\n",
    "  # calculate the number of parameters for depthwise separable convolution\n",
    "  depthwise_conv_parameters = ...\n",
    "\n",
    "  print(f\"Depthwise separable: {depthwise_conv_parameters} parameters\")\n",
    "  print(f\"Regular convolution: {conv_parameters} parameters\")\n",
    "\n",
    "  return None\n",
    "\n",
    "\n",
    "## Uncomment to test your function\n",
    "# convolution_math(in_channels=4, filter_size=3, out_channels=2)"
   ]
  },
  {
   "cell_type": "markdown",
   "metadata": {
    "colab_type": "text",
    "execution": {}
   },
   "source": [
    "[*Click for solution*](https://github.com/NeuromatchAcademy/course-content-dl/tree/main//tutorials/W2D2_ModernConvnets/solutions/W2D2_Tutorial1_Solution_9e8990a0.py)\n",
    "\n"
   ]
  },
  {
   "cell_type": "markdown",
   "metadata": {
    "execution": {}
   },
   "source": [
    "```\n",
    "Depthwise separable: 44 parameters\n",
    "Regular convolution: 72 parameters\n",
    "```"
   ]
  },
  {
   "cell_type": "markdown",
   "metadata": {
    "execution": {}
   },
   "source": [
    "### Think! 6.1: How do parameter savings depend the on number of input feature maps, 4 vs. 64?"
   ]
  },
  {
   "cell_type": "markdown",
   "metadata": {
    "colab_type": "text",
    "execution": {}
   },
   "source": [
    "[*Click for solution*](https://github.com/NeuromatchAcademy/course-content-dl/tree/main//tutorials/W2D2_ModernConvnets/solutions/W2D2_Tutorial1_Solution_b077b524.py)\n",
    "\n"
   ]
  },
  {
   "cell_type": "markdown",
   "metadata": {
    "execution": {}
   },
   "source": [
    "---\n",
    "# Section 7: Transfer Learning\n",
    "\n",
    "\n"
   ]
  },
  {
   "cell_type": "markdown",
   "metadata": {},
   "source": [
    "##  Video 7: Transfer Learning\n"
   ]
  },
  {
   "cell_type": "code",
   "execution_count": null,
   "metadata": {
    "cellView": "form",
    "execution": {},
    "tags": [
     "remove-input"
    ]
   },
   "outputs": [],
   "source": [
    "# @title Video 7: Transfer Learning\n",
    "from ipywidgets import widgets\n",
    "\n",
    "out2 = widgets.Output()\n",
    "with out2:\n",
    "  from IPython.display import IFrame\n",
    "  class BiliVideo(IFrame):\n",
    "    def __init__(self, id, page=1, width=400, height=300, **kwargs):\n",
    "      self.id=id\n",
    "      src = \"https://player.bilibili.com/player.html?bvid={0}&page={1}\".format(id, page)\n",
    "      super(BiliVideo, self).__init__(src, width, height, **kwargs)\n",
    "\n",
    "  video = BiliVideo(id=f\"BV1z54y1E714\", width=730, height=410, fs=1)\n",
    "  print(\"Video available at https://www.bilibili.com/video/{0}\".format(video.id))\n",
    "  display(video)\n",
    "\n",
    "out1 = widgets.Output()\n",
    "with out1:\n",
    "  from IPython.display import YouTubeVideo\n",
    "  video = YouTubeVideo(id=f\"Qr5l-an5ac4\", width=730, height=410, fs=1, rel=0)\n",
    "  print(\"Video available at https://youtube.com/watch?v=\" + video.id)\n",
    "  display(video)\n",
    "\n",
    "out = widgets.Tab([out1, out2])\n",
    "out.set_title(0, 'Youtube')\n",
    "out.set_title(1, 'Bilibili')\n",
    "\n",
    "display(out)"
   ]
  },
  {
   "cell_type": "markdown",
   "metadata": {
    "execution": {}
   },
   "source": [
    "The most common way large image models are trained in practice is via transfer learning. One first pretrains a network on a large classification dataset like ImageNet, then uses the weights of this network as initialization for training (\"fine-tuning\") that network on your task of choice. \n",
    "\n",
    "While training a network twice sounds like a strange thing to do, the model ends up training faster on the target dataset and often outperforms training \"from scratch\". There are also other benefits such as [robustness to noise](https://arxiv.org/pdf/1901.09960.pdf) that are the subject of [active research](https://arxiv.org/abs/2008.11687).\n",
    "\n",
    "In this section we will demonstrate transfer learning by taking a model trained on ImageNet and teaching it to classify Pokemon."
   ]
  },
  {
   "cell_type": "markdown",
   "metadata": {
    "execution": {}
   },
   "source": [
    "## Section 7.1: Download and prepare the data"
   ]
  },
  {
   "cell_type": "markdown",
   "metadata": {},
   "source": [
    "###  Download Data\n"
   ]
  },
  {
   "cell_type": "code",
   "execution_count": null,
   "metadata": {
    "cellView": "form",
    "execution": {},
    "tags": [
     "hide-input"
    ]
   },
   "outputs": [],
   "source": [
    "# @title Download Data\n",
    "!git clone --quiet https://github.com/ben-heil/cis_522_data.git\n",
    "!tar -xzf cis_522_data/archive.tar.gz\n",
    "!tar -xzf cis_522_data/faces.tar.gz"
   ]
  },
  {
   "cell_type": "code",
   "execution_count": null,
   "metadata": {
    "execution": {}
   },
   "outputs": [],
   "source": [
    "# List the different Pokemon\n",
    "!ls small_pokemon_dataset/"
   ]
  },
  {
   "cell_type": "markdown",
   "metadata": {},
   "source": [
    "###  Determine number of classes\n"
   ]
  },
  {
   "cell_type": "code",
   "execution_count": null,
   "metadata": {
    "cellView": "form",
    "execution": {},
    "tags": [
     "hide-input"
    ]
   },
   "outputs": [],
   "source": [
    "# @title Determine number of classes\n",
    "num_classes = 0\n",
    "for folders in os.listdir('small_pokemon_dataset/'):\n",
    "  num_classes += 1\n",
    "print(num_classes, 'types of Pokemon')"
   ]
  },
  {
   "cell_type": "markdown",
   "metadata": {},
   "source": [
    "###  Display Example Images\n"
   ]
  },
  {
   "cell_type": "code",
   "execution_count": null,
   "metadata": {
    "cellView": "form",
    "execution": {},
    "tags": [
     "hide-input"
    ]
   },
   "outputs": [],
   "source": [
    "# @title Display Example Images\n",
    "train_transform = transforms.Compose((transforms.Resize((256, 256)),\n",
    "                                      transforms.ToTensor()))\n",
    "\n",
    "pokemon_dataset = ImageFolder('small_pokemon_dataset',\n",
    "                              transform=train_transform)\n",
    "\n",
    "image_count = len(pokemon_dataset)\n",
    "train_indices = []\n",
    "test_indices = []\n",
    "for i in range(image_count):\n",
    "  # Put ten percent of the images in the test set\n",
    "  if random.random() < .1:\n",
    "    test_indices.append(i)\n",
    "  else:\n",
    "    train_indices.append(i)\n",
    "\n",
    "pokemon_test_set = torch.utils.data.Subset(pokemon_dataset, test_indices)\n",
    "pokemon_train_set = torch.utils.data.Subset(pokemon_dataset, train_indices)\n",
    "\n",
    "pokemon_train_loader = torch.utils.data.DataLoader(pokemon_train_set,\n",
    "                                                   batch_size=16,\n",
    "                                                   shuffle=True,)\n",
    "pokemon_test_loader = torch.utils.data.DataLoader(pokemon_test_set,\n",
    "                                                  batch_size=16)\n",
    "\n",
    "dataiter = iter(pokemon_train_loader)\n",
    "images, labels = dataiter.next()\n",
    "\n",
    "# show images\n",
    "plt.imshow(make_grid(images, nrow=4).permute(1,2,0))"
   ]
  },
  {
   "cell_type": "markdown",
   "metadata": {
    "execution": {}
   },
   "source": [
    "## Section 7.2: Fine-tuning a ResNet\n",
    "\n",
    "It is common in computer vision to take a large model trained on a large dataset (often ImageNet), replace the classification layer and fine-tune the entire network to perform a different task. \n",
    "\n",
    "Here we'll be using a pre-trained ResNet model to classify types of Pokemon."
   ]
  },
  {
   "cell_type": "code",
   "execution_count": null,
   "metadata": {
    "execution": {}
   },
   "outputs": [],
   "source": [
    "resnet = torchvision.models.resnet18(pretrained=True)\n",
    "num_ftrs = resnet.fc.in_features\n",
    "# reset final fully connected layer, number of classes = types of Pokemon = 9\n",
    "resnet.fc = nn.Linear(num_ftrs, num_classes)\n",
    "resnet.to(DEVICE)\n",
    "optimizer = torch.optim.Adam(resnet.parameters(), lr=1e-4)\n",
    "loss_fn = nn.CrossEntropyLoss()"
   ]
  },
  {
   "cell_type": "markdown",
   "metadata": {},
   "source": [
    "###  Finetune ResNet\n"
   ]
  },
  {
   "cell_type": "code",
   "execution_count": null,
   "metadata": {
    "cellView": "form",
    "execution": {},
    "tags": [
     "hide-input"
    ]
   },
   "outputs": [],
   "source": [
    "# @title Finetune ResNet\n",
    "\n",
    "pretrained_accs = []\n",
    "for epoch in range(10):\n",
    "  # Train loop\n",
    "  for batch in pokemon_train_loader:\n",
    "    images, labels = batch\n",
    "    images = images.to(DEVICE)\n",
    "    labels = labels.to(DEVICE)\n",
    "\n",
    "    optimizer.zero_grad()\n",
    "    output = resnet(images)\n",
    "    loss = loss_fn(output, labels)\n",
    "    loss.backward()\n",
    "    optimizer.step()\n",
    "\n",
    "  # Eval loop\n",
    "  with torch.no_grad():\n",
    "    loss_sum = 0\n",
    "    total_correct = 0\n",
    "    total = len(pokemon_test_set)\n",
    "    for batch in pokemon_test_loader:\n",
    "      images, labels = batch\n",
    "      images = images.to(DEVICE)\n",
    "      labels = labels.to(DEVICE)\n",
    "      output = resnet(images)\n",
    "      loss = loss_fn(output, labels)\n",
    "      loss_sum += loss.item()\n",
    "\n",
    "      predictions = torch.argmax(output, dim=1)\n",
    "\n",
    "      num_correct = torch.sum(predictions == labels)\n",
    "      total_correct += num_correct\n",
    "\n",
    "    # Plot accuracy\n",
    "    pretrained_accs.append(total_correct / total)\n",
    "    plt.plot(pretrained_accs)\n",
    "    plt.xlabel('epoch')\n",
    "    plt.ylabel('accuracy')\n",
    "    plt.title('Pokemon prediction accuracy')\n",
    "    IPython.display.clear_output(wait=True)\n",
    "    IPython.display.display(plt.gcf())\n",
    "  plt.close()"
   ]
  },
  {
   "cell_type": "markdown",
   "metadata": {
    "execution": {}
   },
   "source": [
    "## Section 7.3: Train only classification layer\n",
    "\n",
    "Another possible way to make use of transfer learning is to take a pre-trained model and replace the last layer, the classification layer (sometimes also called the \"linear readout\"). Instead of fine-tuning the whole model as before, we train only the classification layer."
   ]
  },
  {
   "cell_type": "code",
   "execution_count": null,
   "metadata": {
    "execution": {}
   },
   "outputs": [],
   "source": [
    "resnet = torchvision.models.resnet18(pretrained=True)\n",
    "for param in resnet.parameters():\n",
    "  param.requires_grad = False\n",
    "num_ftrs = resnet.fc.in_features\n",
    "# reset final fully connected layer\n",
    "resnet.fc = nn.Linear(num_ftrs, num_classes)\n",
    "resnet.to(DEVICE)\n",
    "optimizer = torch.optim.Adam(resnet.fc.parameters(), lr=1e-2)\n",
    "loss_fn = nn.CrossEntropyLoss()"
   ]
  },
  {
   "cell_type": "markdown",
   "metadata": {},
   "source": [
    "###  Finetune readout of ResNet\n"
   ]
  },
  {
   "cell_type": "code",
   "execution_count": null,
   "metadata": {
    "cellView": "form",
    "execution": {},
    "tags": [
     "hide-input"
    ]
   },
   "outputs": [],
   "source": [
    "# @title Finetune readout of ResNet\n",
    "linreadout_accs = []\n",
    "for epoch in range(10):\n",
    "  # Train loop\n",
    "  for batch in pokemon_train_loader:\n",
    "    images, labels = batch\n",
    "    images = images.to(DEVICE)\n",
    "    labels = labels.to(DEVICE)\n",
    "\n",
    "    optimizer.zero_grad()\n",
    "    output = resnet(images)\n",
    "    loss = loss_fn(output, labels)\n",
    "    loss.backward()\n",
    "    optimizer.step()\n",
    "\n",
    "  # Eval loop\n",
    "  with torch.no_grad():\n",
    "    loss_sum = 0\n",
    "    total_correct = 0\n",
    "    total = len(pokemon_test_set)\n",
    "    for batch in pokemon_test_loader:\n",
    "      images, labels = batch\n",
    "      images = images.to(DEVICE)\n",
    "      labels = labels.to(DEVICE)\n",
    "      output = resnet(images)\n",
    "      loss = loss_fn(output, labels)\n",
    "      loss_sum += loss.item()\n",
    "\n",
    "      predictions = torch.argmax(output, dim=1)\n",
    "\n",
    "      num_correct = torch.sum(predictions == labels)\n",
    "      total_correct += num_correct\n",
    "\n",
    "    # Plot accuracy\n",
    "    linreadout_accs.append(total_correct / total)\n",
    "    plt.plot(linreadout_accs)\n",
    "    plt.xlabel('epoch')\n",
    "    plt.ylabel('accuracy')\n",
    "    plt.title('Pokemon prediction accuracy')\n",
    "    IPython.display.clear_output(wait=True)\n",
    "    IPython.display.display(plt.gcf())\n",
    "  plt.close()"
   ]
  },
  {
   "cell_type": "markdown",
   "metadata": {
    "execution": {}
   },
   "source": [
    "## Section 7.4: Training ResNet from scratch\n",
    "\n",
    "As a baseline and for comparison reasons we will also train the ResNet \"from scratch\" – that is: initialize the weights randomly and train the entire network exclusively on the Pokemon dataset."
   ]
  },
  {
   "cell_type": "code",
   "execution_count": null,
   "metadata": {
    "execution": {}
   },
   "outputs": [],
   "source": [
    "resnet = torchvision.models.resnet18(pretrained=False)\n",
    "num_ftrs = resnet.fc.in_features\n",
    "# reset final fully connected layer\n",
    "resnet.fc = nn.Linear(num_ftrs, num_classes)\n",
    "resnet.to(DEVICE)\n",
    "optimizer = torch.optim.Adam(resnet.parameters(), lr=1e-4)\n",
    "\n",
    "loss_fn = nn.CrossEntropyLoss()"
   ]
  },
  {
   "cell_type": "markdown",
   "metadata": {},
   "source": [
    "###  Train ResNet from scratch\n"
   ]
  },
  {
   "cell_type": "code",
   "execution_count": null,
   "metadata": {
    "cellView": "form",
    "execution": {},
    "tags": [
     "hide-input"
    ]
   },
   "outputs": [],
   "source": [
    "# @title Train ResNet from scratch\n",
    "scratch_accs = []\n",
    "for epoch in range(10):\n",
    "  # Train loop\n",
    "  for batch in pokemon_train_loader:\n",
    "    images, labels = batch\n",
    "    images = images.to(DEVICE)\n",
    "    labels = labels.to(DEVICE)\n",
    "\n",
    "    optimizer.zero_grad()\n",
    "    output = resnet(images)\n",
    "    loss = loss_fn(output, labels)\n",
    "    loss.backward()\n",
    "    optimizer.step()\n",
    "\n",
    "  # Eval loop\n",
    "  with torch.no_grad():\n",
    "    loss_sum = 0\n",
    "    total_correct = 0\n",
    "    total = len(pokemon_test_set)\n",
    "    for batch in pokemon_test_loader:\n",
    "      images, labels = batch\n",
    "      images = images.to(DEVICE)\n",
    "      labels = labels.to(DEVICE)\n",
    "      output = resnet(images)\n",
    "      loss = loss_fn(output, labels)\n",
    "      loss_sum += loss.item()\n",
    "\n",
    "      predictions = torch.argmax(output, dim=1)\n",
    "\n",
    "      num_correct = torch.sum(predictions == labels)\n",
    "      total_correct += num_correct\n",
    "\n",
    "    scratch_accs.append(total_correct / total)\n",
    "    plt.plot(scratch_accs)\n",
    "    plt.xlabel('epoch')\n",
    "    plt.ylabel('accuracy')\n",
    "    plt.title('Pokemon prediction accuracy')\n",
    "\n",
    "    IPython.display.clear_output(wait=True)\n",
    "    IPython.display.display(plt.gcf())\n",
    "  plt.close()"
   ]
  },
  {
   "cell_type": "markdown",
   "metadata": {
    "execution": {}
   },
   "source": [
    "## Section 7.5: Head to Head Comparison\n",
    "Starting from a randomly initialized network works less well, especially in the case of small datsets. Note that the model converges more slowly and less evenly."
   ]
  },
  {
   "cell_type": "markdown",
   "metadata": {},
   "source": [
    "###  Plot Accuracies\n"
   ]
  },
  {
   "cell_type": "code",
   "execution_count": null,
   "metadata": {
    "cellView": "form",
    "execution": {},
    "tags": [
     "hide-input"
    ]
   },
   "outputs": [],
   "source": [
    "# @title Plot Accuracies\n",
    "plt.plot(pretrained_accs, label='Pretrained: fine-tuning')\n",
    "plt.plot(linreadout_accs, label='Pretrained: linear Readout')\n",
    "plt.plot(scratch_accs, label='Trained from Scratch')\n",
    "plt.title('Pokemon prediction accuracy')\n",
    "plt.legend()\n",
    "plt.show()"
   ]
  },
  {
   "cell_type": "markdown",
   "metadata": {
    "execution": {}
   },
   "source": [
    "### Exercise 7.5.1\n",
    "\n",
    "First, we compare the Pretrained ResNet with the ResNet trained from scratch. Why might pretrained models outperform models trained from scratch? In what cases would you expect them to be worse?"
   ]
  },
  {
   "cell_type": "markdown",
   "metadata": {
    "colab_type": "text",
    "execution": {}
   },
   "source": [
    "[*Click for solution*](https://github.com/NeuromatchAcademy/course-content-dl/tree/main//tutorials/W2D2_ModernConvnets/solutions/W2D2_Tutorial1_Solution_63195115.py)\n",
    "\n"
   ]
  },
  {
   "cell_type": "markdown",
   "metadata": {
    "execution": {}
   },
   "source": [
    "### Exercise 7.5.2\n",
    "\n",
    "Second, take a look at the different transfer learning methods - fine-tuning the whole network and training only the classification layer. Why might fine-tuning the whole network outperform training only the classification layer? What are the benefits of training only the classification layer? In what cases would you expect a similar performance of both methods?"
   ]
  },
  {
   "cell_type": "markdown",
   "metadata": {
    "colab_type": "text",
    "execution": {}
   },
   "source": [
    "[*Click for solution*](https://github.com/NeuromatchAcademy/course-content-dl/tree/main//tutorials/W2D2_ModernConvnets/solutions/W2D2_Tutorial1_Solution_d7c9b2c9.py)\n",
    "\n"
   ]
  },
  {
   "cell_type": "markdown",
   "metadata": {
    "execution": {}
   },
   "source": [
    "## Further Reading\n",
    "Supervised pretraining as you've seen here is useful, but there are several other ways of using outside data to improve your models. The ones that are particularly popular right now are self-supervised techniques like [contrastive learning](https://arxiv.org/pdf/2002.05709.pdf).\n",
    "\n",
    "There is also a [recent paper](https://arxiv.org/abs/2102.01293) that seeks to quantify the relationship between model size, pretraining dataset size, training dataset size, and performance."
   ]
  },
  {
   "cell_type": "markdown",
   "metadata": {
    "execution": {}
   },
   "source": [
    "---\n",
    "# Section 8: Speed-Accuracy Trade-Off / Different Backbones\n"
   ]
  },
  {
   "cell_type": "markdown",
   "metadata": {},
   "source": [
    "##  Video 8: Speed-accuracy trade-off\n"
   ]
  },
  {
   "cell_type": "code",
   "execution_count": null,
   "metadata": {
    "cellView": "form",
    "execution": {},
    "tags": [
     "remove-input"
    ]
   },
   "outputs": [],
   "source": [
    "# @title Video 8: Speed-accuracy trade-off\n",
    "from ipywidgets import widgets\n",
    "\n",
    "out2 = widgets.Output()\n",
    "with out2:\n",
    "  from IPython.display import IFrame\n",
    "  class BiliVideo(IFrame):\n",
    "    def __init__(self, id, page=1, width=400, height=300, **kwargs):\n",
    "      self.id=id\n",
    "      src = \"https://player.bilibili.com/player.html?bvid={0}&page={1}\".format(id, page)\n",
    "      super(BiliVideo, self).__init__(src, width, height, **kwargs)\n",
    "\n",
    "  video = BiliVideo(id=f\"BV1v64y1z7PT\", width=730, height=410, fs=1)\n",
    "  print(\"Video available at https://www.bilibili.com/video/{0}\".format(video.id))\n",
    "  display(video)\n",
    "\n",
    "out1 = widgets.Output()\n",
    "with out1:\n",
    "  from IPython.display import YouTubeVideo\n",
    "  video = YouTubeVideo(id=f\"9p4gD-QnbIQ\", width=730, height=410, fs=1, rel=0)\n",
    "  print(\"Video available at https://youtube.com/watch?v=\" + video.id)\n",
    "  display(video)\n",
    "\n",
    "out = widgets.Tab([out1, out2])\n",
    "out.set_title(0, 'Youtube')\n",
    "out.set_title(1, 'Bilibili')\n",
    "\n",
    "display(out)"
   ]
  },
  {
   "cell_type": "markdown",
   "metadata": {
    "execution": {}
   },
   "source": [
    "As the models got larger and the number of connections increased so did the computational costs involved. In the modern era of image processing, there is a tradeoff between model performance and computational cost. Models can reach extremely high performance on many problems, but achieving state of the art results requires [huge amounts of compute power](https://arxiv.org/pdf/1810.00736.pdf).\n",
    "\n",
    "![compute_vs_performance.png](data:image/png;base64,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)"
   ]
  },
  {
   "cell_type": "markdown",
   "metadata": {
    "execution": {}
   },
   "source": [
    "## Coding Exercise 8.1: Compare accuracy and training speed of different models\n",
    "\n",
    "The goal is to load three pretrained models and fine-tune them.\n",
    "`models` is a dictionary where the keys are the names of the models and the values are the corresponding model objects.\n",
    "Currently the names are *ResNet18, AlexNet* and *VGG-19*.\n",
    "For a start, load these models from torchvision.models and make sure they are pretrained.\n",
    "\n",
    "If you want to try other models, just change the dictionary, or if you want to even try out more than three models, just add them to the dictionary and add their learning rates in the array below."
   ]
  },
  {
   "cell_type": "code",
   "execution_count": null,
   "metadata": {
    "execution": {}
   },
   "outputs": [],
   "source": [
    "# load three pretrained models from torchvision.models\n",
    "# [these are just examples, other models are possible as well]\n",
    "model1 = ...\n",
    "model2 = ...\n",
    "model3 = ...\n",
    "\n",
    "models = {'...': model1, '...': model2, '...-19': model3}\n",
    "learning_rates = [1e-4, 1e-4, 1e-4]\n",
    "\n",
    "times, top_1_accuracies = [], []"
   ]
  },
  {
   "cell_type": "markdown",
   "metadata": {
    "colab_type": "text",
    "execution": {}
   },
   "source": [
    "[*Click for solution*](https://github.com/NeuromatchAcademy/course-content-dl/tree/main//tutorials/W2D2_ModernConvnets/solutions/W2D2_Tutorial1_Solution_22704e52.py)\n",
    "\n"
   ]
  },
  {
   "cell_type": "markdown",
   "metadata": {},
   "source": [
    "###  Imagenette Train Loop\n"
   ]
  },
  {
   "cell_type": "code",
   "execution_count": null,
   "metadata": {
    "cellView": "form",
    "execution": {},
    "tags": [
     "hide-input"
    ]
   },
   "outputs": [],
   "source": [
    "# @title Imagenette Train Loop\n",
    "def train_loop(model, optimizer, train_loader, loss_fn, device):\n",
    "\n",
    "  times = []\n",
    "  model.to(device)\n",
    "  for epoch in tqdm.notebook.tqdm(range(5)):\n",
    "    model.train()\n",
    "    t_start = time.time()\n",
    "    # Train on a batch of images\n",
    "    for imagenette_batch in train_loader:\n",
    "      images, labels = imagenette_batch\n",
    "\n",
    "      # Convert labels from imagenette indices to imagenet labels\n",
    "      for i, label in enumerate(labels):\n",
    "        labels[i] = dir_index_to_imagenet_label[label.item()]\n",
    "\n",
    "      images = images.to(device)\n",
    "      labels = labels.to(device)\n",
    "      output = model(images)\n",
    "      optimizer.zero_grad()\n",
    "      loss = loss_fn(output, labels)\n",
    "      loss.backward()\n",
    "      optimizer.step()\n",
    "      if torch.cuda.is_available():\n",
    "        torch.cuda.synchronize()\n",
    "\n",
    "      times+= [time.time() - t_start]\n",
    "\n",
    "  return np.mean(times)"
   ]
  },
  {
   "cell_type": "code",
   "execution_count": null,
   "metadata": {
    "execution": {}
   },
   "outputs": [],
   "source": [
    "DEVICE = set_device()\n",
    "for (name, model), lr in zip(models.items(), learning_rates):\n",
    "\n",
    "  print(name, lr)\n",
    "\n",
    "  model.to(DEVICE)\n",
    "  model.aux_logits = False  # only important for googlenet\n",
    "\n",
    "  optimizer = torch.optim.Adam(model.parameters(), lr=lr)\n",
    "  loss_fn = nn.CrossEntropyLoss()\n",
    "\n",
    "  model_time = train_loop(model, optimizer, imagenette_train_loader, loss_fn,\n",
    "                          DEVICE)\n",
    "  times.append(model_time)\n",
    "\n",
    "  top_1_acc, _ = eval_imagenette(model, imagenette_val_loader,\n",
    "                                 len(imagenette_val))\n",
    "  top_1_accuracies.append(top_1_acc.item())"
   ]
  },
  {
   "cell_type": "markdown",
   "metadata": {},
   "source": [
    "###  Plot accuracies vs. training speed\n"
   ]
  },
  {
   "cell_type": "code",
   "execution_count": null,
   "metadata": {
    "cellView": "form",
    "execution": {},
    "tags": [
     "hide-input"
    ]
   },
   "outputs": [],
   "source": [
    "# @title Plot accuracies vs. training speed\n",
    "def get_parameter_count(model) -> int:\n",
    "  return sum([torch.numel(p) for p in model.parameters()])\n",
    "\n",
    "def plot_acc_speed(times, accs, models):\n",
    "  ti = [t*1000 for t in times]\n",
    "  for i, model in enumerate(list(models.keys())):\n",
    "    scale = get_parameter_count(models[model])*1e-6\n",
    "    plt.scatter(ti[i], accs[i], s=scale, label=model)\n",
    "  plt.grid(True)\n",
    "  plt.xlabel('speed [ms]')\n",
    "  plt.ylabel('accuracy')\n",
    "  plt.title('Accuracy vs. speed')\n",
    "  plt.legend()\n",
    "\n",
    "\n",
    "plot_acc_speed(times, top_1_accuracies, models)"
   ]
  },
  {
   "cell_type": "markdown",
   "metadata": {
    "execution": {}
   },
   "source": [
    "## Exercise 8.2\n",
    "\n",
    "Look at the plot above.\n",
    "It shows the training speed vs. the accuracy of the models you chose.\n",
    "The training speed is measured as the mean time the training takes per epoch.\n",
    "The size of the marker visualizes the number of parameters of the model.\n",
    "\n",
    "Which model seems to be the best for this task and why?\n",
    "Explain your conclusion based on speed, accuracy and number of parameters."
   ]
  },
  {
   "cell_type": "markdown",
   "metadata": {
    "colab_type": "text",
    "execution": {}
   },
   "source": [
    "[*Click for solution*](https://github.com/NeuromatchAcademy/course-content-dl/tree/main//tutorials/W2D2_ModernConvnets/solutions/W2D2_Tutorial1_Solution_67d1d6e1.py)\n",
    "\n"
   ]
  },
  {
   "cell_type": "markdown",
   "metadata": {
    "execution": {}
   },
   "source": [
    "## Exercise 8.3\n",
    "\n",
    "How does the speed correlate with the accuracy? Are faster models also more accurate?"
   ]
  },
  {
   "cell_type": "markdown",
   "metadata": {
    "colab_type": "text",
    "execution": {}
   },
   "source": [
    "[*Click for solution*](https://github.com/NeuromatchAcademy/course-content-dl/tree/main//tutorials/W2D2_ModernConvnets/solutions/W2D2_Tutorial1_Solution_c2f17c6a.py)\n",
    "\n"
   ]
  },
  {
   "cell_type": "markdown",
   "metadata": {
    "execution": {}
   },
   "source": [
    "---\n",
    "# Summary\n",
    "\n",
    "In this tutorial you have learned about the modern Convnets (CNNs), their architecture, and their operating principles. Also, you are now familiar with the notion of *Transfer Learning*, and you have learned when to apply it. Finally, you have understood that speed vs. accuracy trade-off. In the next tutorial, we will see the modern convnets in a facial recognition task.\n"
   ]
  }
 ],
 "metadata": {
  "accelerator": "GPU",
  "colab": {
   "collapsed_sections": [],
   "include_colab_link": true,
   "name": "W2D2_Tutorial1",
   "provenance": [],
   "toc_visible": true
  },
  "kernel": {
   "display_name": "Python 3",
   "language": "python",
   "name": "python3"
  },
  "kernelspec": {
   "display_name": "Python 3",
   "language": "python",
   "name": "python3"
  },
  "language_info": {
   "codemirror_mode": {
    "name": "ipython",
    "version": 3
   },
   "file_extension": ".py",
   "mimetype": "text/x-python",
   "name": "python",
   "nbconvert_exporter": "python",
   "pygments_lexer": "ipython3",
   "version": "3.7.11"
  },
  "nteract": {
   "version": "0.28.0"
  }
 },
 "nbformat": 4,
 "nbformat_minor": 0
}