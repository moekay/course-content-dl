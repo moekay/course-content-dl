{
 "cells": [
  {
   "cell_type": "markdown",
   "metadata": {
    "colab_type": "text",
    "execution": {},
    "id": "view-in-github"
   },
   "source": [
    "<a href=\"https://colab.research.google.com/github/NeuromatchAcademy/course-content-dl/blob/main/tutorials/W2D2_ModernConvnets/student/W2D2_Tutorial2.ipynb\" target=\"_blank\"><img alt=\"Open In Colab\" src=\"https://colab.research.google.com/assets/colab-badge.svg\"/></a>"
   ]
  },
  {
   "cell_type": "markdown",
   "metadata": {
    "execution": {}
   },
   "source": [
    "# Tutorial 2: Facial recognition using modern convnets\n",
    "**Week 2, Day 2: Modern Convnets**\n",
    "\n",
    "**By Neuromatch Academy**\n",
    "\n",
    "__Content creators:__ Laura Pede, Richard Vogg, Marissa Weis, Timo Lüddecke, Alexander Ecker (based on an initial version by Ben Heil)\n",
    "\n",
    "__Content reviewers:__ Arush Tagade, Polina Turishcheva, Yu-Fang Yang, Bettina Hein, Melvin Selim Atay\n",
    "\n",
    "__Content editors:__ Roberto Guidotti, Spiros Chavlis\n",
    "\n",
    "__Production editors:__ Anoop Kulkarni, Roberto Guidotti, Cary Murray, Spiros Chavlis"
   ]
  },
  {
   "cell_type": "markdown",
   "metadata": {
    "execution": {}
   },
   "source": [
    "**Our 2021 Sponsors, including Presenting Sponsor Facebook Reality Labs**\n",
    "\n",
    "<p align='center'><img src='https://github.com/NeuromatchAcademy/widgets/blob/master/sponsors.png?raw=True'/></p>"
   ]
  },
  {
   "cell_type": "markdown",
   "metadata": {
    "execution": {}
   },
   "source": [
    "---\n",
    "# Tutorial Objectives\n",
    "\n",
    "In this tutorial you will learn about:\n",
    "\n",
    "1. An application of modern CNNs in facial recognition.\n",
    "2. Ethical aspects of facial recognition."
   ]
  },
  {
   "cell_type": "markdown",
   "metadata": {},
   "source": [
    "##  Tutorial slides\n"
   ]
  },
  {
   "cell_type": "markdown",
   "metadata": {},
   "source": [
    " These are the slides for the videos in this tutorial\n"
   ]
  },
  {
   "cell_type": "code",
   "execution_count": null,
   "metadata": {
    "cellView": "form",
    "execution": {},
    "tags": [
     "remove-input"
    ]
   },
   "outputs": [],
   "source": [
    "# @title Tutorial slides\n",
    "\n",
    "# @markdown These are the slides for the videos in this tutorial\n",
    "from IPython.display import IFrame\n",
    "IFrame(src=f\"https://mfr.ca-1.osf.io/render?url=https://osf.io/4r2dp/?direct%26mode=render%26action=download%26mode=render\", width=854, height=480)"
   ]
  },
  {
   "cell_type": "markdown",
   "metadata": {
    "execution": {}
   },
   "source": [
    "---\n",
    "# Setup"
   ]
  },
  {
   "cell_type": "markdown",
   "metadata": {},
   "source": [
    "##  Install dependencies\n"
   ]
  },
  {
   "cell_type": "markdown",
   "metadata": {},
   "source": [
    " Install facenet - a model used to do facial recognition\n"
   ]
  },
  {
   "cell_type": "code",
   "execution_count": null,
   "metadata": {
    "cellView": "form",
    "execution": {},
    "tags": [
     "hide-input"
    ]
   },
   "outputs": [],
   "source": [
    "# @title Install dependencies\n",
    "# @markdown Install facenet - a model used to do facial recognition\n",
    "!pip install facenet-pytorch --quiet\n",
    "!pip install pillow --quiet"
   ]
  },
  {
   "cell_type": "code",
   "execution_count": null,
   "metadata": {
    "execution": {}
   },
   "outputs": [],
   "source": [
    "# Imports\n",
    "import glob\n",
    "import torch\n",
    "\n",
    "import numpy as np\n",
    "import sklearn.decomposition\n",
    "import matplotlib.pyplot as plt\n",
    "\n",
    "from PIL import Image\n",
    "\n",
    "from torchvision import transforms\n",
    "from torchvision.utils import make_grid\n",
    "from torchvision.datasets import ImageFolder\n",
    "\n",
    "from facenet_pytorch import MTCNN, InceptionResnetV1"
   ]
  },
  {
   "cell_type": "markdown",
   "metadata": {},
   "source": [
    "##  Set random seed\n"
   ]
  },
  {
   "cell_type": "markdown",
   "metadata": {},
   "source": [
    " Executing `set_seed(seed=seed)` you are setting the seed\n"
   ]
  },
  {
   "cell_type": "code",
   "execution_count": null,
   "metadata": {
    "cellView": "form",
    "execution": {},
    "tags": [
     "hide-input"
    ]
   },
   "outputs": [],
   "source": [
    "# @title Set random seed\n",
    "\n",
    "# @markdown Executing `set_seed(seed=seed)` you are setting the seed\n",
    "\n",
    "# for DL its critical to set the random seed so that students can have a\n",
    "# baseline to compare their results to expected results.\n",
    "# Read more here: https://pytorch.org/docs/stable/notes/randomness.html\n",
    "\n",
    "# Call `set_seed` function in the exercises to ensure reproducibility.\n",
    "import random\n",
    "import torch\n",
    "\n",
    "def set_seed(seed=None, seed_torch=True):\n",
    "  if seed is None:\n",
    "    seed = np.random.choice(2 ** 32)\n",
    "  random.seed(seed)\n",
    "  np.random.seed(seed)\n",
    "  if seed_torch:\n",
    "    torch.manual_seed(seed)\n",
    "    torch.cuda.manual_seed_all(seed)\n",
    "    torch.cuda.manual_seed(seed)\n",
    "    torch.backends.cudnn.benchmark = False\n",
    "    torch.backends.cudnn.deterministic = True\n",
    "\n",
    "  print(f'Random seed {seed} has been set.')\n",
    "\n",
    "\n",
    "# In case that `DataLoader` is used\n",
    "def seed_worker(worker_id):\n",
    "  worker_seed = torch.initial_seed() % 2**32\n",
    "  np.random.seed(worker_seed)\n",
    "  random.seed(worker_seed)"
   ]
  },
  {
   "cell_type": "markdown",
   "metadata": {},
   "source": [
    "##  Set device (GPU or CPU). Execute `set_device()`\n"
   ]
  },
  {
   "cell_type": "code",
   "execution_count": null,
   "metadata": {
    "cellView": "form",
    "execution": {},
    "tags": [
     "hide-input"
    ]
   },
   "outputs": [],
   "source": [
    "# @title Set device (GPU or CPU). Execute `set_device()`\n",
    "# especially if torch modules used.\n",
    "\n",
    "# inform the user if the notebook uses GPU or CPU.\n",
    "\n",
    "def set_device():\n",
    "  device = \"cuda\" if torch.cuda.is_available() else \"cpu\"\n",
    "  if device != \"cuda\":\n",
    "    print(\"WARNING: For this notebook to perform best, \"\n",
    "        \"if possible, in the menu under `Runtime` -> \"\n",
    "        \"`Change runtime type.`  select `GPU` \")\n",
    "  else:\n",
    "    print(\"GPU is enabled in this notebook.\")\n",
    "\n",
    "  return device"
   ]
  },
  {
   "cell_type": "code",
   "execution_count": null,
   "metadata": {
    "execution": {}
   },
   "outputs": [],
   "source": [
    "SEED = 2021\n",
    "set_seed(seed=SEED)\n",
    "DEVICE = set_device()"
   ]
  },
  {
   "cell_type": "markdown",
   "metadata": {
    "execution": {}
   },
   "source": [
    "---\n",
    "# Section 1: Face Recognition"
   ]
  },
  {
   "cell_type": "markdown",
   "metadata": {
    "execution": {}
   },
   "source": [
    "## Section 1.1: Download and prepare the data"
   ]
  },
  {
   "cell_type": "markdown",
   "metadata": {},
   "source": [
    "###  Download Data\n"
   ]
  },
  {
   "cell_type": "code",
   "execution_count": null,
   "metadata": {
    "cellView": "form",
    "execution": {},
    "tags": [
     "hide-input"
    ]
   },
   "outputs": [],
   "source": [
    "# @title Download Data\n",
    "\n",
    "!rm -rf cis_522_data/\n",
    "!git clone --quiet https://github.com/ben-heil/cis_522_data.git\n",
    "!tar -xzf cis_522_data/archive.tar.gz\n",
    "!tar -xzf cis_522_data/faces.tar.gz"
   ]
  },
  {
   "cell_type": "markdown",
   "metadata": {},
   "source": [
    "###  Video 1: Face Recognition using CNNs\n"
   ]
  },
  {
   "cell_type": "code",
   "execution_count": null,
   "metadata": {
    "cellView": "form",
    "execution": {},
    "tags": [
     "remove-input"
    ]
   },
   "outputs": [],
   "source": [
    "# @title Video 1: Face Recognition using CNNs\n",
    "from ipywidgets import widgets\n",
    "\n",
    "out2 = widgets.Output()\n",
    "with out2:\n",
    "  from IPython.display import IFrame\n",
    "  class BiliVideo(IFrame):\n",
    "    def __init__(self, id, page=1, width=400, height=300, **kwargs):\n",
    "      self.id=id\n",
    "      src = \"https://player.bilibili.com/player.html?bvid={0}&page={1}\".format(id, page)\n",
    "      super(BiliVideo, self).__init__(src, width, height, **kwargs)\n",
    "\n",
    "  video = BiliVideo(id=f\"BV17B4y1K7WV\", width=730, height=410, fs=1)\n",
    "  print(\"Video available at https://www.bilibili.com/video/{0}\".format(video.id))\n",
    "  display(video)\n",
    "\n",
    "out1 = widgets.Output()\n",
    "with out1:\n",
    "  from IPython.display import YouTubeVideo\n",
    "  video = YouTubeVideo(id=f\"jJqEv8hpRa4\", width=730, height=410, fs=1, rel=0)\n",
    "  print(\"Video available at https://youtube.com/watch?v=\" + video.id)\n",
    "  display(video)\n",
    "\n",
    "out = widgets.Tab([out1, out2])\n",
    "out.set_title(0, 'Youtube')\n",
    "out.set_title(1, 'Bilibili')\n",
    "\n",
    "display(out)"
   ]
  },
  {
   "cell_type": "markdown",
   "metadata": {
    "execution": {}
   },
   "source": [
    "One application of large CNNs is **facial recognition**. The problem formulation in facial recognition is a little different from the image classification we've seen so far. In facial recognition, we don't want to have a fixed number of individuals that the model can learn. If that were the case then to learn a new person it would be necessary to modify the output portion of the architecture and retrain to account for the new person.\n",
    "\n",
    "Instead, we train a model to learn an **embedding** where images from the same individual are close to each other in an embedded space, and images corresponding to different people are far apart. When the model is trained, it takes as input an image and outputs an embedding vector corresponding to the image. \n",
    "\n",
    "To achieve this, facial recognitions typically use a **triplet loss** that compares two images from the same individual (i.e., \"anchor\" and \"positive\" images) and a negative image from a different individual (i.e., \"negative\" image). The loss requires the distance between the anchor and negative points to be greater than a margin $\\alpha$ + the distance between the anchor and positive points."
   ]
  },
  {
   "cell_type": "markdown",
   "metadata": {
    "execution": {}
   },
   "source": [
    "## Section 1.2: View and transform the data\n",
    "\n",
    "A well-trained facial recognition system should be able to map different images of the same individual relatively close together. We will load 15 images of three individuals (maybe you know them - then you can see that your brain is quite well in facial recognition).\n",
    "\n",
    "After viewing the images, we will transform them: MTCNN ([github repo](https://github.com/ipazc/mtcnn)) detects the face and crops the image around the face. Then we stack all the images together in a tensor."
   ]
  },
  {
   "cell_type": "markdown",
   "metadata": {},
   "source": [
    "###  Display Images\n"
   ]
  },
  {
   "cell_type": "markdown",
   "metadata": {},
   "source": [
    " Here are the source images of Bruce Lee, Neil Patrick Harris, and Pam Grier\n"
   ]
  },
  {
   "cell_type": "code",
   "execution_count": null,
   "metadata": {
    "cellView": "form",
    "execution": {},
    "tags": [
     "hide-input"
    ]
   },
   "outputs": [],
   "source": [
    "# @title Display Images\n",
    "# @markdown Here are the source images of Bruce Lee, Neil Patrick Harris, and Pam Grier\n",
    "train_transform = transforms.Compose((transforms.Resize((256, 256)),\n",
    "                                      transforms.ToTensor()))\n",
    "\n",
    "face_dataset = ImageFolder('faces', transform=train_transform)\n",
    "\n",
    "image_count = len(face_dataset)\n",
    "\n",
    "face_loader = torch.utils.data.DataLoader(face_dataset,\n",
    "                                          batch_size=45,\n",
    "                                          shuffle=False)\n",
    "\n",
    "dataiter = iter(face_loader)\n",
    "images, labels = dataiter.next()\n",
    "\n",
    "# show images\n",
    "plt.figure(figsize=(15, 15))\n",
    "plt.imshow(make_grid(images, nrow=15).permute(1, 2, 0))\n",
    "plt.axis('off')\n",
    "plt.show()"
   ]
  },
  {
   "cell_type": "markdown",
   "metadata": {},
   "source": [
    "###  Image Preprocessing Function\n"
   ]
  },
  {
   "cell_type": "code",
   "execution_count": null,
   "metadata": {
    "cellView": "form",
    "execution": {},
    "tags": [
     "hide-input"
    ]
   },
   "outputs": [],
   "source": [
    "# @title Image Preprocessing Function\n",
    "def process_images(image_dir: str, size=256):\n",
    "  \"\"\"\n",
    "  This function returns two tensors for the given image dir: one usable for inputting into the\n",
    "  facenet model, and one that is [0,1] scaled for visualizing\n",
    "\n",
    "  Parameters:\n",
    "    image_dir: The glob corresponding to images in a directory\n",
    "\n",
    "  Returns:\n",
    "    model_tensor: A image_count x channels x height x width tensor scaled to between -1 and 1,\n",
    "                  with the faces detected and cropped to the center using mtcnn\n",
    "    display_tensor: A transformed version of the model tensor scaled to between 0 and 1\n",
    "  \"\"\"\n",
    "  mtcnn = MTCNN(image_size=size, margin=32)\n",
    "  images = []\n",
    "  for img_path in glob.glob(image_dir):\n",
    "    img = Image.open(img_path)\n",
    "    # Normalize and crop image\n",
    "    img_cropped = mtcnn(img)\n",
    "    images.append(img_cropped)\n",
    "\n",
    "  model_tensor = torch.stack(images)\n",
    "  display_tensor = model_tensor / (model_tensor.max() * 2)\n",
    "  display_tensor += .5\n",
    "\n",
    "  return model_tensor, display_tensor"
   ]
  },
  {
   "cell_type": "markdown",
   "metadata": {
    "execution": {}
   },
   "source": [
    "Now that we have our images loaded, we need to preprocess them. To make the images easier for the network to learn, we crop them to include just faces."
   ]
  },
  {
   "cell_type": "code",
   "execution_count": null,
   "metadata": {
    "execution": {}
   },
   "outputs": [],
   "source": [
    "bruce_tensor, bruce_display = process_images('faces/bruce/*.jpg')\n",
    "neil_tensor, neil_display = process_images('faces/neil/*.jpg')\n",
    "pam_tensor, pam_display = process_images('faces/pam/*.jpg')\n",
    "\n",
    "tensor_to_display = torch.cat((bruce_display, neil_display, pam_display))\n",
    "\n",
    "plt.figure(figsize=(15, 15))\n",
    "plt.imshow(make_grid(tensor_to_display, nrow=15).permute(1, 2, 0))\n",
    "plt.axis('off')\n",
    "plt.show()"
   ]
  },
  {
   "cell_type": "markdown",
   "metadata": {
    "execution": {}
   },
   "source": [
    "## Section 1.3: Embedding with a pretrained network \n",
    "\n",
    "We load a pretrained facial recognition model called [FaceNet](https://github.com/timesler/facenet-pytorch). It was trained on the [VGGFace2](https://github.com/ox-vgg/vgg_face2) dataset which contains 3.31 million images of 9131 individuals.\n",
    "\n",
    "We use the pretrained model to calculate embeddings for all of our input images."
   ]
  },
  {
   "cell_type": "code",
   "execution_count": null,
   "metadata": {
    "execution": {}
   },
   "outputs": [],
   "source": [
    "resnet = InceptionResnetV1(pretrained='vggface2').eval().to(DEVICE)"
   ]
  },
  {
   "cell_type": "code",
   "execution_count": null,
   "metadata": {
    "execution": {}
   },
   "outputs": [],
   "source": [
    "# Calculate embedding\n",
    "resnet.classify = False\n",
    "bruce_embeddings = resnet(bruce_tensor.to(DEVICE))\n",
    "neil_embeddings = resnet(neil_tensor.to(DEVICE))\n",
    "pam_embeddings = resnet(pam_tensor.to(DEVICE))"
   ]
  },
  {
   "cell_type": "markdown",
   "metadata": {
    "execution": {}
   },
   "source": [
    "### Think! 1.3: Embedding vectors\n",
    "\n",
    "We want to understand what happens when the model receives an image and returns the corresponding embedding vector.\n",
    "\n",
    "- What are the height, width and number of channels of one input image?\n",
    "- What are the dimensions of one stack of images (e.g. bruce_tensor)?\n",
    "- What are the dimensions of the corresponding embedding (e.g. bruce_embeddings)?\n",
    "- What would be the dimensions of the embedding of one input image?\n",
    "\n",
    "\n",
    "**Hints:**\n",
    "- You can double click on a variable name and hover over it to see the dimensions of tensors.\n",
    "- You do not have to answer the questions in the order they are asked."
   ]
  },
  {
   "cell_type": "markdown",
   "metadata": {
    "colab_type": "text",
    "execution": {}
   },
   "source": [
    "[*Click for solution*](https://github.com/NeuromatchAcademy/course-content-dl/tree/main//tutorials/W2D2_ModernConvnets/solutions/W2D2_Tutorial2_Solution_bbe072ff.py)\n",
    "\n"
   ]
  },
  {
   "cell_type": "markdown",
   "metadata": {
    "execution": {}
   },
   "source": [
    "We cannot show 512-dimensional vectors visually, but using **Principal Component Analysis (PCA)** we can project the 512 dimensions onto a 2-dimensional space while preserving the maximum amount of data variation possible. This is just a visual aid for us to understand the concept. Note that if you would like to do any calculation, like distances between two images, this would be done with the whole 512-dimensional embedding vectors."
   ]
  },
  {
   "cell_type": "code",
   "execution_count": null,
   "metadata": {
    "execution": {}
   },
   "outputs": [],
   "source": [
    "embedding_tensor = torch.cat((bruce_embeddings,\n",
    "                              neil_embeddings,\n",
    "                              pam_embeddings)).to(device='cpu')\n",
    "\n",
    "pca = sklearn.decomposition.PCA(n_components=2)\n",
    "pca_tensor = pca.fit_transform(embedding_tensor.detach().cpu().numpy())"
   ]
  },
  {
   "cell_type": "code",
   "execution_count": null,
   "metadata": {
    "execution": {}
   },
   "outputs": [],
   "source": [
    "num = 15\n",
    "categs = 3\n",
    "colors = ['blue', 'orange', 'magenta']\n",
    "labels = ['Bruce Lee', 'Neil Patrick Harris', 'Pam Grier']\n",
    "markers = ['o', 'x', 's']\n",
    "plt.figure(figsize=(8, 8))\n",
    "for i in range(categs):\n",
    "   plt.scatter(pca_tensor[i*num:(i+1)*num, 0],\n",
    "               pca_tensor[i*num:(i+1)*num, 1],\n",
    "               c=colors[i],\n",
    "               marker=markers[i], label=labels[i])\n",
    "plt.legend()\n",
    "plt.title('PCA Representation of the Image Embeddings')\n",
    "plt.xlabel('PC 1')\n",
    "plt.ylabel('PC 2')\n",
    "plt.show()"
   ]
  },
  {
   "cell_type": "markdown",
   "metadata": {
    "execution": {}
   },
   "source": [
    "Great! The images corresponding to each individual are separated from each other in the embedding space!\n",
    "\n",
    "If Neil Patrick Harris wants to unlock his phone with facial recognition, the phone takes the image from the camera, calculates the embedding and checks if it is close to the registered embeddings corresponding to Neil Patrick Harris."
   ]
  },
  {
   "cell_type": "markdown",
   "metadata": {
    "execution": {}
   },
   "source": [
    "---\n",
    "# Section 2: Ethics – bias/discrimination due to pre-training datasets\n",
    "Popular facial recognition datasets like VGGFace2 and CASIA-WebFace consist primarily of caucasian faces. \n",
    "As a result, even state of the art facial recognition models [substantially underperform](https://openaccess.thecvf.com/content_ICCV_2019/papers/Wang_Racial_Faces_in_the_Wild_Reducing_Racial_Bias_by_Information_ICCV_2019_paper.pdf) when attempting to recognize faces of other races.\n",
    "\n",
    "Given the implications that poor model performance can have in fields like security and criminal justice, it's very important to be aware of these limitations if you're going to be building facial recognition systems.\n",
    "\n",
    "In this example we will work with a small subset from the [UTKFace](https://susanqq.github.io/UTKFace/) dataset with 49 pictures of black women and 49 picture of white women. We will use the same pretrained model as in Section 8 of Tutorial 1, see and discuss the consequences of the model being trained on an imbalanced dataset."
   ]
  },
  {
   "cell_type": "markdown",
   "metadata": {},
   "source": [
    "##  Video 2: Ethical aspects\n"
   ]
  },
  {
   "cell_type": "code",
   "execution_count": null,
   "metadata": {
    "cellView": "form",
    "execution": {},
    "tags": [
     "remove-input"
    ]
   },
   "outputs": [],
   "source": [
    "# @title Video 2: Ethical aspects\n",
    "from ipywidgets import widgets\n",
    "\n",
    "out2 = widgets.Output()\n",
    "with out2:\n",
    "  from IPython.display import IFrame\n",
    "  class BiliVideo(IFrame):\n",
    "    def __init__(self, id, page=1, width=400, height=300, **kwargs):\n",
    "      self.id=id\n",
    "      src = \"https://player.bilibili.com/player.html?bvid={0}&page={1}\".format(id, page)\n",
    "      super(BiliVideo, self).__init__(src, width, height, **kwargs)\n",
    "\n",
    "  video = BiliVideo(id=f\"BV1Jo4y1Q7K3\", width=730, height=410, fs=1)\n",
    "  print(\"Video available at https://www.bilibili.com/video/{0}\".format(video.id))\n",
    "  display(video)\n",
    "\n",
    "out1 = widgets.Output()\n",
    "with out1:\n",
    "  from IPython.display import YouTubeVideo\n",
    "  video = YouTubeVideo(id=f\"vYilJV3PqUM\", width=730, height=410, fs=1, rel=0)\n",
    "  print(\"Video available at https://youtube.com/watch?v=\" + video.id)\n",
    "  display(video)\n",
    "\n",
    "out = widgets.Tab([out1, out2])\n",
    "out.set_title(0, 'Youtube')\n",
    "out.set_title(1, 'Bilibili')\n",
    "\n",
    "display(out)"
   ]
  },
  {
   "cell_type": "markdown",
   "metadata": {
    "execution": {}
   },
   "source": [
    "## Section 2.1: Download the Data"
   ]
  },
  {
   "cell_type": "markdown",
   "metadata": {},
   "source": [
    "###  Run this cell to get the data and free ram by deleting old variables\n"
   ]
  },
  {
   "cell_type": "code",
   "execution_count": null,
   "metadata": {
    "cellView": "form",
    "execution": {},
    "tags": [
     "hide-input"
    ]
   },
   "outputs": [],
   "source": [
    "# @title Run this cell to get the data and free ram by deleting old variables\n",
    "\n",
    "!rm -rf cis_522_data/\n",
    "\n",
    "if 'embedding_tesnor' in locals():\n",
    "  del embedding_tensor\n",
    "if 'pca_tesnor' in locals():\n",
    "  del pca_tensor\n",
    "if 'tensor_to_display' in locals():\n",
    "  del tensor_to_display\n",
    "if 'bruce_embeddings' in locals():\n",
    "  del bruce_embeddings\n",
    "if 'neil_embeddings' in locals():\n",
    "  del neil_embeddings\n",
    "if 'pam_embeddings' in locals():\n",
    "  del pam_embeddings\n",
    "\n",
    "\n",
    "# remove directories, if previously run.\n",
    "!rm -rf __MACOSX/\n",
    "!rm -rf face_sample/\n",
    "!rm -rf face_sample2/\n",
    "!git clone --quiet https://github.com/richardvogg/face_sample.git\n",
    "!unzip -q face_sample/face_sample2.zip"
   ]
  },
  {
   "cell_type": "markdown",
   "metadata": {
    "execution": {}
   },
   "source": [
    "## Section 2.2: Load, view and transform the data"
   ]
  },
  {
   "cell_type": "code",
   "execution_count": null,
   "metadata": {
    "execution": {}
   },
   "outputs": [],
   "source": [
    "black_female_tensor, black_female_display = process_images('face_sample2/??_1_1_*.jpg', size=150)\n",
    "white_female_tensor, white_female_display = process_images('face_sample2/??_1_0_*.jpg', size=150)"
   ]
  },
  {
   "cell_type": "markdown",
   "metadata": {
    "execution": {}
   },
   "source": [
    "We can check the dimensions of these tensors and see that for each group we have images of size 150x150 and three channels (RGB) of 49 individuals.\n",
    "\n",
    "**Note:** Originally, the size of images was 200x200, but due to RAM resources, we have reduce it. You can change it back, i.e., `size=200`."
   ]
  },
  {
   "cell_type": "code",
   "execution_count": null,
   "metadata": {
    "execution": {}
   },
   "outputs": [],
   "source": [
    "print(white_female_tensor.shape)\n",
    "print(black_female_tensor.shape)"
   ]
  },
  {
   "cell_type": "markdown",
   "metadata": {},
   "source": [
    "###  Visualize some example faces\n"
   ]
  },
  {
   "cell_type": "code",
   "execution_count": null,
   "metadata": {
    "cellView": "form",
    "execution": {},
    "tags": [
     "hide-input"
    ]
   },
   "outputs": [],
   "source": [
    "# @title Visualize some example faces\n",
    "tensor_to_display = torch.cat((white_female_display[:15],\n",
    "                               black_female_display[:15]))\n",
    "\n",
    "plt.figure(figsize=(12, 12))\n",
    "plt.imshow(make_grid(tensor_to_display, nrow = 15).permute(1, 2, 0))\n",
    "plt.axis('off')\n",
    "plt.show()"
   ]
  },
  {
   "cell_type": "markdown",
   "metadata": {
    "execution": {}
   },
   "source": [
    "## Section 2.3: Calculate embeddings\n",
    "\n",
    "We use the same pretrained facial recognition network as in section 8 to calculate embeddings. If you have memory issues running this part, go to Edit > Notebook settings and check if GPU is selected as Hardware accelerator. If this does not help you can restart the notebook, go to Runtime -> Restart runtime."
   ]
  },
  {
   "cell_type": "code",
   "execution_count": null,
   "metadata": {
    "execution": {}
   },
   "outputs": [],
   "source": [
    "resnet.classify = False\n",
    "black_female_embeddings = resnet(black_female_tensor.to(DEVICE))\n",
    "white_female_embeddings = resnet(white_female_tensor.to(DEVICE))"
   ]
  },
  {
   "cell_type": "markdown",
   "metadata": {
    "execution": {}
   },
   "source": [
    "We will use the embeddings to show that the model was trained on an imbalanced dataset. For this, we are going to calculate a distance matrix of all combinations of images, like in this small example with $n=3$ (in our case $n=98$).\n",
    "\n",
    "<img height=500 src=https://raw.githubusercontent.com/richardvogg/face_sample/main/04_DistanceMatrix.png>\n",
    "\n",
    "Calculate the distance between each pair of image embeddings in our tensor and visualize all the distances. Remember that two embeddings are vectors and the distance between two vectors is the Euclidean distance."
   ]
  },
  {
   "cell_type": "markdown",
   "metadata": {},
   "source": [
    "###  Function to calculate pairwise distances\n"
   ]
  },
  {
   "cell_type": "markdown",
   "metadata": {},
   "source": [
    " `torch.cdist` is used\n"
   ]
  },
  {
   "cell_type": "code",
   "execution_count": null,
   "metadata": {
    "cellView": "form",
    "execution": {},
    "tags": [
     "hide-input"
    ]
   },
   "outputs": [],
   "source": [
    "# @title Function to calculate pairwise distances\n",
    "# @markdown `torch.cdist` is used\n",
    "def calculate_pairwise_distances(embedding_tensor):\n",
    "  \"\"\"\n",
    "  This function calculates the distance between each pair of image embeddings\n",
    "  in a tensor using the `torch.cdist`.\n",
    "\n",
    "  Parameters:\n",
    "    embedding_tensor : torch.Tensor\n",
    "      A num_images x embedding_dimension tensor\n",
    "\n",
    "  Returns:\n",
    "    distances : torch.Tensor\n",
    "      A num_images x num_images tensor containing the pairwise distances between\n",
    "      each to image embedding\n",
    "  \"\"\"\n",
    "\n",
    "  distances = torch.cdist(embedding_tensor, embedding_tensor)\n",
    "\n",
    "  return distances"
   ]
  },
  {
   "cell_type": "markdown",
   "metadata": {},
   "source": [
    "###  Visualize the distances\n"
   ]
  },
  {
   "cell_type": "code",
   "execution_count": null,
   "metadata": {
    "cellView": "form",
    "execution": {},
    "tags": [
     "hide-input"
    ]
   },
   "outputs": [],
   "source": [
    "# @title Visualize the distances\n",
    "\n",
    "embedding_tensor = torch.cat((black_female_embeddings,\n",
    "                              white_female_embeddings)).to(device='cpu')\n",
    "\n",
    "distances = calculate_pairwise_distances(embedding_tensor)\n",
    "\n",
    "plt.figure(figsize=(8, 8))\n",
    "plt.imshow(distances.detach().cpu().numpy())\n",
    "plt.annotate('Black female', (2, -0.5), fontsize=20, va='bottom')\n",
    "plt.annotate('White female', (52, -0.5), fontsize=20, va='bottom')\n",
    "plt.annotate('Black female', (-0.5, 45), fontsize=20, rotation=90, ha='right')\n",
    "plt.annotate('White female', (-0.5, 90), fontsize=20, rotation=90, ha='right')\n",
    "cbar = plt.colorbar()\n",
    "cbar.set_label('Distance', fontsize=16)\n",
    "plt.axis('off')\n",
    "plt.show()"
   ]
  },
  {
   "cell_type": "markdown",
   "metadata": {
    "execution": {}
   },
   "source": [
    "## Exercise 2.1\n",
    "\n",
    "What do you observe? The faces of which group are more similar to each other for the Face Detection algorithm?"
   ]
  },
  {
   "cell_type": "markdown",
   "metadata": {
    "colab_type": "text",
    "execution": {}
   },
   "source": [
    "[*Click for solution*](https://github.com/NeuromatchAcademy/course-content-dl/tree/main//tutorials/W2D2_ModernConvnets/solutions/W2D2_Tutorial2_Solution_866d0881.py)\n",
    "\n"
   ]
  },
  {
   "cell_type": "markdown",
   "metadata": {
    "execution": {}
   },
   "source": [
    "## Exercise 2.2\n",
    "- What does it mean in real life applications that the distance is smaller between the embeddings of one group?\n",
    "- Can you come up with example situations/applications where this has a negative impact?\n",
    "- What could you do to avoid these problems?"
   ]
  },
  {
   "cell_type": "markdown",
   "metadata": {
    "colab_type": "text",
    "execution": {}
   },
   "source": [
    "[*Click for solution*](https://github.com/NeuromatchAcademy/course-content-dl/tree/main//tutorials/W2D2_ModernConvnets/solutions/W2D2_Tutorial2_Solution_b92b2f40.py)\n",
    "\n"
   ]
  },
  {
   "cell_type": "markdown",
   "metadata": {
    "execution": {}
   },
   "source": [
    "Lastly, to show the importance of the dataset which you use to pretrain your model, look at how much space white men and women take in different embeddings. FairFace is a dataset which is specifically created with completely balanced classes. The blue dots in all visualizations are white male and white female."
   ]
  },
  {
   "cell_type": "markdown",
   "metadata": {
    "execution": {}
   },
   "source": [
    "<img src=https://i.imgur.com/hCdCBOa.png>\n",
    "\n",
    "Adopted from [Kärkkäinen and Joo, 2019, arXiv](https://arxiv.org/abs/1908.04913)"
   ]
  },
  {
   "cell_type": "markdown",
   "metadata": {
    "execution": {}
   },
   "source": [
    "---\n",
    "# Summary\n",
    "\n",
    "In this tutorial we have learned how to apply a modern convnet in real application such as facial recognition. However, as the state-of-the-art tools for facial recognition are trained mostly with caucasian faces, they fail or they perform much worst when they have to deal with faces from other races."
   ]
  },
  {
   "cell_type": "markdown",
   "metadata": {},
   "source": [
    "##  Video 3: Summary and Outlook\n"
   ]
  },
  {
   "cell_type": "code",
   "execution_count": null,
   "metadata": {
    "cellView": "form",
    "execution": {},
    "tags": [
     "remove-input"
    ]
   },
   "outputs": [],
   "source": [
    "# @title Video 3: Summary and Outlook\n",
    "from ipywidgets import widgets\n",
    "\n",
    "out2 = widgets.Output()\n",
    "with out2:\n",
    "  from IPython.display import IFrame\n",
    "  class BiliVideo(IFrame):\n",
    "    def __init__(self, id, page=1, width=400, height=300, **kwargs):\n",
    "      self.id=id\n",
    "      src = \"https://player.bilibili.com/player.html?bvid={0}&page={1}\".format(id, page)\n",
    "      super(BiliVideo, self).__init__(src, width, height, **kwargs)\n",
    "\n",
    "  video = BiliVideo(id=f\"BV1So4y1D7Ev\", width=730, height=410, fs=1)\n",
    "  print(\"Video available at https://www.bilibili.com/video/{0}\".format(video.id))\n",
    "  display(video)\n",
    "\n",
    "out1 = widgets.Output()\n",
    "with out1:\n",
    "  from IPython.display import YouTubeVideo\n",
    "  video = YouTubeVideo(id=f\"sjj0-7i6XfE\", width=730, height=410, fs=1, rel=0)\n",
    "  print(\"Video available at https://youtube.com/watch?v=\" + video.id)\n",
    "  display(video)\n",
    "\n",
    "out = widgets.Tab([out1, out2])\n",
    "out.set_title(0, 'Youtube')\n",
    "out.set_title(1, 'Bilibili')\n",
    "\n",
    "display(out)"
   ]
  },
  {
   "cell_type": "markdown",
   "metadata": {
    "execution": {}
   },
   "source": [
    "---\n",
    "# Bonus : Within Sum of Squares\n",
    "\n",
    "We can try to put this observation in numbers. For this we work with the embeddings.\n",
    "We want to calculate the centroid of each group, which is the average of the 49 embeddings of the group. As each embedding vector has a dimension of 512, the centroid will also have this dimension.\n",
    "\n",
    "Now we can calculate how far away the observations $x$ of each group $S_i$ are from the centroid $\\mu_i$. This concept is known as Within Sum of Squares (WSS) from cluster analysis.\n",
    "\n",
    "\\begin{equation}\n",
    "\\text{WSS} = \\sum_{x\\in S_i} ||x - \\mu_i||^2\n",
    "\\end{equation}\n",
    "\n",
    "where $|| \\cdot ||$ is the Euclidean norm.\n",
    "\n",
    "The Within Sum of Squares (WSS) is a number which measures this variability of a group in the embedding space. If all embeddings of one group were very close to each other, the WSS would be very small. In our case we see that the WSS for the black females is much smaller than for the white females. This means that it is much harder for the model to distinguish two black females than to distinguish two white females. The WSS complements the observation from the distance matrix, where we observed overall smaller pairwise distances between black females.\n"
   ]
  },
  {
   "cell_type": "markdown",
   "metadata": {},
   "source": [
    "##  Function to calculate WSS\n"
   ]
  },
  {
   "cell_type": "code",
   "execution_count": null,
   "metadata": {
    "cellView": "form",
    "execution": {},
    "tags": [
     "hide-input"
    ]
   },
   "outputs": [],
   "source": [
    "# @title Function to calculate WSS\n",
    "\n",
    "def wss(group):\n",
    "  \"\"\"\n",
    "  This function returns the sum of squared distances of the N vectors of a\n",
    "  group tensor (N x K) to its centroid (1 x K).\n",
    "\n",
    "  Args:\n",
    "    group: A image_count x embedding_size tensor\n",
    "\n",
    "  Returns:\n",
    "    sum_sq: A 1x1 tensor with the sum of squared distances.\n",
    "\n",
    "  Hints:\n",
    "    - to calculate the centroid, torch.mean() will be of use.\n",
    "    - We need the mean of the N=49 observations. If our input tensor is of size\n",
    "      N x K, we expect the centroid to be of dimensions 1 x K.\n",
    "      Use the axis argument within torch.mean\n",
    "    \"\"\"\n",
    "\n",
    "  centroid = torch.mean(group, axis=0)\n",
    "  distance = torch.linalg.norm(group - centroid.view(1, -1), axis=1)\n",
    "  sum_sq = torch.sum(distance**2)\n",
    "  return sum_sq"
   ]
  },
  {
   "cell_type": "markdown",
   "metadata": {},
   "source": [
    " Let's calculate the WSS for the two groups of our example.\n"
   ]
  },
  {
   "cell_type": "code",
   "execution_count": null,
   "metadata": {
    "cellView": "form",
    "execution": {},
    "tags": [
     "hide-input"
    ]
   },
   "outputs": [],
   "source": [
    "# @markdown Let's calculate the WSS for the two groups of our example.\n",
    "\n",
    "print(f\"Black female embedding WSS: {np.round(wss(black_female_embeddings).item(), 2)}\")\n",
    "print(f\"White female embedding WSS: {np.round(wss(white_female_embeddings).item(), 2)}\")"
   ]
  }
 ],
 "metadata": {
  "colab": {
   "collapsed_sections": [],
   "include_colab_link": true,
   "name": "W2D2_Tutorial2",
   "provenance": [],
   "toc_visible": true
  },
  "kernel": {
   "display_name": "Python 3",
   "language": "python",
   "name": "python3"
  },
  "kernelspec": {
   "display_name": "Python 3",
   "language": "python",
   "name": "python3"
  },
  "language_info": {
   "codemirror_mode": {
    "name": "ipython",
    "version": 3
   },
   "file_extension": ".py",
   "mimetype": "text/x-python",
   "name": "python",
   "nbconvert_exporter": "python",
   "pygments_lexer": "ipython3",
   "version": "3.7.6"
  },
  "nteract": {
   "version": "0.28.0"
  }
 },
 "nbformat": 4,
 "nbformat_minor": 0
}