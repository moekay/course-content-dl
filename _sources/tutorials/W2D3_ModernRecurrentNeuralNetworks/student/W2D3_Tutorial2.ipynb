{
 "cells": [
  {
   "cell_type": "markdown",
   "metadata": {
    "colab_type": "text",
    "execution": {},
    "id": "view-in-github"
   },
   "source": [
    "<a href=\"https://colab.research.google.com/github/NeuromatchAcademy/course-content-dl/blob/main/tutorials/W2D3_ModernRecurrentNeuralNetworks/student/W2D3_Tutorial2.ipynb\" target=\"_blank\"><img alt=\"Open In Colab\" src=\"https://colab.research.google.com/assets/colab-badge.svg\"/></a>"
   ]
  },
  {
   "cell_type": "markdown",
   "metadata": {
    "execution": {}
   },
   "source": [
    "# Tutorial 2: Modern RNNs and their variants\n",
    "**Week 2, Day 3: Modern RNNs**\n",
    "\n",
    "**By Neuromatch Academy**\n",
    "\n",
    "__Content creators:__ Bhargav Srinivasa Desikan, Anis Zahedifard, James Evans\n",
    "\n",
    "__Content reviewers:__ Lily Cheng, Melvin Selim Atay, Ezekiel Williams\n",
    "\n",
    "__Production editors:__ Roberto Guidotti, Spiros Chavlis"
   ]
  },
  {
   "cell_type": "markdown",
   "metadata": {
    "execution": {}
   },
   "source": [
    "**Our 2021 Sponsors, including Presenting Sponsor Facebook Reality Labs**\n",
    "\n",
    "<p align='center'><img src='https://github.com/NeuromatchAcademy/widgets/blob/master/sponsors.png?raw=True'/></p>"
   ]
  },
  {
   "cell_type": "markdown",
   "metadata": {
    "execution": {}
   },
   "source": [
    "---\n",
    "# Tutorial objectives\n",
    "\n",
    "In this tutorial you will learn about:\n",
    "1. Modern Recurrent Neural Networks and their use\n",
    "2. Long Short-Term Memory (LSTM), Gated Recurrent Unit (GRU) and the memory cell\n",
    "3. Sequence to Sequence and Encoder-Decoder Networks\n",
    "4. Models of attention for text classification"
   ]
  },
  {
   "cell_type": "markdown",
   "metadata": {},
   "source": [
    "##  Tutorial slides\n"
   ]
  },
  {
   "cell_type": "markdown",
   "metadata": {},
   "source": [
    " These are the slides for the videos in this tutorials\n"
   ]
  },
  {
   "cell_type": "code",
   "execution_count": null,
   "metadata": {
    "cellView": "form",
    "execution": {},
    "tags": [
     "remove-input"
    ]
   },
   "outputs": [],
   "source": [
    "# @title Tutorial slides\n",
    "\n",
    "# @markdown These are the slides for the videos in this tutorials\n",
    "from IPython.display import IFrame\n",
    "IFrame(src=f\"https://mfr.ca-1.osf.io/render?url=https://osf.io/n23hy/?direct%26mode=render%26action=download%26mode=render\", width=854, height=480)"
   ]
  },
  {
   "cell_type": "markdown",
   "metadata": {
    "execution": {}
   },
   "source": [
    "---\n",
    "# Setup\n",
    "\n",
    "We will use the IMDB dataset, which consists of a set of 25,000 highly polar movie reviews for training, and 25,000 for testing. We will use torchtext to download the dataset and prepare it for training, validation and testing. Our goal is to build a model that performs binary classification between positive and negative movie reviews.\n",
    "\n",
    "We use `fix_length` argument to pad sentences of length less than `sentence_length` or truncate sentences of length greater than `sentence_length`. "
   ]
  },
  {
   "cell_type": "markdown",
   "metadata": {},
   "source": [
    "##  Install dependecies\n"
   ]
  },
  {
   "cell_type": "code",
   "execution_count": null,
   "metadata": {
    "cellView": "form",
    "execution": {},
    "tags": [
     "hide-input"
    ]
   },
   "outputs": [],
   "source": [
    "# @title Install dependecies\n",
    "!pip install --upgrade gensim --quiet\n",
    "!pip install torchtext==0.4.0 --quiet\n",
    "!pip install unidecode --quiet\n",
    "!pip install d2l --quiet\n",
    "!pip install nltk --quiet"
   ]
  },
  {
   "cell_type": "code",
   "execution_count": null,
   "metadata": {
    "execution": {}
   },
   "outputs": [],
   "source": [
    "# Imports\n",
    "import math\n",
    "import time\n",
    "import nltk\n",
    "import torch\n",
    "import random\n",
    "import collections\n",
    "\n",
    "import numpy as np\n",
    "import torch.nn as nn\n",
    "import matplotlib.pyplot as plt\n",
    "\n",
    "from d2l import torch as d2l\n",
    "from torch.autograd import Variable\n",
    "from torchtext import data, datasets\n",
    "from torch.nn import functional as F"
   ]
  },
  {
   "cell_type": "markdown",
   "metadata": {},
   "source": [
    "##  Figure Settings\n"
   ]
  },
  {
   "cell_type": "code",
   "execution_count": null,
   "metadata": {
    "cellView": "form",
    "execution": {},
    "tags": [
     "hide-input"
    ]
   },
   "outputs": [],
   "source": [
    "# @title Figure Settings\n",
    "import ipywidgets as widgets\n",
    "%config InlineBackend.figure_format = 'retina'\n",
    "plt.style.use(\"https://raw.githubusercontent.com/NeuromatchAcademy/content-creation/main/nma.mplstyle\")"
   ]
  },
  {
   "cell_type": "markdown",
   "metadata": {},
   "source": [
    "##  Download the dataset\n"
   ]
  },
  {
   "cell_type": "code",
   "execution_count": null,
   "metadata": {
    "cellView": "form",
    "execution": {},
    "tags": [
     "hide-input"
    ]
   },
   "outputs": [],
   "source": [
    "# @title Download the dataset\n",
    "nltk.download('punkt')\n",
    "nltk.download('averaged_perceptron_tagger')\n",
    "nltk.download('brown')\n",
    "nltk.download('webtext')"
   ]
  },
  {
   "cell_type": "markdown",
   "metadata": {},
   "source": [
    "##  Helper functions\n"
   ]
  },
  {
   "cell_type": "code",
   "execution_count": null,
   "metadata": {
    "cellView": "form",
    "execution": {},
    "tags": [
     "hide-input"
    ]
   },
   "outputs": [],
   "source": [
    "# @title Helper functions\n",
    "\n",
    "def plot_train_val(x, train, val, train_label,\n",
    "                   val_label, title, y_label,\n",
    "                   color):\n",
    "\n",
    "  plt.plot(x, train, label=train_label, color=color)\n",
    "  plt.plot(x, val, label=val_label, color=color, linestyle='--')\n",
    "  plt.legend(loc='lower right')\n",
    "  plt.xlabel('epoch')\n",
    "  plt.ylabel(y_label)\n",
    "  plt.title(title)\n",
    "\n",
    "\n",
    "def count_parameters(model):\n",
    "  parameters = sum(p.numel() for p in model.parameters() if p.requires_grad)\n",
    "  return parameters\n",
    "\n",
    "\n",
    "def init_weights(m):\n",
    "  if type(m) in (nn.Linear, nn.Conv1d):\n",
    "    nn.init.xavier_uniform_(m.weight)\n",
    "\n",
    "\n",
    "#  Dataset Loader\n",
    "def load_dataset(sentence_length=50, batch_size=32, seed=522):\n",
    "\n",
    "  TEXT = data.Field(sequential=True,\n",
    "                    tokenize=nltk.word_tokenize,\n",
    "                    lower=True,\n",
    "                    include_lengths=True,\n",
    "                    batch_first=True,\n",
    "                    fix_length=sentence_length)\n",
    "  LABEL = data.LabelField(dtype=torch.float)\n",
    "\n",
    "  train_data, test_data = datasets.IMDB.splits(TEXT, LABEL)\n",
    "\n",
    "  # If no specific vector embeddings are specified,\n",
    "  # Torchtext initializes random vector embeddings\n",
    "  # which would get updated during training through backpropagation.\n",
    "  TEXT.build_vocab(train_data)\n",
    "  LABEL.build_vocab(train_data)\n",
    "\n",
    "  train_data, valid_data = train_data.split(split_ratio=0.7,\n",
    "                                            random_state=random.seed(seed))\n",
    "  train_iter, valid_iter, test_iter = data.BucketIterator.splits((train_data, valid_data, test_data),\n",
    "                                                                  batch_size=batch_size, sort_key=lambda x: len(x.text),\n",
    "                                                                  repeat=False, shuffle=True)\n",
    "  vocab_size = len(TEXT.vocab)\n",
    "\n",
    "  print(f\"Data loading is completed. Sentence length: {sentence_length}, \"\n",
    "        f\"Batch size: {batch_size}, and seed: {seed}\")\n",
    "\n",
    "  return TEXT, vocab_size, train_iter, valid_iter, test_iter\n",
    "\n",
    "\n",
    "def text_from_dict(arr, dictionary):\n",
    "  text = []\n",
    "  for element in arr:\n",
    "    text.append(dictionary[element])\n",
    "  return text\n",
    "\n",
    "\n",
    "def view_data(TEXT, train_iter):\n",
    "  for idx, batch in enumerate(train_iter):\n",
    "    text = batch.text[0]\n",
    "    target = batch.label\n",
    "\n",
    "    for itr in range(25, 30):\n",
    "      print('Review: ', ' '.join(text_from_dict(text[itr], TEXT.vocab.itos)))\n",
    "      print('Label: ', int(target[itr].item()), '\\n')\n",
    "\n",
    "    print('[0: Negative Review, 1: Positive Review]')\n",
    "    if idx==0:\n",
    "      break\n",
    "\n",
    "\n",
    "# Training function\n",
    "def train(model, device, train_iter, valid_iter, epochs, learning_rate):\n",
    "  criterion = nn.CrossEntropyLoss()\n",
    "  optimizer = torch.optim.Adam(model.parameters(), lr=learning_rate)\n",
    "\n",
    "  train_loss, validation_loss = [], []\n",
    "  train_acc, validation_acc = [], []\n",
    "\n",
    "  for epoch in range(epochs):\n",
    "    #train\n",
    "    model.train()\n",
    "    running_loss = 0.\n",
    "    correct, total = 0, 0\n",
    "    steps = 0\n",
    "\n",
    "    for idx, batch in enumerate(train_iter):\n",
    "      text = batch.text[0]\n",
    "      # print(type(text), text.shape)\n",
    "      target = batch.label\n",
    "      target = torch.autograd.Variable(target).long()\n",
    "      text, target = text.to(device), target.to(device)\n",
    "\n",
    "      # add micro for coding training loop\n",
    "      optimizer.zero_grad()\n",
    "      output = model(text)\n",
    "\n",
    "      loss = criterion(output, target)\n",
    "      loss.backward()\n",
    "      optimizer.step()\n",
    "      steps += 1\n",
    "      running_loss += loss.item()\n",
    "\n",
    "      # get accuracy\n",
    "      _, predicted = torch.max(output, 1)\n",
    "      total += target.size(0)\n",
    "      correct += (predicted == target).sum().item()\n",
    "\n",
    "    train_loss.append(running_loss/len(train_iter))\n",
    "    train_acc.append(correct/total)\n",
    "\n",
    "    print(f'Epoch: {epoch + 1}, '\n",
    "          f'Training Loss: {running_loss/len(train_iter):.4f}, '\n",
    "          f'Training Accuracy: {100*correct/total: .2f}%')\n",
    "\n",
    "    # evaluate on validation data\n",
    "    model.eval()\n",
    "    running_loss = 0.\n",
    "    correct, total = 0, 0\n",
    "\n",
    "    with torch.no_grad():\n",
    "      for idx, batch in enumerate(valid_iter):\n",
    "        text = batch.text[0]\n",
    "        target = batch.label\n",
    "        target = torch.autograd.Variable(target).long()\n",
    "        text, target = text.to(device), target.to(device)\n",
    "\n",
    "        optimizer.zero_grad()\n",
    "        output = model(text)\n",
    "\n",
    "        loss = criterion(output, target)\n",
    "        running_loss += loss.item()\n",
    "\n",
    "        # get accuracy\n",
    "        _, predicted = torch.max(output, 1)\n",
    "        total += target.size(0)\n",
    "        correct += (predicted == target).sum().item()\n",
    "\n",
    "    validation_loss.append(running_loss/len(valid_iter))\n",
    "    validation_acc.append(correct/total)\n",
    "\n",
    "    print (f'Validation Loss: {running_loss/len(valid_iter):.4f}, '\n",
    "           f'Validation Accuracy: {100*correct/total: .2f}%')\n",
    "\n",
    "  return train_loss, train_acc, validation_loss, validation_acc\n",
    "\n",
    "\n",
    "# Testing function\n",
    "def test(model, device, test_iter):\n",
    "  model.eval()\n",
    "  correct = 0\n",
    "  total = 0\n",
    "  with torch.no_grad():\n",
    "    for idx, batch in enumerate(test_iter):\n",
    "      text = batch.text[0]\n",
    "      target = batch.label\n",
    "      target = torch.autograd.Variable(target).long()\n",
    "      text, target = text.to(device), target.to(device)\n",
    "\n",
    "      outputs = model(text)\n",
    "      _, predicted = torch.max(outputs, 1)\n",
    "      total += target.size(0)\n",
    "      correct += (predicted == target).sum().item()\n",
    "\n",
    "    acc = 100 * correct / total\n",
    "    return acc"
   ]
  },
  {
   "cell_type": "markdown",
   "metadata": {},
   "source": [
    "##  Set random seed\n"
   ]
  },
  {
   "cell_type": "markdown",
   "metadata": {},
   "source": [
    " Executing `set_seed(seed=seed)` you are setting the seed\n"
   ]
  },
  {
   "cell_type": "code",
   "execution_count": null,
   "metadata": {
    "cellView": "form",
    "execution": {},
    "tags": [
     "hide-input"
    ]
   },
   "outputs": [],
   "source": [
    "# @title Set random seed\n",
    "\n",
    "# @markdown Executing `set_seed(seed=seed)` you are setting the seed\n",
    "\n",
    "# for DL its critical to set the random seed so that students can have a\n",
    "# baseline to compare their results to expected results.\n",
    "# Read more here: https://pytorch.org/docs/stable/notes/randomness.html\n",
    "\n",
    "# Call `set_seed` function in the exercises to ensure reproducibility.\n",
    "import random\n",
    "\n",
    "def set_seed(seed=None, seed_torch=True):\n",
    "  if seed is None:\n",
    "    seed = np.random.choice(2 ** 32)\n",
    "  random.seed(seed)\n",
    "  np.random.seed(seed)\n",
    "  if seed_torch:\n",
    "    torch.manual_seed(seed)\n",
    "    torch.cuda.manual_seed_all(seed)\n",
    "    torch.cuda.manual_seed(seed)\n",
    "    torch.backends.cudnn.benchmark = False\n",
    "    torch.backends.cudnn.deterministic = True\n",
    "\n",
    "  print(f'Random seed {seed} has been set.')\n",
    "\n",
    "# In case that `DataLoader` is used\n",
    "def seed_worker(worker_id):\n",
    "  worker_seed = torch.initial_seed() % 2**32\n",
    "  np.random.seed(worker_seed)\n",
    "  random.seed(worker_seed)"
   ]
  },
  {
   "cell_type": "markdown",
   "metadata": {},
   "source": [
    "##  Set device (GPU or CPU). Execute `set_device()`\n"
   ]
  },
  {
   "cell_type": "code",
   "execution_count": null,
   "metadata": {
    "cellView": "form",
    "execution": {},
    "tags": [
     "hide-input"
    ]
   },
   "outputs": [],
   "source": [
    "# @title Set device (GPU or CPU). Execute `set_device()`\n",
    "# inform the user if the notebook uses GPU or CPU.\n",
    "\n",
    "def set_device():\n",
    "  device = \"cuda\" if torch.cuda.is_available() else \"cpu\"\n",
    "  if device != \"cuda\":\n",
    "    print(\"WARNING: For this notebook to perform best, \"\n",
    "        \"if possible, in the menu under `Runtime` -> \"\n",
    "        \"`Change runtime type.`  select `GPU` \")\n",
    "  else:\n",
    "    print(\"GPU is enabled in this notebook.\")\n",
    "\n",
    "  return device"
   ]
  },
  {
   "cell_type": "code",
   "execution_count": null,
   "metadata": {
    "execution": {}
   },
   "outputs": [],
   "source": [
    "DEVICE = set_device()\n",
    "SEED = 2021\n",
    "set_seed(seed=SEED)"
   ]
  },
  {
   "cell_type": "markdown",
   "metadata": {
    "execution": {}
   },
   "source": [
    "---\n",
    "# Section 1: Recurrent Neural Networks (RNNs)"
   ]
  },
  {
   "cell_type": "markdown",
   "metadata": {},
   "source": [
    "##  Video 1: Recurrent Neural Networks\n"
   ]
  },
  {
   "cell_type": "code",
   "execution_count": null,
   "metadata": {
    "cellView": "form",
    "execution": {},
    "tags": [
     "remove-input"
    ]
   },
   "outputs": [],
   "source": [
    "# @title Video 1: Recurrent Neural Networks\n",
    "from ipywidgets import widgets\n",
    "\n",
    "out2 = widgets.Output()\n",
    "with out2:\n",
    "  from IPython.display import IFrame\n",
    "  class BiliVideo(IFrame):\n",
    "      def __init__(self, id, page=1, width=400, height=300, **kwargs):\n",
    "          self.id=id\n",
    "          src = \"https://player.bilibili.com/player.html?bvid={0}&page={1}\".format(id, page)\n",
    "          super(BiliVideo, self).__init__(src, width, height, **kwargs)\n",
    "\n",
    "  video = BiliVideo(id=f\"BV1Ng41177az\", width=730, height=410, fs=1)\n",
    "  print(\"Video available at https://www.bilibili.com/video/{0}\".format(video.id))\n",
    "  display(video)\n",
    "\n",
    "out1 = widgets.Output()\n",
    "with out1:\n",
    "  from IPython.display import YouTubeVideo\n",
    "  video = YouTubeVideo(id=f\"hIHocwdyY7M\", width=730, height=410, fs=1, rel=0)\n",
    "  print(\"Video available at https://youtube.com/watch?v=\" + video.id)\n",
    "  display(video)\n",
    "\n",
    "out = widgets.Tab([out1, out2])\n",
    "out.set_title(0, 'Youtube')\n",
    "out.set_title(1, 'Bilibili')\n",
    "\n",
    "display(out)"
   ]
  },
  {
   "cell_type": "markdown",
   "metadata": {
    "execution": {}
   },
   "source": [
    "Recurrent neural networks, or RNNs , are a family of neural networks for processing sequential data. Just as a convolutional network is specialized for processing a grid of values X such as an image, a recurrent neural network is specialized for processing a sequence of values. RNNs prove useful in many scenarios where other deep learning models are not effective.\n",
    "\n",
    "* Not all problems can be converted into one with fixed length inputs and outputs.\n",
    "\n",
    "\n",
    "* The deep learning models we have seen so far pick samples randomly. This might not be the best strategy for a task of understanding meaning from a piece of text. Words in a text occur in a sequence and therefore cannot be permuted randomly to get the meaning."
   ]
  },
  {
   "cell_type": "markdown",
   "metadata": {
    "execution": {}
   },
   "source": [
    "The following provides more data than the video (but can be skipped for now). For more detail, see the sources, the [deep learning book](https://www.deeplearningbook.org/contents/rnn.html), and [d2l.ai](https://d2l.ai/chapter_recurrent-neural-networks/rnn.html)\n",
    "\n",
    "When the recurrent network is trained to perform a task that requires predicting the future from the past, the network typically learns to use a hidden state at time step $t$, $H_t$ as a kind of lossy summary of the task-relevant aspects of the past sequence of inputs up to $t$. This summary is in general necessarily lossy, since it maps an arbitrary length sequence $(X_t, X_{t-1}, X_{t-2}, . . . , X_{2}, X_{1})$ to a ﬁxed length vector $H_t$.\n",
    "\n",
    "We can represent the unfolded recurrence after $t$ steps with a function $G_t$:\n",
    "\n",
    "\\begin{align}\n",
    "H_t &= G_t(X_t, X_{t-1}, X_{t-2}, \\dots, X_{2}, X_{1}) \\\\\n",
    "&= f(H_{t−1}, X_{t}; \\theta)\n",
    "\\end{align}\n",
    "\n",
    "where $\\theta$ denotes the model parameters, i.e., weights and biases.\n",
    "\n",
    "<img width=700 src=\"https://blog.floydhub.com/content/images/2019/04/rnn-2.gif\"> \n",
    "\n",
    "The function $g_t$ takes the whole past sequence $(X_t, X_{t-1}, X_{t-2}, . . . , X_{2}, X_{1})$ as input and produces the current state, but the unfolded recurrent structure allows us to factorize $g_t$ into repeated application of a function f. The unfolding process thus introduces two major advantages:\n",
    "\n",
    "* Regardless of the sequence length, the learned model always has the same input size, because it is speciﬁed in terms of transition from one state to another state, rather than speciﬁed in terms of a variable-length history of states.\n",
    "\n",
    "* It is possible to use the same transition function $f$ with the same parameters at every time step.\n",
    "\n",
    "\n",
    "We will now formally write down the equations of a recurrent unit.\n",
    "\n",
    "\n",
    "Assume that we have a minibatch of inputs $X_t \\in R^{nxd}$ at time step $t$ . In other words, for a minibatch of $n$ sequence examples, each row of $X_t$  corresponds to one example at time step $t$ from the sequence. Next, we denote by $H_t \\in R^{nxh}$ the hidden variable of time step $t$. Unlike the MLP, here we save the hidden variable $H_{t-1}$ from the previous time step and introduce a new weight parameter $W_{hh} \\in R^{hxh}$ to describe how to use the hidden variable of the previous time step in the current time step. Specifically, the calculation of the hidden variable of the current time step is determined by the input of the current time step together with the hidden variable of the previous time step:\n",
    "\n",
    "\\begin{equation}\n",
    "H_t = \\phi(X_t W_{xh} + H_{t-1}W_{hh} + b_h)\n",
    "\\end{equation}\n",
    "\n",
    "For time step $t$, the output of the output layer is similar to the computation in the MLP:\n",
    "\n",
    "\\begin{equation}\n",
    "O_t = H_t W_{hq} + b_q\n",
    "\\end{equation}\n",
    " \n",
    "Parameters of the RNN include the weights $W_{xh} \\in R^{dxh}, W_{hh} \\in R^{hxh}$ , and the bias $b_h \\in R^{1xh}$ of the hidden layer, together with the weights $W_{hq} \\in R^{hxq}$ and the bias $b_q \\in R^{1xq}$ of the output layer. It is worth mentioning that even at different time steps, RNNs always use these model parameters. Therefore, the parameterization cost of an RNN does not grow as the number of time steps increases.\n",
    "\n",
    "<img width=700 align=\"center\" src=\"https://d2l.ai/_images/rnn.svg\">"
   ]
  },
  {
   "cell_type": "markdown",
   "metadata": {
    "execution": {}
   },
   "source": [
    "## Section 1.1: Load and View of the dataset\n",
    "\n",
    "Let us first load the dataset using the helper function `load_data`, which takes three arguments; the `sentence_length`, `batch_size`, and the `seed`. The default values are 50, 32, and 522, respectively. Execute the cell below to load the data."
   ]
  },
  {
   "cell_type": "markdown",
   "metadata": {},
   "source": [
    " Dataset Loading with default params\n"
   ]
  },
  {
   "cell_type": "code",
   "execution_count": null,
   "metadata": {
    "cellView": "form",
    "execution": {},
    "tags": [
     "hide-input"
    ]
   },
   "outputs": [],
   "source": [
    "# @markdown Dataset Loading with default params\n",
    "TEXT, vocab_size, train_iter, valid_iter, test_iter = load_dataset(seed=SEED)"
   ]
  },
  {
   "cell_type": "markdown",
   "metadata": {
    "execution": {}
   },
   "source": [
    "Now, let's view the data!"
   ]
  },
  {
   "cell_type": "markdown",
   "metadata": {},
   "source": [
    " Visualize dataset\n"
   ]
  },
  {
   "cell_type": "code",
   "execution_count": null,
   "metadata": {
    "cellView": "form",
    "execution": {},
    "tags": [
     "hide-input"
    ]
   },
   "outputs": [],
   "source": [
    "# @markdown Visualize dataset\n",
    "view_data(TEXT, train_iter)"
   ]
  },
  {
   "cell_type": "markdown",
   "metadata": {
    "execution": {}
   },
   "source": [
    "### Coding Exercise 1.1: Vanilla RNN\n",
    "\n",
    "Now it's your turn to write a Vanilla RNN using PyTorch.\n",
    "\n",
    "* Once again we will use `nn.Embedding`. You are given the `vocab_size` which is the size of the dictionary of embeddings, and the `embed_size` which is the size of each embedding vector.  \n",
    "\n",
    "* Add 2 [RNN](https://pytorch.org/docs/stable/generated/torch.nn.RNN.html) layers. This would mean stacking two RNNs together to form a stacked RNN, with the second RNN taking in outputs of the first RNN and computing the final results.\n",
    "\n",
    "* Determine the size of inputs and outputs to the fully-connected layer."
   ]
  },
  {
   "cell_type": "code",
   "execution_count": null,
   "metadata": {
    "execution": {}
   },
   "outputs": [],
   "source": [
    "class VanillaRNN(nn.Module):\n",
    "  def __init__(self, layers, output_size, hidden_size, vocab_size, embed_size,\n",
    "               device):\n",
    "    super(VanillaRNN, self).__init__()\n",
    "    self.n_layers= layers\n",
    "    self.hidden_size = hidden_size\n",
    "    self.device = device\n",
    "    ####################################################################\n",
    "    # Fill in missing code below (...),\n",
    "    # then remove or comment the line below to test your function\n",
    "    raise NotImplementedError(\"Define the Vanilla RNN components\")\n",
    "    ####################################################################\n",
    "    # Define the embedding\n",
    "    self.embeddings = ...\n",
    "    # Define the RNN layer\n",
    "    self.rnn = ...\n",
    "    # Define the fully connected layer\n",
    "    self.fc = ...\n",
    "\n",
    "\n",
    "  def forward(self, inputs):\n",
    "    input = self.embeddings(inputs)\n",
    "    input = input.permute(1, 0, 2)\n",
    "    h_0 = Variable(torch.zeros(2, input.size()[1],\n",
    "                               self.hidden_size).to(self.device))\n",
    "    output, h_n = self.rnn(input, h_0)\n",
    "    h_n = h_n.permute(1, 0, 2)\n",
    "    h_n = h_n.contiguous().view(h_n.size()[0], h_n.size()[1]*h_n.size()[2])\n",
    "    logits = self.fc(h_n)\n",
    "\n",
    "    return logits\n",
    "\n",
    "\n",
    "## Uncomment to test VanillaRNN class\n",
    "# sampleRNN = VanillaRNN(2, 10, 50, 1000, 300, DEVICE)\n",
    "# print(sampleRNN)"
   ]
  },
  {
   "cell_type": "markdown",
   "metadata": {
    "colab_type": "text",
    "execution": {}
   },
   "source": [
    "[*Click for solution*](https://github.com/NeuromatchAcademy/course-content-dl/tree/main//tutorials/W2D3_ModernRecurrentNeuralNetworks/solutions/W2D3_Tutorial2_Solution_4c985ec0.py)\n",
    "\n"
   ]
  },
  {
   "cell_type": "markdown",
   "metadata": {
    "execution": {}
   },
   "source": [
    "```\n",
    "VanillaRNN(\n",
    "  (embeddings): Embedding(1000, 300)\n",
    "  (rnn): RNN(300, 50, num_layers=2)\n",
    "  (fc): Linear(in_features=100, out_features=10, bias=True)\n",
    ")\n",
    "```"
   ]
  },
  {
   "cell_type": "markdown",
   "metadata": {
    "execution": {}
   },
   "source": [
    "## Section 1.2: Train and test the network"
   ]
  },
  {
   "cell_type": "code",
   "execution_count": null,
   "metadata": {
    "execution": {}
   },
   "outputs": [],
   "source": [
    "# Model hyperparamters\n",
    "learning_rate = 0.0002\n",
    "layers = 2\n",
    "output_size = 2\n",
    "hidden_size = 50  # 100\n",
    "embedding_length = 100\n",
    "epochs = 10\n",
    "\n",
    "\n",
    "# Initialize model, training and testing\n",
    "set_seed(SEED)\n",
    "vanilla_rnn_model = VanillaRNN(layers, output_size, hidden_size, vocab_size,\n",
    "                               embedding_length, DEVICE)\n",
    "vanilla_rnn_model.to(DEVICE)\n",
    "vanilla_rnn_start_time = time.time()\n",
    "vanilla_train_loss, vanilla_train_acc, vanilla_validation_loss, vanilla_validation_acc = train(vanilla_rnn_model,\n",
    "                                                                                               DEVICE,\n",
    "                                                                                               train_iter,\n",
    "                                                                                               valid_iter,\n",
    "                                                                                               epochs,\n",
    "                                                                                               learning_rate)\n",
    "print(\"--- Time taken to train = %s seconds ---\" % (time.time() - vanilla_rnn_start_time))\n",
    "test_accuracy = test(vanilla_rnn_model, DEVICE, test_iter)\n",
    "print(f'Test Accuracy: {test_accuracy} with len=50\\n')\n",
    "\n",
    "# Number of model parameters\n",
    "print(f'Number of parameters = {count_parameters(vanilla_rnn_model)}')\n",
    "\n",
    "\n",
    "# Plot accuracy curves\n",
    "plt.figure()\n",
    "plt.subplot(211)\n",
    "plot_train_val(np.arange(0, epochs), vanilla_train_acc, vanilla_validation_acc,\n",
    "               'train accuracy', 'val accuracy',\n",
    "               'Vanilla RNN on IMDB text classification', 'accuracy',\n",
    "               color='C0')\n",
    "plt.legend(loc='upper left')\n",
    "plt.subplot(212)\n",
    "plot_train_val(np.arange(0, epochs), vanilla_train_loss,\n",
    "               vanilla_validation_loss,\n",
    "               'train loss', 'val loss',\n",
    "               'Vanilla RNN on IMDB text classification',\n",
    "               'loss [a.u.]',\n",
    "               color='C0')\n",
    "plt.legend(loc='upper left')\n",
    "plt.show()"
   ]
  },
  {
   "cell_type": "markdown",
   "metadata": {
    "execution": {}
   },
   "source": [
    "### Change the input length\n",
    "\n",
    "Now let's increase the `sentence_length` to see how RNN performs when long reviews are allowed..\n"
   ]
  },
  {
   "cell_type": "markdown",
   "metadata": {},
   "source": [
    " Load dataset with `sentence_length=200`\n"
   ]
  },
  {
   "cell_type": "code",
   "execution_count": null,
   "metadata": {
    "cellView": "form",
    "execution": {},
    "tags": [
     "hide-input"
    ]
   },
   "outputs": [],
   "source": [
    "# @markdown Load dataset with `sentence_length=200`\n",
    "TEXT_long, vocab_size_long, train_iter_long, valid_iter_long, test_iter_long = load_dataset(sentence_length=200)"
   ]
  },
  {
   "cell_type": "markdown",
   "metadata": {
    "execution": {}
   },
   "source": [
    "### Re-run the network"
   ]
  },
  {
   "cell_type": "code",
   "execution_count": null,
   "metadata": {
    "execution": {}
   },
   "outputs": [],
   "source": [
    "# Model hyperparamters\n",
    "learning_rate = 0.0002\n",
    "layers = 2\n",
    "output_size = 2\n",
    "hidden_size = 50  # 100\n",
    "embedding_length = 100\n",
    "epochs = 10\n",
    "\n",
    "# Initialize model, training, testing\n",
    "set_seed(SEED)\n",
    "vanilla_rnn_model_long = VanillaRNN(layers, output_size, hidden_size,\n",
    "                                    vocab_size_long, embedding_length, DEVICE)\n",
    "vanilla_rnn_model_long.to(DEVICE)\n",
    "vanilla_rnn_start_time_long = time.time()\n",
    "vanilla_train_loss_long, vanilla_train_acc_long, vanilla_validation_loss_long, vanilla_validation_acc_long = train(vanilla_rnn_model_long,\n",
    "                                                                                                                   DEVICE,\n",
    "                                                                                                                   train_iter_long,\n",
    "                                                                                                                   valid_iter_long,\n",
    "                                                                                                                   epochs,\n",
    "                                                                                                                   learning_rate)\n",
    "print(\"--- Time taken to train = %s seconds ---\" % (time.time() - vanilla_rnn_start_time_long))\n",
    "test_accuracy = test(vanilla_rnn_model_long, DEVICE, test_iter_long)\n",
    "print(f'Test Accuracy: {test_accuracy} with len=200\\n')\n",
    "\n",
    "# Number of parameters\n",
    "print(f'\\nNumber of parameters = {count_parameters(vanilla_rnn_model_long)}')"
   ]
  },
  {
   "cell_type": "code",
   "execution_count": null,
   "metadata": {
    "execution": {}
   },
   "outputs": [],
   "source": [
    "# Compare accuracies of model trained on different sentence lengths\n",
    "plot_train_val(np.arange(0, epochs), vanilla_train_acc,\n",
    "               vanilla_validation_acc,\n",
    "               'train accuracy, len=50', 'val accuracy, len=50',\n",
    "               '', 'accuracy',\n",
    "               color='C0')\n",
    "plot_train_val(np.arange(0, epochs), vanilla_train_acc_long,\n",
    "               vanilla_validation_acc_long,\n",
    "               'train accuracy, len=200', 'val accuracy, len=200',\n",
    "               'Training and Validation Accuracy for Sentence Lengths 50 and 200',\n",
    "               'accuracy',\n",
    "               color='C1')\n",
    "plt.legend(loc='upper left')\n",
    "plt.show()"
   ]
  },
  {
   "cell_type": "markdown",
   "metadata": {
    "execution": {}
   },
   "source": [
    "## Section 1.3: Architectures"
   ]
  },
  {
   "cell_type": "markdown",
   "metadata": {},
   "source": [
    "###  Video 2: Bidirectional RNNs\n"
   ]
  },
  {
   "cell_type": "code",
   "execution_count": null,
   "metadata": {
    "cellView": "form",
    "execution": {},
    "tags": [
     "remove-input"
    ]
   },
   "outputs": [],
   "source": [
    "# @title Video 2: Bidirectional RNNs\n",
    "from ipywidgets import widgets\n",
    "\n",
    "out2 = widgets.Output()\n",
    "with out2:\n",
    "  from IPython.display import IFrame\n",
    "  class BiliVideo(IFrame):\n",
    "      def __init__(self, id, page=1, width=400, height=300, **kwargs):\n",
    "          self.id=id\n",
    "          src = \"https://player.bilibili.com/player.html?bvid={0}&page={1}\".format(id, page)\n",
    "          super(BiliVideo, self).__init__(src, width, height, **kwargs)\n",
    "\n",
    "  video = BiliVideo(id=f\"BV1X64y1x7BA\", width=730, height=410, fs=1)\n",
    "  print(\"Video available at https://www.bilibili.com/video/{0}\".format(video.id))\n",
    "  display(video)\n",
    "\n",
    "out1 = widgets.Output()\n",
    "with out1:\n",
    "  from IPython.display import YouTubeVideo\n",
    "  video = YouTubeVideo(id=f\"TpgJwqB4i1c\", width=730, height=410, fs=1, rel=0)\n",
    "  print(\"Video available at https://youtube.com/watch?v=\" + video.id)\n",
    "  display(video)\n",
    "\n",
    "out = widgets.Tab([out1, out2])\n",
    "out.set_title(0, 'Youtube')\n",
    "out.set_title(1, 'Bilibili')\n",
    "\n",
    "display(out)"
   ]
  },
  {
   "cell_type": "markdown",
   "metadata": {
    "execution": {}
   },
   "source": [
    "RNN models are mostly used in the fields of natural language processing and speech recognition. Below are types of RNNs. Depending on which outputs we use, RNN can be used for variety of tasks. The text classification problem we solved was an instance of the many to one architecture. Write down the applications of other architectures. \n"
   ]
  },
  {
   "cell_type": "markdown",
   "metadata": {
    "execution": {}
   },
   "source": [
    "<img width=900 src=\"https://blog.floydhub.com/content/images/2019/04/karpathy.jpeg\">"
   ]
  },
  {
   "cell_type": "markdown",
   "metadata": {
    "execution": {}
   },
   "source": [
    "## Section 1.4: Vanishing and Exploding Gradients\n",
    "\n",
    "For an RNN to learn via backprop through time on a loss calculated at time $T$, $\\mathcal{L}_T$, with respect to an input $t$ time steps in the past, the RNN weights must be updated based on how they contributed to the hidden state at this past time step. This contribution is learned through the term $\\frac{\\partial h_{-t}}{\\partial W}$, in the gradient of the loss, $\\frac{\\partial\\mathcal{L}_T}{\\partial W}$.\n",
    "\n",
    "However, because one has to backpropagate error through $t-1$ hidden states, $\\frac{\\partial h_{-t}}{\\partial W}$ is multiplied by $\\prod_{i=0}^{t-1} \\frac{\\partial{h_i}}{\\partial{h_{i-1}}}$ in the expression for $\\frac{\\partial\\mathcal{L}_T}{\\partial W}$, which are summarized mathematically:\n",
    "\n",
    "\\begin{equation}\n",
    "\\frac{\\partial{\\mathcal{L}_T}}{\\partial{W}} \\propto \\frac{\\partial h_t }{ \\partial W} + \\sum_{k=0}^{t-1} \\left( \\prod_{i=k+1}^{t} \\frac{\\partial{h_i}}{\\partial{h_{i-1}}} \\right) \\frac{\\partial{h_k}}{\\partial{W}}\n",
    "\\end{equation}\n",
    "\n",
    "The product term leads to two common problems during the backpropagation of time-series data:\n",
    "\n",
    "* *Vanishing gradients*, *if* $ \\left| \\left| \\frac{\\partial{h_i}}{\\partial{h_{i-1}}} \\right| \\right|_2 < 1$\n",
    "\n",
    "\n",
    "* *Exploding gradients*, *if* $ \\left| \\left| \\frac{\\partial{h_i}}{\\partial{h_{i-1}}} \\right| \\right|_2 > 1$\n",
    "\n",
    "Given a sufficiently long sequence, the gradients get multiplied by the weight matrix at every time step. If the weight matrix contains very small values, then the norm of gradients will become smaller and smaller exponentially, the so-called **vanishing gradient** problem. On the other hand, if we have a weight matrix with very large values, the gradients will increase exponentially, leading to the **exploding gradients** problem: where the weights diverge at the update step.\n",
    "\n",
    "An example that has the vanishing gradient problem:\n",
    "\n",
    "The input is the characters from a *C* Program. The system will tell whether it is a syntactically correct program. A syntactically correct program should have a valid number of braces and parentheses. Thus, the network should remember how many open parentheses and braces there are to check, and whether we have closed them all. The network has to store such information in hidden states like a counter. However, because of vanishing gradients, it will fail to preserve such information in a long program."
   ]
  },
  {
   "cell_type": "markdown",
   "metadata": {
    "execution": {}
   },
   "source": [
    "---\n",
    "# Section 2: LSTM, GRU and Memory Cell"
   ]
  },
  {
   "cell_type": "markdown",
   "metadata": {},
   "source": [
    "##  Video 3: LSTM, GRU & The Memory Cells\n"
   ]
  },
  {
   "cell_type": "code",
   "execution_count": null,
   "metadata": {
    "cellView": "form",
    "execution": {},
    "tags": [
     "remove-input"
    ]
   },
   "outputs": [],
   "source": [
    "# @title Video 3: LSTM, GRU & The Memory Cells\n",
    "from ipywidgets import widgets\n",
    "\n",
    "out2 = widgets.Output()\n",
    "with out2:\n",
    "  from IPython.display import IFrame\n",
    "  class BiliVideo(IFrame):\n",
    "      def __init__(self, id, page=1, width=400, height=300, **kwargs):\n",
    "          self.id=id\n",
    "          src = \"https://player.bilibili.com/player.html?bvid={0}&page={1}\".format(id, page)\n",
    "          super(BiliVideo, self).__init__(src, width, height, **kwargs)\n",
    "\n",
    "  video = BiliVideo(id=f\"BV1Zq4y1X7kj\", width=730, height=410, fs=1)\n",
    "  print(\"Video available at https://www.bilibili.com/video/{0}\".format(video.id))\n",
    "  display(video)\n",
    "\n",
    "out1 = widgets.Output()\n",
    "with out1:\n",
    "  from IPython.display import YouTubeVideo\n",
    "  video = YouTubeVideo(id=f\"qC7O-2sXLAU\", width=730, height=410, fs=1, rel=0)\n",
    "  print(\"Video available at https://youtube.com/watch?v=\" + video.id)\n",
    "  display(video)\n",
    "\n",
    "out = widgets.Tab([out1, out2])\n",
    "out.set_title(0, 'Youtube')\n",
    "out.set_title(1, 'Bilibili')\n",
    "\n",
    "display(out)"
   ]
  },
  {
   "cell_type": "markdown",
   "metadata": {
    "execution": {}
   },
   "source": [
    "## Section 2.1: Architecture\n",
    "\n",
    "The core idea behind an LSTM is the cell state $C_t$ that runs along all the LSTM units in a layer, and gets updated along the way. These updates are possible through \"gates\". Gates are made out of a sigmoid neural net layer and a pointwise multiplication operation. \n",
    "\n",
    "Each LSTM unit performs the following distinct steps using the input $x_t$, current cell state $C_t$ and previous hidden state $h_{t-1}$:\n",
    "\n",
    "* Forget Gate: *Should I throw away information from this cell?*\n",
    "\n",
    "\\begin{equation}\n",
    "f_t = \\sigma (W_f \\cdot [h_{t-1}, x_t] + b_f)\n",
    "\\end{equation}\n",
    "\n",
    "* Input Gate:\n",
    "    * *Should I add new values to this cell?*\n",
    "      \\begin{equation}\n",
    "      i_t = \\sigma (W_i \\cdot [h_{t-1}, x_t] + b_i)\n",
    "      \\end{equation}\n",
    "    * *What new candidate values should I store?*\n",
    "      \\begin{equation}\n",
    "      \\tilde{C}_t = tanh (W_C \\cdot [h_{t-1}, x_t] + b_C)\n",
    "      \\end{equation}\n",
    "\n",
    "* Update cell state: *Forget things from the past and add new things from the candidates*\n",
    "  \\begin{equation}\n",
    "  C_t = (f_t \\cdot C_{t-1}) + (i_t \\cdot \\tilde{C}_t)\n",
    "  \\end{equation}\n",
    "\n",
    "* Output Gate: \n",
    "    * *What information should I output?*\n",
    "      \\begin{equation}\n",
    "      o_t = \\sigma (W_o \\cdot [h_{t-1}, x_t] + b_o)\n",
    "      \\end{equation}\n",
    "    * *How much of the cell state should I store in the hidden state?*\n",
    "      \\begin{equation}\n",
    "      h_t = o_t \\cdot tanh(C_t)\n",
    "      \\end{equation}\n",
    "\n",
    "The architecture can be summarized by the diagram below:\n",
    "![image.png](data:image/png;base64,iVBORw0KGgoAAAANSUhEUgAAArMAAAFcCAYAAADbHTbRAAAgAElEQVR4AeydCdgtR13m/98VEXKzIZshkBsQw2Ji4iAERL2RsChbAjqDceHGEZdRMHF0hAmjiQuL6Ji4IDqMk4yMgAom4L5A4goSIGwqyBIWwd0AbqgkZ55ff/V+X926fbbuPn26z3nrefp0n+ra+lfVVW//u7o7ws4ETMAETMAETMAETMAETMAETMAETMAETMAETMAETMAETMAEmhC4R0Q8LCKeEhHfGRFXeDEDtwG3AbeBrW8D3xoRF0TEORFxpyaDi+OYgAmYwKoInBkRl0TEqyLioxEx8WIGbgNuA24DbgNz2sAHIuLqiPjqiPiMVQ1QTtcETMAEZhE4HBE3FZ3VKyLiWRHxTcky+6iIOM+LGbgNuA24DWx9G3hcEq5Pj4jLI+L1xfjxsog4NGvQ8T4TMAET6IrAfZIVVhbY34+Ir42IE7rKwOmYgAmYgAlsBQHGk++KiJszYfuciDi4FUfvgzQBE1gLga+MiE+kTudNEYHl1c4ETMAETMAE2hD41Ij4loj4qzS+vD8izm6ToOOagAmYQB2BH0+dzN9HxFfVBbCfCZiACZiACbQggEX2BZmV9mtapOWoJmACJrBH4MSI+KPUubwhIk7b2+MNEzABEzABE+ieAHf9MJwwne1Hu0/eKZqACWwbgd9IHcqLtu3AfbwmYAImYAJrI8BrHjGgIGj/29pK4YxNwARGT0BTC3hLgZ0JmIAJmIAJ9EmAO4PviojbIuIxfWbsvEygawK8dJ/XeJw8JeGL0/7Tp+y3dzMCvKGAK+IbI+LTmiXhWCZgAiZgAibQisC9I+JjEfEPEfHAVik5sgmskYBeAYVoLR0CV/t5n6ldNwTuFRH/GhEfioi7dJOkUzEBEzABEzCBRgS+OCI+GRFvaRTbkUxgAAQQqzTg62rKgsDVV6csZmsANfT63+ki4bEN4zuaCZiACZiACXRJ4MfSuPSkLhN1WibQFwHE7KWpEZdTDW6IiGvSvlzMEo6pCXwqr5yiwHQERDDfh74yIq6NiAvTwbAmDv7ltAXCkxbh+XxrXhbyJk3is59XVzE9okxD4fpi1yQfXmLNFTBvMLAzARMwARMwgSEQOCXdMfzTiDgwhAK5DCawDAHELCKQlyjnUw0QiuxDQCoM6SI6b0mWXAQlFl3+S1iSFl8bIb2r0kJ8BCzimDhYggkjR76EIXy+X4IWP/IgTdJAfCt9pcGadEljyO4H0rE+csiFHGjZaGNqEwMtootlAiZgAqMlwPiZj/ejPRAXfPsIqOHSiPOpBghG/iNOFQY6iMk8HH5Yb+Wn8LLGsh+RifiUUxiEMeIEoYpgzR3hSRfHPsogwYwf5SOenMR3Hkb7hrR+Z0R8eEgFGmhZqEcs9Nenuqf+84W6x0p/xAJ3oDXoYjUlQL94OC1D78+aHqPjDZMAD4DRz2J8sjOBURGg4SIu6UDZluULAYrFVMKTNY4wiAimBGhBcEhYKnwKXq00XSH3U74KX3baCFhZb9mmPLkjPGlINCPGyzB5+CFsq8zMTbKrJwAjpqJQt9Vy5kMOTx7xpCOTi55+ebWce/4FE/y0P2KHed3ldJf61O1rAsMjQN+LeKC/y9r1Uds3pYu7sp8c3tG4RGMn8L6IYLEzgVERoPOUUMUaioClw0QgIGwlNhWG8IhGBGq5cOAKn0MgXGl5Vb514Ykra6y2SaN0WINlvVXZyzBD+s+LqTnuLxlSoQZUlot3dg7wiphKrF72wmsnr37XZOry0htvmVzyvKsndznlXrfucq1ELcLAzgTGQIC+b+/OA+34CU+9ZO+iLb94u+PBE1Ibr/oPLvZkdBjDcbqM4yLwI2mcOnNcxXZpt52ARCUcNNWAW/gSiRKbrHGEz+fW4of4lYhQ+N3Qu7+zxKwswoqveJRFUxMQtnViFqssFmHN6x16B/9ziZ9fx6Va3l9T35Uwfc7PXD9VwE4Tt4jaOx48ngfr6trnfi7eMoFhENDFenXX4arrbprb5rm4278jUV246a7UMI7IpdgUAl/jfnRTqnK7jiMXsxKW3NJSRylxKjGLNZT9uXBEaEpsKnxOcZaYJRyilakLcohjRKqsudPELOGxIFMeiW+lMcT170TEvw+xYGsuUyVk733/sydYW6cJ1nn+CIJ9K+0xF1xrPkRnbwIVAfrNahoN7f3Fr7l56fbOxd5xx5/IF5vou5lXbmcCXRLQGP6sLhN1WiawagK5mCUvhCUCUU4NW2IWock0A+Z3cYuMNXFkWVV4xWc9T8wSlzQQpZp/SxwJ5llithJCmfjO8x3a9p+lTwcOrVzrLE/1JgsG9nlidZH9iOFM0KpNrvP4nLcJ5AS46K6ssW0u3BDBh844y3cicrLe7ooAr49EFzDdwM4ERkMA8SnRSKERALkIYF8ZhnD4MR2Bde4UPvcjPURw7so0FY808/yJk09jyNNgGzGEEB6D+3hE/PYYCtpTGanXalBuM7CXIhcLLVMOdnYOfKBo2z0dlrMxgVoC1dQCHmYs22yT/5wzmaAt++HaAtjTBBYgcLuIwPLPtLgxOvSDHk7X227QF6UGGeOxucwbTKDO6jvUw+Vq9+VDLdwaylVZqZrMkZ03+D/tsithzaKpKms4PGdpAnsEEJuTru5AqP3vXridcKsv3PY4e6MbAn83QsMLgpU7u9xZ1sUdAlZ3kuXXDSGnYgIdEaiEULLK0oiH7j4liSuL2d2a4up5wmu2NDBPW/PgyxOPXDo569zzquWiZ1wxWeSBmd3pBtWDMmNoH0Nvvy5fOwJcdDeaIzvtvJA/Dz+mvsUXbu3qyLH3CSBmX7v/d/Bb9PFMU+RcKB9QZx+C1mJ28NW4nQXkiotGOxahYjF7dDut5jrPEqXcRj3/yRdroJ4cPOGkakkd1gRRqwG9bp1ZZ/Uw49El8D8T6IdAZZXtanpBXVv3hVs/FblFuYxNzDI9UWNFXTVxDlrM1pGxnwksSWCbxOwic5PectzxJ80Uo1ht6aBY53NqEcDcrmUfgrVucMePh2RSBzeGN10s2ZwcfEQEqrtIy7y5gDa+THhfuI2oNYyjqGMTs9Wdj+ytSuOg7FKawAgJbIuY1Tt/9anZaVVVPdE9TYgytUBCdloYCdpZg34Kw+0nOxPomgB3hRax9rz/bqcemnrRVde+eZ8sH02o21fn5wu3rqt269PrQ8xykcer5RYxfsyrEBkuELV2JmACKySwLWKWubC8i1idC+8L5r2a+RsqqvmyswZrWWVlkeUhsfs84JzJQx954d58WQneWensv2R+hTXrpLeVQPVaufR6wmmDMoJ3wpe96kToNL9lxSzppAs3D+bb2hq7Pe5Vi1nOC95CpHGCB7f05oEmR6J03P6b0HOcURI4OyJ+M92OoOH3uXDC/XXPefZ5fOT1+oh4czYZX50Ma95JzKD/FXRis0QoAzOLBvuDJ568l07+0BjpzJqLeM7DH6V4dJY80MCr0X4rtYHfiIhfi4hfjYhfiYhfiohXR8SrkiD/xYh4ZUS8IiJ+Ib2qhgf4XhYRPxsR/y8iXhIRP5M+2oFo/z8R8dMR8eKI+F8R8VMR8aKI+ImIeGFE/HhE/Gh6hyPzhq+MiP8ZET8UET8YET8QEc+PiOdFxHMj4vsj4vsi4nvTmxl45cx3R8R3RcSzI+KyiPjvEfHMiPjOiOCTyd8REf81Ir4tvT4P5s+IiKdHxLdExH+JiG+KiG+MiG+IiKdFxNdFxH+OiK9Ng8pTI4IvAX1VRHxlRFyU6u0/RcR/jIgvj4gvi4gnpXc8XxART4iIx0fE4yLisemzzY+JiEdHxKMi4vyIeEREfHFEHI6IL4qIL4yIL4iIz4+Ih0XEQyPiIRHx4Ij4vIh4UER8broY4tz9nIjgM5ufHREPjIj7R8T9IuKMiPisiPjMiOA9mfdOFp/TIuJeEXHPiLhHRJwSEZ8REXePiLtGBF/ju3NEfHqaf39SRJwYEcdHxMGIOC4i7jilp8OiRB3y9LTaGXckYCFXzZed1dbVxpla8NyX3FAtXLgxX1z/Z919UPwlLtzuEBEsHBfHx3GycMwnpOOHASwQHXdKC4xgBTMW+N0tsYQnXOELZ5YHpHZCW2Gh3dB+npIt9AW0LRbaGQttjoU2/WPZwrmjhXOJhfNKC+eZlp9M5/IbI0LLS9M5yTlCO6O90e5YHp7aIe2RhbZJG9VcS9osbZc2/Mi00KZp27RxFj5T/qWp7dP+OQ84HzgvWJ6Y2gZ3r1g4d56cziPOpZyROMFHjHI2X53OT85TFoQgF1ecvyycy5zTnNssX5/Odc55Fs5/+oFvTgv9Av0D/QTLP0UE70VnLioLfQl9yrenhT4GjvQ5LNQVH1mgL2KhX6J/+h9pob+i39Irs3hYkfrQQ1s6f2T8WOSOh84x1ow9pOG7cDkVby9NgA6PE5+FbRxrbSevQawYEBExfYs8nWzbIGbpUHh6VB2U1lyJ0zEuJGYZ0DVQ8/CX0ltGzD7wQV+geL8XEb8fEX+YBPcbIuLGiHhT6gAp79si4h0R8ccR8afpAxfvjoj3RMT7kiWBd9d+KCI+HBEfiYi/TBcofxsRWDPojD8WEbxT+B8j4p8j4l9Udq+PaROqn01b0w64UEFITHjjgNrytHUmRo9hsYgYPuXQfY+J5/a2Ne1tjHWvj37UlZ0LRATvohpCd0lIq27aAunkdwcHIUZciOEQoIHQYdOAaHhcTbHWJ2+XvboazpF1X5JtmmaAdUodFJ0Sc6PyjqTRNAMstQhZvQFhA6cZyFKGhUyWMaxisoZhBcP6hdXr1GRxPJQ6b6yR903WSSyVWMWwXmLFxJoJcyycWDqxemL9xDolqxTWKFmiZH3C6iRrE1YmWZewKsmihLUNS5ssa1iMZCnCQiTrEBZgrEFYgrACYf3BYszFDRYfWXqw8GDZkVUHaw59yvckC/VzksUa6/ULkkUbyzb9EF8swuqN9Q5rHVY6LONYybGWYzWnLWJJx6KOdR0rO9b2n08WeKzxtF+s81jqfzlZ7n89XQRj1X9Nep8lF0ivKyyzavf0gQyw9IEzH1SsE7dNphkcOuMs5c2Fs+5EUFaW/I4Ed6a4oOeYuDOR353geFnyuxS6UwEX+OR3LLgo5AIdKx4XglreHhEsXCBqeWtEaOHikYULXxbKx90RLXkZuFuiOyZ5WSiPyoQllvpn0R2PH44IFt35oO4J/wfpghNen0htg7sgtC2W/G6I7ojQBnVXhDaJpRGrI+00v0OCdZIlv1OiuyVYNWnrLPldE86Db83unugOCucK1tP8TorupmBpldU1v6vCOUe7w1Irqy13WDgvZfHO77RgWOD81R0X3XX5h1R/nOf53RfuOmBh1l2Y/E4MVmkW+gzdkdFdGazZ9Cv53RkY0E7VblnTdin/oiI2H6mpX9KgjvP4bJNuPgbl8bxtAnvWNwak3FViZcGHI/J4m7y9LWJWD4BpMJ9WpzOnB0ioPvSRF061aKU5gjOf+k5hGDTtTKBrAghVps5oMKad0RfmlqFKzC5iWc1FbRMxmyy7XDzazSeAwKleD5jqDwFlt0+gjzmzmp7DHTsuFvLzZr8ky21Rj5yHnJcIZRbGojJtC9vluG50aBofnfi0zpP9tszuN4FtEbMccdlx7FPY33rLwRNOui0fwMttPQSGoNWDYITBMssUBNqfX821D9RbvRPgwo2BGFE0a3CceeFWtnv+NxGzdznlND5BigXKbnECjFGMYUwLmVWHi6e4GSFXLWahhPDkHOrTcRGDBRd9YmcCFQGufhAU0zpPGg2L3S6BbRKzi9R5ZRXRlIG6AR0By1PgqZ1NeAgsfxBsnrXL795cpBocpgcCb7nrPU67ta6Nd+XHeZTOE84ru+UI6G4S1jy7XQJ9iNl1scZSa22yLvoDzFedJ1c5dvMJWMwezaiaijJrGoEGeqYcIGqxVsliNUsEK96upWqHh7HccR3N3v/6JTD3wk1ttumaC7skZn03rFndVnWUpok0S2GzYm2ymJ1mgNusGvTRLExAnafN9Yshs5g9llM1YZ93yDYdxKfFy6yybp/HcrdPvwSqC7ezzj2v83ZO++cOxnHHn3hrmvLQ75FtTm5c8DJlxNbZ3TrdVDHLuciYYAPH5py7rY9Ek7d9lbMYSovZYzkxt3bCLdh8Tuw0gbqoP1bbOx484ZM7Owc+6E7rWOj2WQuBlV24ZVZZP8TUrmq5/YyRZpE5/+1yGn7sTRWznCM8pGkxO/w22FsJq845TZyflqkbzD4Zi9l9FvkWncukK6sVohhxnAYlP9CRk/b2OgmcvrNz4OM89NjlhRt3NVJb9xs72tcuFjt49v1QUvuSd5/CporZ7kk5xdETQKjKOlu+mot9zEFaVkxwRVymNXpQ6QAsZqfXZDVfjTcUtBnoschmQtZWqum8vWc9BKoLt7btXHcoaO+70wuqeeG2Jrav0+o1an7SvQJpMdu+PTmFERGgA2WaAVezfMqTlz/zYmn8SiFb/q87TITspk5bsJitq/F9v0rQIkabzKHlC0tMLUht0UJ2n6u3hkWgsv4haBf5RK2Ea7nmHEnzZOl7/dBXN3VsMbvP0WJ2n4W3togAopaOgKUUrVhpJXTnISG+xew8Spu7/2JuxSJImXbw7J+4buYDM1hxL3n+NZk1trJQle1vc2n5yMZKgIv2CVMOaL+lUJ31nzZ/0TOuSFMLqvZOn2nXDQFYwtYPje5+mvu13WB1KiawOQQWFagWs5tT502PhAsjzceuBm2E7flPvrgaxBnIeZ0XfmngmURUg7qfUG1K3PHWQeDC1G6rD4AgamdZaplSQNvPrLHMkfXUgm5rzmJ2n6cts/ssvGUCewR4ShTHN6JfUbOk3ZVld1HhqzhjWXuawXI1xUCtaSeZcK0sJ/xnvjbtiikFftBwObYOPQwCtNsrdDeCizOmH3Chpgs2trN54LR7Xh/laTSrqT+L2X2uFrP7LLxlAhUBngxd9KEuW2bdaGYR+IqIODQrgPeZwAgJIGoRqNyR0JcV8ws4LvCZU07/aLc6Ahaz+2wtZvdZeMsEKgLc/kXMLmI9o0O/aUO52TLbvmIZ7G2Vas/RKQyfAEaARfrM4R/JeEpoMbtfVxaz+yy8ZQIVATpkd8oRFrPtTwimFmzqxU57Ok5hkwgwhWbRO1qbdNzrPBaL2X36FrP7LLxlAiaQEbCYzWA02MQiq1uvfmNBA4COMhoCXPzT1n3h1m+VWczu87aY3WfhLRMwgYyAxWwGo8GmPjXJIM/8QTsT2FQCvnBbbc0ejogL0jvReS+6Fi4e6F9ujogrM3/2H4kI4m3LXUaL2dW2QaduAqMlYDHbvOp4s4GssqxvaZ6UY5rA4AnkD4ExT9yuOQEEKGL0+tRv5P1Im23S4/3piOJNFLgWs83bnGOawEYTsJhtXr3MHSwHHn8/vTlPxxwuAV+4tasbhCVW1GtL8Xr/z/38TzziSUcmFz398sllL7x2wlfUWGZ9Qpv3+yoc8Z7w1Esmn/15X/jJO931lE8UfRJWXUTzprz712K2XTt0bBPYWAIWs82rlndr8vAXgpZt1np3cfNUHdMEhkeg+qxzIZT8Bo/59YSIvHpnZ0f9xOQB/+Hh/4YARZDO+qpa03185ILPaD/4EU+89Q53PPjvWZ0hpLHYjtlZzI659lx2E1ghAYvZZnB52AvxqkH+T5OQxW8Tb+81o+RYm0KAizVdsGm6gS/cptcu/QO3/OkPJofOOOtWBOYsa2tT8TovHhbcR1z41NtUlp2dHeoRK/EYncXsGGvNZTaBHghYzDaHzICF5eVvIuLGiND/5ik6pgkMj0B54fYuX7hNrSQuZHlIqxKxTB9ATM4TnH3sx2KLRfi440+qyhY7O3z0grodk7OYHVNtuawm0CMBi9n2sP8iIn6vfTJOwQQGS4CLNoQaVj1EkP4PtsBrKNh5mk5w5kMOr2waQVvhi3WYObYS3GlO7RpwNcrSYrYRNkcygc0nYDHbvo4/EhG/3z4Zp2ACgycgMTv4gvZcwOq1Zccdf+JtTCdoKzj7iM+c3Xvf/2yJWt6AMAZnMTuGWnIZTWANBCxm20P/cET8QftknIIJDJ6AxeyxVbQnZBd9qKvrubNMH2AawbIimHIwFSJZaccgaC1mj21/9jEBEwh/zraLRmAx2wVFpzEGAojZ14+hoD2VkekWk9M+68x/X1SgIjxZlhWes8JThjZzczNBe0VP3JpmYzHblJzjmcCGE7Bltn0F/3lE/GH7ZJyCCQyeAGKWtxnY7RKo3liwjJBkPu3QxCxC+S6fca9b0ztwEehDdRazQ60Zl8sE1kzAYrZ9BXwoIl7XPhmnYAKDJ2Axu19F52ER5WGqWVbTfB/zae926umTs849b3LRM67Yi4f/+U++uPJnnYtjttnPFIYnHrm0CvO0y67ai0v6lIMPLuBP2qSx7LQD8iGdiBjy190sZvfbn7dMwAQyAhazGYyGmxazDcE52ugIWMzuVxm35Jd6a8GumD00ya2zWGkPnnBSZa1l/7nnX1CJSgla9iOAeViLbcQz4XMRTTkOnnhy5UcYwhInF9KLbJ9+v7OwzvLVsKE6i9mh1ozLZQJrJmAx274CPuh5hO0hOoVRELCY3a8mPhqxtGDMhSwCE/GKVTUXm3c79dDeVATEaSmaEbL3ecA5e3HYTzilgRW3jKN9s9YS0vuHOLgti9nBVYkLZALDIGAx274ePhARf9Q+GadgAoMnYDG7X0U35IJylkjM95ViVvuq6QTPv6aaSoCVVeJUYlbhWJd+CFdZchWuzk/7pq2V7oA/pmAxu9/+vGUCJpARsJjNYDTctJhtCM7RRkfgnX4AbK/OOrHMMrUA4cnUAQldTSmoE651fnXCtc5vmoiVvy2ze3XrDRMwgZERsJhtX2FYq97QPhmnYAKDJ8CbDPw2g91qWnrOLKJRgpVtHtJCdD7tsiv3pgjgXzfNQIKTtSyo8qsTrnV+Cj9tfbd7HLpt4PVry+zguwgX0ATWQ8Bitj33myPixvbJOAUTGDwBi9n9KqreZsA7WqeJwzp/xKziaG5rPmdWlloEK/FL4VrnVydc6/zqyiM/ykAcv81gv4K9ZQImMB4CFrPt68pitj1DpzAOAohZphrY7RKophqU81UlEOvWEqcIR/Zza585srxSizm4TDFgwZ/9Cp+nVfrVCdc6vzyNfJsPPtz1lNNujZ2dj0XEyQOuXFtmB1w5LpoJrJOAxWx7+u+LiDe2T8YpmMDgCSBmmVZjt0ug+gIYYnTRT9kiIhG/uQBmG4us/Jh+ULctAZrvV3rlF8iIX/opfr4mDO+lTVbZSwdesRazA68gF88E1kXAYrY9+fdGxJvaJ+MUTGDwBCxmj62iixGCxx1/4q3LCNpcUK5rGyF77/ufzTzZoU8vEHWLWZHw2gRM4CgCFrNH4Wj0x2K2ETZHGiEBi9n6SjuHW/R3PHjCJ8uvc61LqM7LF8vt6ff7HD6SMBYhC3mL2fr2Z18T2HoCFrPtm8B7IuLN7ZNxCiYweAIWs9Or6Jw0BaOydmqawDxR2fd+pihoWsHO7hzZoU8tyIlbzOY0vG0CJrBHwGJ2D0XjDYvZxugccWQELGbnV9gVBw4c+DgWTx7qevZPXLfU2w5WJW4lYg+ecJKmFfDwGnN+x+QsZsdUWy6rCfRIwGK2Pex3D/x75u2P0CmYwC4Bi9nFWgIi8Zp0C39yt1NPnzD9AEG5KrE6Ld1Lnn9NJapVlgMHbvf2iOC1YmN0FrNjrDWX2QR6IGAx2x7ynw38RePtj9ApmMAugdf7bQZLNQVE7RWf8im3+3OJSV6/9cQjl67MYstDaAhnrMLKM60R12MVsYJuMSsSXpuACRxFwGL2KByN/ljMNsLmSCMkcIPFbONa460H13zK7faFLSITqy3C86JnXFGJ0Oe+5IaJlvLtCFh2tY81VlfiPfSRF9aJ18nOzs6rIoI5sUN+d+wyQC1ml6HlsCawRQQsZttX9rsi4q3tk3EKJjB4Ahaz3VQRD4shMq/71Nt/2p8UFtTSorrQ/9vd7vYfjgjqh8/sjt0CO42yxew0MvY3gS0nYDHbvgHwRaS3tU/GKZjA4Akglv5y8KUcZwGZkoAIReQiSLVo7q2EqvwlWhHG2+IsZrelpn2cJrAkAYvZJYHVBLeYrYFir40kgKD66EYe2XAPCoGLdRbxuu3OYnbbW4CP3wSmELCYnQJmCe8/jQieELYzgU0nYDHbfw1bzO4zt5jdZ+EtEzCBjIDFbAaj4SZz3t7RMK6jmcCYCFjM9l9bFrP7zC1m91l4ywRMICNgMZvBaLhpMdsQnKONjoDFbP9VZjG7z9xidp+Ft0zABDICFrMZjIabfxwRLHYmsOkELGb7r2GL2X3mFrP7LLxlAiaQEbCYzWA03GSKAdZZOxPYdAIWs/3XsMXsPnOL2X0W3jIBE8gIWMxmMBpuWsw2BOdooyPw636bQe91ZjG7j9xidp+Ft0zABDICFrMZjIabvMmANxrYmcCmE7jOYrb3KraY3UduMbvPwlsmYAIZAYvZDEbDTT6YwLtm7Uxg0wlYzPZfwxaz+8wtZvdZeMsETCAjYDGbwWi4aTHbEJyjjY4AYvYToyv1uAtsMbtffxaz+yy8ZQImkBGwmM1gNNx8a0S8q2FcRzOBMRFAzPI1Krv+CFjM7rO2mN1n4S0TMIGMgMVsBqPh5lsi4s8axnU0ExgTAYvZ/mvLYnafucXsPgtvmYAJZAQsZjMYDTctZhuCc7TREbCY7b/KLGb3mVvM7rPwlgmYQEbAYjaD0XDzpoh4d8O4jmYCYyJgMdt/bVnM7jO3mN1n4S0TMIGMgMVsBqPh5psj4j0N4zqaCYyJgMVs/7VlMbvP3GJ2n4W3TMAEMgIWsxmMhpsWsw3BOdroCLzcD4D1VmenR8TlEfHYxPyqiLg0IhC32+osZre15n3cJjCHgGNtkekAACAASURBVMXsHEAL7H5TRLx3gXAOYgJjJ3CNxWxvVXhxYi3mL0r/sY5vq7OY3daa93GbwBwCFrNzAC2w+40R8b4FwjmICYydgITV2I9jDOU/OYnXW4o1IndbncXstta8j9sE5hCwmJ0DaIHdFrMLQHKQjSAgMXuHjTia4R+EePNuX5aPDr/IKy2hxexK8TpxExgvAYvZ9nV3Y0Tc3D4Zp2ACgycgcYXV0G71BC5MIlZiFv7b7Cxmt7n2fewmMIOAxewMOAvuekNEvH/BsA5mAmMmYDHbf+3Rt0jMntN/9oPK0WJ2UNXhwpjAcAhYzLavC4vZ9gydwjgIWMz2X0+8xQAx6wvmCIvZ/tufczSBURCwmG1fTX8UER9on4xTMIHBE7CY7b+KeEUXYpbXcm27s5jd9hbg4zeBKQQsZqeAWcL79RHxwSXCO6gJjJWAxex6ao5PZiNqt91ZzG57C/Dxm8AUAhazU8As4W0xuwQsBx0lAYTU4Yj4tWQlfFz6P8qDGVGh+UAC3J+S1mxv88N3FrMjarwuqgn0ScBitj3t10XEh9on4xRMYFAEELBXpjd16AGkYr3Dq6KujYgjgyr5eAuDUL0kMS1Y7z0Ehv9N6etg22attZgdb9t2yU1gpQQsZtvjtZhtz9ApDIcAAulqPUF/l1PudesjnnRkctHTL59c8ryrJ8/5meurbf6f+ZDDueDi9XQWtc3r8eKI6uKgYnru+RdUnJ922ZUVc9jDnLo47vgTb1P9pLraFmutxWzz9uWYJrDRBCxm21fvH0bEn7dPximYwNoJXChBhVBFuL76XZOZy0tvvKUSWXc8eMKtSWBhqd0WcdVFhcHqetghUhGtMJ3HnbrZv5ioRPA2vLbLYraLFuc0TGADCVjMtq/UP4iID7dPximYwFoJ8JnUSlAtImJLsYUAw2qYBC23wS1o51fnOTs7B3gTyuQJT71kIRFbcr/shddOsguJTf/UrcXs/DblECawlQQsZttXu8Vse4ZOYb0EKiF77/ufPXnxa26eaxUsBVX+n9viFrQLVebJErJYY3OGy25fdd1NE6aDJO58NWxTncXsptasj8sEWhKwmG0JMCJ+PyI+0j4Zp2ACayHA7enJoTPO+uQit7cXEVqZoGXKgV09AV63Vc1DXoTpvDBchDBNYWfnwMciYlOnHFjM1rcl+5rA1hOwmG3fBH4vIv6ifTJOwQT6J7Czc+CD3KbGujdPMC2zP5tysOm3vptU2hUIWaYWLMN0XljqMFlnmYO7ic5idhNr1cdkAh0QsJhtD9Fitj1Dp7AeApWo4in5eUJp2f1YeRHJ6Vb6eo5umLmezEN2TAtYluki4anLJGg38SLCYnaYbdqlMoG1E7CYbV8FvxsRf9k+GadgAn0T2PnYPFGFKL3oGVdMzjr3vEok3e3U0ycPfeSFC73pIJtu4E+x7ldtdQExb54sD+HBGd4HTzy54k89zBO0uohI7wfez3UztixmN6MefRQm0DkBi9n2SH8nIv6qfTJOwQR6JcDXparXak0TSNy2RkwR7uAJJ1WvguIhsWT5mzzxyKVzxVUKe12vRzbszN5yl1NOu20ac/yZfiDGvH6LBf743ecB50zmTQnJ4m/aRxUsZofdtl06E1gbAYvZ9ugtZtszdArdEkCoznNXIY6mCSMsfJVV8ISTJlhYc/HFw0Z6x2m5Lw/HNi//T8LMr+qKQFxWrzArOem/pgnAjTqQP2vtQ9Dm/uU2r+tKzDfNIm4xO++s9n4T2FICFrPtK/6GiPjr9smsJIXHRsRpK0nZiQ6VAKIRMXNL+jrUNGFLu50qimTdm3Y7fFfsHqpugc96nZcEWERMK8dQOa6iXJU1HLFZClD+w5E6wfpdtx8/Td2A67Qw+Kc2cM0qDmKNaVrMrhG+szaBIRPoSsxWA2PqQNWRas0csXU6XlOzyjLw5PDfrPMAZ+RNHXzjjP2r2IXFz8JlFWQXSxMxi0WuevVTOif51OyVsWsZVCo3zBJN7Mv3S5RirZV4lQVwmjhDVCGGUxncJnbrZep8YwlV8cRqznxZ+OUXFZrysYCYpV/eJGcxu0m16WMxgQ4JdClmsQIwYJXLuudt0aGvslO3mD26QTL49iFcToiIR0TE10XEd0XE90bE90fEcyPi+RHxgoj4oYj44YhAYP9oRPxYRLwwIl4UET8VES+OiJ9OFsz/GxEviYifjYiXRsTLI+LnI+IVEfGLEcG8z1dHxC9HxK9GxK9FxG9ExG9FxGvSJ0lpZ7zdgg9pvC4i/igi3hARb4yINyeB+baIeEdE/ElEvDMi/iwi3h0R700P7fBFqA+lr8rxyjfmY3OxxED+9xHx0Yj4eET8Y0T885QLSAnIujVf5zpCPKYKTBNE7Of1Wux/5ds/cVQ6eqWULImzrIQ8yJTKuGm3vI9u9Yv9qx7+mvaFNb3OTNMLsikaFUPVlaZ46H/d+viT7iTubdb/ktrnr0TEsyLi/osd5spCWcyuDK0TNoFxE+hSzC5j/ZwlcLEsHS6wYl2d9yJwBFQZj3wYvFnKfUUWjf++NiL+tnHs1UZkIJNlNufKV4Iuj4gLiuxhSDjtR/TkDp5lPeR+xCfPS2rC5em02WbqBB+qaDNI9xkXQfBPEfEPEcEL7bn9z6CMQEWoIlj56MafR8QHI+L9EfG+iHhPEhIIXoTvH0fE2yPirak9vykibkyCGeGMgEZI83YNhHFumdXx4scrm6jj988Ts/l+PYAEd82TlVBdUMxu8pepFm3PM8WsrN+yfOs/zOEv0Uq93O3UQ3v/5Z+vTzj506lzLnx0Md9kzQWY2o7WV0fE3Rc94I7DWcx2DNTJmcCmEOhTzDKAYsVUp8igng9wdPRY0PAnDP+Jw1eE+M8gzz7+55ZW0sCf/QojwVUNHlmnvop6wypHJztEBzeJWQlN6gBRg6WR/TCX4z/CH46wY81/Ofxy9vjnfuwjDdLP01X8Nus7JMso6bN8OFlMsRg9Ol2sfGFEPDwiHhYR50bEgyPiQRHxuRFxdkR8TkScGREPTFamMyLivhFxn3QLnvnF94yIUyPilDRo3zUi7hwRd4qIkyICi/DBiDguIijT0BznjOoWTgga6kLnhMp7A1MGcgGUb+8KptP3HkLiljeWwly4SmxNszSSnm6d92St17ENdU1fNXWagaZtaEoBFloYw10P6uFHGvjl9VVup3OkPFebcKGNf1FEfGd6NoD8ufC6X5PEWsaxmG0J0NFNYFMJdClmuWLH+pkvuQUWgUPnymCLq74Hnw1yiCJEKbcjEV7ElaBSOgzIdKbqpPFXnJRsFQc/5UNYhVeYLtdjE7MwlYM1POXYRsCKHWvEkG4R58JVcUo/0qD+unSISG7XkzYDWn4R1GU+m5IWdYignfXi/Erw6pZ2KYY01/X8J19cK5o0nzOfV1umwX89SFYjpjeF9TLHUV1QyrJd8qIusLgyT3ZavWjqgebVlmnwX9M/VnBByYXcD6bzkLtRXAT26Sxm+6TtvExgRAS6FLMIjXKRcJJVUKJUiHKhSVgG4dzxX2nIn7m5Eqd1cQhHOSR48jyURpfr305zGbtMs6u04FBaZnMLnepF+RG+5I1VL+etbcUhfO5HGl2K2Z00L5V0mauKpdRuNgFdjMwKVV3IzBJFEk58MOG5L7mhErUIpadddtXeg0myGNaJKvwQZzXn9axybfq+mXOVNXUDQXvJ86+phCnCFv68kou+TXOWpzHPrOHqA7tmyp0OysL8b+5Q9OUsZvsi7XxMYGQEuhSzpQjKUcgKm/uxTRyetNZ2Lorwo8MshVEunhBaVQdfs1Z5SLNMdzfHbn55AAhL8BAdbEoxm5ezTszO4p2zVzqlX12dKWyTNQ93kSYPXNl1R4ALy72HvOqEESIqs6wedZ4hUmdNLyC9zEK4aa+IalMLMy3icINrugg4ijn1lU/zqKsz/Jgiks6ZRS5qmh7Ld6Q8eNCyL2cx2xdp52MCIyPQl5gtRZMw5UIo39Z+OmXd4pZfHo5tpi/M6rQtZnfJ1dVB6VfHe55llsE5v1ggjVIQq+6WXd8jIj6RHpxiDqtdtwSot71XbU0TR1hfsfbxtD1iCmvutNvgeRp6Or/D9tDt0a8nterCfp4ohS+cCQdH+OvBsJxxuS3LbkT0cQHBA4ec7/fqCaXFbE+gnY0JjI1AX2JWc11LkcNgqk43F6niiFDigaXcMfVA4kkW33z6AsKWOMqrLt08vbbbv5nmlbZNZxXxGWiWtczmvGGZz0mGpSzplJf9/Fd94EeeXd3e5NVapPdVK4BDm9TDheTBcTLve9aFUVfFgBcscfPapy441J5TtJkrwubTSaYFrtJ+6CMvrJ0XWwqlZf5noipvG9PKsW3+MFlInC7DnLCZVTbvE1fF98np/HzmqjIo0rWYLYD4rwmYwC6BvsQsuSFaET68DoqHxHiJOyJCg27doM4+HkBCdPAqKYSWXjejOsQyS7q8Roq0efoePznSRagQfxVChXeN8sqlITr4Litm4QtneME1ZylhVe7PBQsXG8TDotvW8YoqytO1Q2zDhosljokFP46V9rOKdpIfQy5muSCbxUrMWS/ilg1f3fae9lDSsmKK8FgV73qP025NjPsQVYtwGVKYqo6YA7uIhXvROsimhMxqT11y4G4J51F+/neZfpmWxWxJxP9NwAQqAl2JWTpPBuV5DmGJYJCQkJAl3rRBnTDEY9AlTJ3oZSoCHapEQi5G2EZIs28VA+uQxSzvez0rVQrHDrvclX7UC2HEmXXOkriqD8IxKLMQTk5p5n7at8xaAyV8u3YIZNpT6Sg7DMqpLWW4tv/VThdJZ1lxumx46rc6J/VKqEXFU104xJkeVCraxSLHuk1hqgfwurKK6+0TxcVnHzz5wEdfn/O2mO2jRp2HCYyQQFdidlWHjiBicM4dwlRTE3L/dW3/evoi07ry7zJfidku02yaFu+IpTzPa5rAlHi0KdLNL6TyoPgjauW4UMOyTxwWrNKKK+GIVRdrNPsJmwt5xCJxFJ87ErmYLS/OSDtPi7ZOXJ0HpJdPj2CfpkeoPMpLFy+kmZeB7fwi5fSIHe4uVG8qqBOpi/gxpzMTsn1ZB1VPHGMdl7wuFXbeGo5N4s1Kt27qTVW3bS20ssgeOHA7PqqR1+us8nS175WpfXaV3qx0LGZn0fE+E9hiAkMXswzGiAOmEDA1gVvf+cA+hKrjKXu+7rQJDrYSQOs+nkeluv76jgvC8XGcizisZ1hxJV4ROEyjkFVX4hHLJvsQEggU2qwcwrXcn3OmPITBEZ+4ulgjTd3JkJglb/wkWlQGCWj9V/gyTZURQZu7vbywFi7ysFEucLEMHjzhpNsS21VbtvNys82xwg2OiEb+a9oI/qq/Ml7df8J23ceoTuryQ/RX0zJ4FVfOdN42D+bx2rRU3rxN1OWzKr//k/LnHbSrdhazqybs9E1gpASGLmbByiDNIMXCQK5BeijIN0nMIqyGwpevejFQr0LM5mJzVjtC2JQWtVx8SqTkYeRHXIQjx5Dvxw+BTDq4PD3aOvsII0fcXFzxvxRnnBtKT/mrHhGWCPDcqVwKo334c45VAokPJjz7J66bKrB233JwVTY/trLu5seqdFe5psz5BUCZF2ywdC/qSn6LxpsVTmlOC3OxLONYaXmP77SLCaZxUCfUjeppzpzraXl25W8x2xVJp2MCJtCYwBjEbOOD6ykiL/L/x57y2qZsVilmEQKLOoSIHj7U7X8EEk4ihbVc7qdtrJ65y8VnLmbzbYUnbi5m8Uf0Ml0B6ypCjv3TxKwsxYTNF+JMs6BSbspImGrh07dYAbXIf3ddiVjyz0W4yr/qNSwoY8lY+crSKpGds1eY3G/vmBNT1SH5iDUPCeYXFMQRf6UpP8VXuvyvc7C7YmfnwMfFlg8niDdr6kD70ppyTzvuujxW4WcxuwqqTtMETGApAhazS+GqDfwrEfFPtXvs2YbAqsSsLJ25GMnLifjTfE8ECpZS/BAzxMEPEYGTUMkFSu6n7VJw5OIpTy/fTlnsWXeVB7eTsbRSRo6FtPP0lKfCU3bi8L9cynIpT63Zj+DFWksesEBQkR7/VQaFX8caZqXluSyHhCX+OSuFy/1Kfvqf38aHKRc2Eu95+koz91Ma2jdvTb2SB+UiX9LiGPlPXdAW59XdvDy62m8x2xVJp2MCJtCYgMVsY3R7ES1m91B0urEqMUshEQY8LFQ6WfFksUS8SdgqrIQd/yVSWMvlfogdhAjiQw4/LHyIMFwuYAlHeIkk9kt8k67Kl+dHGMqp9PL82cex5MILP9LHsjtN0BNmmsuPZVqYPv0ReCyzHPUtPoTVtuLkfiU//ace5Mp6zYWrwuR+SkP7ll2X5V02/irDW8yukq7TNgETWIjAWMQsVoihWCJKsL8cEf9cem7Yf9jzxHyfbpViVgKR2+567zEPGSIycwsc24RBvLDwqjNEisSTRAprudIPMUy65COOudBBqCg98pDQRmhSTm5pE550JaIQori69CR4mRrBfuIgdhHv7FMc/Ni3jEPILjP/dJm0m4aFH3xnuZx3LlwVJ/cr60//FVZr2oZEZp6+9ud+09JQ2Hlr6qrJhce8dLvYbzHbBUWnYQIm0IrAWMSsBvNWB7uiyL8UEf+yorSHkiyDNnXQp1ulmOU4EAd7DzslEclx5gKPMIhLjh1Bwa1fBKbEJ/vZzoVGnR+ClvgsbLPIwsma/3KITdIkTwQTQijPg/Ckw35ZHLG+5mmwzX5ZmEmTY1W8PD3lu8havPLjXSTeKsPAg2PlGOuchKQsqxy7RKjC534Kzxqn/+nv3krs8SD/Ms3cb1oae4nN2NDx5fU7I3jvuyxme0fuDE3ABEoCFrMlkeX/j0XMIkB4vRmDPoKN7dzJD/98H/5YZRmc8c/FHmmV4fM022yvWsy2Kds2xqWuaQMsiPqhONojwhILeunYhz/75RCuZfkR+RKjEp6lmNV/0hELCeRc2LKffLsSs5SXtOZZn3V8fa8tZvsm7vxMwASOIdCHmKVjlxjiFiW3P7EyYHGQYyChs9ZgyS1R4uHkx5qOHadBSvtINx9sUrBeVq+OiE/0klPzTBi8xY+BWy+XV4rUBfyxBGrw5PY2DhHMYK34sspRZ/JjP+EZ5LtyFrNdkewmHay8Ot+GJqxok7Rr2qDeSc2a//irzUKCvofyM+0Df/qmXMxKiGqahsQtaRGehW3OFTks1vRBXNixn/MrT1NpaKqJ4s1bSzSLu8TzvHh97reY7ZO28zIBE6gl0IeYRRzR8WsgkFiSJYRBko5fYpQ14kjWEw0E2s+BkAaLBK/S6FJM1QKr8Ry6mNVtSvjjYEZ9MEDqP9u6JY0fYfETcwnX3Ri7t9pLkcCAXmcdU5xl1xazyxJbbXhd0EhY5Rejq815sdQ59+kzaJeUkTX/yz6B9q+LO8Lowjo/HvxIg7X6H/Yrbdq6+h5Kx/mifo0wnEtKl/2E1f78PJt3ZCqHmKtPnBevz/0Ws33Sdl4mYAK1BFYtZmVZkCiiEHTsdM4SswwSpcWBTpzOX47wSkODSzlIIdCUpuL1sX5VRPxrHxk1zIOBlyV38IapXMlynpilbsqBVfWSD/JKv8naYrYJtdXEUd1KVLEu29Rqcl5/qjr2dZSkvICAe1fnV1fHYzHbFUmnYwIm0JjAqsVsKZpUUMRQLjwZMLitx+05buHRaZdiVpYT1uzHCpgv3DpcxwBLnv+mAxvgumRNEcsBmv+w51YpbGW5xR9XWmbrBlnisShOitp4ZTHbGF3nEWXJ1Jo2T10PTVh1fuA158oq8qhLU30n5y+sdc6pH6yLsw4/i9l1UHeeJmACRxEYgpjlthudNQMl24ghxFMpZiV+JWYJVy66lX7UQa74zxjE7DQrKmhkPec44CmBkgvTUszWCeSuMVvMdk20eXpc3LBIxOocLO+oNM9huDE1haDvEuqc+47UP35bWnPXakjOYnZIteGymMCWEli1mJVQQiTJIZYQShKnmrem/awZNKeJWd0CL4Urgi3PJ09vldtYNP99lRm0TBvOWK0lUklOooRtXUzk2cBxlpiFNVbc3CFwsKrn+eT7l922mF2W2GrDU68SWOTUVT2vttTjTh3G+blYTgcawtFZzA6hFlwGE9hyAqsWs+BF+CBy9HJ6pgbkYhaLD4JQg6PEVS5mEbyEkYBln9Kkg2eKQi6++qzWX4yIT/aZ4ZJ5wRXGiE84wZ//8MLpgoMX8fM0Nh8G4JamHmQhjAZUwhCeNNlPWjw1ThwEc5dWI4vZ3foZ0m8uZodUrk0ui8491kN0FrNDrBWXyQS2jEAfYhakiBwEFAtiNb9NjUDVfDAEFuIXKx9+cvxHPEngIqZIU/FId123PIcuZmEILxgiRlhrgBRf/ssaDlcEK+FypsSFvy4oSFN++BO+S2cx2yXNbtKymO2G4zKp6Fy1mI34u4h47TLwHNYETGA7CPQhZumEET65Q7R2LX7y9PvcfmVE3NpnhkvmBWcuIHKni4vcb2jb6xCzCHWszYh4PYjIe0h18YR1G/+y7RKeeFinWefCg7DwZk18wuhztPgrzfzCgbpAOJIX4fO7EuxTmlz4sf9704VGnq/SIJ2u3DaLWV3EdcVy0XSo03XddVqkjLbMLkLJYUzABFZKoA8xi0WVwRtBwMI2flj/NsG9IiJuG/CBaDCEO1MCWDM4luJpaIewDjErVrL0w4i2iuBEOLIfAQo/tV+EJWFYs1/TZNjGIQARnKSJH+GIj1AlLH4SpSlK9Z80yZ/9ylOCSqISazrbhCF90smdypX7tdlWvm3SGGNc3U1aR9lpAxazu+RtmV1HC3SeJjACAn2IWQZgTQegU9agPgI8CxVx6GKWg5BgYjqARNlCB7fGQOsUs7nQhxltNne5uEAwIvJyB2OEJk4CUOIXP9IjXTnqhzQ5VwjHdl4GwhE+T5N8c4dIRjTLEZ8w5V0R7W+y1rE0iTvmOBx3Xl99HouY00aG6GyZHWKtuEwmsGUE+hCzm470F5L42PTj7Pv41ilm82NFxJRCRmIWocg2VlamF2jRdALSkRgp08RfTmKWtba1T2vCkw+O7bJMKotEMMK3tNSm6I1XdcfSOLEeI8JE00CYsgFj/stxEYE/FwPUJ/sIg+MiQfWZx1EaxMFf3FO0zlZirvJ0lnBHCVnMdgTSyZiACTQnYDHbnJ1i/rzFrFB0uh6DmJUVFdGI6CgXgEiM5HAQovjLIVQkkLWtfVoTXg9Fsl2KWcLJIixh27UAqjsWlW+oa/HUlA7WWKzhjYMVghR2hGXhQkBWbuqYffkdJaUJD7YRvKS5CkEr5uQzRGcxO8RacZlMYMsIWMy2r3CL2fYM61IYg5il3IgixEzuJHDwkxjJ988Ss1gJJWzzOBKqSrNOzCKmiItgk/DN02i7XXcsbdNcdfw6CzUsJWYRqxxX7iRWJSDZn/OuS5MwWHC7dmKusnSdftv0LGbbEnR8EzCB1gQsZlsjjJ9LA+NO+6ScQkZgLGKWh7Ow4iFCcaz5jz9OYiT9rVazxCwB2M+UAqyGOIlUWf5KcZWCVStELPkTpmtXdyxd59F1eojWkgViX2JW+cGW9zDz9gpEKfslIEve7GNqAeG1EK9MU2m3WYu5ytImrVXEtZhdBVWnaQImsBQBi9mlcNUGfnkaxA7U7rVnUwJjEbMITr1tADHDguVPTmJE/1nPE7NYCwmj9LiFjQCTK8WV/FkrP9Lo2intrtNdZXqwo9y5y8Us9Yd45SKAeiOs9ktA4kd9yFEvWGfxL5euuZM++aksKsNQ1hazQ6kJl8MEtpjAEMQsnbWsG3XroXbiajabIma5Vc4AjcWJhYF9nezXIWZVp03Xss42jV8Xb9k0OZ9y4VWXZlM/Caum8dcRr25KQD7NgGNC8MoKThlp97mALJkyf1aWdx0T9cSX8Lp2Yr7Oc3HWMVnMzqLjfSZgAr0QGIKY5UAZHBg8sI5oUKHzxp/OfMjuZanssBy7Q9BSDyxdW5iWZTNGMbvsMXYZHjHFrXKmGJRzeLvKR8Kqq/T6SEfCFKFJm2atNk7+HBPM1O8QhikehJGAJAzWW50TWG6Jo/2Ks4qLCDFXXn0wWyYPi9llaDmsCZjASggMRcyqwy4HAwYY9g3ZvTQNfLcbciEXLJsGfgbydTuL2eVqAAsk9ZZPcVguhfmhdZ7ODzmsEIh7XTDDCauq+hr6GLZhh0DFSkt4rTkSzgv+lwKX/1pIQ4K4y6MXc4tZf862y3bltExgowgMWcxKxMoaMlTwFrOrqRmL2eW5rvpckbBavmTri4HFuuSSi1mVjDDLTukgLnFWIWJVLjG3mLWYVZvw2gRMoCAwVDGLZURitijy4P7+bLLOfOrgSrZ8gWyZXZ7ZNsWQsBrTMSNc8ykCiE8ssPkDdUM+HjG3mLWYHXI7ddlMYK0EhiZm9UQxt+66FLNYTg6vaPnNJGbPX1H6TaxFTRtVEzG7Kq7fnrj+4Iq4Uu5NdKts63r91KrqfBVtHR6aRqApAeXDW23bAVbdVTER86esKI/Sar0sC8+ZXZaYw5uACXROYGhiVvPYsJp0KWb13kgNZmNbr+qBnrJBLStmEQVjY5mXl/mTm+awOubHOLbtVbb1VYhl2s/YGJflbcPFYnbTehAfjwmMkMBQxSwouxSzk+PvfmjyoCOXd7589pOePrnngx/debqU9YzHHNGg0yWLWc10WTFbWbxWwfXsr/jOySlnH56c+WWXrIRtEiC6eJrFZGz7VtbWH/CEb5wcevgFK6mPNbT1Luu1aqurOA9o//d88GNWwpzzK50HbaYwWMx22ZKclgmYQCMCQxazjQ5oSqRqsPmG6yeTMS2Pv/J6DTaDFrNjYqqybrKYRaToOMeyXkNbn9JVNPKuxOZYWKuciG+L2Ub17UgmYAIDIzAUMavb1dwiXYWzKtl7cwAAIABJREFUmF2MKqJ5mQGussxqcBzT2mJ2WBd2FrP914fF7GKdokOZgAkMn8AQxCwCClGkBWFbd9uLBznq/BehbDE7n5LeIEF9aBFv9tU9KGIxO59r3yHc1vsmHmHLbMQJPWD/u4h4bQ/5OAsTMIGRERiCmF0EGUKWl543fTjEA/wilOvD8HAIb5moe0jEYraeWenLRQGfatZXqLSfdl13kaD9TdZu602o7b4r9kj2ae1l3nZhMWsx26zVOZYJmEAnBMYiZjlYhFNT5wG+KbldsTXtq1IWs/O5chHA1A0uCDSF49qIuLL4JOr8lBYL4ba+GKc8FHci9O5ZLjCoMy6e+axt3UVcHpdti1mL2bJN+L8JmECPBMYiZhlg2rxGyQN880aFNfzCKdEtZqeAybwRQxJEtGN4wo0FEdW1c1tfjih1wEVG2b9gTccfkUu9zXIWsxazs9qH95mACayYwFjELGKKd8/OG1Sm4fIAP43MfH8GeYmxMrTFbElk/f8XbuuHn3n15MkvvqmzNx/wQFHTNyms6QEwpnjIWl43hUnW9Gl3JlTbFrMWs2oLXpuACayBwFjELANNm89PNh5k1/mE/poG+LIZwt5itqQy3P8LtXW1LdZdtfERiln6FIlZPeyY12x1sZY+h5v7l9sWsxazZZvwfxMwgR4JjEXMtkWy0ADfdFBHEBz5pVs6EwUqhwTHim5Ht2VK/JVaZrEaXvSymzvnCt8kYih/3w7RlF8cNL3bMK3cC7V1ta06MQv3x195w0zu1EtZN7mY5XxYxuqr8vTc1jXFgPZQ9yAeFlm1lWm88V+ZmIUjdbGK/sWv5ppVpd5nAiYwJgIWsy0+pMDXeRjI+LpYNuhV23UiQSJ10fWaBvhl2u9KxOyjv+/ayQmfcfrk9gdPqpacLV+KWpTfrHApzb7ELIKVB764bY2AQtDyCjrE0vXLAF8g7Fwxm7Wrqq0iamD1sG+5cnL740/ea8tsMxVBHGFWhjnjSy7e2086d/7Msyenf8GFe2lQj6XoVXr5OivTKuYRT8OWi9n8AkPhmWKjY5Ff3bpzMYt4hS351/UvizDN+dZtW8zWVaX9TMAExkjAYrahmGUgQGzJ+sTgwv988K8bQJbxW9MAv0w77lzM6phzjnxC9ZRzztsTTcswnBa2RzGLkOWpeIRJeSubKRz4d+nmilmYiDNr/tOOKYv+48fFGoJWDNmft3kuOvBjTRiJIwQv/xFkCLFFLkBUnp4ts8zFr46hpm6ok6p9pzcbzKqjzsUsbZ4LA1lk6+pH9dJ0rfqacuyzjjff58/Z5jS8bQImsBYCFrMNxCzClUEwF1wMKAzaTR+AqRuQ1jTAL9MQOxez8CvFjzjUMWrql0RMH5ZZWf+wyta58in6ujDL+C3UBsWUNQxp09oWU4lV/YcZAlf/WeOHKGKbNeI134/fIueEytOzmIWrHvKqm5P/0dRO6h4Oy+tkj0F+7E23xaK0vsJRrJumnccjrXR85UVWfmzzti1m5xHyfhMwgZUTsJhtIGYRsQwC+cDANgP9IgN3GW/afw1qaxjgF214nYtZuJaiShymcWrinwbxPsSsBBHTCupc3VzNunCL+i3UBsU0Z832WV9+aWUFz6cbiC/MSjGV+9UJ1zo/pZevVZ41tHWmF1BHNxdvS9HDYfPeZEC9HMMlP7Zlt2GGVbaMR99SXkyUYZb5Tz7pPLCYXfTscjgTMIFBErCYbSBmpw3QDEBdDjZrHOAXbaydilkdb2mRgndp8Vtm0K4LmwbxVYtZhJIEQ19zQRuJWVlhsYpzscZtbdWH+NWJttyv7ryo81N6+Vp5rUHM0ta5oEC08qEEvtTG/OZpXxysm1vbqZitptWcffgYMcsUD03hyNk13aZuUvu0mF20x3M4EzCBQRKwmG0oZnmwJR9ENBhrDm2+r+m20lzTAL9Ig+1UzGr6BsctZswZhDUDr/y6WKdBfNViFpEgwTBoMVsnoCR2xDsXrnV+dcK1zk9x8/UI2jrnA9Za5j+X4q/T9skF8Z3ve85R7b168O7gSXtzaHN2TbdVvzXHs8i5rzCeZiASXpuACayNgMVsAzGL6MJKwi1ZxOujv/+66kGZLq2yDFAjGOA7FbMcM7dSGchlGWQ7fxCm6cBdxutJzPLw1yDFrC4caMO0M72lgLYM+/OedU3Vxim/LOUWs5WIrbso6VTM6rx/2NOvquqCNey7tMpyPljMrm3cdcYmYAIdE7CYbSBmGQgYcLBmIWoRWwwMpWBq+1+D2rZYZuFVvZLoMUeqaQV6El5PdLflmcdPInPVlllO10rwJ4tex6dvbXILTTOABRdfXDwgkuq4I2LZTzskPNvlQ4+5H/vKC7o6v7wetD2Ctg5shOzKpxnAhGkfsKWd5ozFq4u1xWzt+WNPEzCBERKwmG0oZrsYTOalMYIBvnPL7DwmXe3vUczqASOESXl7GsstD4Z1+RBYJX664tRXOiNo63TvvHmCOivdSi5mV83eYrasRv83ARMYKwGLWYvZNm3XYnYxeghaXgF1S3rA6HBaw6+09NWJpcVy2Q1lMbsMreXCUl/lBQkpWMz6c7bLtSSHNgET6JSAxazFbJsGZTG7HD2EKw8RsZSiCBF7dY24XS6HdFt61Va9rtMfiWV2Wl1YzFrMTmsb9jcBE+iBgMWsxWybZmYx24be0XGZasDroEpL7dGh5v+zZXY+o65DWMxazHbdppyeCZjAEgQsZi1ml2guxwS1mD0GSWMPveu0cQIposVsW4LLx7eYtZhdvtU4hgmYQGcELGYtZts0JovZNvSOjssnU+d9NvXoGPX/LGbruazS12LWYnaV7ctpm4AJzCFgMWsxO6eJzNxtMTsTz1I7+QLVhUvFqA9sMVvPZZW+FrMWs6tsX07bBExgDoGtEbPVV6QuvmLyoBEtZ3zJxX2/cH9OczlmdyVmx8RUZe3x1VzHQJviwTSDtm8yIOndL6aNqJ1TJyNo61OqrfKenHLOeaPqW2BOmdN5UD6MOOtYy33+AlhJxP9NwAR6J7AtYpbXIqnjHuO6i9vPq2hcvCN1jDxVZt4bumnuoyOvk6G29VntRO1prOs2Dx1azM5qGd5nAibQC4FtEbNYvLA+rGJ5fPaqpVWk32ag6aMRreKYleb/WFGdKf0++PSdx6rb+tNWWCdDb+vT6hKrutpU1+tV9y+UvY2zmG1Dz3FNwAQ6IbAtYrYTWFMSwZLEfEe77glgUW872HZfqu1Nkffjuq33W/9D718sZvttD87NBEyghoDFbA2UJb14NyhfdrLrlgAWLm7bMpXBbhgE3Nb7rwcx72I+9SpKbzG7CqpO0wRMYCkCFrNL4TomMLdFNU9ujHP9jjmgAXlgAYTtzQMq0zYXJW/rXbx1YZtZLnrs3JUYev9iMbtobTqcCZjAyghYzLZDmz8AtYkPE7Wj0zw2Viis3RrILZ6as+wqpi4uqBO39a6ozk7niuwcuGl20LXttZhdG3pn3BcBXtszzVqV7yPM9XMKRfhZDwcgKqblNSfpznYvO7dv2fCdFTRLyGI2g9Fgs3xyfAh12uAwBheFc1lClrXnaa63isqLC+pkqLe910uq29zLt7AMsX+xmO22zp3aAAnQ4XFlWefyfQxciNVZjvDMoZvmiD8tr2lxuvRnsF0mf4T5EOZZWsw2bwWl4KKN8oCMXXsCnM/wzBeLp/Zcm6ZQ19bxs1sdAc0Zz8+BIc4ft5hdXRtwygMhwEk4TeDN2ldXfMIPWcwuK6bVUdUda59+FrPNaXOrlXbJAxqssdIO9VZg86PsPybWJ3jKKqW1LxT6rwvlqIsL2jqL27rIrG6taR1q/6yHOH/cYnZ1bcApD4QAA9IiYpYr/HyaARaYq5Mf/hJ+uZglXfYhHi5Plt08L6XBfsJdUjChcyY98lGYWfPylJ7yvDab9sDVMlZWOhr24whPufgvf/7jsMqSJ3zYLwuH8lB5FD5FW8nKYrYZVgkuBO07U11q8Jk1HaZZbtsVC9HKuaH5yP/P4mmtDUBtnfb9ZxHxnjTtgzoa4m3vtcLqKHPGAsYULhz+OJ0PjG8wnzVOdZT9UslYzC6Fy4HHSIATD7F4uGZhn8SnTlIdo67+EZucuLoylZglPJYBRCB+shooPXUECI08jfwWDfmTLgMnYWRlm9Y505FTLsqj8LpKRrywjzDsw5XhdYzEp3wasAmvPElDIptw/M/LnJLudGUx2xwn9cby1oj4SNq2kG3OM49J+39oGrx/IJ1XnDd26yFAO6dtc+H23rTttr7auhBzDB7/MuD+xWJ2te3AqQ+AAIJx1iLxKaFHkRnEiMOJLIdoxU9CESGruIRhkMv9EIoI1dwRN0+X7VwokkaeRx6XbUQm1lg5yke5NMCyPy8T2yqv4lAmhVF5tI8ycwxKD3/yoEyrHDQsZlUDzdc3DvT2X/MjGkbMz0nt/7uGURyXIiLeERF/YhK9Enh1RHyi1xyXy8xidjleDj1CAggxibey+Pk+wvAfxzairnTsRwBK4JVCMReTbGM15TZ9vigN0mYb4Zy7fH/uz7ZENulibb6gCJDnr12I0COpDAhh0hePUsxiyZ1W5rKcSr+LtcVse4pvTrde26fkFHICFrM5jWFs/2lEvH0YRdmaUrwqIv51wEdrMTvgynHRuiGQi7cyxXxfKWZ1+z6PI6GJQNR2vj8Xk2xzi550y0UW37o06vzyPMib9EibsJRT6eX5EwdxShj5Y8VVmdhfilnCyXJblrkU7nmZ2m5bzLYluFuvzCW065aAxWy3PLtI7V1pWk0XaTmNxQhYzO5z+ruIeO3+X2+ZQD8EEHMIszqX7yMM/3GaUlB3u12ijrCEy10uFBGSPESVO9LDSqp0SUPpKVydn/ZhHc1v98tCzPQAnEQr2xLcpUU1nwpRilkYlGUmLdJXmauMOv6xmG0PFEsVFiu7bglYzHbLs4vUePiLOxF2/RHgeY5/6y+7pXOyZXZpZI4wNgKIw2XFLMIN0cetfBz/dYte4lO35GUVlQBWXhKK+RsMiJPPSa0TrnV+qRh7c2YlLEvBipjVnFrtywW3BHtZRh2TxHH+BoOyzCpLl2uL2fY0edqYxa5bAhaz3fLsIrX3RcQbu0jIaSxMgHHl3xcO3X9Ai9n+mTvHngk0EbMUETHILXd9zhJRlwtNBCXiET+9viS3zJIGQhLxqjRIj3Tl8vRm+WmfyqQ8WecPkElQ449jH9tYWykDx0CZucqW03QFCVwsuZRZeVBmiV3F6XptMdueqOcRtmdYl4LFbB2V9frRJ71hvUXYutyHLmb/dxqzTuihZjzNoAfIzqJ7Agg5WULrUseamQvUujDsnxemLt40P9KaVi7KKmsx8dmeFlbp15Wt6zIrr7q1xWwdleX8/jkifn+5KA69AIHHpEFSU3kWiOIgKyRwIN3u/q0V5uGkjyXw+mQQOXbPMHz+ZzpPP7eH4ljM9gDZWZjAGAlYzLartQekjvzl7ZJx7BoClyW2/6lmn736J3B2qo//23/WW5ujLiCGPCf/mald/OceamlMYpa7tdyJ5T3BLNytxcA1zb8HfM7CBDaXgMVsu7rloUKmhfy3dsk4dg2BVya2n1Wzz179E/i6VB/f1n/WW5vjmYn5zw2YwKNSGX+shzKOScyCQ9MNNf1QiPQMTemv/V6bgAksScBidklgRfAXpo78gYW//7Yn8IGI+FD7ZJxCBwR2IoKPgzD4uq13AHTBJJ6amHMhMVTHGPJPEfG3c6YFdlH+sYnZaaJ1mn8XjJyGCWwlAYvZ5tV+n4j4WBrkm6fimHUEvioN4no4si6M/foj8LRUH2/qL0vnlN7py5z8uw6cxg+m9qG3EK2quBazqyLrdE1g5AQsZptV4KdFxNtSB/7gZkk41hQC90+Wnr+OiOOmhLF3fwR4sFVvhTm3v2y3PqefTf3Ls0ZA4sSI4HzFcv/FKyzvmMXs4YjQguiHlacZrLCxOOntImAxu3x93zF79/G3Lx/dMWYQ4AEJvqZGJ89cPLv1EqCt8xAL9fHD6y3KVuX+3xPzPxzRUSPUaCd/HhFfsKJyr1rM8iYhXqfJO+rzNxM1PZx8OgHbWvRqUYvZpmQdb2MJPCx1IKyxFPKaFN7Tyfy2MyKCW+KHIuLUiLh7RNw5zW/iipoTyk/jL9Y0Hp7egQwznuK1647AMyLiX1J79ENG3XFtmhJ9CV/8oq3/ZtNEHG8pAqelz7XC/MOpr14qgTUH/i+pvVB+XtnVtVu1mNX76Sk/C28hyL8cuuzx5GI2jzvNPw/j7S0mwDtdZcbXmltk0/w3BdV/zDoQnYRt10zo/3hE/H26ffSR9DDOzRHx7vT51ndEBB9+4ItAvAvxDyLidyLiNRHxGxHxqxHx6oj4xYj4+Yh4WUS8JH3d7cUR8ZMR8ePpic8fiogfiIjnpKvX74oIXs30nRHxioj4tYj45YjgO+W8RBw/BtjfTutfT/kRhjwJw9PwvxARPAn8IxHxvIj4/oj4noj47oh4dkRwC+87IgLx9K0R8c0R8Y0R8bXpFSr8JzxlJS+48mAS8Z4SEbw2Cv5fHhFfFhFPjognRcQFEfHEiHhCRDw+Ih4XEY+NiC+NiC+JCN6h+uhkfTw/Ih6Rbs+prX5RRHxhukBBQH9+RDw0IrjN+5B0wfJ5EfGgiPgP6eIFqwKvT+IihqegPztdzPD6MG7d3y9d2PB2gPtGxGdGxL2TBYILHQbSe0XEPdNFzz0i4pSI+Iw0qDJv7y7pQujTI+JO6YLopIjgooiXph8fEQcjAoveHeacYFg+OHYGQAYN2DIHGYZ26yHARS7t9ieyPsUW2X7q4utTn8t5wEUE5+EY3VdmbYfzmf74v6a+KT8ephDRb9CP0K9gZKHPoR+iX6KPos/CIHNW6uP4qBDjDf0h/SP95SNTf0r/Sn/Lx4foi+mfKcvXpL6ch+jo2+nTuXDm/dXcWWOMYaxhzGEcQoRjnS3HUKYG0K8v46aJ1mn+y6TtsBtMgMGcL9TQCGn0NHRc6U9j3ySHsOBkRAg+P52QvBIEofiiiEA4ciIiJF+ahCUCk07mVxKvv0xClJf/I0zpMBCqb0/CFQGLkP1gRCBsmR+F0KWzQviWJ77/m8mybeATEYHlhaei/yYttDMtfxURLLRVlr9IC+2RBUsWC7c5tdA+ly3HsuFvi4hZy60RscjyyYhYZOHTprOWf0sfN5i2/teIqFvIOz92wsCZc54LOC30sSz0B1r4zK2W90YEC4JMC/0HC1NItLwrIrS8MyJYeJ+qlj+JCBZ9Lpo1F9Ba6JtYmLuu5a3poSnW9F8sCBMtb44IFh5k00Jfp4U3NrDwlTMtfxQRLPSLWl4XEVqYCsDCxbwW+lEtvxcRLL+bLVz0sxAelrojQTv+viTwxjxGcQGNQSFvT5uwzZc8pSsWqZ9ponWa/yJpOsyWENBcFNa5U+Mp/fMw27i9qjmzWOWw0GG1w9qTX3Uz5YGpD3R4uuJmagSWR+Za6Wqbd7cymKoTROww+DFIMHgwmDDIMPgwMDFIMXgxsLEPax8DBuF/KVlusRhjYc33EZaBizQY9IjPwMmgyuCFVZmndbma58r+m5I1kSv8b4mIp6d9WHaZa4WVF0sEV/1YfTkOrv6ZloBFl/lwXHxgGcYagJX48mSRxgr8vWlAw4rMBcpz00UKlusXpLLIgoDV7Mpk3cb6/KPpIoZXhv1UYsNArYEbRhrYYcWgLyGAMJBQ4PglJuAgsQF/iRHEicSKBAyCBoEjwSMBhCBi4VVbEpqs+Q9jLrYosxYsgyxcjLFgGWfhmFj+V1q4UNPCZzVZfjotfDOeCzaJXongWWsJ5llrietpawnxWWsE+7wFYT9r4WJy3sKDW/MWLvzzhQsC2gt9pZd+GNDHYFXcNId1+atTv8VdMtoTX5DTXTvunjHFTXfsOK/pAzDG0MdxN42xm36SvhPDCf0PfS+WbO6gkT5WWO7ocFeBu19Ya7k7y10t7mQx7Y67Vdyh4o4U1l/uOnG3ibu3jFU4tplWQB+pcYd+kukH7FvWab45aeVzcHN/jG12JnAMAU4WGg7r3FnM5jT2t1clZvdzaLaFQKMeGWTpSPKOoFmKjmUCJmACJjBmAn3MmdW4gxW2jdBk3EJ35Avj2DR/6oWwdiZQEbCYXa4hDFHMav4kdWkRu1x9OrQJmIAJbCqBVYtZuCE21+GYw4vF1mPeOugPME+JWW6tIYq0cOuzzmI7wEPotUhDE7Oc0NQTV8V2JmACJmACJiACfYhZ5dX3GhG9LiHd97E6vwUISMyyzp2nGeQ09reHJGa5IuUihPmWTeYn7R+Vt0zABEzABDaNwCaLWQw4Hvc2rcW2OB6L2eXgDUnManrBMk+LLne0Dm0CJmACJjBWApssZtEunmIw1pa5gnJbzC4Pldv6Q/hogqcXLF93jmECJmAC20IAMcvbaDbRcffYltlNrNmGxzRNzGLCRyzxyo1lHVdLvDpoUx3v4uSVVet0WGOpHz/Nuc5acN4mYAImMEwCO+l9zrziy84ENpoA76ZjziWiiAUBihCd5g+MRW9pI5I31fHePt6lt07HxHfqbNH6WGdZnbcJmIAJmEC/BHhXOWPEj/WbrXMzgeETwArIWw4WeZfcJotZvk7Di+XX6bjgoKPybZZ11oLzNgETMIFhEuBT3YwRfGzGzgRMICOwzKswNlnMviLdvuE2zrqcpoesK3/nawImYAImMFwCj0li9uuGW0SXzATWQ0CvwrhLRCDoyuVxWbE2WczyeVWueB+UHW/fmxazfRN3fiZgAiYwHgJ80pZxapE7qeM5KpfUBDogwNc2Fr2tvcli9rNTJ8F3sNflLGbXRd75moAJmMDwCfBcx0eGX0yX0AT6JYCI5eRY5L1uPJTEg2VH+i1ir7m9L80f7jXTLDOL2QyGN03ABEzABPYInJYMLj++5+MNEzABE6ghcGXqLL60Zl8fXhazfVB2HiZgAiYwPgI/msanR4+v6C6xCZhAnwTOiIhPRsTbIuJAnxmnvPS54TVk7SxNwARMwAQGSuDUiPi3iPjjiFjnQ8oDxeNimYAJlAR+JF39fnW5o4f/FrM9QHYWJmACJjAyAi9J49KXjKzcLq4JmMCaCHx6RPA1MD4ZyBylPp3FbJ+0nZcJmIAJDJ8A095ui4hNfgB7+LXgEprACAk8OV0FM93guB7LbzHbI2xnZQImYAIDJ3C/iPiHZFy518DL6uKZgAkMkMBzkqB9ZY9ls5jtEbazMgETMIEBEzgpIt6bnuP4ggGX00UzARMYOIFfTYK2r1ehWMwOvEG4eCZgAibQA4E7R8Tr0vjzjB7ycxYmYAIbTIAr4zemDuU3I+LEFR+rxeyKATt5EzABExg4gbMi4kNp3PnJgZfVxTMBExgJgTtExM+njuXdC35goumhWcw2Jed4JmACJjB+Ao+NiH9KUwsuHf/h+AhMwASGRoBvYvNE6T9GBPNpF/0E8DLHYTG7DC2HNQETMIHNIMCDXq9IYwxv03nkZhyWj8IETGCIBD4vIq5PVtqPR8T3RsRDOiyoxWyHMJ2UCZiACQyYwB0jAkvs1WlMmUTEiyLi7gMus4tmAiawQQQeHxFvzTqgv4mIn42IZ0XEN0XEUyLiURFx3pLLNSnNZeM5/PKszczM3AbcBvpqA4+LCD7E8/SI+O6I4BkMxKsWrLKfuUFjpA/FBExgRASwyr4gvT5FnZLX+x20WZiF24DbgNvAsW2AKWt/GBHfvoaP84xoiHVRTcAE+iZwdkQ8ISK+Jl19PzsimDawzMIXXuj4l4njsOblNuA24DYw7DbwzHTX7isigi96ndr3AOX8TMAETKAvAgxIiFk7EzABEzABEzABEzABExgdAYvZ0VWZC2wCJmACJmACJmACJiACFrMi4bUJmIAJmIAJmIAJmMDoCFjMjq7KXGATMAETMAETMAETMAERsJgVCa9NwARMwARMwARMwARGR8BidnRV5gKbgAmYgAmYgAmYgAmIgMWsSHhtAiZgAiZgAiZgAiYwOgIWs6OrMhfYBEzABEzABEzABExABCxmRcJrEzABEzABEzABEzCB0RGwmB1dlbnAJmACJmACJmACJmACImAxKxJem4AJmIAJmIAJmIAJjI6AxezoqswFNgETMAETMAETMAETEAGLWZHw2gRMwARMwARMwARMYHQEzosIBK2dCZiACZiACZiACZiACZiACZiACZiACZiACZiACZiACZiACZiACZiACZiACZiACZiACZiACZiACZiACZiACZiACZiACZiACZiACZiACZiACZiACZiACZiACZiACZiACZiACZiACZiACZiACZiACZiACZiACZiACZiACZiACZiACZiACZiACZiACZiACZiACZiACZiACZiACZiACZiACZiACZiACZiACZiACZiACZiACZiACZiACZiACZiACZiACZiACZiACZiACZiACZiACZiACZiACZiACZiACZiACZjA0AncPSLeFxH3WENBz5uT5+kRcbhYzomIkws/wtmZgAmYgAmYgAmYgAlsIQFE7CQiTuv52BGy5DvLIVqvSeEIy7bcxRHx0YhgTTg7EzABEzABEzABEzCBLSQwS8wuIhIXCVOHdRExSzzSf38StDdnwvWKiLiwLmH7mYAJmIAJmIAJmIAJbA+BUszeEBFXRcT1mUX02kJEKgzWUqyjiMx8ygBCkyV3uXglPnG18H+WU1zCUzb+l+nPiu99JmACJmACJmACJmACG0qgTswiUJmbimM+KpbRS9N/ROQtNbf8EZqauzpPzJKUBGpKdu4KEbuo+J2bmAOYgAmYgAmYgAmYgAlsBoE6MYtwzB3i9LrkwTaispxewHxWzWldhZidNt0gL6e3TcAETMAETMAETMAEtoxAnZhFjOaO/5oKkG/PClOmUVpiy/95WtO2c+tsmf60OPYE/sTkAAAcf0lEQVQ3ARMwARMwARMwARPYYAJjEbM87MVUh1zQairEBlePD80ETMAETMAETMAETGAWgSZidpFpBrLkKm8sqcSTW8Yyi2jVFIZ8usFNSsxrEzABEzABEzABEzCB7STQRMzyQBjiUvNmsZgiVPUAmIQqaxxrvV4ree09AMZHERRP+/I1eSBa8zC8W5b8WDzdIKflbRMwARMwARMwARPYMgJ3i4h3RMQp6bi5jY9YzB3/9VAY4hGrK7f9JVDfkr39QPEIx1sREJyER9CW1lrSxK/MT2nIIksYBDPCFlGrMuDPItFMPL97VvS8NgETMAETMAETMAETOIaAhOQxO9bsgdDFWjxNGK+5eM7eBEzABEzABEzABExgCASGKmZhg5XWzgRMwARMwARMwARMwASmEsinHEwNtIYdWGb1Ltw1ZO8sTcAETMAETMAETMAETKA5Ab26C1FrZwImYAImYAImYAImYAKjIsADYix2JmACJmACJmACJmACJmACJmACJmACJmACJmACJmACJmACJmACJmACJmACJmACJmACJmACJmACJmACJmACJmACJmACJmACJmACJmACJmACJmACJmACJmACJmACJmACJmACJmACJmACJmACJmACJmACJmACJmACJmACJmACJmACJmACJmACJmACJmACJmACJmACJmACJmACJmACJmACJmACJmACJmACJmACJmACJmACJmACJmACJmACJmACJmACJmACJmACJmACJmACJmACJmACJmACJmACJmACJmACJmACJmACJmACJmACJmACJmACJmACJmACJmACJmACJmACJmACJmACJmACJmACJmACJmACJmACJmACJmACJmACJmACJmACJmACJmACJmACJmACJmACJmACJmACJmACJmACJmACJmACJmACJmACJmACJmACJmACJmACJmACJmACJmACJmACJmACJmACJmACJmACJmACJmACJmACJmACJmACJmACJmACJmACJmACJmACJmACJmACJmACJmACJmACJmACJmACJmACJmACJmACJmACJmACrQhcHBGXT1nOK1I+OSKOZGHZnue+NSIeOi/QQPefno41Lx4M5GBXMtI+r8dP4ITxH4KPwARMwARMwAQ2n8ANEfHRiGBdLog1uQsj4paIeH8Wjng3RUQu8BRe6/dExKX6M7I1QnWSlZnjuC77D68rsv/eHAcB6nTWwlHcI4V50MAPifMyP08XLa7ati/GFiXmcCZgAibQIQGE0/UjX2aJvw5RLZSUBOyswOekgf2aIhDHgbilPqa5MYvZ8phKVhazJaH6/1i4seJfXXPeXpn29XlOIGRpywi5uoWjGIuY5ViaXFBRJ8RjbdeOAG2XPtLOBEzABBYmUFkUjr/7ockpZx8e1UKZkygckjWkFGh1FcHAj2itc1iGsFZOEyOlmGXwvGTKVAUsn6SXO9JlGoTSZ634rOVPHNImLAML67ppEAzg+cBDXRA2d5o+oPTYh9/NaVF4iVmlgb/FwT5JuHCho3Zfre926qEJS+kfEdcWdbOfUrdb5D1PAE4Ts7S3w0W7K0tH+yJM7vDL212+jzZThs/3sz0tzCLHUqY17b+ObVo5iUedzto/Le1N9qffKi/0N/l4fWwmYAIdEKAznTzoyOWTb7h+MqqFMo9UzDKd4KqGdZeLWQZBpiogfhETDAD5YEweCMbcMVBISDOgs18iknRITwKyahvJjzB1A8xbimNRGYgrx/EiqpUe/ohZysEiIUQeTLOQH/85HpVH6W3bmuOvROwdD55w6yOedGRy2Quvnbz0xlsmr37X5KgFv0ued/Xk3PMv0LnBGgtufpHSNb+8zU1LuxSzlAexTVzaEGusynK0Cfw5btoP+2kbtCHaqPzy84g0JfaVJhdockqTdBSftCQmyUMLba9s25w77M/bNuEog9q29pEXYdlPe+Y8Uz6Uh/OBvNlHWShTvl9l3sY13GFjZwImYAILE6g6YYvZhXnNC8jgRUfMoJov+aDLIMfA2MTlYpY0yC935CM/RBB55YMkA4XEI8JTYZUGgpYFpwF61hxCysBALMfgLDGKH2kwWGub8siRd54/28TNXZ5W7r8t2+dE7FTCCxH74tfcfJR4LcVs/v+q626anPmQw/BmoY5WdVFA+rR1LOnlInFXilnaKW1RIps2Sl2rrUkMqq0SDg4sas8Sl2oLak95moRXGZSm8iAceaq9kw7HojxJP78YJBzpaT/xCU95dK6wln9+V4SyKR/CE0/lIF/Oxfw80jFt21psSj7bxsHHawImsCSBqhO2mF2S2vTgEmQMePmSD1z5gDk9pfo9uZjNQ1CPTANAVFAGOQSDLKoaKCRqKAfWMG7JakGM4I/TAC1xkLyPWkkwsyZ9BvtcZCNaNIgrPSUg8ZH/z0U//oSReFC4bVkjhiZYY7HE5kJ1me2nXXYl9TlJopg66tqRPqJQ9Zmv1e5LMUsc7VN5qGfi4thWO0xe1T61ZfzUnlirHbKdO8Kr/ZEm7TN3eZ74kyd+OKXJGkfc/GKR8nPcuLws/CcdLOJ1vPM0dmPvC+Cy/Nq/LWvYwI5F9bYtx+7jXD0Bzq8LVp+Nc1gHgaoTtpjtDL0G8lkJalCsC4Nw5GSbJiBzMctAiXil45eFqcyfAVe37MpBlHiIXcXJ15RNA3RdOXM/8iYfRCwDEOUibZz2sV2mp/x2Q9YLV8JIXCjcNqzP2dk58LHjjj/xNiysy4jXurBMPaBODhy43dtmtK2mXEl7Xh3lYlYisSpTaiv5NuUgPfxyV7YFtSfW2s7T0TbxcKSp7eR1jB9x8mNR+yV9ttW2OT8RypxTOOXPGsf5wHlOelh3EbYSxZRBZSvXxNtmJ2biImZjYEKbwDhAn6y7c3XPGYzhWDa1jDr3qB/qqu5is6tjJ23Oe+640AcwrUr9Q1d5dJEO7Xaa3ugi/WlpdM6+6oQtZqfxXtqfk6UcMMtEGATz25f5fgYzOvJpnXguZpVXHrYUrDRS0sPKp4FZ+eGPAM1d3qg1QOf767bJExHLovQYlHQsSrNMT+VXmvzPhQT+dX4Kv6nrk3d2DnyAeutCyErcStCmwbZLdrSjst7K9HMxqzZJW6FNlAtxSY90c1e2BbUnxVc713+t1WmSJmnkrvQrj0Vtm3CyCtO2OZ+0Jr28LHn6+BOXc0/nPOcJF5EqX77Oz+U8nW3Yru5EpHqnHljUnwz9+GljCCTal9o1bYc2gqDZRkdb1h2/Va2ZE8+71xddvicifrdoY++OiBd0LOg09tEe2KZt03/Qpvk/JEcbpQ/q09EH0i926jgIPwDWHVIabzlglqlzktOo6eQk9AhDXahDLOPofy5maYR0mHKkxYBZ5s9JxNUh4fP85J/70cgYeHFV20jbs1YqN2WXcCCd8ljK9EpW/C8beJ3frLJswj4YTJgeICHa1Tp7MIy66MrRlst6K9POxSz7aItlHP5LMFYMikTKtqD2xJo2XDdQkJ7yYU0auSv9ymMhbbVjDUKkSTocg1xeFs4BrHP5eaX9hEfskGa+nz6BODp/lO42rekz4E//wxq+ugAYOgfKTPlLp3pX2yn3b+p/HTf1OKYF62l+XjapH43vdRdi+MGDMENxlIf66tOVfXkneVeNzpbZTliSCJVUDph1icOdzppBjUGMhUZF3FknUy5mEbLE53YJi4QsfrlTxyKhoH2cUFiIiKfbIZRJA6riKfysNfFY5Oi8OZ78hC7Tk2Dh2HF1DbzOLwXfyNXJzG29yyn3urUrAZunwwNkzMHtWCRQz9Rh+fCX/lNRpZiVFY4wWG00Vxt/nNpG+lutyrag9sQaRxzavtLknKBsas+lcFUc0pVDlHAsufigXZOOBiC17fx8KstCOgyMHBvThriYVD6c36RJPuzTfs7FbXUwgTGC8B1pm/4tr7+hslFbVjsry0kfmO+jrVD36vvzN24Qjn2kSb9MmNzogT/7Swc3nTvlvnX8pz45bs65LpaXJxa0BxbOn3emc4rzatHlDWnMUzpac75+85yxd1GOssjXhRcX9SWEgVPeHtSfsY++hvRYE4byloKbNGkjtBeN5fjJwZ/+h7hle4Ib/uwnHzm28SO9Mj+VR2HU5youa7VT8SUNnQPEIw5p521Zx8i+PHye7sztqhO2mJ3JaJmdVJgqbZF4VLpO9kXinRsR98wSpv6IzwnBCUIjxi9vzGzTqPKTJEuianhKo4w3LU4en+3yuKeVo0yPBkzZlUZ+kk/z2w29mb+wqF6vlYvQLref8NRL1MEs0t4WoTxvICGNO0XEKyLiPlmCtAUGYcXPB2PaBf65UycqP8pPmPw4SEPpkXbe3kiTNHJX+il+LlQ5N0hLjjZKHnnaZVkIIwsuYUmjPLdm7Vde27SGGRzfmPor/R86A+qWc2oRR/siLOc57Yf2hzAjDRx+7MePsPDgIgdhgYMJ+9knpzTz9qV9m7AWX467PI+WPT7OY9JhQcCSHky7dOp/FkmT/oi6ph1Q1zpW9S38R9xpWhJ1Tfi8PyI/7Vd7kUiknaktkabiqx9UeyMccXGkTXqEZT/9FMJTjvwoE/7sr8asdAyEydNkm3RIT2VSGRWfOBxnzkFpLlU3VcYWs6qnjVzTMDhx7YZPoOpsuxSvZVrMw02duTq04VNxCbeJAIMlbXQsjvOIMi/iGNQZxHNH/4w4wEkIIG7kSgFLXnkabOfiRvE2YQ1b2gLcJLbaHBdccxHVJq1pcamfRfpWLj44tryuSZPyqT1J3OYXKhK4hIUJaeSiDz/SIA5pIyZzl6ePP/Fpd7i69PBHP9BOcZSN+sgdfpQLR1oKm7z2BK/+5+Hxk5DVftaUc6l2vTIx++jvu3Zyyjnn1S5HfumW1h9oQIAXFZGD8PZuw9StibJBm88wCVQfPCgFaNf/eUtC1mEOk4RLta0EGOjo28ficnExr8wcVyleJGAREtou00E8SCwQH/GLWGFhexP7d44JXhx7LuZKNkP7T/tlmedU19R77hCCav/UubYVJvfLt7W/XCN0mcrC9Cvpgbx8pE9ZcMqbcPlCG5NArzu+0o88eZMHeTJlgPj5cRBe7VkCmrsPeZ5Yg/NypiJOX1VAu7bMnvlll0xuf/CkyeFnXj15/JXXT854zBEOZIJ/V3lZzE6v1LSHDoAGo4Y6N4IDrJUA9TW56OmXd/7gVymG08cU6GDsTGBoBBjA8oFvaOUry4O4pLy5dSwPQx8sAUu4UnhqMKefrsbjPHLazsUsXrJkkS7bm+Yk0uFVir2hHysWxfy2fFle9ud1XbYbtSfi1YnV3E/is8xD/5WWxCP/yzsJMJZGUNqsy4W4ONIqRWbuR30xttBmyYsyluVUeUhPbZ6wZZ78X9hVCXUlMPkk7kUvuxk4lYjNP5F7/N0PTR72LVe2tsgqTYvZhevYAcdBoDoXexSznKd2JjA0Agx0Y2qbCC8EZd3AK6GqfRrgc+YSHKSjgT0XcNVFbiGCdQuW27CymOVpjn1b4kfcxnQ8qsPyooVjkLWZMHX1ShjqU9MCOf7yXMj9lBdpySGOsXDShmiXZfvIhSdxSJ90cHXp4U99KEwZn/25H22S/7nLy4w/+1W30zjASgI6T2vqdlX4LsUsad35M88+RrSecvbhzqyyCFqL2al16h3jJFCdi32I2ewhsHGScqk3mQADXTmAD/14JUi5rYqIYIDO31IhsYEowGolYYDwwIqHOMVVfUASI4rDPsSN/hNOIhlOufDdTWX8v4j+sbWBnDp1Rj3THqhjFm6746e6Jjzb3F5nP476JwztBFeKwDo/2kb+xgu1F8IiZrnNL6eLhFxswlntlnCkhxhWe1PbVpslbh6fOLkfYpY2rfg6prw+CU+5lCZlJo7asuJI8Kr8M9dE6lRkIlqZViALqtZMO7Bltqo8VfLMimmwk4agk6JB9IWi6KRkDk7Xx0F6vMpoW111LvYhZtM0g7xz2VbmPu7hEWCgG2PbxJKEEKDsWhiky35SAqUuTNUHJHGg/aSpQT6vLfwRfZvm4MWxl4JpbMdJPSMmVY+y3uftgW3EXxlGx6q2ov+sSz/ahsQ/6bCt9oIQJV8EspgSn/9yWG61D78yPeLnFtJcuCqN3I/4Og/Ih20JYukT/SdfXMkB/9KinIJOX/UiZnkYDGBMQZC4bbseiWWWhgNjOTjk/+XfZE3nSWcpR4Miv1U5GpwaZxcdDenlV43qyFdV/jGkO8FqWs5x7fp/ErN0Mnb1BOh0uzpP63Ow7zQCtMuxt02JiWnHiH9dGPWBrOkfNfjXpSORULdvzH5isLSYGehBz6tHFbuuPWjfIutZ+ZA2+5d1s9rfvLSI2yR+Yw5Vw+lymgHW19sff/JEbyx48otvqv7XWWvbCNqRiNlSvKqTmtcQFtmfXw0RnkbQpPEskhdh1Ml0lYfSU/6cbPhtsdv52H0ecM5KxexLb7ylurBc9rUnW1Ypq74w3DKcSx0u7bOLi+WlMh1IYPWJs/pB9nFnDItZE4EykEOdWgwx0K32qQG9wwRyAlXD6VLMIlAPPfyCasC8833Pqdb8l7htI2DzuD2KWUSiXm3BPKjS0aHgn887IYxOSuJKAOJHeP7X3VIvBSn/SbdMG3/m2rAonTIuZcCP/Clf2fGpLHmY8tj0n/KSDvVJfvyvO4ZpfswXyjlQljI9/HQseb6UnfiUM3c6XvIkTJ5+Hm5M21jaJ3ypq2trrNK77IW7d0myeVlj4tNXWS1m+yJ9dD7qM/M7TkeH2Ox/On7W01w1pha3fqeFHaP/IgzGeFwu84oJVA2nazGL6GRKAa/l6nJqwRrELJ0qV8B6Qo+OhMnRcggq3XonDGGZjP3/2zt7JElqIArPYvJ7BDzwcFmbXQMDY8HDGwOXwMfCYQMPjkDAQdhb4BIEd8DgZ4ivpr7grdDM9i7d2109TxE1UqVSqdRTSpmlru4h4RDh5x0W3znhHsz9ViOBmImy9dBoz0dJ2bcfvZDTF5enGOmACQzR03p0QM/cJB0LfdAWXoLjWUJ/38uBl/vx3R3ajTTfjaGt7wZBA7dRnpuY/cOHzrZFP/5FqQk9eE1B/cnhH4Ne+beQL3ZxyPdm433ZtL1jYeMXYrBFLubXhy7tQRuiPr8koM7aHPXMP/wm6rATbc0gCTq89pty4ZdOmYRO2Jp0+JkrE/JYk6wfeLhven4EwA38Etvnl3LeLVwf5zpK1336qnMda8e1RwQWwzlEMJuB5yHKL+FklqCIjTWDozEIxdnp8JgW27gZ0z4XZd4TfOVHKZShkXTguXFJW1mWfrNvyjpRcoK/DFhwtjhhZaILAabJseV4rSN3k5Gm4/GePGn0Q8CgTtQ7BupGeXlvYJ/4jNgy3nF+wM+AJfXaUvmXV19/8y9eB/A0dV/51z/8BF5cp4CRtuBaYX4JOtVNe4CmzVKHTXmPbTHn2iyysHvakrRH2kGDj36TB1n0cdNaQg71XK4n7BIcsx9tHR3ku9aif3dBAMzA0D1wlzblOT8EXPeurfMbYUd0EAQWw2kwuxO2OEI+7k8nRllnrJB0ZMlLfd7jaPMkFGeZgZ/yyLNv6TjfmxwwdE9x5cdpZ/8z3bPeduZuMt4bKHhPnjT5DTzkEx/rpee9gY515ozLAHwcPzwzmm23ki843H/4aK/BLMHx2+++9+dqA87BMTHB3g1c1YO1hA1iM9rDuL4IRLEPEryWV9Ji99pI2qP1jH1sAx+2Y6IMjaQeI2bwZD8NwlbAXjADz9l8vqC4NtsoAq438qYisDMCi+E0mL0RLxyaHx3iRHHABny7LDp57SDvcY7cE6haTodJ35ykwkPfbvbK4p7LRFkHjGO1bD05snTkqYs8M5p1jtd75MOfKWn0M9Yn7ygv75HDKc2YoDvmcfzwzmijjC3cE+Tt9b+Bvf/g+j324dOAY2KBbeTJO7rkA5f2MD4MaeesG2SwPnmlxos1w0XCXmZBJrJ5MKWN61u7op19UPYUdhEYf9IWsxwsLe6IwGLv8XCwY7Nb2XIvvZWxlSeFgOuevKkI7IzAYjgNZqd4GYzhzNwYx4WGMx0XncEpQsf68R6nyQkqVzpTnCMBLKdSOnP7Vln4sw1l2pGyvJKWLPvPsjwzmnVj//QFf6akjfzyQc+Tt6QrT+ytM+ckzDGTW7Z+RrNuSzn4LA9On3353f8+of3g4+t/Jz05CT0mJti39qoePtRhI9qP9i8Pc0w7g1nWp/yZww/faCMGpwRQ2BlyRj77QIanxfZvnm2ybH3zZyMA9j5MYO/jXD9bwpwDOewlyOaLofuSO++t1H0i4LonbyoCOyOwGE6D2SleOCg2w0w6Qhcapz75USmbJieKOEnSGByO9/BxioQc29BuFpR5enEt+b886YDH92Npo+5u7KMuM33ti9xNRppOXnnQCTaRSyIwIWDJcSmDOssr+1P3BjXZVmwZB2mG0Yy2sm8uY7xLQPvgk8urF3mHll9F4Ke+1jnxI/FTAYK5yrWDXsw3+jJ27SNfM4BOvTTKaSPIwD6kzYJMMB1fwUGPXOu5lgya0ScTctR/1k/ytvwvAqxtfrWEL/uxVzKH4Mjc7ishC5nsP8jn4gt8/OpJ02kj4Lof19tpa13tjo7AYjgNZqfzYLDGrxPwkST5ElysjpZG4MeGKQ8OER43ZuoIVnF2JDbVXKTwwcNlG/h06mz49O239mmPMyDhkHEGfFRKSgeMLAJk9KE9cmirk4d/1OUm2iI8ggvv1d0+0EN85DGAdhxgYQBgkEB79Fps0Ybr+NAx2ya2s8B1RguRmyuC8fKA8Nobb/39xTff73RKS+D76edfXfFFsnWex+DtFIBwvjk5wxYINLBndbUe+6AOHteB+rOuaMNPt7Eu/Lk3g91ZkAmeyIQffG2DrZmwI/qiTxL36kE715P1s37WpmefgQ1zsMv1x2qPYM31+8XFxc/xioiviuwjZ/9Djn2Zoyfz59yd/QRtbICue/KmIrAzAovhvPPh5dVH3z7Z1IXO60Z1SKNHNs6VAMxAkAAt+2RTxJnBQx0O0mSdbeEzGJWHOuulkUMb+6a9mzD9cM9FGf7UCxr6oBc8WYd8aKMuM5o6wUt9JmjoSIBA/zMe+qVdYqgMgg7q4Jm1td62iS39cWWa0bJ+q+XLe/de+RV7J0C9//DRFa8fPP7xyVMXASx14cBx6OO8nxIGzC/BEDrzQJf2hd7QsS/GQRk7SxtgLLTxIQq+lIE90D4T6yf7xLboC5qyaYc+yCVBTz2gJ66zftamZ5+Bmw/ku+a/rdjS9lAXtoDsXA/aGXPpPnr2E7SxAbruc31tbAhV9xgIsKDHxb61+xr9MSynfb5sBAioeDgxcLttnfpw8bJ13Gd/dWr7RPNuyeLBmE/LOIV1nbAmPLG/W2hsa7Rd99uar5PSFgfJacYWL3RvKgJ3DQECWzZ9TgRdtzjqc3qwq1O7a1a9v/GyPghiefDDR3DftA0EfGjvnG1jvqplESgCRaAI3IKArwP04+BbQGrVjQhwOttUBIpAESgCRaAIFIEiUASKQBEoAkWgCBSBIlAEikARKAJFoAgUgSJQBIpAESgCRaAIFIEiUASKQBEoAkWgCBSBIlAEikARKAJFoAgUgSJQBIpAESgCRaAIFIEiUASKQBEoAkWgCBSBIlAEikARKAJFoAgUgSJQBIpAESgCRaAIFIEiUASKQBEoAkWgCBSBIlAEikARKAJFoAgUgSJQBIpAETgMAv8AZWY8WIGm8dAAAAAASUVORK5CYII=)"
   ]
  },
  {
   "cell_type": "markdown",
   "metadata": {
    "execution": {}
   },
   "source": [
    "### Coding Exercise 2.1: Implementing LSTM\n",
    "\n",
    "It is now your turn to build an LSTM network in PyTorch. Feel free to refer to the documentation here: https://pytorch.org/docs/stable/generated/torch.nn.LSTM.html#torch.nn.LSTM . \n",
    "\n",
    "* Once again we will use `nn.Embedding`. You are given the `vocab_size` and the `embed_size`.\n",
    "* Add the [`LSTM`](https://pytorch.org/docs/stable/generated/torch.nn.LSTM.html#torch.nn.LSTM) layers. \n",
    "* Define a dropout layer of 0.5. \n",
    "* Determine the size of inputs and outputs to the fully-connected layer.\n",
    "* Pay special attention to the shapes of your inputs and outputs as you write the forward function.\n",
    "\n"
   ]
  },
  {
   "cell_type": "code",
   "execution_count": null,
   "metadata": {
    "execution": {}
   },
   "outputs": [],
   "source": [
    "class LSTM(nn.Module):\n",
    "  def __init__(self, layers, output_size, hidden_size, vocab_size, embed_size,\n",
    "               device):\n",
    "    super(LSTM, self).__init__()\n",
    "    self.n_layers = layers\n",
    "    self.output_size = output_size\n",
    "    self.hidden_size = hidden_size\n",
    "    self.device = device\n",
    "    ####################################################################\n",
    "    # Fill in missing code below (...),\n",
    "    # then remove or comment the line below to test your function\n",
    "    raise NotImplementedError(\"LSTM Init\")\n",
    "    ####################################################################\n",
    "    # Define the word embeddings\n",
    "    self.word_embeddings = ...\n",
    "    # Define the dropout layer\n",
    "    self.dropout = ...\n",
    "    # Define the lstm layer\n",
    "    self.lstm = ...\n",
    "    # Define the fully-connected layer\n",
    "    self.fc = ...\n",
    "\n",
    "\n",
    "  def forward(self, input_sentences):\n",
    "    \"\"\"Hint: Make sure the shapes of your tensors match the requirement\"\"\"\n",
    "    ####################################################################\n",
    "    # Fill in missing code below (...),\n",
    "    # then remove or comment the line below to test your function\n",
    "    raise NotImplementedError(\"LSTM Forward\")\n",
    "    ####################################################################\n",
    "    # Embeddings\n",
    "    # `input` shape: (`num_steps`, `batch_size`, `num_hiddens`)\n",
    "    input = ...\n",
    "\n",
    "    hidden = (torch.randn(self.n_layers, input.shape[1],\n",
    "                          self.hidden_size).to(self.device),\n",
    "              torch.randn(self.n_layers, input.shape[1],\n",
    "                          self.hidden_size).to(self.device))\n",
    "    # Dropout for regularization\n",
    "    input = self.dropout(input)\n",
    "    # LSTM\n",
    "    output, hidden = ...\n",
    "\n",
    "    h_n = hidden[0].permute(1, 0, 2)\n",
    "    h_n = h_n.contiguous().view(h_n.shape[0], -1)\n",
    "\n",
    "    logits = self.fc(h_n)\n",
    "\n",
    "    return logits\n",
    "\n",
    "\n",
    "## Uncomment to run\n",
    "# sampleLSTM = LSTM(3, 10, 100, 1000, 300, DEVICE)\n",
    "# print(sampleLSTM)"
   ]
  },
  {
   "cell_type": "markdown",
   "metadata": {
    "colab_type": "text",
    "execution": {}
   },
   "source": [
    "[*Click for solution*](https://github.com/NeuromatchAcademy/course-content-dl/tree/main//tutorials/W2D3_ModernRecurrentNeuralNetworks/solutions/W2D3_Tutorial2_Solution_ea8c9259.py)\n",
    "\n"
   ]
  },
  {
   "cell_type": "markdown",
   "metadata": {
    "execution": {}
   },
   "source": [
    "```\n",
    "LSTM(\n",
    "  (word_embeddings): Embedding(1000, 300)\n",
    "  (dropout): Dropout(p=0.5, inplace=False)\n",
    "  (lstm): LSTM(300, 100, num_layers=3)\n",
    "  (fc): Linear(in_features=300, out_features=10, bias=True)\n",
    ")\n",
    "```"
   ]
  },
  {
   "cell_type": "code",
   "execution_count": null,
   "metadata": {
    "execution": {}
   },
   "outputs": [],
   "source": [
    "# Hyperparameters\n",
    "learning_rate = 0.0003\n",
    "layers = 2\n",
    "output_size = 2\n",
    "hidden_size = 16\n",
    "embedding_length = 100\n",
    "epochs = 10\n",
    "\n",
    "# Model, training, testing\n",
    "set_seed(SEED)\n",
    "lstm_model = LSTM(layers, output_size, hidden_size, vocab_size,\n",
    "                  embedding_length, DEVICE)\n",
    "lstm_model.to(DEVICE)\n",
    "lstm_train_loss, lstm_train_acc, lstm_validation_loss, lstm_validation_acc = train(lstm_model,\n",
    "                                                                                   DEVICE,\n",
    "                                                                                   train_iter,\n",
    "                                                                                   valid_iter,\n",
    "                                                                                   epochs,\n",
    "                                                                                   learning_rate)\n",
    "test_accuracy = test(lstm_model, DEVICE, test_iter)\n",
    "print(f'\\n\\nTest Accuracy: {test_accuracy} of the LSTM model\\n')\n",
    "\n",
    "# Plotting accuracy curve\n",
    "plt.figure()\n",
    "plt.subplot(211)\n",
    "plot_train_val(np.arange(0, epochs), lstm_train_acc, lstm_validation_acc,\n",
    "               'train accuracy',\n",
    "               'val accuracy',\n",
    "               'LSTM on IMDB text classification',\n",
    "               'accuracy',\n",
    "               color='C0')\n",
    "plt.legend(loc='upper left')\n",
    "plt.subplot(212)\n",
    "plot_train_val(np.arange(0, epochs), lstm_train_loss, lstm_validation_loss,\n",
    "               'train loss',\n",
    "               'val loss',\n",
    "               '',\n",
    "               'loss',\n",
    "               color='C0')\n",
    "plt.legend(loc='upper left')\n",
    "plt.tight_layout()\n",
    "plt.show()"
   ]
  },
  {
   "cell_type": "markdown",
   "metadata": {
    "execution": {}
   },
   "source": [
    "## Section 2.2: Gated Recurrent Units (GRU)\n",
    "\n",
    "The GRU architecture looks very similar to the LSTM, and is often used as an alternative to the traditional LSTM. It also contains some variations that reduce it's complexity. For example, it combines the forget and input gates into a single “update gate”; it contains a \"hidden state\" but not a \"cell state\". In the next section we will be using GRUs as the choice of recurrent unit in our models, but you can always swap out the GRU for an LSTM later on (make sure that you take care of input and output dimensions in this case). Here is a description of the parts of the GRU:\n",
    "\n",
    "* Reset Gate: *How much of the previous hidden state should I remember?*\n",
    "  \\begin{equation}\n",
    "  r_t = \\sigma (W_r \\cdot [h_{t-1}, x_t])\n",
    "  \\end{equation}\n",
    "\n",
    "* Update Gate: \n",
    "    * *How much of the new state is different from the old state?*\n",
    "      \\begin{equation}\n",
    "      z_t = \\sigma (W_z \\cdot [h_{t-1}, x_t])\n",
    "      \\end{equation}\n",
    "    * *What new candidate values should I store?*\n",
    "      \\begin{equation}\n",
    "      \\tilde{h}_t = tanh (W \\cdot [r_t \\cdot h_{t-1}, x_t])\n",
    "      \\end{equation}\n",
    "\n",
    "* Update hidden state: *Deciding how much of the old hidden state to keep and discard*\n",
    "  \\begin{equation}\n",
    "  h_t = ((1-z_t) \\cdot h_{t-1} ) + (z_t \\cdot \\tilde{h}_t)\n",
    "  \\end{equation}\n",
    "\n",
    "Here is what the architecture looks like:\n",
    "\n",
    "<center><img src=\"https://d2l.ai/_images/gru-3.svg\" width=\"700\"/></center>\n"
   ]
  },
  {
   "cell_type": "markdown",
   "metadata": {
    "execution": {}
   },
   "source": [
    "### Coding Exercise 2.2: BiLSTM\n",
    "\n",
    "Let's apply the knowledge to write a bi-LSTM using PyTorch.\n",
    "\n",
    "* Use an Embedding layer\n",
    "* Dropout of 0.5\n",
    "* Add 2 LSTM layers\n",
    "* Linear layer "
   ]
  },
  {
   "cell_type": "code",
   "execution_count": null,
   "metadata": {
    "execution": {}
   },
   "outputs": [],
   "source": [
    "class biLSTM(nn.Module):\n",
    "  def __init__(self, output_size, hidden_size, vocab_size, embed_size,\n",
    "               device):\n",
    "    super(biLSTM, self).__init__()\n",
    "    self.output_size = output_size\n",
    "    self.hidden_size = hidden_size\n",
    "    self.device = device\n",
    "    ####################################################################\n",
    "    # Fill in missing code below (...)\n",
    "    raise NotImplementedError(\"biLSTM\")\n",
    "    ####################################################################\n",
    "    # Define the word embeddings\n",
    "    self.word_embeddings = ...\n",
    "    # Define the dropout layer\n",
    "    self.dropout = ...\n",
    "    # Define the bilstm layer\n",
    "    self.bilstm = ...\n",
    "    # Define the fully-connected layer\n",
    "    self.fc = ...\n",
    "\n",
    "  def forward(self, input_sentences):\n",
    "    input = self.word_embeddings(input_sentences).permute(1, 0, 2)\n",
    "    hidden = (torch.randn(4, input.shape[1], self.hidden_size).to(self.device),\n",
    "              torch.randn(4, input.shape[1], self.hidden_size).to(self.device))\n",
    "    input = self.dropout(input)\n",
    "\n",
    "    output, hidden = self.bilstm(input, hidden)\n",
    "\n",
    "    h_n = hidden[0].permute(1, 0, 2)\n",
    "    h_n = h_n.contiguous().view(h_n.shape[0], -1)\n",
    "    logits = self.fc(h_n)\n",
    "\n",
    "    return logits\n",
    "\n",
    "\n",
    "## Uncomment to run\n",
    "# sampleBiLSTM = biLSTM(10, 100, 1000, 300, DEVICE)\n",
    "# print(sampleBiLSTM)"
   ]
  },
  {
   "cell_type": "markdown",
   "metadata": {
    "colab_type": "text",
    "execution": {}
   },
   "source": [
    "[*Click for solution*](https://github.com/NeuromatchAcademy/course-content-dl/tree/main//tutorials/W2D3_ModernRecurrentNeuralNetworks/solutions/W2D3_Tutorial2_Solution_1b7fdb13.py)\n",
    "\n"
   ]
  },
  {
   "cell_type": "markdown",
   "metadata": {
    "execution": {}
   },
   "source": [
    "```\n",
    "biLSTM(\n",
    "  (word_embeddings): Embedding(1000, 300)\n",
    "  (dropout): Dropout(p=0.5, inplace=False)\n",
    "  (bilstm): LSTM(300, 100, num_layers=2, bidirectional=True)\n",
    "  (fc): Linear(in_features=400, out_features=10, bias=True)\n",
    ")\n",
    "```"
   ]
  },
  {
   "cell_type": "code",
   "execution_count": null,
   "metadata": {
    "execution": {}
   },
   "outputs": [],
   "source": [
    "# Hyperparameters\n",
    "learning_rate = 0.0003\n",
    "output_size = 2\n",
    "hidden_size = 16\n",
    "embedding_length = 100\n",
    "epochs = 10\n",
    "\n",
    "# Model, training, testing\n",
    "set_seed(SEED)\n",
    "bilstm_model = biLSTM(output_size, hidden_size, vocab_size,\n",
    "                      embedding_length, DEVICE)\n",
    "bilstm_model.to(DEVICE)\n",
    "bilstm_train_loss, bilstm_train_acc, bilstm_validation_loss, bilstm_validation_acc = train(bilstm_model,\n",
    "                                                                                           DEVICE,\n",
    "                                                                                           train_iter,\n",
    "                                                                                           valid_iter,\n",
    "                                                                                           epochs,\n",
    "                                                                                           learning_rate)\n",
    "test_accuracy = test(bilstm_model, DEVICE, test_iter)\n",
    "print(f'Test Accuracy: {test_accuracy} of the biLSTM model\\n')\n",
    "\n",
    "# Plotting accuracy curve\n",
    "plt.figure()\n",
    "plt.subplot(211)\n",
    "plot_train_val(np.arange(0, epochs), bilstm_train_acc, bilstm_validation_acc,\n",
    "               'train accuracy',\n",
    "               'val accuracy',\n",
    "               'biLSTM on IMDB text classification',\n",
    "               'accuracy',\n",
    "               color='C1')\n",
    "plt.legend(loc='upper left')\n",
    "plt.subplot(212)\n",
    "plot_train_val(np.arange(0, epochs), bilstm_train_loss, bilstm_validation_loss,\n",
    "               'train loss',\n",
    "               'val loss',\n",
    "               '',\n",
    "               'loss',\n",
    "               color='C1')\n",
    "plt.legend(loc='upper left')\n",
    "plt.tight_layout()\n",
    "plt.show()"
   ]
  },
  {
   "cell_type": "code",
   "execution_count": null,
   "metadata": {
    "execution": {}
   },
   "outputs": [],
   "source": [
    "# Compare accuracies of LSTM and biLSTM\n",
    "plot_train_val(np.arange(0, epochs), lstm_train_acc,\n",
    "               lstm_validation_acc,\n",
    "               'train accuracy LSTM', 'val accuracy LSTM',\n",
    "               '', 'accuracy',\n",
    "               color='C0')\n",
    "plot_train_val(np.arange(0, epochs), bilstm_train_acc,\n",
    "               bilstm_validation_acc,\n",
    "               'train accuracy biLSTM', 'val accuracy biLSTM',\n",
    "               'Training and Validation Accuracy for LSTM and biLSTM models',\n",
    "               'accuracy',\n",
    "               color='C1')\n",
    "plt.legend(loc='upper left')\n",
    "plt.show()"
   ]
  },
  {
   "cell_type": "markdown",
   "metadata": {
    "execution": {}
   },
   "source": [
    "---\n",
    "# Section 3: Sequence to Sequence (Seq2Seq) & Encoder/ Decoder Networks"
   ]
  },
  {
   "cell_type": "markdown",
   "metadata": {},
   "source": [
    "##  Video 4: Seq2Seq & Encoder-Decoder Nets\n"
   ]
  },
  {
   "cell_type": "code",
   "execution_count": null,
   "metadata": {
    "cellView": "form",
    "execution": {},
    "tags": [
     "remove-input"
    ]
   },
   "outputs": [],
   "source": [
    "# @title Video 4: Seq2Seq & Encoder-Decoder Nets\n",
    "from ipywidgets import widgets\n",
    "\n",
    "out2 = widgets.Output()\n",
    "with out2:\n",
    "  from IPython.display import IFrame\n",
    "  class BiliVideo(IFrame):\n",
    "      def __init__(self, id, page=1, width=400, height=300, **kwargs):\n",
    "          self.id=id\n",
    "          src = \"https://player.bilibili.com/player.html?bvid={0}&page={1}\".format(id, page)\n",
    "          super(BiliVideo, self).__init__(src, width, height, **kwargs)\n",
    "\n",
    "  video = BiliVideo(id=f\"BV1WM4y1N7P7\", width=730, height=410, fs=1)\n",
    "  print(\"Video available at https://www.bilibili.com/video/{0}\".format(video.id))\n",
    "  display(video)\n",
    "\n",
    "out1 = widgets.Output()\n",
    "with out1:\n",
    "  from IPython.display import YouTubeVideo\n",
    "  video = YouTubeVideo(id=f\"q-hf7mnZsXo\", width=730, height=410, fs=1, rel=0)\n",
    "  print(\"Video available at https://youtube.com/watch?v=\" + video.id)\n",
    "  display(video)\n",
    "\n",
    "out = widgets.Tab([out1, out2])\n",
    "out.set_title(0, 'Youtube')\n",
    "out.set_title(1, 'Bilibili')\n",
    "\n",
    "display(out)"
   ]
  },
  {
   "cell_type": "markdown",
   "metadata": {
    "execution": {}
   },
   "source": [
    "Sources: [d2l.ai on encoders](https://d2l.ai/chapter_recurrent-modern/encoder-decoder.html) ; [d2l.ai on seq2seq](https://d2l.ai/chapter_recurrent-modern/seq2seq.html) ; [Jalammar's blog](https://jalammar.github.io/visualizing-neural-machine-translation-mechanics-of-seq2seq-models-with-attention/ )\n",
    "\n",
    "Sequence-to-sequence models take in a sequence of items (words, characters, etc) as input and produces another sequence of items as output. The most \n",
    "simple seq2seq models are composed of two parts: the encoder, the context (\"state\" in the figure) and the decoder. The encoder and decoder usually consist of recurrent units that we've seen before (RNNs, GRUs or LSTMs). A high-level schematic of the architecture is as follows:\n",
    "\n",
    "<center><img src=\"https://d2l.ai/_images/encoder-decoder.svg\" width=\"500\"/></center>\n",
    "\n",
    "The encoder's recurrent unit processes the input one item at a time. Once the entire sequence is processed, the final hidden state vector produced is known as a context vector. The size of the context vector is defined while setting up the model, and is equal to the number of hidden states used in the encoder RNN. The encoder then passes the context to the decoder. The decoder's recurrent unit uses the context to produce the items for the output sequence one by one.   \n"
   ]
  },
  {
   "cell_type": "markdown",
   "metadata": {
    "execution": {}
   },
   "source": [
    "One of the most popular applications of seq2seq models is \"machine translation\": the task of taking in a sentence in one language (the source) and producing its translation in another language (the target); with words in both lanugages being the sequence units. This is a supervised learning task, and requires the dataset to have \"parallel sentences\"; i.e., each sentence in the source language must be labelled with its translation in the target language. \n",
    "\n",
    "[Here is an intuitive visualization for understanding seq2seq models for machine translation from English to French](https://i.imgur.com/HJ6t8up.mp4)\n",
    "\n",
    "Since the vocabulary of an entire language is very large, training such models to give meaningful performance requires significant time and resources. In this section, we will train a seq2seq model to perform machine translation from English to [Pig-Latin](https://en.wikipedia.org/wiki/Pig_Latin). We will modify the task to perform character-level machine translation, so that vocabulary size does not grow exponentially.   \n"
   ]
  },
  {
   "cell_type": "markdown",
   "metadata": {
    "execution": {}
   },
   "source": [
    "## Coding Exercise 3: Encoder\n",
    "\n",
    "Let us consider a sequence example ($batch\\_size=1$). Suppose that the input sequence is $x_1, \\ldots, x_T$, such that $x_t$ is the $t^{\\mathrm{th}}$ token in the input text sequence. At time step $t$, the RNN transforms the input feature vector $\\mathbf{x}_t$ for $x_t$ and the hidden state $\\mathbf{h} _{t-1}$ from the previous time step into the current hidden state $\\mathbf{h}_t$.\n",
    "\n",
    "We can use a function $f$ to express the transformation of the RNN's recurrent layer:\n",
    "\n",
    "\\begin{equation}\n",
    "\\mathbf{h}_t = f(\\mathbf{x}_t, \\mathbf{h}_{t-1})\n",
    "\\end{equation}\n",
    "\n",
    "In general, the encoder transforms the hidden states at all the time steps into the context variable through a customized function $q$:\n",
    "\n",
    "\\begin{equation}\n",
    "\\mathbf{c} =  q(\\mathbf{h}_1, \\ldots, \\mathbf{h}_T)\n",
    "\\end{equation}\n",
    "\n",
    "For example, when choosing $q(\\mathbf{h}_1, \\ldots, \\mathbf{h}_T) = \\mathbf{h}_T$  the context variable is just the hidden state $\\mathbf{h}_T$ of the input sequence at the final time step.\n",
    "\n",
    "So far we have used a unidirectional RNN to design the encoder, where a hidden state only depends on the input subsequence at and before the time step of the hidden state. We can also construct encoders using bidirectional RNNs. In this case, a hidden state depends on the subsequence before and after the time step (including the input at the current time step), which encodes the information of the entire sequence.\n",
    "\n",
    "Now let us implement the RNN encoder. Note that we use an *embedding layer*\n",
    "to obtain the feature vector for each token in the input sequence. The weight of an embedding layer is a matrix whose number of rows is equal to the size of the input vocabulary (`vocab_size`) and the number of columns equals to the feature vector's dimension (`embed_size`). For any input token index $i$,\n",
    "the embedding layer fetches the $i^{\\mathrm{th}}$ row (starting from 0) of the weight matrix to return its feature vector. ere we choose a multilayer GRU to implement the encoder."
   ]
  },
  {
   "cell_type": "markdown",
   "metadata": {
    "execution": {}
   },
   "source": [
    "The returned variables of recurrent layers have been completely explained at [this link](https://www.d2l.ai/chapter_recurrent-neural-networks/rnn-concise.html#sec-rnn-concise). Let us still use a concrete example to illustrate the above encoder implementation. Below we instantiate a two-layer GRU encoder whose number of hidden units is 16. Given a minibatch of sequence inputs $X$ ($batch\\_size=4$, $number\\_of\\_time\\_steps=7$), the hidden states of the last layer at all the time steps (`output` returned by the encoder's recurrent layers) are a tensor of shape (number of time steps, batch size, number of hidden units).\n"
   ]
  },
  {
   "cell_type": "code",
   "execution_count": null,
   "metadata": {
    "execution": {}
   },
   "outputs": [],
   "source": [
    "class Seq2SeqEncoder(d2l.Encoder):\n",
    "  \"\"\"The RNN encoder for sequence to sequence learning.\"\"\"\n",
    "  def __init__(self, vocab_size, embed_size, num_hiddens, num_layers,\n",
    "                dropout=0, **kwargs):\n",
    "    super(Seq2SeqEncoder, self).__init__(**kwargs)\n",
    "    ####################################################################\n",
    "    # Fill in missing code below (...),\n",
    "    # then remove or comment the line below to test your function\n",
    "    raise NotImplementedError(\"Encoder Unit\")\n",
    "    ####################################################################\n",
    "    # Embedding layer\n",
    "    self.embedding = ...\n",
    "    # Here you're going to implement a GRU as the RNN unit\n",
    "    self.rnn = ...\n",
    "\n",
    "  def forward(self, X, *args):\n",
    "    # The output `X` shape: (`batch_size`, `num_steps`, `embed_size`)\n",
    "    X = self.embedding(X)\n",
    "    # In RNN models, the first axis corresponds to time steps\n",
    "    X = X.permute(1, 0, 2)\n",
    "    ####################################################################\n",
    "    # Fill in missing code below (...),\n",
    "    # then remove or comment the line below to test your function\n",
    "    raise NotImplementedError(\"Forward pass\")\n",
    "    ####################################################################\n",
    "    # When state is not mentioned, it defaults to zeros, the output should be a RNN function of X!\n",
    "    output, state = ...\n",
    "    # `output` shape: (`num_steps`, `batch_size`, `num_hiddens`)\n",
    "    # `state` shape: (`num_layers`, `batch_size`, `num_hiddens`)\n",
    "\n",
    "    return output, state\n",
    "\n",
    "\n",
    "X = torch.zeros((4, 7), dtype=torch.long)\n",
    "## uncomment the lines below.\n",
    "# encoder = Seq2SeqEncoder(vocab_size=10, embed_size=8, num_hiddens=16, num_layers=2)\n",
    "# encoder.eval()\n",
    "# output, state = encoder(X)\n",
    "# print(output.shape)\n",
    "# print(state.shape)"
   ]
  },
  {
   "cell_type": "markdown",
   "metadata": {
    "colab_type": "text",
    "execution": {}
   },
   "source": [
    "[*Click for solution*](https://github.com/NeuromatchAcademy/course-content-dl/tree/main//tutorials/W2D3_ModernRecurrentNeuralNetworks/solutions/W2D3_Tutorial2_Solution_fcd17301.py)\n",
    "\n"
   ]
  },
  {
   "cell_type": "markdown",
   "metadata": {
    "execution": {}
   },
   "source": [
    "```\n",
    "torch.Size([7, 4, 16])\n",
    "torch.Size([2, 4, 16])\n",
    "```"
   ]
  },
  {
   "cell_type": "markdown",
   "metadata": {
    "execution": {}
   },
   "source": [
    "## Section 3.1: Decoder\n",
    "\n",
    "As we just mentioned, the context variable $\\mathbf{c}$ of the encoder's output encodes the entire input sequence $x_1, \\ldots, x_T$. Given the output sequence $y_1, y_2, \\ldots, y_{T'}$ from the training dataset, for each time step $t'$\n",
    "(the symbol differs from the time step $t$ of input sequences or encoders),\n",
    "the probability of the decoder output $y_{t'}$ is conditional on the previous output subsequence $y_1, \\ldots, y_{t'-1}$ and the context variable $\\mathbf{c}$, i.e., $P(y_{t'} \\mid y_1, \\ldots, y_{t'-1}, \\mathbf{c})$.\n",
    "\n",
    "\n",
    "To model this conditional probability on sequences, we can use another RNN as the decoder. At any time step $t^\\prime$ on the output sequence, the RNN takes the output $y_{t^\\prime-1}$ from the previous time step and the context variable $\\mathbf{c}$ as its input, then transforms them and the previous hidden state $\\mathbf{s}_{t^\\prime-1}$ into the hidden state $\\mathbf{s}_{t^\\prime}$ at the current time step.\n",
    "\n",
    "As a result, we can use a function $g$ to express the transformation of the decoder's hidden layer:\n",
    "\n",
    "\\begin{equation}\n",
    "\\mathbf{s}_{t^\\prime} = g(y_{t^\\prime-1}, \\mathbf{c}, \\mathbf{s}_{t^\\prime-1})\n",
    "\\end{equation}\n",
    "\n",
    "After obtaining the hidden state of the decoder, we can use an output layer and the softmax operation to compute the conditional probability distribution\n",
    "$P(y_{t^\\prime} \\mid y_1, \\ldots, y_{t^\\prime-1}, \\mathbf{c})$ for the output at time step $t^\\prime$.\n",
    "\n",
    "Following `fig_seq2seq`, when implementing the decoder as follows, we directly use the hidden state at the final time step of the encoder to initialize the hidden state of the decoder.\n",
    "\n",
    "This requires that the RNN encoder and the RNN decoder have the same number of layers and hidden units. To further incorporate the encoded input sequence information, the context variable is concatenated with the decoder input at all the time steps. To predict the probability distribution of the output token,\n",
    "a fully-connected layer is used to transform the hidden state at the final layer of the RNN decoder."
   ]
  },
  {
   "cell_type": "code",
   "execution_count": null,
   "metadata": {
    "execution": {}
   },
   "outputs": [],
   "source": [
    "class Seq2SeqDecoder(d2l.Decoder):\n",
    "  \"\"\"The RNN decoder for sequence to sequence learning.\"\"\"\n",
    "  def __init__(self, vocab_size, embed_size, num_hiddens, num_layers,\n",
    "                dropout=0, **kwargs):\n",
    "    super(Seq2SeqDecoder, self).__init__(**kwargs)\n",
    "    self.embedding = nn.Embedding(vocab_size, embed_size)\n",
    "    self.rnn = nn.GRU(embed_size + num_hiddens, num_hiddens, num_layers,\n",
    "                      dropout=dropout)\n",
    "    self.dense = nn.Linear(num_hiddens, vocab_size)\n",
    "\n",
    "  def init_state(self, enc_outputs, *args):\n",
    "    return enc_outputs[1]\n",
    "\n",
    "  def forward(self, X, state):\n",
    "    # The output `X` shape: (`num_steps`, `batch_size`, `embed_size`)\n",
    "    X = self.embedding(X).permute(1, 0, 2)\n",
    "    # Broadcast `context` so it has the same `num_steps` as `X`\n",
    "    context = state[-1].repeat(X.shape[0], 1, 1)\n",
    "    X_and_context = torch.cat((X, context), 2)\n",
    "    output, state = self.rnn(X_and_context, state)\n",
    "    output = self.dense(output).permute(1, 0, 2)\n",
    "    # `output` shape: (`batch_size`, `num_steps`, `vocab_size`)\n",
    "    # `state` shape: (`num_layers`, `batch_size`, `num_hiddens`)\n",
    "    return output, state"
   ]
  },
  {
   "cell_type": "markdown",
   "metadata": {
    "execution": {}
   },
   "source": [
    "To illustrate the implemented decoder,\n",
    "below we instantiate it with the same hyperparameters from the aforementioned encoder.\n",
    "As we can see, the output shape of the decoder becomes (batch size, number of time steps, vocabulary size),\n",
    "where the last dimension of the tensor stores the predicted token distribution.\n"
   ]
  },
  {
   "cell_type": "code",
   "execution_count": null,
   "metadata": {
    "execution": {}
   },
   "outputs": [],
   "source": [
    "decoder = Seq2SeqDecoder(vocab_size=10, embed_size=8, num_hiddens=16,\n",
    "                         num_layers=2)\n",
    "# decoder.initialize()\n",
    "state = decoder.init_state(encoder(X))\n",
    "output, state = decoder(X, state)\n",
    "output.shape, len(state), state[0].shape"
   ]
  },
  {
   "cell_type": "markdown",
   "metadata": {
    "execution": {}
   },
   "source": [
    "## Section 3.2: Loss Function\n",
    "\n",
    "At each time step, the decoder predicts a probability distribution for the output tokens. Similar to language modeling, we can apply softmax to obtain the distribution and calculate the cross-entropy loss for optimization. Recall that the special padding tokens are appended to the end of sequences so sequences of varying lengths can be efficiently loaded in minibatches of the same shape.\n",
    "However, prediction of padding tokens should be excluded from loss calculations.\n",
    "\n",
    "To this end, we can use the following `sequence_mask` function to mask irrelevant entries with zero values so later multiplication of any irrelevant prediction with zero equals to zero. For example, if the valid length of two sequences excluding padding tokens (i.e., pads each sequence to the same length usually matching the longest sequence) are one and two, respectively, the remaining entries after the first one and the first two entries are cleared to zeros.\n"
   ]
  },
  {
   "cell_type": "code",
   "execution_count": null,
   "metadata": {
    "execution": {}
   },
   "outputs": [],
   "source": [
    "def sequence_mask(X, valid_len, value=0):\n",
    "  \"\"\"Mask irrelevant entries in sequences.\"\"\"\n",
    "  maxlen = X.size(1)\n",
    "  mask = torch.arange((maxlen), dtype=torch.float32,\n",
    "                      device=X.device)[None, :] < valid_len[:, None]\n",
    "  X[~mask] = value\n",
    "  return X\n",
    "\n",
    "\n",
    "X = torch.tensor([[1, 2, 3], [4, 5, 6]])\n",
    "print(sequence_mask(X, torch.tensor([1, 2])))\n",
    "X = torch.ones(2, 3, 4)\n",
    "print(sequence_mask(X, torch.tensor([1, 2]), value=-1))"
   ]
  },
  {
   "cell_type": "markdown",
   "metadata": {
    "execution": {}
   },
   "source": [
    "Now we can extend the softmax cross-entropy loss\n",
    "to allow the masking of irrelevant predictions.\n",
    "Initially,\n",
    "masks for all the predicted tokens are set to one.\n",
    "Once the valid length is given,\n",
    "the mask corresponding to any padding token\n",
    "will be cleared to zero.\n",
    "In the end,\n",
    "the loss for all the tokens\n",
    "will be multipled by the mask to filter out\n",
    "irrelevant predictions of padding tokens in the loss.\n"
   ]
  },
  {
   "cell_type": "code",
   "execution_count": null,
   "metadata": {
    "execution": {}
   },
   "outputs": [],
   "source": [
    "class MaskedSoftmaxCELoss(nn.CrossEntropyLoss):\n",
    "  \"\"\"The softmax cross-entropy loss with masks.\"\"\"\n",
    "\n",
    "  # `pred` shape: (`batch_size`, `num_steps`, `vocab_size`)\n",
    "  # `label` shape: (`batch_size`, `num_steps`)\n",
    "  # `valid_len` shape: (`batch_size`,)\n",
    "\n",
    "  def forward(self, pred, label, valid_len):\n",
    "    weights = torch.ones_like(label)\n",
    "    weights = sequence_mask(weights, valid_len)\n",
    "    self.reduction = 'none'\n",
    "    unweighted_loss = super(MaskedSoftmaxCELoss,\n",
    "                            self).forward(pred.permute(0, 2, 1), label)\n",
    "    weighted_loss = (unweighted_loss * weights).mean(dim=1)\n",
    "\n",
    "    return weighted_loss\n",
    "\n",
    "\n",
    "loss = MaskedSoftmaxCELoss()\n",
    "loss(torch.ones(3, 4, 10),\n",
    "     torch.ones((3, 4), dtype=torch.long),\n",
    "     torch.tensor([4, 2, 0]))"
   ]
  },
  {
   "cell_type": "markdown",
   "metadata": {
    "execution": {}
   },
   "source": [
    "In the following training loop,\n",
    "we concatenate the special beginning-of-sequence token\n",
    "and the original output sequence excluding the final token as\n",
    "the input to the decoder.\n",
    "This is called *teacher forcing* because\n",
    "the original output sequence (token labels) is fed into the decoder.\n",
    "Alternatively,\n",
    "we could also feed the *predicted* token\n",
    "from the previous time step\n",
    "as the current input to the decoder."
   ]
  },
  {
   "cell_type": "markdown",
   "metadata": {},
   "source": [
    "###  Training\n"
   ]
  },
  {
   "cell_type": "code",
   "execution_count": null,
   "metadata": {
    "cellView": "form",
    "execution": {},
    "tags": [
     "hide-input"
    ]
   },
   "outputs": [],
   "source": [
    "#@title Training\n",
    "def train_seq2seq(net, data_iter, lr, num_epochs, tgt_vocab, device):\n",
    "  \"\"\"Train a model for sequence to sequence.\"\"\"\n",
    "  def xavier_init_weights(m):\n",
    "    if type(m) == nn.Linear:\n",
    "      nn.init.xavier_uniform_(m.weight)\n",
    "    if type(m) == nn.GRU:\n",
    "      for param in m._flat_weights_names:\n",
    "        if \"weight\" in param:\n",
    "          nn.init.xavier_uniform_(m._parameters[param])\n",
    "\n",
    "\n",
    "  net.apply(xavier_init_weights)\n",
    "  net.to(device)\n",
    "  optimizer = torch.optim.Adam(net.parameters(), lr=lr)\n",
    "  loss = MaskedSoftmaxCELoss()\n",
    "  net.train()\n",
    "  animator = d2l.Animator(xlabel='epoch', ylabel='loss',\n",
    "                          xlim=[10, num_epochs])\n",
    "  for epoch in range(num_epochs):\n",
    "    timer = d2l.Timer()\n",
    "    metric = d2l.Accumulator(2)  # Sum of training loss, no. of tokens\n",
    "    for batch in data_iter:\n",
    "      optimizer.zero_grad()\n",
    "      X, X_valid_len, Y, Y_valid_len = [x.to(device) for x in batch]\n",
    "      bos = torch.tensor([tgt_vocab['<bos>']] * Y.shape[0],\n",
    "                          device=device).reshape(-1, 1)\n",
    "      dec_input = torch.cat([bos, Y[:, :-1]], 1)  # Teacher forcing\n",
    "      Y_hat, _ = net(X, dec_input, X_valid_len)\n",
    "      l = loss(Y_hat, Y, Y_valid_len)\n",
    "      l.sum().backward()  # Make the loss scalar for `backward`\n",
    "      d2l.grad_clipping(net, 1)\n",
    "      num_tokens = Y_valid_len.sum()\n",
    "      optimizer.step()\n",
    "      with torch.no_grad():\n",
    "          metric.add(l.sum(), num_tokens)\n",
    "    if (epoch + 1) % 10 == 0:\n",
    "      animator.add(epoch + 1, (metric[0] / metric[1],))\n",
    "  print(f'loss {metric[0] / metric[1]:.3f}, {metric[1] / timer.stop():.1f} '\n",
    "        f'tokens/sec on {str(device)}')"
   ]
  },
  {
   "cell_type": "markdown",
   "metadata": {
    "execution": {}
   },
   "source": [
    "Now we can create and train an RNN encoder-decoder model\n",
    "for sequence to sequence learning on the machine translation dataset.\n"
   ]
  },
  {
   "cell_type": "code",
   "execution_count": null,
   "metadata": {
    "execution": {}
   },
   "outputs": [],
   "source": [
    "embed_size, num_hiddens, num_layers, dropout = 32, 32, 2, 0.1\n",
    "batch_size, num_steps = 64, 10\n",
    "lr, num_epochs = 0.005, 300\n",
    "\n",
    "train_iter, src_vocab, tgt_vocab = d2l.load_data_nmt(batch_size, num_steps)\n",
    "encoder = Seq2SeqEncoder(len(src_vocab), embed_size, num_hiddens, num_layers,\n",
    "                         dropout)\n",
    "decoder = Seq2SeqDecoder(len(tgt_vocab), embed_size, num_hiddens, num_layers,\n",
    "                         dropout)\n",
    "net = d2l.EncoderDecoder(encoder, decoder)\n",
    "train_seq2seq(net, train_iter, lr, num_epochs, tgt_vocab, DEVICE)"
   ]
  },
  {
   "cell_type": "markdown",
   "metadata": {
    "execution": {}
   },
   "source": [
    "To predict the output sequence token by token, at each decoder time step\n",
    "the predicted token from the previous time step is fed into the decoder as an input.\n",
    "\n",
    "Similar to training, at the initial time step the beginning-of-sequence (\"&lt;bos&gt;\") token is fed into the decoder. This prediction process is illustrated in `seq2seq` figure. When the end-of-sequence (\"&lt;eos&gt;\") token is predicted, the prediction of the output sequence is complete.\n",
    "\n",
    "\n",
    "![Predicting the output sequence token by token using an RNN encoder-decoder.](https://d2l.ai/_images/seq2seq-predict.svg)"
   ]
  },
  {
   "cell_type": "markdown",
   "metadata": {},
   "source": [
    "###  Prediction\n"
   ]
  },
  {
   "cell_type": "code",
   "execution_count": null,
   "metadata": {
    "cellView": "form",
    "execution": {},
    "tags": [
     "hide-input"
    ]
   },
   "outputs": [],
   "source": [
    "# @title Prediction\n",
    "def predict_seq2seq(net, src_sentence, src_vocab, tgt_vocab, num_steps,\n",
    "                    device, save_attention_weights=False):\n",
    "  \"\"\"Predict for sequence to sequence.\"\"\"\n",
    "  # Set `net` to eval mode for inference\n",
    "  net.eval()\n",
    "  src_tokens = src_vocab[src_sentence.lower().split(' ')] + [\n",
    "      src_vocab['<eos>']]\n",
    "  enc_valid_len = torch.tensor([len(src_tokens)], device=device)\n",
    "  src_tokens = d2l.truncate_pad(src_tokens, num_steps, src_vocab['<pad>'])\n",
    "  # Add the batch axis\n",
    "  enc_X = torch.unsqueeze(\n",
    "      torch.tensor(src_tokens, dtype=torch.long, device=device), dim=0)\n",
    "  enc_outputs = net.encoder(enc_X, enc_valid_len)\n",
    "  dec_state = net.decoder.init_state(enc_outputs, enc_valid_len)\n",
    "  # Add the batch axis\n",
    "  dec_X = torch.unsqueeze(\n",
    "      torch.tensor([tgt_vocab['<bos>']], dtype=torch.long, device=device),\n",
    "      dim=0)\n",
    "  output_seq, attention_weight_seq = [], []\n",
    "  for _ in range(num_steps):\n",
    "    Y, dec_state = net.decoder(dec_X, dec_state)\n",
    "    # We use the token with the highest prediction likelihood as the input\n",
    "    # of the decoder at the next time step\n",
    "    dec_X = Y.argmax(dim=2)\n",
    "    pred = dec_X.squeeze(dim=0).type(torch.int32).item()\n",
    "    # Save attention weights (to be covered later)\n",
    "    if save_attention_weights:\n",
    "        attention_weight_seq.append(net.decoder.attention_weights)\n",
    "    # Once the end-of-sequence token is predicted, the generation of the\n",
    "    # output sequence is complete\n",
    "    if pred == tgt_vocab['<eos>']:\n",
    "        break\n",
    "    output_seq.append(pred)\n",
    "  return ' '.join(tgt_vocab.to_tokens(output_seq)), attention_weight_seq"
   ]
  },
  {
   "cell_type": "markdown",
   "metadata": {
    "execution": {}
   },
   "source": [
    "We can evaluate a predicted sequence by comparing it with the label sequence (the ground-truth). BLEU (Bilingual Evaluation Understudy), though originally proposed for evaluating machine translation results in [Papieni et al., 2002](https://dl.acm.org/doi/10.3115/1073083.1073135), has been extensively used in measuring the quality of output sequences for different applications.\n",
    "\n",
    "In principle, for any $n$-grams in the predicted sequence, BLEU evaluates whether this $n$-grams appears in the label sequence.\n",
    "\n",
    "Denote by $p_n$ the precision of $n$-grams, which is the ratio of the number of matched $n$-grams in the predicted and label sequences to the number of $n$-grams in the predicted sequence.\n",
    "To explain, given a label sequence $A$, $B$, $C$, $D$, $E$, $F$, and a predicted sequence $A$, $B$, $B$, $C$, $D$, we have $p_1 = 4/5$,  $p_2 = 3/4$, $p_3 = 1/3$, and $p_4 = 0$.\n",
    "\n",
    "Besides, let $\\mathrm{len}_{\\text{label}}$ and $\\mathrm{len}_{\\text{pred}}$\n",
    "be the numbers of tokens in the label sequence and the predicted sequence, respectively.\n",
    "\n",
    "Then, BLEU is defined as\n",
    "\n",
    "\\begin{equation}\n",
    "\\exp\\left(\\min\\left(0, 1 - \\frac{\\mathrm{len}_{\\text{label}}}{\\mathrm{len}_{\\text{pred}}}\\right)\\right) \\prod_{n=1}^k p_n^{1/2^n},\n",
    "\\end{equation}\n",
    "\n",
    "where $k$ is the longest $n$-grams for matching.\n",
    "\n",
    "Based on the definition of BLEU in the above equation, whenever the predicted sequence is the same as the label sequence, BLEU is 1.\n",
    "\n",
    "Moreover, since matching longer $n$-grams is more difficult, BLEU assigns a greater weight to a longer $n$-gram precision. Specifically, when $p_n$ is fixed, $p_n^{1/2^n}$ increases as $n$ grows (the original paper uses $p_n^{1/n}$).\n",
    "\n",
    "Furthermore, since predicting shorter sequences tends to obtain a higher $p_n$ value, the coefficient before the multiplication term in the above equation\n",
    "penalizes shorter predicted sequences.\n",
    "\n",
    "For example, when $k=2$, given the label sequence $A$, $B$, $C$, $D$, $E$, $F$ and the predicted sequence $A$, $B$, although $p_1 = p_2 = 1$, the penalty factor $\\exp(1-6/2) \\approx 0.14$ lowers the BLEU.\n",
    "\n",
    "We implement the BLEU measure as follows.\n"
   ]
  },
  {
   "cell_type": "markdown",
   "metadata": {},
   "source": [
    "###  Evaluation of Predicted Sequences\n"
   ]
  },
  {
   "cell_type": "code",
   "execution_count": null,
   "metadata": {
    "cellView": "form",
    "execution": {},
    "tags": [
     "hide-input"
    ]
   },
   "outputs": [],
   "source": [
    "#@title Evaluation of Predicted Sequences\n",
    "def bleu(pred_seq, label_seq, k):\n",
    "  \"\"\"Compute the BLEU.\"\"\"\n",
    "  pred_tokens, label_tokens = pred_seq.split(' '), label_seq.split(' ')\n",
    "  len_pred, len_label = len(pred_tokens), len(label_tokens)\n",
    "  score = math.exp(min(0, 1 - len_label / len_pred))\n",
    "  for n in range(1, k + 1):\n",
    "    num_matches, label_subs = 0, collections.defaultdict(int)\n",
    "    for i in range(len_label - n + 1):\n",
    "      label_subs[''.join(label_tokens[i:i + n])] += 1\n",
    "    for i in range(len_pred - n + 1):\n",
    "      if label_subs[''.join(pred_tokens[i:i + n])] > 0:\n",
    "        num_matches += 1\n",
    "        label_subs[''.join(pred_tokens[i:i + n])] -= 1\n",
    "    score *= math.pow(num_matches / (len_pred - n + 1), math.pow(0.5, n))\n",
    "  return score"
   ]
  },
  {
   "cell_type": "markdown",
   "metadata": {
    "execution": {}
   },
   "source": [
    "In the end,\n",
    "we use the trained RNN encoder-decoder\n",
    "to translate a few English sentences into French\n",
    "and compute the BLEU of the results.\n"
   ]
  },
  {
   "cell_type": "code",
   "execution_count": null,
   "metadata": {
    "execution": {}
   },
   "outputs": [],
   "source": [
    "engs = ['go .', \"i lost .\", 'he\\'s calm .', 'i\\'m home .']\n",
    "# fras = ['va !', 'j\\'ai perdu .', 'il est calme .', 'je suis chez moi .']\n",
    "fras = [ 'je suis chez moi .', 'j\\'ai perdu .','va !', 'il est calme .']\n",
    "for eng, fra in zip(engs, fras):\n",
    "  translation, attention_weight_seq = predict_seq2seq(net,\n",
    "                                                      eng,\n",
    "                                                      src_vocab,\n",
    "                                                      tgt_vocab,\n",
    "                                                      num_steps,\n",
    "                                                      DEVICE)\n",
    "  print(f'{eng} => {translation}, bleu {bleu(translation, fra, k=2):.3f}')"
   ]
  },
  {
   "cell_type": "markdown",
   "metadata": {
    "execution": {}
   },
   "source": [
    "---\n",
    "# Section 4: Attention\n",
    "\n",
    "\n",
    " "
   ]
  },
  {
   "cell_type": "markdown",
   "metadata": {},
   "source": [
    "##  Video 5: Attention mechanisms\n"
   ]
  },
  {
   "cell_type": "code",
   "execution_count": null,
   "metadata": {
    "cellView": "form",
    "execution": {},
    "tags": [
     "remove-input"
    ]
   },
   "outputs": [],
   "source": [
    "# @title Video 5: Attention mechanisms\n",
    "from ipywidgets import widgets\n",
    "\n",
    "out2 = widgets.Output()\n",
    "with out2:\n",
    "  from IPython.display import IFrame\n",
    "  class BiliVideo(IFrame):\n",
    "      def __init__(self, id, page=1, width=400, height=300, **kwargs):\n",
    "          self.id=id\n",
    "          src = \"https://player.bilibili.com/player.html?bvid={0}&page={1}\".format(id, page)\n",
    "          super(BiliVideo, self).__init__(src, width, height, **kwargs)\n",
    "\n",
    "  video = BiliVideo(id=f\"BV1Mo4y1S7oK\", width=730, height=410, fs=1)\n",
    "  print(\"Video available at https://www.bilibili.com/video/{0}\".format(video.id))\n",
    "  display(video)\n",
    "\n",
    "out1 = widgets.Output()\n",
    "with out1:\n",
    "  from IPython.display import YouTubeVideo\n",
    "  video = YouTubeVideo(id=f\"Vt9GhJKcEiM\", width=730, height=410, fs=1, rel=0)\n",
    "  print(\"Video available at https://youtube.com/watch?v=\" + video.id)\n",
    "  display(video)\n",
    "\n",
    "out = widgets.Tab([out1, out2])\n",
    "out.set_title(0, 'Youtube')\n",
    "out.set_title(1, 'Bilibili')\n",
    "\n",
    "display(out)"
   ]
  },
  {
   "cell_type": "markdown",
   "metadata": {
    "execution": {}
   },
   "source": [
    "Previously, we designed an encoder-decoder architecture based on two RNNs for sequence to sequence learning. Specifically, the RNN encoder transforms a variable-length sequence into a fixed-shape context variable, then the RNN decoder generates the output (target) sequence token by token based on the generated tokens and the context variable. However, even though not all the input (source) tokens are useful for decoding a certain token, the same context variable that encodes the entire input sequence is still used at each decoding step. It is challenging for the models to deal with long sentences. \n",
    "\n",
    "In [Bahdanau et al., 2014](https://arxiv.org/abs/1409.0473), the authors proposed a technique called attention. When predicting a token, if not all the input tokens are relevant, the model aligns (or attends) only to parts of the input sequence that are relevant to the current prediction. \n"
   ]
  },
  {
   "cell_type": "markdown",
   "metadata": {
    "execution": {}
   },
   "source": [
    "In contrast to seq2seq model, the encoder passes a lot more data to the decoder. Instead of passing the last hidden state of the encoding stage, the encoder passes all the hidden states to the decoder. \n",
    "\n",
    "In order to focus on the parts of input relevant to the decoder, look at the set of encoder hidden states it received. Each encoder hidden state is at most associated with a certain word in the input sentence. We can assign each hidden state a score and multiply it with the softmaxed score, thus amplifying hidden states with high scores, and drowning out hidden states with low scores.\n",
    "\n",
    "\n",
    "Reference Links: \\\\\n",
    " https://jalammar.github.io/visualizing-neural-machine-translation-mechanics-of-seq2seq-models-with-attention/ \\\\\n",
    "\n",
    " https://d2l.ai/chapter_attention-mechanisms/attention-cues.html"
   ]
  },
  {
   "cell_type": "markdown",
   "metadata": {},
   "source": [
    " Media 1: Sequence to Sequence model with Attention\n"
   ]
  },
  {
   "cell_type": "code",
   "execution_count": null,
   "metadata": {
    "cellView": "form",
    "execution": {},
    "tags": [
     "hide-input"
    ]
   },
   "outputs": [],
   "source": [
    "# @markdown Media 1: Sequence to Sequence model with Attention\n",
    "\n",
    "url = \"https://jalammar.github.io/images/seq2seq_7.mp4\"\n",
    "from IPython.display import HTML\n",
    "HTML(f\"\"\"<video src={url} width=750 controls/>\"\"\")"
   ]
  },
  {
   "cell_type": "markdown",
   "metadata": {},
   "source": [
    " Media 2: Mapping input to output\n"
   ]
  },
  {
   "cell_type": "code",
   "execution_count": null,
   "metadata": {
    "cellView": "form",
    "execution": {},
    "tags": [
     "hide-input"
    ]
   },
   "outputs": [],
   "source": [
    "# @markdown Media 2: Mapping input to output\n",
    "\n",
    "url = \"https://jalammar.github.io/images/seq2seq_9.mp4\"\n",
    "from IPython.display import HTML\n",
    "HTML(f\"\"\"<video src={url} width=750 controls/>\"\"\")"
   ]
  },
  {
   "cell_type": "markdown",
   "metadata": {
    "execution": {}
   },
   "source": [
    "## Section 4.1: Queries, Keys, and Values\n",
    "\n",
    "\n",
    "To calculate the attention mechanism we make use of Queries, Keys and Values. But what are Queries, Keys and Values? Query, Value and Key are the transformations of the input vector. \n",
    "\n",
    "In an attention mechanism the context vector is computed as a weighted sum of values, where the weight assigned to each value is computed through an attention score. The score is usually the dot product between the query and key. The scores then go through the softmax function to yield a set of weights whose sum equals 1.\n",
    "\n",
    "The query is from the decoder hidden state whereas the key and value are from the encoder hidden state. \n"
   ]
  },
  {
   "cell_type": "markdown",
   "metadata": {
    "execution": {}
   },
   "source": [
    "Take a minute and look at this [article](https://www.kdnuggets.com/2021/01/attention-mechanism-deep-learning-explained.html). It has detailed graphical explanation on how to calculate attention scores. "
   ]
  },
  {
   "cell_type": "markdown",
   "metadata": {
    "execution": {}
   },
   "source": [
    "### Coding Exercise 4.1: Attention for Text Classification\n",
    "\n",
    "Until now, we looked at attention aimed at seq2seq networks. Let’s try implementing attention for the above IMDB sentiment analysis dataset. Previously, using the LSTM, the classification completely depended on the last hidden state. In this exercise, we will compute the attention scores between the last hidden state and output of each sequence. The final attention vector will be the weighted average of the outputs at each sequence, with the weights being the attention scores. Lastly, we will concatenate the attention vector and the last hidden state to get the final output.\n",
    "\n",
    "For simplicity's sake, let's implement attention over an LSTM with 1 layer.\n",
    "\n",
    "\n",
    "[*Code reference*](https://github.com/prakashpandey9/Text-Classification-Pytorch/blob/master/main.py)\n"
   ]
  },
  {
   "cell_type": "code",
   "execution_count": null,
   "metadata": {
    "execution": {}
   },
   "outputs": [],
   "source": [
    "class AttentionModel(torch.nn.Module):\n",
    "  def __init__(self, batch_size, output_size, hidden_size, vocab_size,\n",
    "               embedding_length, weights):\n",
    "    super(AttentionModel, self).__init__()\n",
    "    self.hidden_size = hidden_size\n",
    "    self.word_embeddings = nn.Embedding(vocab_size, embedding_length)\n",
    "    self.word_embeddings.weights = nn.Parameter(weights, requires_grad=False)\n",
    "    self.lstm = nn.LSTM(embedding_length, hidden_size)\n",
    "    self.fc1 = nn.Linear(2*hidden_size, output_size)\n",
    "\n",
    "  def attention_net(self, lstm_output, final_state):\n",
    "    \"\"\"\n",
    "    lstm_output : shape: (num_seq, batch_size, hidden_size)\n",
    "    final_state : shape: (1, batch_size, hidden_size)\n",
    "    \"\"\"\n",
    "    ####################################################\n",
    "    # Implement the attenion net\n",
    "    # Fill in missing code below (...)\n",
    "    raise NotImplementedError(\"perform the convolution\")\n",
    "    ####################################################\n",
    "    # permute the output to get the shape (batch_size, num_seq, hidden_size)\n",
    "    # Get the attention weights\n",
    "    # use torch.bmm to compute the attention weights between each output and last hidden state\n",
    "    # pay attention to the tensor shapes, you may have to use squeeze and unsqueeze functions\n",
    "    # softmax the attention weights\n",
    "    # Get the new hidden state, use torch.bmm to get the weighted lstm output\n",
    "    # pay attention to the tensor shapes, you may have to use squeeze and unsqueeze functions\n",
    "    lstm_output = ...\n",
    "    hidden = ...\n",
    "    attn_weights = ...  # expected shape: (batch_size, num_seq)\n",
    "    soft_attn_weights = ...\n",
    "    new_hidden_state = ...\n",
    "\n",
    "    return new_hidden_state\n",
    "\n",
    "  def forward(self, input_sentences):\n",
    "\n",
    "    input = self.word_embeddings(input_sentences)\n",
    "    input = input.permute(1, 0, 2)\n",
    "\n",
    "    h_0 = Variable(torch.zeros(1, input.shape[1], self.hidden_size).cuda())\n",
    "    c_0 = Variable(torch.zeros(1, input.shape[1], self.hidden_size).cuda())\n",
    "\n",
    "    output, (final_hidden_state, final_cell_state) = self.lstm(input, (h_0, c_0))\n",
    "    attn_output = self.attention_net(output, final_hidden_state)\n",
    "    final_output = torch.cat((attn_output, final_hidden_state[0]), 1)\n",
    "    logits = self.fc1(final_output)\n",
    "\n",
    "    return logits\n",
    "\n",
    "\n",
    "# Uncomment to check AttentionModel class\n",
    "# attention_model = AttentionModel(32, 2, 16, 20, 200, TEXT.vocab.vectors)\n",
    "# print(attention_model)"
   ]
  },
  {
   "cell_type": "markdown",
   "metadata": {
    "colab_type": "text",
    "execution": {}
   },
   "source": [
    "[*Click for solution*](https://github.com/NeuromatchAcademy/course-content-dl/tree/main//tutorials/W2D3_ModernRecurrentNeuralNetworks/solutions/W2D3_Tutorial2_Solution_fae7917f.py)\n",
    "\n"
   ]
  },
  {
   "cell_type": "markdown",
   "metadata": {
    "execution": {}
   },
   "source": [
    "```\n",
    "AttentionModel(\n",
    "  (word_embeddings): Embedding(20, 200)\n",
    "  (lstm): LSTM(200, 16)\n",
    "  (fc1): Linear(in_features=32, out_features=2, bias=True)\n",
    ")\n",
    "```"
   ]
  },
  {
   "cell_type": "markdown",
   "metadata": {},
   "source": [
    " Reload dataset using the default params since variables have been overwritten\n"
   ]
  },
  {
   "cell_type": "code",
   "execution_count": null,
   "metadata": {
    "cellView": "form",
    "execution": {},
    "tags": [
     "hide-input"
    ]
   },
   "outputs": [],
   "source": [
    "# @markdown Reload dataset using the default params since variables have been overwritten\n",
    "TEXT, vocab_size, train_iter, valid_iter, test_iter = load_dataset(seed=SEED)"
   ]
  },
  {
   "cell_type": "code",
   "execution_count": null,
   "metadata": {
    "execution": {}
   },
   "outputs": [],
   "source": [
    "learning_rate = 0.0001\n",
    "batch_size = 16  # initially was 32\n",
    "output_size = 2\n",
    "hidden_size = 16\n",
    "embedding_length = 300\n",
    "epochs = 6  # initially was 12\n",
    "\n",
    "word_embeddings = TEXT.vocab.vectors\n",
    "vocab_size = len(TEXT.vocab)\n",
    "\n",
    "attention_model = AttentionModel(batch_size,\n",
    "                                 output_size,\n",
    "                                 hidden_size,\n",
    "                                 vocab_size,\n",
    "                                 embedding_length,\n",
    "                                 word_embeddings)\n",
    "attention_model.to(DEVICE)\n",
    "attention_start_time = time.time()\n",
    "set_seed(SEED)\n",
    "attention_train_loss, attention_train_acc, attention_validation_loss, attention_validation_acc = train(attention_model,\n",
    "                                                                                                       DEVICE,\n",
    "                                                                                                       train_iter,\n",
    "                                                                                                       valid_iter,\n",
    "                                                                                                       epochs,\n",
    "                                                                                                       learning_rate)\n",
    "print(\"--- Time taken to train = %s seconds ---\" % (time.time() - attention_start_time))\n",
    "test_accuracy = test(attention_model, DEVICE, test_iter)\n",
    "print(f'\\n\\nTest Accuracy: {test_accuracy}%')"
   ]
  },
  {
   "cell_type": "code",
   "execution_count": null,
   "metadata": {
    "execution": {}
   },
   "outputs": [],
   "source": [
    "plt.figure()\n",
    "plt.subplot(211)\n",
    "plot_train_val(np.arange(0, epochs),\n",
    "               attention_train_acc,\n",
    "               attention_validation_acc,\n",
    "               'trai accuracy',\n",
    "               'val accuracy',\n",
    "               'attention on IMDB text classification',\n",
    "               'loss',\n",
    "               color='C0')\n",
    "plt.legend(loc='upper left')\n",
    "plt.subplot(212)\n",
    "plot_train_val(np.arange(0, epochs),\n",
    "               attention_train_loss,\n",
    "               attention_validation_loss,\n",
    "               'train loss',\n",
    "               'val loss',\n",
    "               '',\n",
    "               'loss',\n",
    "               color='C1')\n",
    "plt.tight_layout()\n",
    "plt.legend(loc='upper left')"
   ]
  },
  {
   "cell_type": "markdown",
   "metadata": {
    "execution": {}
   },
   "source": [
    "---\n",
    "# Section 5: Ethical aspects"
   ]
  },
  {
   "cell_type": "markdown",
   "metadata": {},
   "source": [
    "##  Video 6: Ethics of Representation and Generation\n"
   ]
  },
  {
   "cell_type": "code",
   "execution_count": null,
   "metadata": {
    "cellView": "form",
    "execution": {},
    "tags": [
     "remove-input"
    ]
   },
   "outputs": [],
   "source": [
    "# @title Video 6: Ethics of Representation and Generation\n",
    "from ipywidgets import widgets\n",
    "\n",
    "out2 = widgets.Output()\n",
    "with out2:\n",
    "  from IPython.display import IFrame\n",
    "  class BiliVideo(IFrame):\n",
    "      def __init__(self, id, page=1, width=400, height=300, **kwargs):\n",
    "          self.id=id\n",
    "          src = \"https://player.bilibili.com/player.html?bvid={0}&page={1}\".format(id, page)\n",
    "          super(BiliVideo, self).__init__(src, width, height, **kwargs)\n",
    "\n",
    "  video = BiliVideo(id=f\"BV1v54y1J7SC\", width=730, height=410, fs=1)\n",
    "  print(\"Video available at https://www.bilibili.com/video/{0}\".format(video.id))\n",
    "  display(video)\n",
    "\n",
    "out1 = widgets.Output()\n",
    "with out1:\n",
    "  from IPython.display import YouTubeVideo\n",
    "  video = YouTubeVideo(id=f\"2ULMWtaGQrQ\", width=730, height=410, fs=1, rel=0)\n",
    "  print(\"Video available at https://youtube.com/watch?v=\" + video.id)\n",
    "  display(video)\n",
    "\n",
    "out = widgets.Tab([out1, out2])\n",
    "out.set_title(0, 'Youtube')\n",
    "out.set_title(1, 'Bilibili')\n",
    "\n",
    "display(out)"
   ]
  },
  {
   "cell_type": "markdown",
   "metadata": {
    "execution": {}
   },
   "source": [
    "---\n",
    "# Summary\n",
    "\n",
    "During this day, we have learned about modern RNNs and their variants. Now let's see some ethical aspects of representation and Generation, and then we will close the tutorials with an overview."
   ]
  },
  {
   "cell_type": "markdown",
   "metadata": {},
   "source": [
    "##  Video 7: Beyond Sequence\n"
   ]
  },
  {
   "cell_type": "code",
   "execution_count": null,
   "metadata": {
    "cellView": "form",
    "execution": {},
    "tags": [
     "remove-input"
    ]
   },
   "outputs": [],
   "source": [
    "# @title Video 7: Beyond Sequence\n",
    "from ipywidgets import widgets\n",
    "\n",
    "out2 = widgets.Output()\n",
    "with out2:\n",
    "  from IPython.display import IFrame\n",
    "  class BiliVideo(IFrame):\n",
    "      def __init__(self, id, page=1, width=400, height=300, **kwargs):\n",
    "          self.id=id\n",
    "          src = \"https://player.bilibili.com/player.html?bvid={0}&page={1}\".format(id, page)\n",
    "          super(BiliVideo, self).__init__(src, width, height, **kwargs)\n",
    "\n",
    "  video = BiliVideo(id=f\"BV1864y1x7Ek\", width=730, height=410, fs=1)\n",
    "  print(\"Video available at https://www.bilibili.com/video/{0}\".format(video.id))\n",
    "  display(video)\n",
    "\n",
    "out1 = widgets.Output()\n",
    "with out1:\n",
    "  from IPython.display import YouTubeVideo\n",
    "  video = YouTubeVideo(id=f\"lVcpMSJileA\", width=730, height=410, fs=1, rel=0)\n",
    "  print(\"Video available at https://youtube.com/watch?v=\" + video.id)\n",
    "  display(video)\n",
    "\n",
    "out = widgets.Tab([out1, out2])\n",
    "out.set_title(0, 'Youtube')\n",
    "out.set_title(1, 'Bilibili')\n",
    "\n",
    "display(out)"
   ]
  }
 ],
 "metadata": {
  "accelerator": "GPU",
  "colab": {
   "collapsed_sections": [],
   "include_colab_link": true,
   "name": "W2D3_Tutorial2",
   "provenance": [],
   "toc_visible": true
  },
  "kernel": {
   "display_name": "Python 3",
   "language": "python",
   "name": "python3"
  },
  "kernelspec": {
   "display_name": "Python 3",
   "name": "python3"
  },
  "language_info": {
   "name": "python"
  }
 },
 "nbformat": 4,
 "nbformat_minor": 0
}